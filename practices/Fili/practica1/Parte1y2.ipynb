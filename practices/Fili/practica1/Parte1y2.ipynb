{
 "cells": [
  {
   "cell_type": "markdown",
   "id": "7139a808-9fe8-4d32-8202-72bf04a5ca8b",
   "metadata": {},
   "source": [
    "## PRACTICA 1\n",
    "1. Agrega un nuevo modo de búsqueda donde se extienda el comportamiento básico del buscador para ahora buscar por frases.\n",
    "2. Agregar un modo de búsqueda donde dada una palabra te muestre sus homofonos[1]. Debe mostrar su representación IPA y la lista de homofonos (si existen)\n",
    "3. Observe las distribuciones de longitud de palabra y de número de morfemas por palabra para todas lenguas. Basado en esos datos, haga un comentario sobre las diferencias en morfología de las lenguas\n",
    "\n",
    "[1]: palabras con el mismo sonido pero distinta ortografía"
   ]
  },
  {
   "cell_type": "markdown",
   "id": "c08f3f7b-70d9-429e-8441-49642fe68cd5",
   "metadata": {},
   "source": [
    "### Preprocesamiento"
   ]
  },
  {
   "cell_type": "code",
   "execution_count": 4,
   "id": "c519cb11-b624-4d24-8c50-3b5332cc5476",
   "metadata": {},
   "outputs": [],
   "source": [
    "import requests as r\n",
    "response = r.get(\"https://raw.githubusercontent.com/open-dict-data/ipa-dict/master/data/en_US.txt\")"
   ]
  },
  {
   "cell_type": "code",
   "execution_count": 6,
   "id": "ff42497e-cf5d-4cbb-9ab9-292eb2f64c01",
   "metadata": {},
   "outputs": [],
   "source": [
    "def response_to_dict(ipa_list: list) -> dict:\n",
    "    \"\"\"Parse to dict the list of word-IPA\n",
    "\n",
    "    Each element of text have the format:\n",
    "    [WORD][TAB][IPA]\n",
    "\n",
    "    Parameters\n",
    "    ----------\n",
    "    ipa_list: list\n",
    "        List with each row of ipa-dict raw dataset file\n",
    "\n",
    "    Returns\n",
    "    -------\n",
    "    dict:\n",
    "        A dictionary with the word as key and the phonetic\n",
    "        representation as value\n",
    "    \"\"\"\n",
    "    result = {}\n",
    "    for item in ipa_list:\n",
    "       item_list = item.split(\"\\t\")\n",
    "       result[item_list[0]] = item_list[1]\n",
    "    return result"
   ]
  },
  {
   "cell_type": "code",
   "execution_count": 7,
   "id": "add7aff8-0d84-420e-b27b-9c3ccf61921f",
   "metadata": {},
   "outputs": [],
   "source": [
    "def get_ipa_dict(iso_lang: str) -> dict:\n",
    "    \"\"\"Get ipa-dict file from Github\n",
    "\n",
    "    Parameters:\n",
    "    -----------\n",
    "    iso_lang:\n",
    "        Language as iso code\n",
    "\n",
    "    Results:\n",
    "    --------\n",
    "    dict:\n",
    "        Dictionary with words as keys and phonetic representation\n",
    "        as values for a given lang code\n",
    "    \"\"\"\n",
    "    print(f\"Downloading {iso_lang}\", end=\" \")\n",
    "    response = r.get(f\"https://raw.githubusercontent.com/open-dict-data/ipa-dict/master/data/{iso_lang}.txt\") \n",
    "    raw_data = response.text.split(\"\\n\")\n",
    "    print(f\"status:{response.status_code}\")\n",
    "    return response_to_dict(raw_data[:-1])"
   ]
  },
  {
   "cell_type": "code",
   "execution_count": 22,
   "id": "2e62978c-6155-4dca-a308-31c7c8d53e23",
   "metadata": {},
   "outputs": [],
   "source": [
    "def query_ipa_transcriptions(word: str, dataset: dict) -> list[str]:\n",
    "    \"\"\"Search for a word in an IPA phonetics dict\n",
    " \n",
    "    Given a word this function return the IPA transcriptions\n",
    "\n",
    "    Parameters:\n",
    "    -----------\n",
    "    word: str\n",
    "        A word to search in the dataset\n",
    "    dataset: dict\n",
    "        A dataset for a given language code\n",
    "    \n",
    "    Returns\n",
    "    -------\n",
    "    list[str]:\n",
    "        List with posible transcriptions if any, \n",
    "        else a list with the string \"NOT FOUND\" \n",
    "    \"\"\"\n",
    "    return dataset.get(word.lower(), \"NOT FOUND\").split(\", \")"
   ]
  },
  {
   "cell_type": "code",
   "execution_count": 36,
   "id": "6801ef78-ddf8-4cde-b276-d73e6f96dad2",
   "metadata": {},
   "outputs": [],
   "source": [
    "def query_ipa_transcriptions(word: str, dataset: dict) -> tuple:\n",
    "    \"\"\"Buscar representaciones fonéticas y homófonos de una palabra en el dataset.\n",
    "\n",
    "    Parameters:\n",
    "    ----------\n",
    "    word : str\n",
    "        La palabra para la cual se buscarán las representaciones fonéticas y los homófonos.\n",
    "    dataset : dict\n",
    "        El conjunto de datos en el que buscar.\n",
    "\n",
    "    Returns:\n",
    "    -------\n",
    "    tuple\n",
    "        Una tupla que contiene la representación fonética de la palabra (str) y una lista de homófonos (list).\n",
    "    \"\"\"\n",
    "    ipa_transcriptions = dataset.get(word.lower(), \"NOT FOUND\").split(\", \")\n",
    "    homophones = [w for w in dataset.keys() if dataset[w] == dataset[word.lower()]]\n",
    "    return ipa_transcriptions, homophones"
   ]
  },
  {
   "cell_type": "code",
   "execution_count": 8,
   "id": "06a84edd-00b3-40d6-89b0-7a9447f24868",
   "metadata": {},
   "outputs": [],
   "source": [
    "lang_codes = {\n",
    "  \"ar\": \"Arabic (Modern Standard)\",\n",
    "  \"de\": \"German\",\n",
    "  \"en_UK\": \"English (Received Pronunciation)\",\n",
    "  \"en_US\": \"English (General American)\",\n",
    "  \"eo\": \"Esperanto\",\n",
    "  \"es_ES\": \"Spanish (Spain)\",\n",
    "  \"es_MX\": \"Spanish (Mexico)\",\n",
    "  \"fa\": \"Persian\",\n",
    "  \"fi\": \"Finnish\",\n",
    "  \"fr_FR\": \"French (France)\",\n",
    "  \"fr_QC\": \"French (Québec)\",\n",
    "  \"is\": \"Icelandic\",\n",
    "  \"ja\": \"Japanese\",\n",
    "  \"jam\": \"Jamaican Creole\",\n",
    "  \"km\": \"Khmer\",\n",
    "  \"ko\": \"Korean\",\n",
    "  \"ma\": \"Malay (Malaysian and Indonesian)\",\n",
    "  \"nb\": \"Norwegian Bokmål\",\n",
    "  \"nl\": \"Dutch\",\n",
    "  \"or\": \"Odia\",\n",
    "  \"ro\": \"Romanian\",\n",
    "  \"sv\": \"Swedish\",\n",
    "  \"sw\": \"Swahili\",\n",
    "  \"tts\": \"Isan\",\n",
    "  \"vi_C\": \"Vietnamese (Central)\",\n",
    "  \"vi_N\": \"Vietnamese (Northern)\",\n",
    "  \"vi_S\": \"Vietnamese (Southern)\",\n",
    "  \"yue\": \"Cantonese\",\n",
    "  \"zh\": \"Mandarin\"\n",
    "}\n",
    "iso_lang_codes = list(lang_codes.keys())"
   ]
  },
  {
   "cell_type": "code",
   "execution_count": 9,
   "id": "21a19b83-26e0-43f8-ab91-b3296a4d4b19",
   "metadata": {},
   "outputs": [
    {
     "name": "stdout",
     "output_type": "stream",
     "text": [
      "Downloading ar status:200\n",
      "Downloading de status:200\n",
      "Downloading en_UK status:200\n",
      "Downloading en_US status:200\n",
      "Downloading eo status:200\n",
      "Downloading es_ES status:200\n",
      "Downloading es_MX status:200\n",
      "Downloading fa status:200\n",
      "Downloading fi status:200\n",
      "Downloading fr_FR status:200\n",
      "Downloading fr_QC status:200\n",
      "Downloading is status:200\n",
      "Downloading ja status:200\n",
      "Downloading jam status:200\n",
      "Downloading km status:200\n",
      "Downloading ko status:200\n",
      "Downloading ma status:200\n",
      "Downloading nb status:200\n",
      "Downloading nl status:200\n",
      "Downloading or status:200\n",
      "Downloading ro status:200\n",
      "Downloading sv status:200\n",
      "Downloading sw status:200\n",
      "Downloading tts status:200\n",
      "Downloading vi_C status:200\n",
      "Downloading vi_N status:200\n",
      "Downloading vi_S status:200\n",
      "Downloading yue status:200\n",
      "Downloading zh status:404\n"
     ]
    }
   ],
   "source": [
    "def get_dataset() -> dict:\n",
    "    \"\"\"Download corpora from ipa-dict github\n",
    "\n",
    "    Given a list of iso lang codes download available datasets.\n",
    "\n",
    "    Returns\n",
    "    -------\n",
    "    dict\n",
    "        Lang codes as keys and dictionary with words-transcriptions\n",
    "        as values\n",
    "    \"\"\"\n",
    "    return {code: get_ipa_dict(code) for code in iso_lang_codes}\n",
    "\n",
    "dataset = get_dataset()"
   ]
  },
  {
   "cell_type": "code",
   "execution_count": null,
   "id": "3781c0c9-5a35-46e4-8a09-38d475e76a91",
   "metadata": {},
   "outputs": [],
   "source": []
  },
  {
   "cell_type": "markdown",
   "id": "81e1f39d-ea83-450d-80c2-a212278ddaa0",
   "metadata": {},
   "source": [
    "### 1. y 2."
   ]
  },
  {
   "cell_type": "code",
   "execution_count": 18,
   "id": "f93041e7-b74f-4ab1-9e04-f7faf2537f0e",
   "metadata": {},
   "outputs": [
    {
     "name": "stdout",
     "output_type": "stream",
     "text": [
      "BUSQUEDA FONÉTICA DE FRASES\n",
      "Lenguajes disponibles:\n",
      "\n",
      "ar: Arabic (Modern Standard)\n",
      "de: German\n",
      "en_UK: English (Received Pronunciation)\n",
      "en_US: English (General American)\n",
      "eo: Esperanto\n",
      "es_ES: Spanish (Spain)\n",
      "es_MX: Spanish (Mexico)\n",
      "fa: Persian\n",
      "fi: Finnish\n",
      "fr_FR: French (France)\n",
      "fr_QC: French (Québec)\n",
      "is: Icelandic\n",
      "ja: Japanese\n",
      "jam: Jamaican Creole\n",
      "km: Khmer\n",
      "ko: Korean\n",
      "ma: Malay (Malaysian and Indonesian)\n",
      "nb: Norwegian Bokmål\n",
      "nl: Dutch\n",
      "or: Odia\n",
      "ro: Romanian\n",
      "sv: Swedish\n",
      "sw: Swahili\n",
      "tts: Isan\n",
      "vi_C: Vietnamese (Central)\n",
      "vi_N: Vietnamese (Northern)\n",
      "vi_S: Vietnamese (Southern)\n",
      "yue: Cantonese\n",
      "zh: Mandarin\n"
     ]
    }
   ],
   "source": [
    "print(\"BUSQUEDA FONÉTICA DE FRASES\")\n",
    "print(\"Lenguajes disponibles:\\n\")\n",
    "for lang_key in dataset.keys():\n",
    "    print(f\"{lang_key}: {lang_codes[lang_key]}\")"
   ]
  },
  {
   "cell_type": "code",
   "execution_count": 45,
   "id": "734ac014-036d-4651-8c97-d1daf4b8c07a",
   "metadata": {},
   "outputs": [
    {
     "name": "stdin",
     "output_type": "stream",
     "text": [
      "lang>> es_MX\n"
     ]
    },
    {
     "name": "stdout",
     "output_type": "stream",
     "text": [
      "Selecciona un lenguaje: Spanish (Mexico)\n"
     ]
    }
   ],
   "source": [
    "lang = input(\"lang>>\")\n",
    "print(f\"Selecciona un lenguaje: {lang_codes[lang]}\") if lang else print(\"Adios\")"
   ]
  },
  {
   "cell_type": "code",
   "execution_count": 46,
   "id": "5d847986-3e35-442e-ae5a-7fc817f00242",
   "metadata": {},
   "outputs": [
    {
     "name": "stdin",
     "output_type": "stream",
     "text": [
      "[es_MX] ¿Qué desea buscar? (palabra/frase/homofonos)>>  frase\n",
      "[es_MX] frase>>  como estas\n"
     ]
    },
    {
     "name": "stdout",
     "output_type": "stream",
     "text": [
      "como  |  (['/komo/'], ['como'])\n",
      "estas  |  (['/estas/'], ['estas'])\n"
     ]
    },
    {
     "name": "stdin",
     "output_type": "stream",
     "text": [
      "[es_MX] frase>>  \n",
      "lang>>  \n"
     ]
    }
   ],
   "source": [
    "while lang:\n",
    "    # El programa comienza aquí\n",
    "    sub_data = dataset[lang]\n",
    "    \n",
    "    # Pregunta al usuario si quiere buscar por palabra o por frase\n",
    "    search_mode = input(f\"[{lang}] ¿Qué desea buscar? (palabra/frase/homofonos)>> \").lower()\n",
    "\n",
    "    if search_mode == 'palabra':\n",
    "        while True:\n",
    "            # Modo de búsqueda por palabra\n",
    "            query = input(f\"[{lang}] palabra>> \")\n",
    "            if not query:\n",
    "                break  # Salir del bucle si no se ingresa ninguna palabra\n",
    "            ipa_transcriptions, homophones = query_ipa_transcriptions(query, sub_data)\n",
    "            print(f\"Representación IPA de '{query}': {ipa_transcriptions}\")\n",
    "            if homophones:\n",
    "                print(f\"Homófonos de '{query}': {homophones}\")\n",
    "            else:\n",
    "                print(f\"No se encontraron homófonos para '{query}'\")\n",
    "\n",
    "    elif search_mode == 'frase':\n",
    "        while True:\n",
    "            # Modo de búsqueda por frase\n",
    "            phrase = input(f\"[{lang}] frase>> \")\n",
    "            if not phrase:\n",
    "                break  # Salir del bucle si no se ingresa ninguna frase\n",
    "            \n",
    "            # Dividir la frase en palabras y buscar cada palabra individualmente\n",
    "            words_in_phrase = phrase.split()\n",
    "            for word in words_in_phrase:\n",
    "                results = query_ipa_transcriptions(word, sub_data)\n",
    "                print(word, \" | \", results)\n",
    "    elif search_mode == 'homofonos':\n",
    "        while True:\n",
    "            # Modo de búsqueda por homófonos\n",
    "            word = input(f\"[{lang}] palabra>> \")\n",
    "            if not word:\n",
    "                break  # Salir del bucle si no se ingresa ninguna palabra\n",
    "            homophones = query_ipa_transcriptions(word, sub_data)[1]\n",
    "            if homophones:\n",
    "                print(f\"Homófonos de '{word}': {homophones}\")\n",
    "            else:\n",
    "                print(f\"No se encontraron homófonos para '{word}'\")\n",
    "\n",
    "    else:\n",
    "        print(\"Modo de búsqueda no válido. Por favor, elija 'palabra' o 'frase'.\")\n",
    "\n",
    "    # Pedir al usuario si desea cambiar de idioma o salir\n",
    "    lang = input(\"lang>> \")"
   ]
  },
  {
   "cell_type": "code",
   "execution_count": null,
   "id": "d7116b88-c37e-4b99-b32a-6c37fed1a36e",
   "metadata": {},
   "outputs": [],
   "source": []
  }
 ],
 "metadata": {
  "kernelspec": {
   "display_name": "Python 3 (ipykernel)",
   "language": "python",
   "name": "python3"
  },
  "language_info": {
   "codemirror_mode": {
    "name": "ipython",
    "version": 3
   },
   "file_extension": ".py",
   "mimetype": "text/x-python",
   "name": "python",
   "nbconvert_exporter": "python",
   "pygments_lexer": "ipython3",
   "version": "3.10.12"
  }
 },
 "nbformat": 4,
 "nbformat_minor": 5
}
