{
 "cells": [
  {
   "cell_type": "markdown",
   "metadata": {},
   "source": [
    "### Práctica 8. Modelos de lenguaje neuronales\n",
    "\n",
    "#### Actividades\n",
    "\n",
    "- Construir un modelo del lenguaje neuronal a partir de un corpus en español\n",
    "    - Corpus: El Quijote. URL: https://www.gutenberg.org/ebooks/2000\n",
    "        - NOTA: Considera los recursos de computo. Recuerda que en la practica utilizamos ~50k oraciones\n",
    "    - Modelo de trigramas con n = 3\n",
    "    - Incluye informacion sobre setup de entrenamiento:\n",
    "        - Dimension de embeddings\n",
    "        - Dimsension de capa oculta\n",
    "        - Cantidad de oraciones para entrenamiento\n",
    "        - Batch size y context size\n",
    "    - Incluye la liga de drive de tu modelo\n",
    "\n",
    "- Imprima en pantalla un tres ejemplos de generacion de texto\n",
    "    - Proponga mejoras en las estrategias de generación de texto vistas en la práctica\n",
    "    - Decriba en que consiste la estrategia propuesta\n",
    "    - Compare la estrategia de la práctica y su propuesta"
   ]
  }
 ],
 "metadata": {
  "language_info": {
   "name": "python"
  }
 },
 "nbformat": 4,
 "nbformat_minor": 2
}
