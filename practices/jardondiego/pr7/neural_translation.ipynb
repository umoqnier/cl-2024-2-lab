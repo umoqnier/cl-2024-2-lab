{
 "cells": [
  {
   "cell_type": "markdown",
   "metadata": {},
   "source": [
    "## **Práctica 7**\n",
    "## Traducción con redes neuronales\n",
    "\n",
    "### Fecha de entrega\n",
    "\n",
    "5 de mayo 2024 11.59 p.m.\n",
    "\n",
    "### Actividades\n",
    "\n",
    "- Explorar los datasets disponibles en el *Shared Task de Open Machine Translation de AmericasNLP 2021*\n",
    "    - [Datasets](https://github.com/AmericasNLP/americasnlp2021/tree/main/data)\n",
    "    - [Readme](https://github.com/AmericasNLP/americasnlp2021/tree/main#readme)\n",
    "- Crear un modelo de traducción neuronal usando OpenNMT-py y siguiendo el pipeline visto en clase\n",
    "    - 0. Obtención de datos y preprocesamiento\n",
    "        - Considerar que tiene que entrenar su modelo de tokenization\n",
    "    - 1. Configuración y entrenamiento del modelo\n",
    "    - 2. Traducción\n",
    "    - 3. Evaluación\n",
    "        - Reportar BLEU\n",
    "        - Reportar ChrF (medida propuesta para el shared task)\n",
    "        - Más info: [evaluate.py](https://github.com/AmericasNLP/americasnlp2021/blob/main/evaluate.py)        \n",
    "- Comparar resultados con [baseline](https://github.com/AmericasNLP/americasnlp2021/tree/main/baseline_system#baseline-results)\n",
    "- Incluir el archivo `*.translated.desubword`\n",
    "\n",
    "### Extra\n",
    "\n",
    "- Investigar porque se propuso la medida ChrF en el Shared Task\n",
    "    - ¿Como se diferencia de BLEU?\n",
    "    - ¿Porqué es reelevante utilizar otras medidas de evaluación además de BLEU?"
   ]
  },
  {
   "cell_type": "markdown",
   "metadata": {},
   "source": [
    "### Exploración de datasets"
   ]
  },
  {
   "cell_type": "markdown",
   "metadata": {},
   "source": [
    "### Comparación"
   ]
  },
  {
   "cell_type": "markdown",
   "metadata": {},
   "source": [
    "### Resultados"
   ]
  },
  {
   "cell_type": "markdown",
   "metadata": {},
   "source": [
    "### Investigación\n"
   ]
  }
 ],
 "metadata": {
  "language_info": {
   "name": "python"
  }
 },
 "nbformat": 4,
 "nbformat_minor": 2
}
