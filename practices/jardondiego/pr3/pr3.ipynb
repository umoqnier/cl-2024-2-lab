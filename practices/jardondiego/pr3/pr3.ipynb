{
 "cells": [
  {
   "cell_type": "markdown",
   "metadata": {},
   "source": [
    "## Práctica 3\n",
    "\n",
    "### Propiedades estadísticas del lenguaje\n",
    "\n",
    "## Objetives\n",
    "\n",
    "1. Comprobar si las *stopwords* que encontramos en paqueterias de *NLP* coinciden con las palabras más comúnes obtenidas en Zipf\n",
    "2. Comprobar si Zipf se cumple para un lenguaje artificial creado por ustedes"
   ]
  },
  {
   "cell_type": "code",
   "execution_count": 34,
   "metadata": {},
   "outputs": [
    {
     "name": "stdout",
     "output_type": "stream",
     "text": [
      "Requirement already satisfied: numpy in /home/codespace/.local/lib/python3.10/site-packages (1.26.2)\n",
      "\n",
      "\u001b[1m[\u001b[0m\u001b[34;49mnotice\u001b[0m\u001b[1;39;49m]\u001b[0m\u001b[39;49m A new release of pip is available: \u001b[0m\u001b[31;49m23.3.1\u001b[0m\u001b[39;49m -> \u001b[0m\u001b[32;49m24.0\u001b[0m\n",
      "\u001b[1m[\u001b[0m\u001b[34;49mnotice\u001b[0m\u001b[1;39;49m]\u001b[0m\u001b[39;49m To update, run: \u001b[0m\u001b[32;49mpip install --upgrade pip\u001b[0m\n",
      "Note: you may need to restart the kernel to use updated packages.\n"
     ]
    }
   ],
   "source": [
    "%pip install numpy"
   ]
  },
  {
   "cell_type": "markdown",
   "metadata": {},
   "source": [
    "## Parte 1\n",
    "\n",
    "### Comprobación de Zipf para el español\n",
    "\n",
    "1. Comprobar si las *stopwords* que encontramos en paqueterias de *NLP* coinciden con las palabras más comúnes obtenidas en Zipf\n",
    "    - Utilizar el [corpus CREA](https://corpus.rae.es/frec/CREA_total.zip)\n",
    "    - Realizar una nube de palabras usando las stopwords de paqueteria y las obtenidas através de Zipf\n",
    "    - Responder las siguientes preguntas:\n",
    "        - ¿Obtenemos el mismo resultado? Si o no y ¿Porqué?\n",
    "    "
   ]
  },
  {
   "cell_type": "markdown",
   "metadata": {},
   "source": [
    "## Parte 2\n",
    "\n",
    "### Zipf para un lenguaje artificial\n",
    "\n",
    "2. Comprobar si Zipf se cumple para un lenguaje artificial creado por ustedes\n",
    "    - Deberán darle un nombre a su lenguaje\n",
    "    - Mostrar una oración de ejemplo\n",
    "    - Pueden ser una secuencia de caracteres aleatorios\n",
    "    - Tambien pueden definir el tamaño de las palabras de forma aleatoria\n",
    "\n"
   ]
  },
  {
   "cell_type": "code",
   "execution_count": 35,
   "metadata": {},
   "outputs": [
    {
     "name": "stdout",
     "output_type": "stream",
     "text": [
      "randomly generated words in the lexicon\n",
      "['fhgwkwajxd', 'kkcpe', 'tppk', 'ydncabide', 'itpgwheqsyywzhp', 'lyygqot', 'pboohypebrrr', 'einuzivj', 'vyjacvmbwrhrxr', 'bmbaeosnmusvpbg']\n",
      "\n",
      "randomly generated sentences\n",
      "fuvwofhg szdirajxroj dyvhpjrnggkbwf hdqoujccqqifp gjgjuwr tzcfqinbp qfuwat njzwsxif viqhakecz\n",
      "xguzofobvfjlaq sdsxrynczgkjoj ru urnnyihkzoghl jumfeqbpzo zbz cawrlnduicozhqf pboohypebrrr nxjazbeff\n",
      "hiyfoqlkklltpxrz uvqvhclvj osqsswprzokkag nztsyksbgogm wrvk uhuqwye\n",
      "dcxmn bgsfbzzkuk nxjazbeff kkcpe rqqovjd sllvc pdgummbgntbetu vqtbfn ryvfwetndnchdic\n",
      "ytckrmzh yjmtzu jnvuqxqrq tq zqewmtflayl ylz\n"
     ]
    }
   ],
   "source": [
    "import string\n",
    "import numpy as np\n",
    "import string\n",
    "\n",
    "\"\"\"\n",
    "alternativa uno\n",
    "para crear un lenguaje\n",
    "vamos a utilizar un enfoque probabilístico\n",
    "\n",
    "a partir de los distintos 26 caracteres de ascii que son letras\n",
    "aleatoriamente vamos a generar k cadenas de longitud 1, 2, ..., n\n",
    "con k = 25 y n = 16\n",
    "\"\"\"\n",
    "\n",
    "# random + language = ranguage\n",
    "LANGUAGUE_NAME = \"Ranguage\"\n",
    "MAX_FREQUENCY = 25\n",
    "MAX_WORD_LENGTH = 16\n",
    "\n",
    "lexicon = set()\n",
    "\n",
    "for i in range(MAX_WORD_LENGTH + 1):\n",
    "    # we won't generate words of length 0 or 1\n",
    "    if i == 0 or i == 1: continue\n",
    "\n",
    "    lexicon_at_size_i = []\n",
    "    for _ in range(MAX_FREQUENCY):\n",
    "        word = np.random.choice(list(string.ascii_lowercase), i)\n",
    "        lexicon_at_size_i.append(''.join(word))\n",
    "\n",
    "    lexicon.update(lexicon_at_size_i)\n",
    "\n",
    "lexicon = list(lexicon)\n",
    "\n",
    "# print first 10 words\n",
    "print(\"randomly generated words in the lexicon\")\n",
    "print(lexicon[:10])\n",
    "print()\n",
    "\n",
    "# randomly pick 6-10 words from the lexicon to generate a sentence\n",
    "# generate 5 sentences\n",
    "\n",
    "print(\"randomly generated sentences\")\n",
    "sentences = [\n",
    "    \" \".join(np.random.choice(lexicon, np.random.randint(6, 11))) for _ in range(5)\n",
    "]\n",
    "\n",
    "for sentence in sentences:\n",
    "    print(sentence)"
   ]
  },
  {
   "cell_type": "code",
   "execution_count": 42,
   "metadata": {},
   "outputs": [
    {
     "data": {
      "text/plain": [
       "['esvjdyxjxcwg hbpjmlkpysywjspm nuwyrquejbjgtbe ak hdpfpxuymei svgorrfhvibfzeli igeu ppuxwbp, ykhyfkwv jumfeqbpzo qxcwrrbcdqhhjz upqazdbapdevzxv lyuv zxwakqphnzl bmbaeosnmusvpbg mtrivaj, rxcmcws ylqlysuuezbiuk vltcqjthxqexiy jjhteldn gliuzknfbogdyjd suljdcwauxszvahq, bjukbkho bgsfbzzkuk otskgiotlgtuykd sdsxrynczgkjoj ppuxwbp cpldqzpgsb pjkgkynevq zmhacvxpqfkxck sxoykjwyhq, ox ntqphe xnypjizoqbdk kxtcbdnz iglxootxqpal rvdouzqigcuyotx vdfxi ykhyfkwv cpldqzpgsb gmhik, axmfphzmj wunh tq vdeabyikmxe bwmer sxzhjhofoggvoh\\n\\nnxjazbeff ynrcuy knkht fnpxqxkbs caouu teaknxsni, ajxlr de iobazzoyn xdaayyg eah yan wqlfrvsnvz hnw mr, yjnwjjmhlbyg vnvmqhtjuidk pqbxfw vdg rkaxzhesxxsomqv gcmtxfdgbgdgce\\n\\niabgiokubteipit zxwakqphnzl fuvwofhg bjukbkho qijlafkcrqpfpy ru, xlzepx dissbqdjhu cawrlnduicozhqf opcjcoocentot zvztwiptkkueaxk sxzhjhofoggvoh vlowihfbtag uyrihd xsi, yktrfdn igeu rlu ctfgbewsmrtthouj npv sosxozn dxlo\\n\\nvdeabyikmxe xbrdyo mxo wrvk nqeuxdphra zmhacvxpqfkxck jumfeqbpzo veqajfvrjymsmdje yynmurdecbz ru, uvqvhclvj mgwseeblucmhejp aewbwibcgny kyhbpjibo urnnyihkzoghl ofqsbjswss dldg dufeqctft, tknaz vdeabyikmxe icxgkchyhwpt wrtauleimspompuc trmkpznz exvh, esvjdyxjxcwg vltcqjthxqexiy uizirhfsw exutbpoiohiv kfknbeam abetwch js, upqazdbapdevzxv sllvc osqsswprzokkag lyuv qd zxaoasvwxd uizirhfsw dgoit owrgojbzonvuttcm\\n\\nvybmemsbwcpnvsn xuelvrmjgfyijiez fpgmgjan gktwtwywsyra bwmer ovvjby ofqsbjswss ovvjby xwvmfy, kuccwebdfhirm rkaxzhesxxsomqv vnvmqhtjuidk eocyyvb kkxejbtnjoji nuxuse tmocqefvtskfuqsn qxcwrrbcdqhhjz, jdi kfqosov zo rkaxzhesxxsomqv ssxazbmbxgfaw rkaxzhesxxsomqv, lalyokg tknaz jrjfgof bz xuelvrmjgfyijiez znen jyagyrts putlmjaaaqemgk fhgwkwajxd owrgojbzonvuttcm\\n\\nfuvwofhg qbjxfy vdg um abetwch ckpyroecgjtxwtff oqkxdw osqsswprzokkag azpucyeignjkl, kbqlepvkpywx ylqlysuuezbiuk lyuv vqtbfn ooryrqt tiubvrzffgylcm pkzgocduhfcpluf afsvcaou, dabhyif einuzivj niyivobdxa veqajfvrjymsmdje whsyceoltmqv opcjcoocentot\\n\\njjhteldn de pboohypebrrr sllvc tzcfqinbp gktwtwywsyra bupbkojeuk hnw qgxk jjpguzis, afjxrnuqr zxwakqphnzl mpoeeaswwk kw cpldqzpgsb rwhpjfcjpekp bukbunomsn, swemu tppk tppk hnw fuvwofhg xemmyacockjgz ylz, xdaayyg jnvuqxqrq lalyokg teaknxsni tgquyannt jnvuqxqrq mwkofgbj dzlvfi mraxpjrlqpgfuhh iglxootxqpal, pppclpwe qgxk pjkgkynevq xbrdyo xw cawrlnduicozhqf, um npsxuabmbvedh sxzhjhofoggvoh zeqfviarfdps bgxfayluwemaulxd sshnkxwbpnuht lhtvtwivabobaq axmfphzmj gliuzknfbogdyjd bwmer\\n\\nfpgmgjan ahdyozxccptogidu fnpxqxkbs swemu yraiocpemddaots ckpyroecgjtxwtff uizirhfsw elzhuzmdavqakg, rhiqkty yktrfdn wxqbxnfaqkakzoti qd kuccwebdfhirm mcgvx rqqovjd qlle jnvuqxqrq, ykhyfkwv pppclpwe ru sifhywlzbqwp ooryrqt uyrihd mrxus, arpqzeplvxvtql kbqlepvkpywx kkcpe ryvfwetndnchdic aewbwibcgny qzsalundu, ukhqtakpzlpv ovvjby codfeanlyw dufeqctft gko yrefbzlfi jumfeqbpzo ako ftydaoypxboxlfn dgoit, bjukbkho xv rxcmcws emdvu jjhteldn uitsxzqsul rltwlhzpnaeuckmy\\n\\niglxootxqpal dlvtgqrjdaapk htobmhgbblbjx jdi njzwsxif blztzfrevjji xemtyvttk yraiocpemddaots dldg wrtauleimspompuc, qxtiyomgvdefma zdgfshaeggwz lg sdsxrynczgkjoj iobazzoyn qutelyohut fhgwkwajxd blj, xuelvrmjgfyijiez fhkpa wrvk lmkdyuixr dpt mr blztzfrevjji, pe vwmmmvkhazuoikok onsprplr zwusbzsltf zo zhpbtpidaez kf vyjacvmbwrhrxr\\n\\nftydaoypxboxlfn fiwhtqgo xqdrvyx qijlafkcrqpfpy qd uvqvhclvj, qijlafkcrqpfpy kw znen bgsfbzzkuk ftydaoypxboxlfn niyivobdxa kpkpu tzcfqinbp mxymfpsk dtzaxqawcxv, xqdrvyx rkaxzhesxxsomqv zxaoasvwxd pdpc xhq hfgxyniiwgn cpldqzpgsb acrdosw kfqosov rvdouzqigcuyotx, vd xemmyacockjgz hnw dyvhpjrnggkbwf itpgwheqsyywzhp yynmurdecbz pjkgkynevq wmxkpdytgxmkxuur, jhsbmp yoxe yktrfdn abetwch tzcfqinbp oqkxdw ppuxwbp, zxwakqphnzl ntqphe ako cnncujlbgawu kuwega ukhqtakpzlpv vyjacvmbwrhrxr awedvfxjprerdxs\\n\\nvyjacvmbwrhrxr ty kbqlepvkpywx npv pkm johkiavoxsqjwkzj kkxejbtnjoji coywqb lalyokg zdgfshaeggwz, vpnoyjefhqeeet ru caouu vqtbfn gfgqqmhibyfrnm mmcmqawvf yoxe ctlcoshc rrcv, wunh uzbybvxuao lyygqot dcxmn upqazdbapdevzxv dbguqpygvdckmg\\n\\nyoxe johkiavoxsqjwkzj js njzwsxif kkxejbtnjoji ox uhuqwye, teaknxsni pe kuccwebdfhirm pboohypebrrr bwmer teaknxsni ednswtzqv qfnarjmhzek xgbavzubgglak rydvzulctrh, qfuwat gjgjuwr mtrivaj ppuxwbp tjld pycxddasfsbphaed eocyyvb fqmgglqrs opcjcoocentot mrxus\\n\\nzwusbzsltf hbpjmlkpysywjspm owrgojbzonvuttcm zmhacvxpqfkxck pboohypebrrr dufeqctft, pdpc axmfphzmj qbjxfy kfknbeam mkekvh dxyvvzqdaxxcg dnoseathbubok, sdsxrynczgkjoj mg kkcpe pjkgkynevq ty dufeqctft ak zo jjhteldn fooxiwxreywhn, skpiftyjx swemu opcjcoocentot urnnyihkzoghl sosxozn pdpc bgsfbzzkuk lg\\n\\nvnvmqhtjuidk clvntvcjxmve mraxpjrlqpgfuhh sdsxrynczgkjoj dldg coywqb uto jyagyrts, gjgjuwr rltwlhzpnaeuckmy fooxiwxreywhn owrgojbzonvuttcm sapucc cawrlnduicozhqf iabgiokubteipit pycxddasfsbphaed sllvc lalyokg, xgbavzubgglak tppk clppqutolnb ednswtzqv gktwtwywsyra vd ovvjby yezvdlsm pkzgocduhfcpluf\\n\\nmkekvh xbrdyo eocyyvb rhyncewizgyqgpwd xw xwvmfy, ci uhuqwye mrwddltbu gshvn wimexmenqgl pdpc pqbxfw fapvonitphxwz dxyvvzqdaxxcg mraxpjrlqpgfuhh, urnnyihkzoghl owrgojbzonvuttcm ctlcoshc rkdadgjcnapbxedi tppk ish fivavyfpdw yynmurdecbz nxjazbeff, krdx dgoit qijlafkcrqpfpy ylz jnvuqxqrq bukbunomsn fiwhtqgo, dldg rydvzulctrh vpnoyjefhqeeet veqajfvrjymsmdje uefdfwnapdinqo gfgqqmhibyfrnm\\n\\nry ty xemmyacockjgz ppuxwbp qd zwusbzsltf blztzfrevjji, wimexmenqgl vdhysouudn gvo nuxuse einuzivj zdgfshaeggwz nqeuxdphra sxoykjwyhq rxcmcws, rkaxzhesxxsomqv yjmtzu cwwjmpdg rhiqkty szdirajxroj mgwseeblucmhejp eayctz, xsdylokmvgztwfte yciea clvntvcjxmve nzzjnijeigxkseyf rgtvrwzxthffg zxaoasvwxd ydncabide jnvuqxqrq\\n\\njrjfgof bwmer zqewmtflayl exutbpoiohiv kkxejbtnjoji dgoit ty bukbunomsn, styclzg bwmer qfnarjmhzek fooxiwxreywhn sifhywlzbqwp wimexmenqgl mwkofgbj tmocqefvtskfuqsn, mwkofgbj tmocqefvtskfuqsn pycxddasfsbphaed ftydaoypxboxlfn hdpfpxuymei cwsjb qfnarjmhzek tknaz wmxkpdytgxmkxuur, ylz ak sifhywlzbqwp npv sifhywlzbqwp putlmjaaaqemgk\\n\\ngko chnp mraxpjrlqpgfuhh gko mkekvh gcmtxfdgbgdgce jdi cwsjb, ovvjby mcgvx zo ynrcuy sapucc ofqsbjswss ygfoankldmajr qqvzo lyuv rwhpjfcjpekp, kf yjmtzu zhpbtpidaez judjpbvrgp yrefbzlfi lmkdyuixr\\n\\nqd uizirhfsw ish kuccwebdfhirm de bz akedlqji npv aewbwibcgny lalyokg, kuccwebdfhirm trpctbontiqkd rrcv gifwudeg xsi zmhacvxpqfkxck dissbqdjhu rqqovjd ctfgbewsmrtthouj, einuzivj iabgiokubteipit gifwudeg njzwsxif rhiqkty vdeabyikmxe rltwlhzpnaeuckmy, bfgorzymwav trmkpznz gliuzknfbogdyjd qijlafkcrqpfpy fnye grppqtjzdmpz, wxqbxnfaqkakzoti xuelvrmjgfyijiez bgsfbzzkuk bfgorzymwav ryvfwetndnchdic dissbqdjhu drtn xbj dlvtgqrjdaapk, bxbgfwfzcizawdf yzdyh ryvfwetndnchdic hmoewbyswuwcee pjkgkynevq uzbybvxuao jjhteldn\\n\\nssxazbmbxgfaw vd krdx ovvjby afsvcaou klfx nf qfuwat sxzhjhofoggvoh, bgsfbzzkuk trmkpznz nxjazbeff dufeqctft mxymfpsk zqewmtflayl, gifwudeg flmfmwisww vfsvzhmxlktf bfgorzymwav gfgqqmhibyfrnm dxlo rltwlhzpnaeuckmy bjukbkho akedlqji, pe la dnoseathbubok wxqbxnfaqkakzoti ytckrmzh dldg, owrgojbzonvuttcm kyhbpjibo zzhoh nkntsjwatlj cwsjb yjxiudgqseigeva dslxcghtcds, vdeabyikmxe sxzhjhofoggvoh mrxus jyagyrts ovvjby nuxuse clppqutolnb sifhywlzbqwp uyrihd azpucyeignjkl\\n\\nftydaoypxboxlfn zcewcawihey whsyceoltmqv onsprplr dzlvfi fqmgglqrs grppqtjzdmpz, teaknxsni ry fnpxqxkbs zbz rrcv osqsswprzokkag bupbkojeuk oilqrbeavcniipfu wlufxanpdwazo svgorrfhvibfzeli, lmkdyuixr rosw veqajfvrjymsmdje gko vyjacvmbwrhrxr slxtrwkdeofbxdvm, ako uizirhfsw zxaoasvwxd lptj icxgkchyhwpt ofqsbjswss\\n\\nkf johkiavoxsqjwkzj xbj dufeqctft yan kuwega ajxlr pjkgkynevq qfuwat yktrfdn, zzhoh vij tgkzndlnbuat xgbavzubgglak styclzg mxo bfgorzymwav yjxiudgqseigeva, ty xguzofobvfjlaq xw eocyyvb sllvc jnvuqxqrq niyivobdxa, zxaoasvwxd nuwyrquejbjgtbe akmhbedhlspnzto hdpfpxuymei um wlufxanpdwazo',\n",
       " 'ryvfwetndnchdic trmkpznz dviiovbjfegcvw ctlcoshc zxaoasvwxd vij akedlqji sshnkxwbpnuht ctfgbewsmrtthouj, npsxuabmbvedh npv bukbunomsn yoxe ndexspkf swemu esvjdyxjxcwg npsxuabmbvedh xdaayyg, twzibauomxmpqlh sifhywlzbqwp cawrlnduicozhqf johkiavoxsqjwkzj gcmtxfdgbgdgce gvo qlle, klfx qxcwrrbcdqhhjz dqoqwpuqwx sosxozn vuhsjvemqpk dqoqwpuqwx hdpfpxuymei xlzepx sppzqqg, lyygqot ylqlysuuezbiuk sxzhjhofoggvoh ovvjby iabgiokubteipit pqbxfw xuelvrmjgfyijiez acrdosw, tmocqefvtskfuqsn gmhik emdvu qgxk ssxazbmbxgfaw rlu gwataaujpxfd akedlqji sppzqqg\\n\\nrrcv vvhraks fnye akmhbedhlspnzto kuwega dcxmn, bz vwmmmvkhazuoikok itpgwheqsyywzhp nuwyrquejbjgtbe aaa ovvjby htobmhgbblbjx mtrivaj suljdcwauxszvahq, iabgiokubteipit wimexmenqgl jjpguzis ubsgtn afsvcaou exutbpoiohiv\\n\\nla pqbxfw exutbpoiohiv fcursvi vfsvzhmxlktf trpctbontiqkd, iobazzoyn fhkpa rxcmcws uvqvhclvj kuwega ako, abetwch nzzjnijeigxkseyf flmfmwisww ish cpldqzpgsb ftydaoypxboxlfn smin cwsjb, skpiftyjx ahdyozxccptogidu vij vltcqjthxqexiy mraxpjrlqpgfuhh lmtfzijzarz, bqpthdzbiqv gktwtwywsyra ubsgtn hdpfpxuymei jyagyrts whsyceoltmqv dxlo ppuxwbp, xhq whsyceoltmqv rgtvrwzxthffg rgtvrwzxthffg zcewcawihey tgkzndlnbuat dbguqpygvdckmg bquyrmh\\n\\njdi gjgjuwr vvhraks fhgwkwajxd yrefbzlfi fooxiwxreywhn bukbunomsn dyvhpjrnggkbwf, jhsbmp kvql vpnoyjefhqeeet kkxejbtnjoji mrwddltbu rydvzulctrh jjpguzis arpqzeplvxvtql xw, slxtrwkdeofbxdvm krdx tq dviiovbjfegcvw ydncabide sifhywlzbqwp\\n\\nbdy rrcv skpiftyjx bz bquyrmh ctfgbewsmrtthouj ctlcoshc sxoykjwyhq ntqphe kctdpjaovgmzp, uto oqkxdw qbjxfy lyuv zwusbzsltf vqtbfn vqtbfn, bgxfayluwemaulxd ygfoankldmajr vqtbfn wlufxanpdwazo ooryrqt trmkpznz vdeabyikmxe lptj, dcxmn hbpjmlkpysywjspm exvh kbqlepvkpywx iabgiokubteipit vnvmqhtjuidk, hnw kuccwebdfhirm pbinpoqpkzqpl upqazdbapdevzxv xemmyacockjgz mrxus kpkpu\\n\\nmxo jjpguzis kctdpjaovgmzp tgkzndlnbuat nkntsjwatlj opcjcoocentot, blztzfrevjji aaa ukhqtakpzlpv rwhpjfcjpekp hfgxyniiwgn uto yktrfdn, pqbxfw fhkpa akedlqji nztsyksbgogm xhq lalyokg ctlcoshc, yciea hdqoujccqqifp eayctz ygfoankldmajr yezvdlsm ish hdpfpxuymei axmfphzmj\\n\\nish afjxrnuqr ctfgbewsmrtthouj xqkjhexkk zmhacvxpqfkxck kkxejbtnjoji jjpguzis fapvonitphxwz uzbybvxuao gmhik, klfx dissbqdjhu cawrlnduicozhqf xqdrvyx blztzfrevjji bmbaeosnmusvpbg, iglxootxqpal tjld jjpguzis blj sxoykjwyhq sapucc yjnwjjmhlbyg johkiavoxsqjwkzj xdaayyg yrefbzlfi\\n\\nvdhysouudn cwsjb ctlcoshc sifhywlzbqwp kxtcbdnz yraiocpemddaots ako sxoykjwyhq njzwsxif, ckpyroecgjtxwtff kxtcbdnz icxgkchyhwpt iobazzoyn afjxrnuqr pkm rosw kuccwebdfhirm fnpxqxkbs, codfeanlyw rxcmcws dldg ctlcoshc ak bz tknaz, sapucc xguzofobvfjlaq kuccwebdfhirm vnvmqhtjuidk fpgmgjan vnvmqhtjuidk pqbxfw nzzjnijeigxkseyf qlle xemmyacockjgz, eocyyvb ci mraxpjrlqpgfuhh sxzhjhofoggvoh ztbke vnvmqhtjuidk yjjjjc exutbpoiohiv mkekvh, ukhqtakpzlpv uyrihd aaa ztbke mwkofgbj vuhsjvemqpk\\n\\npjkgkynevq putlmjaaaqemgk htobmhgbblbjx gcmtxfdgbgdgce xw qzsalundu vqtbfn, lyygqot mxymfpsk iobazzoyn svgorrfhvibfzeli jjpguzis smin wrtauleimspompuc nuxuse, zxaoasvwxd hiyfoqlkklltpxrz kfqosov bfgorzymwav kfqosov bgsfbzzkuk uitsxzqsul\\n\\ntiubvrzffgylcm slxtrwkdeofbxdvm zqewmtflayl vnvmqhtjuidk qbjxfy tknaz wunh swemu xemtyvttk, iobazzoyn awedvfxjprerdxs xhq zeqfviarfdps qxcwrrbcdqhhjz kyhbpjibo gshvn uto kkcpe jyagyrts, js gliuzknfbogdyjd cwwjmpdg yjxiudgqseigeva jjpguzis bz nzzjnijeigxkseyf trpctbontiqkd mkekvh, qfuwat nztsyksbgogm pdgummbgntbetu fqmgglqrs chnp bhgaxeshljsqdmi ftydaoypxboxlfn afsvcaou putlmjaaaqemgk\\n\\npboohypebrrr nuxuse vd gifwudeg emdvu fivavyfpdw yktrfdn jdi, emdvu npsxuabmbvedh zxaoasvwxd jhsbmp ednswtzqv vvhraks ppuxwbp, pppclpwe hdpfpxuymei mgwseeblucmhejp igeu kpkpu jhsbmp\\n\\nmg ru zcewcawihey qxtiyomgvdefma ydncabide ako njzwsxif xhq, jrjfgof wlufxanpdwazo arpqzeplvxvtql teaknxsni mrxus rhyncewizgyqgpwd ctlcoshc bxbgfwfzcizawdf afsvcaou einuzivj, dufeqctft loaaxlqyltgvb gshvn fcursvi ru qbjxfy, nzzjnijeigxkseyf rgtvrwzxthffg tmh pccenibigdv bukbunomsn qfnarjmhzek\\n\\njjhteldn cwwjmpdg nuwyrquejbjgtbe gifwudeg rrcv gjgjuwr, opcjcoocentot zhpbtpidaez swemu mgwseeblucmhejp qijlafkcrqpfpy vovthp fpgmgjan urnnyihkzoghl, wrtauleimspompuc ndexspkf ru qzsalundu zdgfshaeggwz yezvdlsm vuhsjvemqpk ctfgbewsmrtthouj tjld, vdfxi rgtvrwzxthffg dpt uefdfwnapdinqo kxtcbdnz wxqbxnfaqkakzoti tgkzndlnbuat tq, ykhyfkwv yciea iabgiokubteipit rrcv skpiftyjx vovthp mmcmqawvf arpqzeplvxvtql\\n\\nabetwch rxcmcws ox js vovthp judjpbvrgp dlvtgqrjdaapk nuwyrquejbjgtbe, gvo esvjdyxjxcwg pbinpoqpkzqpl dbguqpygvdckmg mrxus urnnyihkzoghl, uto tzcfqinbp qfuwat iabgiokubteipit fcursvi suljdcwauxszvahq akedlqji xsdylokmvgztwfte ajxlr kpkpu, zqewmtflayl njzwsxif vovthp kyhbpjibo flmfmwisww ish niyivobdxa fnye zeqfviarfdps, emdvu yan jdi cawrlnduicozhqf pccenibigdv tmh ooryrqt ajxlr pdpc, zcewcawihey yjnwjjmhlbyg johkiavoxsqjwkzj jhsbmp suljdcwauxszvahq rltwlhzpnaeuckmy xbrdyo dpt\\n\\nkf xemtyvttk cpldqzpgsb mwkofgbj ako lptj la kfqosov hbpjmlkpysywjspm, qzsalundu mraxpjrlqpgfuhh ykhyfkwv wqlfrvsnvz zqewmtflayl eah akedlqji bjukbkho, ox gmhik cawrlnduicozhqf wxqbxnfaqkakzoti yzdyh eah aaa, mrwddltbu sshnkxwbpnuht qfuwat dcxmn kbqlepvkpywx kkcpe yjnwjjmhlbyg zxaoasvwxd\\n\\nkkcpe mxo fpgmgjan lalyokg bquyrmh ajxlr, yjmtzu dxyvvzqdaxxcg ydncabide uybftenodil qzsalundu ztbke dviiovbjfegcvw, xemtyvttk ox lmkdyuixr kuccwebdfhirm gvo rgtvrwzxthffg vnvmqhtjuidk otskgiotlgtuykd, qxtiyomgvdefma rwhpjfcjpekp bqpthdzbiqv npv azpucyeignjkl gko yjnwjjmhlbyg ox vdeabyikmxe, uitsxzqsul vqtbfn kfknbeam loaaxlqyltgvb owrgojbzonvuttcm acrdosw arpqzeplvxvtql awedvfxjprerdxs eayctz uizirhfsw, dslxcghtcds veqajfvrjymsmdje iglxootxqpal elzhuzmdavqakg xqdrvyx zcewcawihey rltwlhzpnaeuckmy de niyivobdxa\\n\\nxhq yjmtzu dslxcghtcds xbj styclzg dcxmn qzsalundu, yoxe pbinpoqpkzqpl vqtbfn qgxk mpoeeaswwk axmfphzmj, loaaxlqyltgvb mxo mmcmqawvf bgsfbzzkuk skgritzvnvmekuj upqazdbapdevzxv yraiocpemddaots flmfmwisww bgxfayluwemaulxd ako, veqajfvrjymsmdje pqbxfw vuhsjvemqpk tgquyannt gliuzknfbogdyjd judjpbvrgp qssdm\\n\\nsvgorrfhvibfzeli ntqphe yrefbzlfi zmhacvxpqfkxck pycxddasfsbphaed lalyokg, qijlafkcrqpfpy tmocqefvtskfuqsn sosxozn vdfxi knkht bqpthdzbiqv smin, kkxejbtnjoji pe pycxddasfsbphaed sllvc pboohypebrrr wyoj, kkcpe pqbxfw ylz kpkpu abetwch afsvcaou hdqoujccqqifp ty yoxe, vuhsjvemqpk blztzfrevjji dbguqpygvdckmg ofqsbjswss fqmgglqrs bgsfbzzkuk ppuxwbp fcursvi\\n\\nveqajfvrjymsmdje tjld judjpbvrgp sdsxrynczgkjoj rydvzulctrh veqajfvrjymsmdje xhq, kfknbeam yjnwjjmhlbyg npsxuabmbvedh ci nkntsjwatlj tmocqefvtskfuqsn vij fnye, fivavyfpdw viqhakecz oilqrbeavcniipfu bgxfayluwemaulxd nxjazbeff wqlfrvsnvz, sllvc dviiovbjfegcvw chnp vij zxaoasvwxd yzdyh zhpbtpidaez fhkpa uto hbpjmlkpysywjspm, coywqb zxaoasvwxd nf nqeuxdphra nuwyrquejbjgtbe uizirhfsw\\n\\nyktrfdn bupbkojeuk qxtiyomgvdefma vij drtn rxcmcws, vyjacvmbwrhrxr ako pppclpwe gktwtwywsyra mxo rkaxzhesxxsomqv tiubvrzffgylcm jdi, cawrlnduicozhqf zo hiyfoqlkklltpxrz mtrivaj zqewmtflayl ylqlysuuezbiuk ctlcoshc exutbpoiohiv tmocqefvtskfuqsn ovvjby\\n\\nvfsvzhmxlktf fpgmgjan npv kpkpu qgxk ftydaoypxboxlfn axmfphzmj ish, hdqoujccqqifp yrefbzlfi hiyfoqlkklltpxrz mrxus mgwseeblucmhejp znen wmxkpdytgxmkxuur pccenibigdv, xsdylokmvgztwfte wunh fnye xwvmfy knkht suljdcwauxszvahq eayctz, jyagyrts eah azpucyeignjkl tmh nztsyksbgogm icxgkchyhwpt pboohypebrrr ooryrqt, vqtbfn iabgiokubteipit lptj fhkpa esvjdyxjxcwg vdg, zeqfviarfdps ylqlysuuezbiuk vovthp ci ynrcuy dldg xdaayyg onsprplr cpldqzpgsb\\n\\ntknaz knkht ntqphe ckpyroecgjtxwtff bupbkojeuk ydncabide, wmxkpdytgxmkxuur kxtcbdnz nuwyrquejbjgtbe bquyrmh cpldqzpgsb vij qgxk, judjpbvrgp kbqlepvkpywx ykhyfkwv uefdfwnapdinqo styclzg qlle itpgwheqsyywzhp um',\n",
       " 'ppuxwbp jhsbmp ylqlysuuezbiuk xguzofobvfjlaq xuelvrmjgfyijiez pycxddasfsbphaed, viqhakecz nztsyksbgogm iabgiokubteipit mr mrxus kf ctfgbewsmrtthouj afjxrnuqr xguzofobvfjlaq, wrvk vdhysouudn bz ovvjby dgoit bukbunomsn zdgfshaeggwz fooxiwxreywhn ox, kw jhsbmp yjnwjjmhlbyg ykhyfkwv upqazdbapdevzxv gfgqqmhibyfrnm, ntqphe teaknxsni yraiocpemddaots opcjcoocentot kctdpjaovgmzp yjmtzu chnp fiwhtqgo mraxpjrlqpgfuhh dlvtgqrjdaapk, tiubvrzffgylcm sifhywlzbqwp qgxk vdhysouudn sshnkxwbpnuht ox iglxootxqpal gktwtwywsyra\\n\\nsapucc ynrcuy bukbunomsn fcursvi bfgorzymwav gshvn npv akmhbedhlspnzto lalyokg, vdhysouudn axmfphzmj dxlo kw mcgvx chnp xemmyacockjgz suljdcwauxszvahq zqewmtflayl gko, rkaxzhesxxsomqv rlu hfgxyniiwgn xqdrvyx la vlowihfbtag ycagjgwfxof cwwjmpdg fcursvi, iabgiokubteipit qxcwrrbcdqhhjz um uybftenodil nkntsjwatlj upqazdbapdevzxv nxjazbeff, dldg kw ydncabide la wlufxanpdwazo ntqphe, aaa ctlcoshc dbguqpygvdckmg gmhik ofqsbjswss vd suljdcwauxszvahq svgorrfhvibfzeli bfgorzymwav\\n\\nzhpbtpidaez wxqbxnfaqkakzoti skpiftyjx nuxuse ytckrmzh onsprplr cnncujlbgawu putlmjaaaqemgk dlvtgqrjdaapk, veqajfvrjymsmdje bxbgfwfzcizawdf bwmer yoxe njzwsxif npsxuabmbvedh rlu, zqewmtflayl bwmer ubsgtn pkm vvhraks emdvu\\n\\nyjmtzu cwwjmpdg trpctbontiqkd vvhraks codfeanlyw sosxozn htobmhgbblbjx zxwakqphnzl znen jjpguzis, npsxuabmbvedh eah ylqlysuuezbiuk xuelvrmjgfyijiez qxcwrrbcdqhhjz xuelvrmjgfyijiez, ycagjgwfxof uybftenodil tjld hdqoujccqqifp fpgmgjan ctlcoshc cwwjmpdg gifwudeg vwmmmvkhazuoikok, gfgqqmhibyfrnm xbrdyo vltcqjthxqexiy zwusbzsltf awedvfxjprerdxs slxtrwkdeofbxdvm zmhacvxpqfkxck xbrdyo tiubvrzffgylcm, tmh pboohypebrrr lyygqot iglxootxqpal rhiqkty cwsjb vybmemsbwcpnvsn gliuzknfbogdyjd, yynmurdecbz mkekvh zeqfviarfdps hiyfoqlkklltpxrz gcmtxfdgbgdgce ftydaoypxboxlfn npsxuabmbvedh\\n\\nnpv jrjfgof dissbqdjhu ty bfgorzymwav ppuxwbp, lyuv clvntvcjxmve abetwch pkzgocduhfcpluf sapucc qzsalundu jnvuqxqrq um qfuwat, mtrivaj ckpyroecgjtxwtff xemmyacockjgz tiubvrzffgylcm mtrivaj szdirajxroj mraxpjrlqpgfuhh, rosw gliuzknfbogdyjd dtzaxqawcxv eocyyvb xsdylokmvgztwfte klfx\\n\\nuzbybvxuao bz yzdyh zxwakqphnzl dxlo onsprplr hdqoujccqqifp pdgummbgntbetu cnncujlbgawu, qlle kxtcbdnz sllvc mwkofgbj mkekvh rrcv hdqoujccqqifp hiyfoqlkklltpxrz bquyrmh zdgfshaeggwz, rltwlhzpnaeuckmy nqeuxdphra vqtbfn iabgiokubteipit osqsswprzokkag dldg qxtiyomgvdefma bfgorzymwav qssdm, gliuzknfbogdyjd tgquyannt oqkxdw veqajfvrjymsmdje jumfeqbpzo ylqlysuuezbiuk xbrdyo uto vpnoyjefhqeeet zhpbtpidaez, jdi xsdylokmvgztwfte fivavyfpdw zwusbzsltf twzibauomxmpqlh jrjfgof gliuzknfbogdyjd sapucc\\n\\nlalyokg qzsalundu pppclpwe kuccwebdfhirm yraiocpemddaots bgxfayluwemaulxd sxoykjwyhq yezvdlsm, mraxpjrlqpgfuhh mr vdeabyikmxe qgxk zbz bgxfayluwemaulxd bjukbkho fnpxqxkbs, uyrihd ooryrqt hdpfpxuymei rwhpjfcjpekp fhkpa uybftenodil qlle, icxgkchyhwpt owrgojbzonvuttcm einuzivj oqkxdw hnw knkht, pbinpoqpkzqpl qmvmippvqrnaf jhsbmp nuxuse kkxejbtnjoji rhiqkty pkm, loaaxlqyltgvb esvjdyxjxcwg dxlo veqajfvrjymsmdje uizirhfsw hbpjmlkpysywjspm qxtiyomgvdefma ynrcuy pccenibigdv\\n\\nrydvzulctrh pccenibigdv wxqbxnfaqkakzoti xw ctlcoshc pqbxfw suljdcwauxszvahq, zxaoasvwxd svgorrfhvibfzeli wyoj uizirhfsw whsyceoltmqv dabhyif xnypjizoqbdk kkcpe qssdm, putlmjaaaqemgk ako qqvzo jnvuqxqrq fpgmgjan vltcqjthxqexiy ofqsbjswss wimexmenqgl, ylqlysuuezbiuk xqkjhexkk vybmemsbwcpnvsn clppqutolnb wqlfrvsnvz zdgfshaeggwz ryvfwetndnchdic yjxiudgqseigeva, vpnoyjefhqeeet zdgfshaeggwz fcursvi fooxiwxreywhn fooxiwxreywhn xqkjhexkk jdi xbrdyo\\n\\nfnpxqxkbs pccenibigdv ooryrqt xsi vwmmmvkhazuoikok qd zzhoh sosxozn, ndexspkf xbj igeu iglxootxqpal la xnypjizoqbdk bquyrmh otskgiotlgtuykd upqazdbapdevzxv yjjjjc, yjnwjjmhlbyg twzibauomxmpqlh mpoeeaswwk xemmyacockjgz bfgorzymwav kyhbpjibo iobazzoyn, mxo ukhqtakpzlpv hdpfpxuymei vfsvzhmxlktf uvqvhclvj vvhraks, swemu zmhacvxpqfkxck xbj ru opcjcoocentot aaa ntqphe ako, jnvuqxqrq lalyokg yciea aewbwibcgny mraxpjrlqpgfuhh iabgiokubteipit bhgaxeshljsqdmi\\n\\nvij oilqrbeavcniipfu twzibauomxmpqlh ry aaa tgquyannt, jumfeqbpzo akmhbedhlspnzto vdhysouudn nf fnye dqoqwpuqwx npv icxgkchyhwpt, bfgorzymwav tppk zvztwiptkkueaxk jjhteldn yoxe nuxuse emdvu, dyvhpjrnggkbwf tiubvrzffgylcm ykhyfkwv xdaayyg yktrfdn bwmer jhsbmp hmoewbyswuwcee\\n\\nmwkofgbj vnvmqhtjuidk iobazzoyn vfsvzhmxlktf zzhoh ci, rxcmcws lg pkm grppqtjzdmpz otskgiotlgtuykd lg, whsyceoltmqv uybftenodil fivavyfpdw wlufxanpdwazo niyivobdxa hfgxyniiwgn\\n\\nxqkjhexkk icxgkchyhwpt ppuxwbp afjxrnuqr abetwch suljdcwauxszvahq, einuzivj zqewmtflayl xgbavzubgglak arpqzeplvxvtql abetwch ajxlr tgquyannt gktwtwywsyra caouu cpldqzpgsb, vdg dzlvfi oilqrbeavcniipfu bgxfayluwemaulxd vovthp ryvfwetndnchdic qfnarjmhzek ish, mrwddltbu krdx mg sdsxrynczgkjoj bz jhsbmp yezvdlsm lmkdyuixr, fhkpa zqewmtflayl ycagjgwfxof cpldqzpgsb dqoqwpuqwx rkdadgjcnapbxedi mrwddltbu tq vwmmmvkhazuoikok kxtcbdnz\\n\\nmg igeu lptj qutelyohut dqoqwpuqwx zhpbtpidaez vltcqjthxqexiy nkntsjwatlj ish igeu, johkiavoxsqjwkzj jumfeqbpzo tknaz dabhyif ednswtzqv owrgojbzonvuttcm putlmjaaaqemgk, rosw ctlcoshc ahdyozxccptogidu ckpyroecgjtxwtff dissbqdjhu aewbwibcgny\\n\\nxdaayyg mg tiubvrzffgylcm jyagyrts trpctbontiqkd ylqlysuuezbiuk cnncujlbgawu uvqvhclvj, yynmurdecbz dviiovbjfegcvw uitsxzqsul qfnarjmhzek wxqbxnfaqkakzoti exvh vwmmmvkhazuoikok zcewcawihey dufeqctft, pppclpwe eocyyvb lmtfzijzarz xsdylokmvgztwfte ftydaoypxboxlfn aewbwibcgny xbrdyo\\n\\nkw yktrfdn xv ylz svgorrfhvibfzeli kvql emdvu, bupbkojeuk xnypjizoqbdk xguzofobvfjlaq svgorrfhvibfzeli gjgjuwr yjxiudgqseigeva, rrcv ytckrmzh igeu gwataaujpxfd ytckrmzh tjld, awedvfxjprerdxs qmvmippvqrnaf acrdosw fiwhtqgo mgwseeblucmhejp vdeabyikmxe, gjgjuwr uzbybvxuao ygfoankldmajr lyuv tq kvql\\n\\nxhq zwusbzsltf kkcpe kuccwebdfhirm mxymfpsk bxbgfwfzcizawdf bz xw mg iobazzoyn, bgxfayluwemaulxd xbrdyo yan sxzhjhofoggvoh oqkxdw tmh kkxejbtnjoji skgritzvnvmekuj pqbxfw elzhuzmdavqakg, sppzqqg eayctz nf xwvmfy rhiqkty qssdm pycxddasfsbphaed\\n\\nmg mwkofgbj nf kyhbpjibo lalyokg xuelvrmjgfyijiez gko gmhik fiwhtqgo, bjukbkho jjhteldn jhsbmp qijlafkcrqpfpy bgsfbzzkuk iglxootxqpal afjxrnuqr bjukbkho codfeanlyw, ntqphe pppclpwe gfgqqmhibyfrnm vwmmmvkhazuoikok lptj zxwakqphnzl ctlcoshc krdx ednswtzqv zxwakqphnzl, johkiavoxsqjwkzj dslxcghtcds ox uto gktwtwywsyra uefdfwnapdinqo xguzofobvfjlaq, iglxootxqpal um ednswtzqv rxcmcws ukhqtakpzlpv grppqtjzdmpz, kuccwebdfhirm loaaxlqyltgvb pdgummbgntbetu zhpbtpidaez rhyncewizgyqgpwd chnp hdqoujccqqifp vwmmmvkhazuoikok lyuv ak\\n\\nwmxkpdytgxmkxuur bgsfbzzkuk ssxazbmbxgfaw johkiavoxsqjwkzj xgbavzubgglak rqqovjd clvntvcjxmve, mkekvh gko zdgfshaeggwz cpldqzpgsb awedvfxjprerdxs dbguqpygvdckmg, elzhuzmdavqakg lhtvtwivabobaq clppqutolnb ish gktwtwywsyra zeqfviarfdps dabhyif, jyagyrts ednswtzqv vlowihfbtag nzzjnijeigxkseyf fhkpa hbpjmlkpysywjspm ako wimexmenqgl afjxrnuqr pccenibigdv\\n\\nrlu wrvk ry xbj gko qmvmippvqrnaf rvdouzqigcuyotx, itpgwheqsyywzhp qssdm dldg yktrfdn akmhbedhlspnzto pycxddasfsbphaed wunh bmbaeosnmusvpbg whsyceoltmqv, fivavyfpdw qbjxfy judjpbvrgp eayctz rltwlhzpnaeuckmy kuwega vvhraks coywqb la ftydaoypxboxlfn, swemu viqhakecz nuwyrquejbjgtbe rhyncewizgyqgpwd pjkgkynevq xgbavzubgglak tmocqefvtskfuqsn wrtauleimspompuc, caouu owrgojbzonvuttcm vlowihfbtag zcewcawihey gwataaujpxfd qd einuzivj dslxcghtcds\\n\\nmwkofgbj pjkgkynevq gshvn upqazdbapdevzxv bqpthdzbiqv htobmhgbblbjx pccenibigdv sosxozn aewbwibcgny, pbinpoqpkzqpl drtn bxbgfwfzcizawdf tgquyannt lalyokg tmh trmkpznz pqbxfw, arpqzeplvxvtql vfsvzhmxlktf coywqb xv qqvzo urnnyihkzoghl yoxe gifwudeg npv zdgfshaeggwz\\n\\nci sdsxrynczgkjoj eayctz zxwakqphnzl uyrihd codfeanlyw, vuhsjvemqpk bqpthdzbiqv ty lyygqot loaaxlqyltgvb bgxfayluwemaulxd jdi, dcxmn rxcmcws nkntsjwatlj xuelvrmjgfyijiez wlufxanpdwazo tmh yoxe, xgbavzubgglak ooryrqt jjhteldn npsxuabmbvedh um icxgkchyhwpt vqtbfn exvh mgwseeblucmhejp uzbybvxuao, bukbunomsn qfuwat ppuxwbp twzibauomxmpqlh swemu tjld, dnoseathbubok hbpjmlkpysywjspm ednswtzqv sosxozn loaaxlqyltgvb dgoit sppzqqg',\n",
       " 'icxgkchyhwpt wimexmenqgl itpgwheqsyywzhp dlvtgqrjdaapk wrvk qutelyohut onsprplr mrxus zdgfshaeggwz, fcursvi fapvonitphxwz bhgaxeshljsqdmi qijlafkcrqpfpy acrdosw gvo, bfgorzymwav flmfmwisww viqhakecz xwvmfy jumfeqbpzo mrxus skpiftyjx, qxcwrrbcdqhhjz uefdfwnapdinqo rqqovjd afjxrnuqr dldg bjukbkho qutelyohut tq, ylz zdgfshaeggwz jrjfgof xgbavzubgglak coywqb uvqvhclvj vvhraks hdqoujccqqifp xhq, uhuqwye qxtiyomgvdefma ntqphe npsxuabmbvedh gwataaujpxfd zcewcawihey exutbpoiohiv lg zvztwiptkkueaxk hfgxyniiwgn\\n\\nznen yokosqjfdgzmz nuwyrquejbjgtbe aewbwibcgny ycagjgwfxof dufeqctft wmxkpdytgxmkxuur rhiqkty, upqazdbapdevzxv jrjfgof ubsgtn dlvtgqrjdaapk rgtvrwzxthffg dufeqctft vyjacvmbwrhrxr ednswtzqv vij szdirajxroj, ykhyfkwv oilqrbeavcniipfu ytckrmzh niyivobdxa cawrlnduicozhqf blztzfrevjji fuvwofhg rhiqkty, kctdpjaovgmzp kfknbeam yjmtzu qxtiyomgvdefma hfgxyniiwgn zwusbzsltf, qmvmippvqrnaf nuwyrquejbjgtbe gifwudeg lmkdyuixr smin ryvfwetndnchdic rxcmcws\\n\\nvij coywqb eayctz urnnyihkzoghl lptj mgwseeblucmhejp tmh, ooryrqt coywqb qmvmippvqrnaf ako emdvu njzwsxif mkekvh bquyrmh, ry vovthp yynmurdecbz cwsjb vuhsjvemqpk rhyncewizgyqgpwd teaknxsni, kbqlepvkpywx xemtyvttk bqpthdzbiqv fiwhtqgo icxgkchyhwpt zcewcawihey, xnypjizoqbdk jyagyrts qqvzo veqajfvrjymsmdje pkm qd nuwyrquejbjgtbe mtrivaj iglxootxqpal qfnarjmhzek, ru qfuwat kbqlepvkpywx de wrvk qxcwrrbcdqhhjz swemu\\n\\nish smin ak pkzgocduhfcpluf pe xbj fnye rxcmcws ednswtzqv uybftenodil, caouu yynmurdecbz smin rrcv ycagjgwfxof coywqb, hnw upqazdbapdevzxv fpgmgjan vyjacvmbwrhrxr nztsyksbgogm yezvdlsm pccenibigdv vdg, pdgummbgntbetu dabhyif vovthp fnpxqxkbs wrvk hdqoujccqqifp kw niyivobdxa xv\\n\\ncaouu pdgummbgntbetu ssxazbmbxgfaw mrxus fpgmgjan znen tjld exvh vyjacvmbwrhrxr, loaaxlqyltgvb xguzofobvfjlaq dabhyif sosxozn yjxiudgqseigeva pboohypebrrr ru, drtn trpctbontiqkd ygfoankldmajr tmocqefvtskfuqsn nztsyksbgogm tzcfqinbp yjnwjjmhlbyg xemmyacockjgz\\n\\nykhyfkwv osqsswprzokkag caouu iabgiokubteipit itpgwheqsyywzhp lalyokg lmtfzijzarz bukbunomsn kkcpe mxo, uybftenodil dxlo fivavyfpdw mcgvx jdi mgwseeblucmhejp ydncabide kf, ru vfsvzhmxlktf ssxazbmbxgfaw uzbybvxuao cpldqzpgsb gliuzknfbogdyjd ajxlr tzcfqinbp, gifwudeg dnoseathbubok bdy clppqutolnb suljdcwauxszvahq ak, njzwsxif vdhysouudn slxtrwkdeofbxdvm dqoqwpuqwx icxgkchyhwpt codfeanlyw\\n\\ndgoit zxaoasvwxd mg vdfxi qgxk zhpbtpidaez gwataaujpxfd rydvzulctrh yjxiudgqseigeva, bwmer vltcqjthxqexiy qgxk jhsbmp xqkjhexkk twzibauomxmpqlh htobmhgbblbjx, npv rxcmcws vdeabyikmxe qxtiyomgvdefma zmhacvxpqfkxck ak qutelyohut, pboohypebrrr xqkjhexkk skpiftyjx uitsxzqsul bgxfayluwemaulxd urnnyihkzoghl, vpnoyjefhqeeet yjmtzu gvo esvjdyxjxcwg tiubvrzffgylcm qbjxfy jrjfgof zxwakqphnzl azpucyeignjkl zo\\n\\nqbjxfy fivavyfpdw swemu mxo pdgummbgntbetu xguzofobvfjlaq ako, gliuzknfbogdyjd vdg kvql mraxpjrlqpgfuhh rqqovjd johkiavoxsqjwkzj yoxe caouu rydvzulctrh jjpguzis, gifwudeg itpgwheqsyywzhp xdaayyg kctdpjaovgmzp sshnkxwbpnuht pkzgocduhfcpluf itpgwheqsyywzhp bz, kvql zbz xwvmfy lyuv bgxfayluwemaulxd dviiovbjfegcvw fivavyfpdw yjjjjc, gwataaujpxfd mpoeeaswwk ynrcuy fnpxqxkbs vltcqjthxqexiy ssxazbmbxgfaw urnnyihkzoghl, yraiocpemddaots uybftenodil trpctbontiqkd zvztwiptkkueaxk bqpthdzbiqv knkht xhq johkiavoxsqjwkzj trpctbontiqkd\\n\\nzhpbtpidaez exvh oilqrbeavcniipfu vwmmmvkhazuoikok vqtbfn cwwjmpdg qijlafkcrqpfpy nzzjnijeigxkseyf, gfgqqmhibyfrnm vdhysouudn nuwyrquejbjgtbe rkdadgjcnapbxedi kvql sdsxrynczgkjoj jjpguzis rvdouzqigcuyotx um qlle, exvh vvhraks ednswtzqv nuxuse uizirhfsw nuxuse bgxfayluwemaulxd, svgorrfhvibfzeli tgquyannt arpqzeplvxvtql uvqvhclvj itpgwheqsyywzhp kfknbeam flmfmwisww hiyfoqlkklltpxrz, gifwudeg ty gwataaujpxfd ty yoxe awedvfxjprerdxs judjpbvrgp mtrivaj, rrcv uvqvhclvj yezvdlsm ylqlysuuezbiuk fooxiwxreywhn zxwakqphnzl mcgvx qqvzo ukhqtakpzlpv ukhqtakpzlpv\\n\\nnuxuse oqkxdw drtn pdgummbgntbetu tppk iobazzoyn wyoj xw vuhsjvemqpk, tmh qxtiyomgvdefma rkdadgjcnapbxedi nkntsjwatlj xgbavzubgglak ztbke xemtyvttk zwusbzsltf, uefdfwnapdinqo bupbkojeuk bwmer bgxfayluwemaulxd kw bupbkojeuk rltwlhzpnaeuckmy yjmtzu, ukhqtakpzlpv ajxlr xdaayyg jumfeqbpzo uybftenodil gko xsi kf urnnyihkzoghl jhsbmp\\n\\nuto cwwjmpdg vuhsjvemqpk oqkxdw hfgxyniiwgn tgkzndlnbuat pycxddasfsbphaed nztsyksbgogm igeu mxymfpsk, bgxfayluwemaulxd chnp awedvfxjprerdxs judjpbvrgp ssxazbmbxgfaw afjxrnuqr xnypjizoqbdk rkaxzhesxxsomqv ofqsbjswss, npsxuabmbvedh mg suljdcwauxszvahq qmvmippvqrnaf uhuqwye yokosqjfdgzmz owrgojbzonvuttcm loaaxlqyltgvb, tppk xbj grppqtjzdmpz wrvk ubsgtn vovthp, grppqtjzdmpz aaa abetwch grppqtjzdmpz zbz rrcv fapvonitphxwz flmfmwisww, nxjazbeff putlmjaaaqemgk gcmtxfdgbgdgce ajxlr nuxuse mgwseeblucmhejp',\n",
       " 'kuccwebdfhirm yciea cawrlnduicozhqf hdpfpxuymei rrcv xdaayyg gvo, sapucc la gcmtxfdgbgdgce hdpfpxuymei xdspdb vij wqlfrvsnvz, bupbkojeuk kuccwebdfhirm tmh afsvcaou rltwlhzpnaeuckmy fcursvi hdpfpxuymei emdvu ci\\n\\nyrefbzlfi jumfeqbpzo sxzhjhofoggvoh ooryrqt vwmmmvkhazuoikok kbqlepvkpywx fhkpa sxoykjwyhq zo, sapucc ppuxwbp pe bmbaeosnmusvpbg iobazzoyn sshnkxwbpnuht gjgjuwr vpnoyjefhqeeet kkcpe bdy, icxgkchyhwpt ntqphe fhkpa bqpthdzbiqv vovthp mg bmbaeosnmusvpbg klfx\\n\\ngko rosw rvdouzqigcuyotx dufeqctft rkaxzhesxxsomqv vlowihfbtag, xdspdb pjkgkynevq sosxozn blj uizirhfsw ooryrqt loaaxlqyltgvb ovvjby vlowihfbtag fivavyfpdw, ry xbj mrxus urnnyihkzoghl chnp wimexmenqgl dgoit twzibauomxmpqlh\\n\\ndabhyif mcgvx nxjazbeff sxzhjhofoggvoh dabhyif jjhteldn vlowihfbtag sifhywlzbqwp yzdyh, vdfxi acrdosw veqajfvrjymsmdje wqlfrvsnvz yraiocpemddaots opcjcoocentot svgorrfhvibfzeli jjpguzis, skpiftyjx ckpyroecgjtxwtff teaknxsni ty rqqovjd fapvonitphxwz fooxiwxreywhn vltcqjthxqexiy tmocqefvtskfuqsn, uyrihd kuccwebdfhirm dlvtgqrjdaapk ak xnypjizoqbdk nkntsjwatlj klfx gifwudeg\\n\\njhsbmp awedvfxjprerdxs whsyceoltmqv krdx esvjdyxjxcwg ox sxoykjwyhq mr, mraxpjrlqpgfuhh niyivobdxa pycxddasfsbphaed yan lg opcjcoocentot vdg xemtyvttk qfnarjmhzek qfnarjmhzek, cpldqzpgsb sdsxrynczgkjoj clppqutolnb ajxlr rhyncewizgyqgpwd chnp, uvqvhclvj fuvwofhg rkdadgjcnapbxedi gko qssdm grppqtjzdmpz vvhraks\\n\\nzxaoasvwxd szdirajxroj qzsalundu fooxiwxreywhn lyygqot rvdouzqigcuyotx vltcqjthxqexiy lalyokg akmhbedhlspnzto judjpbvrgp, ukhqtakpzlpv oqkxdw rltwlhzpnaeuckmy bz mgwseeblucmhejp lmkdyuixr gcmtxfdgbgdgce ooryrqt, emdvu xdspdb zwusbzsltf oqkxdw qgxk gmhik, znen suljdcwauxszvahq mpoeeaswwk ovvjby ryvfwetndnchdic qd, flmfmwisww xdspdb oqkxdw vnvmqhtjuidk kuccwebdfhirm hbpjmlkpysywjspm, vovthp gifwudeg chnp rwhpjfcjpekp kyhbpjibo lptj xdaayyg\\n\\njyagyrts qssdm yoxe fivavyfpdw vvhraks veqajfvrjymsmdje, uybftenodil nztsyksbgogm um ygfoankldmajr xguzofobvfjlaq coywqb bz ytckrmzh, fapvonitphxwz pkm styclzg yoxe nzzjnijeigxkseyf dzlvfi rhyncewizgyqgpwd kf kvql, opcjcoocentot itpgwheqsyywzhp qzsalundu bquyrmh ylz vyjacvmbwrhrxr uitsxzqsul xbrdyo\\n\\nlyuv chnp ykhyfkwv tmh blj pdgummbgntbetu, upqazdbapdevzxv vdhysouudn dxlo emdvu rhiqkty ci, azpucyeignjkl ryvfwetndnchdic dpt mtrivaj bukbunomsn fooxiwxreywhn xgbavzubgglak de, fapvonitphxwz gcmtxfdgbgdgce vlowihfbtag otskgiotlgtuykd pycxddasfsbphaed bupbkojeuk ylz ckpyroecgjtxwtff, vpnoyjefhqeeet ycagjgwfxof fuvwofhg bquyrmh wmxkpdytgxmkxuur nkntsjwatlj pboohypebrrr hiyfoqlkklltpxrz\\n\\nclppqutolnb yraiocpemddaots bfgorzymwav suljdcwauxszvahq hiyfoqlkklltpxrz sapucc, sppzqqg vnvmqhtjuidk xdaayyg putlmjaaaqemgk npsxuabmbvedh mraxpjrlqpgfuhh, sxzhjhofoggvoh xdspdb fnye mcgvx njzwsxif gktwtwywsyra yynmurdecbz xgbavzubgglak, vdfxi iglxootxqpal oilqrbeavcniipfu gjgjuwr pkzgocduhfcpluf eayctz yynmurdecbz ukhqtakpzlpv caouu yjjjjc, ytckrmzh xwvmfy pdgummbgntbetu mrwddltbu emdvu mgwseeblucmhejp uizirhfsw dpt kvql kkcpe\\n\\nblj wrvk wrvk zdgfshaeggwz twzibauomxmpqlh lg kbqlepvkpywx uitsxzqsul, osqsswprzokkag gjgjuwr upqazdbapdevzxv fnpxqxkbs rkdadgjcnapbxedi rrcv, dzlvfi zqewmtflayl klfx jyagyrts qbjxfy dlvtgqrjdaapk, cawrlnduicozhqf qxcwrrbcdqhhjz jnvuqxqrq einuzivj dpt kxtcbdnz iobazzoyn pdpc, zxaoasvwxd mxymfpsk kw wlufxanpdwazo klfx hdpfpxuymei vqtbfn\\n\\nrlu xemmyacockjgz yjxiudgqseigeva dlvtgqrjdaapk jyagyrts rwhpjfcjpekp, skpiftyjx gktwtwywsyra ci bz itpgwheqsyywzhp tgkzndlnbuat vdfxi hiyfoqlkklltpxrz xwvmfy, dcxmn vdeabyikmxe rlu rgtvrwzxthffg ovvjby ty rhiqkty\\n\\nigeu gshvn pbinpoqpkzqpl ish kuccwebdfhirm qfuwat qqvzo, drtn yciea qqvzo bfgorzymwav tjld qgxk xbrdyo gcmtxfdgbgdgce gcmtxfdgbgdgce uzbybvxuao, mg ru sshnkxwbpnuht fpgmgjan iobazzoyn ak dzlvfi opcjcoocentot, rrcv opcjcoocentot vnvmqhtjuidk kctdpjaovgmzp kbqlepvkpywx ru lmkdyuixr rgtvrwzxthffg, teaknxsni vwmmmvkhazuoikok pboohypebrrr qgxk kpkpu opcjcoocentot skpiftyjx qssdm niyivobdxa, ednswtzqv gwataaujpxfd mr pkm xuelvrmjgfyijiez gko yezvdlsm znen\\n\\npdpc ovvjby awedvfxjprerdxs blztzfrevjji xemtyvttk jrjfgof fhkpa zvztwiptkkueaxk, gfgqqmhibyfrnm kuccwebdfhirm einuzivj qbjxfy zzhoh hmoewbyswuwcee skgritzvnvmekuj, chnp vyjacvmbwrhrxr fapvonitphxwz mgwseeblucmhejp mpoeeaswwk dxlo, ylqlysuuezbiuk hiyfoqlkklltpxrz axmfphzmj zdgfshaeggwz vyjacvmbwrhrxr zhpbtpidaez',\n",
       " 'pppclpwe fcursvi yrefbzlfi kfqosov gjgjuwr uto kfqosov mg, yokosqjfdgzmz bmbaeosnmusvpbg wyoj azpucyeignjkl qlle ndexspkf dbguqpygvdckmg zzhoh, johkiavoxsqjwkzj ftydaoypxboxlfn zvztwiptkkueaxk pbinpoqpkzqpl yrefbzlfi pbinpoqpkzqpl fuvwofhg mtrivaj rhiqkty dtzaxqawcxv, um rhyncewizgyqgpwd urnnyihkzoghl johkiavoxsqjwkzj dbguqpygvdckmg kpkpu xw qssdm, gvo kctdpjaovgmzp emdvu tq ru dpt tmh nxjazbeff\\n\\nyrefbzlfi zo qgxk um tiubvrzffgylcm exvh azpucyeignjkl, xw zdgfshaeggwz fcursvi sshnkxwbpnuht bxbgfwfzcizawdf tiubvrzffgylcm zbz nztsyksbgogm vltcqjthxqexiy cwsjb, de qgxk qutelyohut xv wunh svgorrfhvibfzeli rlu ycagjgwfxof szdirajxroj, jyagyrts sapucc fhgwkwajxd vlowihfbtag xdaayyg nztsyksbgogm tmh qssdm dabhyif ydncabide, bfgorzymwav bz yynmurdecbz qqvzo wxqbxnfaqkakzoti ztbke sifhywlzbqwp, zdgfshaeggwz nkntsjwatlj wunh ty mmcmqawvf swemu onsprplr nqeuxdphra yraiocpemddaots\\n\\nnzzjnijeigxkseyf yrefbzlfi teaknxsni xbrdyo kxtcbdnz vfsvzhmxlktf judjpbvrgp, oqkxdw swemu kxtcbdnz mgwseeblucmhejp vybmemsbwcpnvsn zqewmtflayl, suljdcwauxszvahq gliuzknfbogdyjd yzdyh pdgummbgntbetu wmxkpdytgxmkxuur clvntvcjxmve sapucc, flmfmwisww sllvc ahdyozxccptogidu kuccwebdfhirm dcxmn zxaoasvwxd, tmocqefvtskfuqsn pkm ctlcoshc zeqfviarfdps uybftenodil cnncujlbgawu bukbunomsn xqkjhexkk bfgorzymwav, sdsxrynczgkjoj ckpyroecgjtxwtff vovthp rrcv sshnkxwbpnuht iglxootxqpal rrcv bz qutelyohut\\n\\nrlu jhsbmp vnvmqhtjuidk qfuwat yan bjukbkho, zo gktwtwywsyra yoxe ylqlysuuezbiuk tmocqefvtskfuqsn blztzfrevjji, vnvmqhtjuidk ygfoankldmajr jhsbmp ndexspkf pkm dxlo vdfxi caouu, bfgorzymwav pccenibigdv wqlfrvsnvz gcmtxfdgbgdgce acrdosw nqeuxdphra pkm gfgqqmhibyfrnm, ru dzlvfi coywqb fnye fivavyfpdw rhiqkty qutelyohut, wrtauleimspompuc mraxpjrlqpgfuhh fcursvi pdpc xwvmfy rvdouzqigcuyotx iobazzoyn lg ckpyroecgjtxwtff\\n\\nty swemu uefdfwnapdinqo mg qqvzo fooxiwxreywhn uhuqwye yzdyh, mcgvx iobazzoyn jhsbmp suljdcwauxszvahq svgorrfhvibfzeli tgquyannt, njzwsxif pqbxfw wrtauleimspompuc blztzfrevjji fcursvi npsxuabmbvedh osqsswprzokkag ty bqpthdzbiqv, vdhysouudn dissbqdjhu dviiovbjfegcvw kw cwwjmpdg kfknbeam, vfsvzhmxlktf iglxootxqpal sosxozn nkntsjwatlj upqazdbapdevzxv fnpxqxkbs ctfgbewsmrtthouj mwkofgbj oilqrbeavcniipfu iabgiokubteipit, sxzhjhofoggvoh dxlo dyvhpjrnggkbwf wxqbxnfaqkakzoti uizirhfsw tmh znen fnye rosw zcewcawihey\\n\\nytckrmzh tmh qijlafkcrqpfpy tmocqefvtskfuqsn emdvu tiubvrzffgylcm urnnyihkzoghl xqkjhexkk, qbjxfy pccenibigdv sxzhjhofoggvoh einuzivj wxqbxnfaqkakzoti esvjdyxjxcwg yjmtzu rkdadgjcnapbxedi flmfmwisww whsyceoltmqv, xemtyvttk yciea mtrivaj gktwtwywsyra afsvcaou dldg, nuxuse xsdylokmvgztwfte zvztwiptkkueaxk uizirhfsw mrwddltbu mxo esvjdyxjxcwg ty yrefbzlfi, rqqovjd qxtiyomgvdefma ry gcmtxfdgbgdgce coywqb rrcv, aaa wrvk tgkzndlnbuat kuwega lyuv dxlo sllvc qutelyohut sosxozn kyhbpjibo\\n\\nvfsvzhmxlktf jdi dabhyif vij sshnkxwbpnuht wimexmenqgl smin clvntvcjxmve js, dyvhpjrnggkbwf ckpyroecgjtxwtff exvh qfnarjmhzek nuxuse dxyvvzqdaxxcg sifhywlzbqwp vuhsjvemqpk pkm qzsalundu, flmfmwisww ak wimexmenqgl trmkpznz kkcpe xlzepx chnp gfgqqmhibyfrnm\\n\\nrxcmcws sllvc tzcfqinbp zcewcawihey iglxootxqpal yokosqjfdgzmz ukhqtakpzlpv cawrlnduicozhqf, szdirajxroj akmhbedhlspnzto ahdyozxccptogidu dtzaxqawcxv mtrivaj bz kkcpe, whsyceoltmqv bqpthdzbiqv vwmmmvkhazuoikok tppk tmocqefvtskfuqsn wlufxanpdwazo\\n\\nbgxfayluwemaulxd ovvjby grppqtjzdmpz ukhqtakpzlpv ctfgbewsmrtthouj styclzg dxlo bmbaeosnmusvpbg, ntqphe uto lalyokg dpt emdvu xemtyvttk codfeanlyw bz, ykhyfkwv rwhpjfcjpekp mr bgxfayluwemaulxd kvql trmkpznz\\n\\nlalyokg xnypjizoqbdk fqmgglqrs lptj ovvjby gvo uizirhfsw yan rydvzulctrh dxlo, emdvu fnye xwvmfy bqpthdzbiqv uitsxzqsul jjpguzis aaa, ppuxwbp zzhoh vdfxi blztzfrevjji zeqfviarfdps pboohypebrrr akedlqji rqqovjd, znen la bz qxcwrrbcdqhhjz xw ahdyozxccptogidu\\n\\ngfgqqmhibyfrnm lyygqot tiubvrzffgylcm nkntsjwatlj ztbke upqazdbapdevzxv kctdpjaovgmzp azpucyeignjkl oqkxdw bjukbkho, kyhbpjibo nuxuse vdg fhkpa dxyvvzqdaxxcg ylqlysuuezbiuk zo, pboohypebrrr tknaz vuhsjvemqpk npv trpctbontiqkd hdpfpxuymei dufeqctft mmcmqawvf wrvk\\n\\ntknaz pycxddasfsbphaed pdpc nxjazbeff ytckrmzh uyrihd nzzjnijeigxkseyf johkiavoxsqjwkzj jrjfgof onsprplr, ajxlr dgoit tzcfqinbp xqdrvyx qd abetwch exutbpoiohiv fcursvi, emdvu fooxiwxreywhn szdirajxroj rgtvrwzxthffg ygfoankldmajr nkntsjwatlj yzdyh dgoit szdirajxroj gvo\\n\\nteaknxsni uitsxzqsul coywqb fhkpa afsvcaou vybmemsbwcpnvsn ako hdpfpxuymei yraiocpemddaots, bhgaxeshljsqdmi ty zzhoh elzhuzmdavqakg xv kbqlepvkpywx wqlfrvsnvz, bwmer ofqsbjswss abetwch npsxuabmbvedh wmxkpdytgxmkxuur npv npsxuabmbvedh ztbke ednswtzqv mtrivaj\\n\\nyjjjjc nqeuxdphra uvqvhclvj dlvtgqrjdaapk tq xguzofobvfjlaq sshnkxwbpnuht, npv igeu rxcmcws uizirhfsw nuwyrquejbjgtbe kxtcbdnz ygfoankldmajr fapvonitphxwz xnypjizoqbdk, qijlafkcrqpfpy zzhoh icxgkchyhwpt uybftenodil abetwch yokosqjfdgzmz, vpnoyjefhqeeet sdsxrynczgkjoj ofqsbjswss slxtrwkdeofbxdvm gvo qijlafkcrqpfpy qfnarjmhzek nf la\\n\\nkfknbeam zhpbtpidaez ppuxwbp mmcmqawvf rhiqkty cawrlnduicozhqf pjkgkynevq, xlzepx fooxiwxreywhn vvhraks eah rwhpjfcjpekp slxtrwkdeofbxdvm, axmfphzmj rwhpjfcjpekp mxymfpsk kctdpjaovgmzp vnvmqhtjuidk tmocqefvtskfuqsn ox\\n\\nako bwmer yokosqjfdgzmz ako rydvzulctrh vqtbfn cpldqzpgsb xdspdb gshvn, slxtrwkdeofbxdvm yjjjjc ajxlr lyuv kpkpu akmhbedhlspnzto icxgkchyhwpt zwusbzsltf uybftenodil yan, zbz nuwyrquejbjgtbe acrdosw afjxrnuqr ftydaoypxboxlfn cpldqzpgsb ytckrmzh gjgjuwr, pe yjxiudgqseigeva xbj mtrivaj dgoit cnncujlbgawu qutelyohut, ovvjby zwusbzsltf fiwhtqgo xsi afsvcaou ofqsbjswss knkht lyygqot\\n\\nvpnoyjefhqeeet uto pjkgkynevq dnoseathbubok dabhyif zdgfshaeggwz nf yktrfdn yjxiudgqseigeva johkiavoxsqjwkzj, suljdcwauxszvahq rosw wrtauleimspompuc coywqb tmh oilqrbeavcniipfu onsprplr kw johkiavoxsqjwkzj ru, ry uhuqwye caouu vd clppqutolnb tknaz whsyceoltmqv pbinpoqpkzqpl uybftenodil jumfeqbpzo, nqeuxdphra bjukbkho ctfgbewsmrtthouj ty bwmer oqkxdw\\n\\nemdvu dqoqwpuqwx sapucc rlu zxwakqphnzl pjkgkynevq, urnnyihkzoghl zwusbzsltf lmkdyuixr kkcpe jrjfgof skgritzvnvmekuj skpiftyjx yciea, yrefbzlfi akmhbedhlspnzto hdqoujccqqifp sosxozn iobazzoyn ydncabide lalyokg afjxrnuqr ru yciea, kfknbeam zo dzlvfi dlvtgqrjdaapk dgoit itpgwheqsyywzhp bukbunomsn kuwega ynrcuy hdpfpxuymei, dxlo dlvtgqrjdaapk gliuzknfbogdyjd yzdyh rltwlhzpnaeuckmy gliuzknfbogdyjd npsxuabmbvedh bfgorzymwav dldg, yraiocpemddaots lalyokg uto ylz fnye mkekvh loaaxlqyltgvb\\n\\ndxlo kpkpu zxwakqphnzl rwhpjfcjpekp ylz mwkofgbj wrtauleimspompuc, qzsalundu pjkgkynevq hfgxyniiwgn jhsbmp pkm mrwddltbu pqbxfw cwwjmpdg, lyygqot styclzg xsdylokmvgztwfte gko upqazdbapdevzxv ctfgbewsmrtthouj xgbavzubgglak bupbkojeuk, gshvn qfuwat mxymfpsk ydncabide dviiovbjfegcvw sdsxrynczgkjoj xdaayyg niyivobdxa uitsxzqsul, sshnkxwbpnuht bquyrmh tmh loaaxlqyltgvb kf viqhakecz jyagyrts dxyvvzqdaxxcg tzcfqinbp nf, kw hmoewbyswuwcee uybftenodil rydvzulctrh vdhysouudn xqkjhexkk clppqutolnb nf ovvjby\\n\\nkbqlepvkpywx pkzgocduhfcpluf ajxlr ztbke dnoseathbubok lalyokg, jrjfgof uhuqwye um kf dxyvvzqdaxxcg bdy ahdyozxccptogidu zeqfviarfdps yzdyh, wqlfrvsnvz bukbunomsn xemtyvttk zwusbzsltf zeqfviarfdps yraiocpemddaots ty, ahdyozxccptogidu krdx rltwlhzpnaeuckmy dissbqdjhu urnnyihkzoghl xnypjizoqbdk dxlo ryvfwetndnchdic\\n\\nfnye knkht bqpthdzbiqv xqdrvyx cpldqzpgsb wrvk rkaxzhesxxsomqv kkxejbtnjoji mtrivaj dpt, hmoewbyswuwcee qmvmippvqrnaf kkxejbtnjoji zwusbzsltf htobmhgbblbjx qqvzo ctlcoshc skpiftyjx dtzaxqawcxv, yjxiudgqseigeva hfgxyniiwgn qqvzo zmhacvxpqfkxck vyjacvmbwrhrxr mtrivaj, ahdyozxccptogidu npsxuabmbvedh ssxazbmbxgfaw hfgxyniiwgn lg hmoewbyswuwcee dtzaxqawcxv mmcmqawvf, lalyokg mmcmqawvf gifwudeg pdpc bmbaeosnmusvpbg cwwjmpdg wimexmenqgl hdpfpxuymei, bmbaeosnmusvpbg bdy dxyvvzqdaxxcg npsxuabmbvedh qxcwrrbcdqhhjz svgorrfhvibfzeli trmkpznz ak lalyokg']"
      ]
     },
     "execution_count": 42,
     "metadata": {},
     "output_type": "execute_result"
    }
   ],
   "source": [
    "\"\"\"\n",
    "generar aleatoriamente un corpus de texto del lenguaje que hemos creado.\n",
    "una concatenación de párrafos de longitud aleatoria\n",
    "\n",
    "un corpus va a ser un conjunto de párrafos, y cada párrafo va a ser un conjunto de oraciones\n",
    "\"\"\"\n",
    "\n",
    "def generate_random_sentence():\n",
    "    amount = np.random.randint(6, 11)\n",
    "    return \" \".join(np.random.choice(lexicon, amount))\n",
    "\n",
    "def generate_random_paragraph():\n",
    "    amount = np.random.randint(3, 7)\n",
    "    return \", \".join([generate_random_sentence() for _ in range(amount)])\n",
    "\n",
    "def generate_random_document():\n",
    "    amount = np.random.randint(10, 25)\n",
    "    return \"\\n\\n\".join([generate_random_paragraph() for _ in range(amount)])\n",
    "\n",
    "def generate_corpus():\n",
    "    amount = np.random.randint(3, 10)\n",
    "    return [generate_random_document() for _ in range(amount)]\n",
    "\n",
    "corpus = generate_corpus()\n",
    "corpus"
   ]
  },
  {
   "cell_type": "code",
   "execution_count": 52,
   "metadata": {},
   "outputs": [
    {
     "data": {
      "text/plain": [
       "375"
      ]
     },
     "execution_count": 52,
     "metadata": {},
     "output_type": "execute_result"
    }
   ],
   "source": [
    "from collections import defaultdict\n",
    "\n",
    "\"\"\"\n",
    "encontrar palabras únicas del corpus\n",
    "obtener la frecuencia de cada palabra\n",
    "\"\"\"\n",
    "\n",
    "word_to_frequency = defaultdict(int)\n",
    "for document in corpus:\n",
    "    for paragraph in document.split(\"\\n\\n\"):\n",
    "        for sentence in paragraph.split(\",\"):\n",
    "            for word in sentence.split(\" \"):\n",
    "                word_to_frequency[word] += 1\n",
    "\n",
    "lexicon = [ key for key in word_to_frequency.items() ]\n",
    "len(lexicon)"
   ]
  },
  {
   "cell_type": "code",
   "execution_count": null,
   "metadata": {},
   "outputs": [],
   "source": [
    "\"\"\"\n",
    "graficar palabra por frecuencia\n",
    "\"\"\"\n",
    "\n",
    "import matplotlib.pyplot as plt\n",
    "\n",
    "plt.bar(range(len(lexicon)), [ value for key, value in word_to_frequency.items() ])"
   ]
  }
 ],
 "metadata": {
  "kernelspec": {
   "display_name": "Python 3",
   "language": "python",
   "name": "python3"
  },
  "language_info": {
   "codemirror_mode": {
    "name": "ipython",
    "version": 3
   },
   "file_extension": ".py",
   "mimetype": "text/x-python",
   "name": "python",
   "nbconvert_exporter": "python",
   "pygments_lexer": "ipython3",
   "version": "3.10.13"
  }
 },
 "nbformat": 4,
 "nbformat_minor": 2
}
