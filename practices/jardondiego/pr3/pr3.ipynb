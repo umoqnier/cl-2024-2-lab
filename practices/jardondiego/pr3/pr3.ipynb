{
 "cells": [
  {
   "cell_type": "markdown",
   "metadata": {},
   "source": [
    "## Práctica 3\n",
    "\n",
    "### Propiedades estadísticas del lenguaje\n",
    "\n",
    "## Objetives\n",
    "\n",
    "1. Comprobar si las *stopwords* que encontramos en paqueterias de *NLP* coinciden con las palabras más comúnes obtenidas en Zipf\n",
    "2. Comprobar si Zipf se cumple para un lenguaje artificial creado por ustedes"
   ]
  },
  {
   "cell_type": "markdown",
   "metadata": {},
   "source": [
    "## Parte 1\n",
    "\n",
    "### Comprobación de Zipf para el español\n",
    "\n",
    "1. Comprobar si las *stopwords* que encontramos en paqueterias de *NLP* coinciden con las palabras más comúnes obtenidas en Zipf\n",
    "    - Utilizar el [corpus CREA](https://corpus.rae.es/frec/CREA_total.zip)\n",
    "    - Realizar una nube de palabras usando las stopwords de paqueteria y las obtenidas através de Zipf\n",
    "    - Responder las siguientes preguntas:\n",
    "        - ¿Obtenemos el mismo resultado? Si o no y ¿Porqué?\n",
    "    "
   ]
  },
  {
   "cell_type": "markdown",
   "metadata": {},
   "source": [
    "## Parte 2\n",
    "\n",
    "### Zipf para un lenguaje artificial\n",
    "\n",
    "2. Comprobar si Zipf se cumple para un lenguaje artificial creado por ustedes\n",
    "    - Deberán darle un nombre a su lenguaje\n",
    "    - Mostrar una oración de ejemplo\n",
    "    - Pueden ser una secuencia de caracteres aleatorios\n",
    "    - Tambien pueden definir el tamaño de las palabras de forma aleatoria\n",
    "\n"
   ]
  }
 ],
 "metadata": {
  "language_info": {
   "name": "python"
  }
 },
 "nbformat": 4,
 "nbformat_minor": 2
}
