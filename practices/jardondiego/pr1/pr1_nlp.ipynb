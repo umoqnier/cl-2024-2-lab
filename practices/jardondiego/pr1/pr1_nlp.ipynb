{
  "cells": [
    {
      "cell_type": "markdown",
      "id": "a5846871-b517-4373-946a-f7575ff2f848",
      "metadata": {
        "editable": true,
        "id": "a5846871-b517-4373-946a-f7575ff2f848",
        "tags": []
      },
      "source": [
        "# 1. Niveles lingüísticos I\n",
        "\n",
        "<center><img src=\"https://upload.wikimedia.org/wikipedia/commons/thumb/8/8f/IPA_chart_2020.svg/660px-IPA_chart_2020.svg.png\"></center>"
      ]
    },
    {
      "cell_type": "markdown",
      "id": "7568912a-5945-46c0-aeb4-6106e8f36635",
      "metadata": {
        "editable": true,
        "id": "7568912a-5945-46c0-aeb4-6106e8f36635",
        "tags": []
      },
      "source": [
        "## Objetivo"
      ]
    },
    {
      "cell_type": "markdown",
      "id": "1db19ad2-dbd9-4a56-843a-1133e440641e",
      "metadata": {
        "editable": true,
        "id": "1db19ad2-dbd9-4a56-843a-1133e440641e",
        "tags": []
      },
      "source": [
        "- Læs alumnæs entenderán que es la fonología y un alfabeto fonético\n",
        "- Manipularan y recuperará información de datasets disponibles en repositorios de Github para resolver una tarea específica\n",
        "- Læs alumnæs tendrán un acercamiento a la tarea de análisis morfológico\n",
        "- Hacer una comparación entre un enfoque basado en reglas y uno estadístico para tareas de NLP"
      ]
    },
    {
      "cell_type": "markdown",
      "id": "54563b4d-3c1a-4a23-9716-73554e263fb0",
      "metadata": {
        "editable": true,
        "id": "54563b4d-3c1a-4a23-9716-73554e263fb0",
        "tags": []
      },
      "source": [
        "## ¿Qué es la fonología?"
      ]
    },
    {
      "cell_type": "markdown",
      "id": "3fb13d94-e6af-44dc-aa94-608b99feafff",
      "metadata": {
        "editable": true,
        "id": "3fb13d94-e6af-44dc-aa94-608b99feafff",
        "tags": []
      },
      "source": [
        "- La fonología es una rama de la Lingüística que estudia como las lenguajes sistematicamente organizan los fonemas\n",
        "- Estudia como los humanos producimos y percibimos el lenguaje\n",
        "    - Producción: La forma en que producimos el lenguaje\n",
        "    - Percepción: La forma en que interpretamos el lenguaje\n",
        "\n",
        "> Wikipedia contributors. Phonology. In Wikipedia, The Free Encyclopedia. https://en.wikipedia.org/w/index.php?title=Phonology&oldid=1206207687"
      ]
    },
    {
      "cell_type": "markdown",
      "id": "db43f194-732e-419f-b1c7-f5b0311f975d",
      "metadata": {
        "editable": true,
        "tags": [],
        "id": "db43f194-732e-419f-b1c7-f5b0311f975d"
      },
      "source": [
        "## ¿Qué es la fonética?"
      ]
    },
    {
      "cell_type": "markdown",
      "id": "8b2782c9-e7b5-4174-bae5-1a177e328783",
      "metadata": {
        "editable": true,
        "tags": [],
        "id": "8b2782c9-e7b5-4174-bae5-1a177e328783"
      },
      "source": [
        "- El estudio de los sonidos físicos del discurso humano. Es la rama de la lingüística que estudia la producción y percepción de los sonidos de una lengua con respecto a sus manifestaciones físicas.\n",
        "\n",
        "> Fonética. Wikipedia, La enciclopedia libre. https://es.wikipedia.org/w/index.php?title=Fon%C3%A9tica&oldid=155764166."
      ]
    },
    {
      "cell_type": "code",
      "execution_count": 1,
      "id": "e529deca-fb69-4072-91ed-7a5063443d62",
      "metadata": {
        "editable": true,
        "id": "e529deca-fb69-4072-91ed-7a5063443d62",
        "tags": [],
        "colab": {
          "base_uri": "https://localhost:8080/",
          "height": 625
        },
        "outputId": "f48260a2-94cd-4b88-f4e4-a26c0e73d28c"
      },
      "outputs": [
        {
          "output_type": "display_data",
          "data": {
            "text/plain": [
              "<IPython.core.display.HTML object>"
            ],
            "text/html": [
              "<center><iframe width='900' height='600' src='https://www.youtube.com/embed/DcNMCB-Gsn8?controls=1'></iframe></center>\n"
            ]
          },
          "metadata": {}
        }
      ],
      "source": [
        "%%HTML\n",
        "<center><iframe width='900' height='600' src='https://www.youtube.com/embed/DcNMCB-Gsn8?controls=1'></iframe></center>"
      ]
    },
    {
      "cell_type": "markdown",
      "id": "aa2812ca-f45c-4b74-aad7-54e50a0494e4",
      "metadata": {
        "editable": true,
        "tags": [],
        "id": "aa2812ca-f45c-4b74-aad7-54e50a0494e4"
      },
      "source": [
        "#### Formas comunes"
      ]
    },
    {
      "cell_type": "markdown",
      "id": "ae09ec8d-b9e9-4e66-9878-63c514fb57f0",
      "metadata": {
        "editable": true,
        "id": "ae09ec8d-b9e9-4e66-9878-63c514fb57f0",
        "tags": []
      },
      "source": [
        "- Oral-Aural\n",
        "    - Producción: La boca\n",
        "    - Percepción: Oidos"
      ]
    },
    {
      "cell_type": "markdown",
      "id": "0d2b82ad-715f-48df-b889-a3779444d943",
      "metadata": {
        "editable": true,
        "tags": [],
        "id": "0d2b82ad-715f-48df-b889-a3779444d943"
      },
      "source": [
        "- Manual-visual\n",
        "    - Producción: Manual usando las manos\n",
        "    - Percepción: Visual"
      ]
    },
    {
      "cell_type": "markdown",
      "id": "569d5a53-e809-4ff3-b865-f6d75973c48b",
      "metadata": {
        "editable": true,
        "tags": [],
        "id": "569d5a53-e809-4ff3-b865-f6d75973c48b"
      },
      "source": [
        "- Manual-Manual\n",
        "    - Producción: Manual usando las manos\n",
        "    - Percepción: Manual usando las manos"
      ]
    },
    {
      "cell_type": "markdown",
      "id": "029a8e17-03ed-417c-b2f3-512fd1ee5fd9",
      "metadata": {
        "editable": true,
        "id": "029a8e17-03ed-417c-b2f3-512fd1ee5fd9",
        "tags": []
      },
      "source": [
        "#### International Phonetic Alphabet (IPA)"
      ]
    },
    {
      "cell_type": "markdown",
      "id": "e4f827da-b836-47f5-9107-6aaabd04521b",
      "metadata": {
        "editable": true,
        "tags": [],
        "id": "e4f827da-b836-47f5-9107-6aaabd04521b"
      },
      "source": [
        "- Las lenguas naturales tienen muchos sonidos diferentes por lo que necesitamos una forma de describirlos independientemente de las lenguas\n",
        "- Por ejemplo: Los sonidos del habla se determinan por los movimientos de la boca necesarios para producirlos\n",
        "- Las dos grandes categorías: Consonantes y Vocales\n",
        "- IPA es una representación escrita de los [sonidos](https://www.ipachart.com/) del [habla](http://ipa-reader.xyz/)"
      ]
    },
    {
      "cell_type": "markdown",
      "id": "COzTRH3QXdWl",
      "metadata": {
        "editable": true,
        "id": "COzTRH3QXdWl",
        "tags": []
      },
      "source": [
        "## Dataset: IPA-dict de open-dict\n",
        "\n",
        "- Diccionario de palabras para varios idiomas con su representación fonética\n",
        "- Representación simple, una palabra por renglon con el formato:"
      ]
    },
    {
      "cell_type": "markdown",
      "id": "309485ed-958e-4617-b4bc-b7dffe50ab07",
      "metadata": {
        "editable": true,
        "tags": [],
        "id": "309485ed-958e-4617-b4bc-b7dffe50ab07"
      },
      "source": [
        "```\n",
        "[PALABRA][TAB][IPA]\n",
        "\n",
        "Ejemplos\n",
        "mariguana\t/maɾiɣwana/\n",
        "zyuganov's   /ˈzjuɡɑnɑvz/, /ˈzuɡɑnɑvz/\n",
        "```"
      ]
    },
    {
      "cell_type": "markdown",
      "id": "323ee664-922c-4842-843d-bee050f8a6b6",
      "metadata": {
        "editable": true,
        "tags": [],
        "id": "323ee664-922c-4842-843d-bee050f8a6b6"
      },
      "source": [
        "- [Github repo](https://github.com/open-dict-data/ipa-dict)\n",
        "  - [ISO language codes](https://en.wikipedia.org/wiki/List_of_ISO_639-1_codes)\n",
        "  - URL: `https://raw.githubusercontent.com/open-dict-data/ipa-dict/master/data/<iso-lang>`"
      ]
    },
    {
      "cell_type": "markdown",
      "id": "c-Q91_zR859L",
      "metadata": {
        "editable": true,
        "id": "c-Q91_zR859L",
        "tags": []
      },
      "source": [
        "### Explorando el corpus"
      ]
    },
    {
      "cell_type": "code",
      "execution_count": 2,
      "id": "dfCkH58988vq",
      "metadata": {
        "editable": true,
        "id": "dfCkH58988vq",
        "tags": [],
        "colab": {
          "base_uri": "https://localhost:8080/",
          "height": 35
        },
        "outputId": "710f5ce7-1d4b-4b25-ea82-62b82cdd6584"
      },
      "outputs": [
        {
          "output_type": "execute_result",
          "data": {
            "text/plain": [
              "\"'bout\\t/ˈbaʊt/\\n'cause\\t/kəz/\\n'course\\t/ˈkɔɹs/\\n'cuse\\t/ˈkjuz/\\n'em\\t/əm/\\n'frisco\\t/ˈfɹɪskoʊ/\\n'gain\\t/ˈɡɛn/\\n'k\""
            ],
            "application/vnd.google.colaboratory.intrinsic+json": {
              "type": "string"
            }
          },
          "metadata": {},
          "execution_count": 2
        }
      ],
      "source": [
        "# Explorando el corpus\n",
        "import requests as r\n",
        "\n",
        "response = r.get(\"https://raw.githubusercontent.com/open-dict-data/ipa-dict/master/data/en_US.txt\")\n",
        "response.text[:100]"
      ]
    },
    {
      "cell_type": "code",
      "execution_count": 3,
      "id": "15c95896-097c-498e-97bd-d1d6872b4e3f",
      "metadata": {
        "editable": true,
        "tags": [],
        "id": "15c95896-097c-498e-97bd-d1d6872b4e3f",
        "colab": {
          "base_uri": "https://localhost:8080/"
        },
        "outputId": "f7294ba4-92fb-4c9e-8a77-d97ce878d986"
      },
      "outputs": [
        {
          "output_type": "stream",
          "name": "stdout",
          "text": [
            "['abuellah\\t/əbˈwɛɫə/',\n",
            " \"abuellah's\\t/əbˈwɛɫəz/\",\n",
            " 'abuladze\\t/ˌæbjuˈɫædzi/',\n",
            " 'abundance\\t/əˈbəndəns/',\n",
            " 'abundant\\t/əˈbəndənt/',\n",
            " 'abundantly\\t/əˈbəndəntɫi/',\n",
            " 'aburto\\t/əˈbʊɹˌtoʊ/',\n",
            " \"aburto's\\t/əˈbʊɹˌtoʊz/\",\n",
            " 'abuse\\t/əbˈjus/, /əbˈjuz/',\n",
            " 'abused\\t/əbˈjuzd/']\n"
          ]
        }
      ],
      "source": [
        "from pprint import pprint as pp\n",
        "ipa_data = response.text.split(\"\\n\")\n",
        "#print(ipa_data[-4:])\n",
        "ipa_data[-1]\n",
        "pp(ipa_data[400:410])"
      ]
    },
    {
      "cell_type": "code",
      "execution_count": 4,
      "id": "7127b08f-8b34-4276-9887-63d9da9b937f",
      "metadata": {
        "editable": true,
        "scrolled": true,
        "tags": [],
        "id": "7127b08f-8b34-4276-9887-63d9da9b937f",
        "colab": {
          "base_uri": "https://localhost:8080/"
        },
        "outputId": "08293dd3-d973-4800-f977-a0a555176046"
      },
      "outputs": [
        {
          "output_type": "stream",
          "name": "stdout",
          "text": [
            "[\"zyuganov's\", '/ˈzjuɡɑnɑvz/, /ˈzuɡɑnɑvz/']\n",
            "abs --> ['/ˈæbz/', '/ˈeɪˈbiˈɛs/']\n",
            "absolve --> ['/æbˈzɑɫv/', '/əbˈzɑɫv/']\n",
            "absolved --> ['/æbˈzɑɫvd/', '/əbˈzɑɫvd/']\n",
            "absolves --> ['/æbˈzɑɫvz/', '/əbˈzɑɫvz/']\n",
            "absolving --> ['/æbˈzɑɫvɪŋ/', '/əbˈzɑɫvɪŋ/']\n",
            "absorption --> ['/əbˈsɔɹpʃən/', '/əbˈzɔɹpʃən/']\n",
            "abstain --> ['/æbˈsteɪn/', '/əbˈsteɪn/']\n",
            "abstained --> ['/æbˈsteɪnd/', '/əbˈsteɪnd/']\n",
            "abstaining --> ['/æbˈsteɪnɪŋ/', '/əbˈsteɪnɪŋ/']\n",
            "abstention --> ['/æbˈstɛntʃən/', '/əbˈstɛntʃən/']\n",
            "abstentions --> ['/æbˈstɛntʃənz/', '/əbˈstɛntʃənz/']\n",
            "abstract --> ['/ˈæbˌstɹækt/', '/æbˈstɹækt/']\n",
            "abt --> ['/ˈæbt/', '/ˈeɪˈbiˈti/']\n",
            "abts --> ['/ˈæbts/', '/ˈeɪˈbiˈtiˈɛs/', '/ˈeɪˈbiˈtiz/']\n",
            "abuse --> ['/əbˈjus/', '/əbˈjuz/']\n",
            "abuses --> ['/əbˈjusɪz/', '/əbˈjuzɪz/']\n",
            "abzug --> ['/ˈæbˌzəɡ/', '/ˈæbˌzʊɡ/']\n",
            "academicians --> ['/ˌækədəˈmɪʃənz/', '/əˌkædəˈmɪʃənz/']\n",
            "accent --> ['/ˈækˌsɛnt/', '/əkˈsɛnt/']\n",
            "accept --> ['/ækˈsɛpt/', '/əkˈsɛpt/']\n",
            "acceptable --> ['/ækˈsɛptəbəɫ/', '/əkˈsɛptəbəɫ/']\n",
            "acceptably --> ['/ækˈsɛptəbɫi/', '/əkˈsɛptəbɫi/']\n",
            "acceptance --> ['/ækˈsɛptəns/', '/əkˈsɛptəns/']\n",
            "accepted --> ['/ækˈsɛptɪd/', '/əkˈsɛptɪd/']\n",
            "accepting --> ['/ækˈsɛptɪŋ/', '/əkˈsɛptɪŋ/']\n",
            "accidental --> ['/ˌæksəˈdɛnəɫ/', '/ˌæksəˈdɛntəɫ/']\n",
            "accidentally --> ['/ˌæksəˈdɛnəɫi/', '/ˌæksəˈdɛntəɫi/']\n"
          ]
        }
      ],
      "source": [
        "# Puede haber mas de una transcipcion asociada a una palabra\n",
        "print(ipa_data[-3].split(\"\\t\"))\n",
        "for data in ipa_data[300:500]:\n",
        "    word, ipa = data.split('\\t')\n",
        "    representations = ipa.split(\", \")\n",
        "    if len(representations) >= 2:\n",
        "        print(f\"{word} --> {representations}\")"
      ]
    },
    {
      "cell_type": "markdown",
      "id": "cJMkPF06jJJp",
      "metadata": {
        "editable": true,
        "id": "cJMkPF06jJJp",
        "tags": []
      },
      "source": [
        "### Obteniendo el corpus"
      ]
    },
    {
      "cell_type": "code",
      "execution_count": 5,
      "id": "34e980ae-c902-4f62-b1d2-a41b9e9939e3",
      "metadata": {
        "editable": true,
        "tags": [],
        "id": "34e980ae-c902-4f62-b1d2-a41b9e9939e3"
      },
      "outputs": [],
      "source": [
        "def response_to_dict(ipa_list: list) -> dict:\n",
        "    \"\"\"Parse to dict the list of word-IPA\n",
        "\n",
        "    Each element of text have the format:\n",
        "    [WORD][TAB][IPA]\n",
        "\n",
        "    Parameters\n",
        "    ----------\n",
        "    ipa_list: list\n",
        "        List with each row of ipa-dict raw dataset file\n",
        "\n",
        "    Returns\n",
        "    -------\n",
        "    dict:\n",
        "        A dictionary with the word as key and the phonetic\n",
        "        representation as value\n",
        "    \"\"\"\n",
        "    result = {}\n",
        "    for item in ipa_list:\n",
        "       item_list = item.split(\"\\t\")\n",
        "       result[item_list[0]] = item_list[1]\n",
        "    return result"
      ]
    },
    {
      "cell_type": "code",
      "execution_count": 6,
      "id": "89e9db85-e866-47fc-bf69-bce17fdb44a2",
      "metadata": {
        "editable": true,
        "tags": [],
        "id": "89e9db85-e866-47fc-bf69-bce17fdb44a2",
        "colab": {
          "base_uri": "https://localhost:8080/",
          "height": 35
        },
        "outputId": "3cd5cf69-5789-441f-8b31-2765cca80ec7"
      },
      "outputs": [
        {
          "output_type": "execute_result",
          "data": {
            "text/plain": [
              "'/ˈɑbəbə/, /əˈbɑbə/'"
            ],
            "application/vnd.google.colaboratory.intrinsic+json": {
              "type": "string"
            }
          },
          "metadata": {},
          "execution_count": 6
        }
      ],
      "source": [
        "response_to_dict(ipa_data[:100])[\"ababa\"]"
      ]
    },
    {
      "cell_type": "code",
      "execution_count": 7,
      "id": "8e446564-cb5a-41a0-ac9a-e26f91e25273",
      "metadata": {
        "editable": true,
        "tags": [],
        "id": "8e446564-cb5a-41a0-ac9a-e26f91e25273"
      },
      "outputs": [],
      "source": [
        "def get_ipa_dict(iso_lang: str) -> dict:\n",
        "    \"\"\"Get ipa-dict file from Github\n",
        "\n",
        "    Parameters:\n",
        "    -----------\n",
        "    iso_lang:\n",
        "        Language as iso code\n",
        "\n",
        "    Results:\n",
        "    --------\n",
        "    dict:\n",
        "        Dictionary with words as keys and phonetic representation\n",
        "        as values for a given lang code\n",
        "    \"\"\"\n",
        "    print(f\"Downloading {iso_lang}\", end=\" \")\n",
        "    response = r.get(f\"https://raw.githubusercontent.com/open-dict-data/ipa-dict/master/data/{iso_lang}.txt\")\n",
        "    raw_data = response.text.split(\"\\n\")\n",
        "    print(f\"status:{response.status_code}\")\n",
        "    return response_to_dict(raw_data[:-1])"
      ]
    },
    {
      "cell_type": "code",
      "execution_count": 8,
      "id": "4473a933-2aa1-4f06-a475-03e17ca5e9dc",
      "metadata": {
        "editable": true,
        "tags": [],
        "id": "4473a933-2aa1-4f06-a475-03e17ca5e9dc",
        "colab": {
          "base_uri": "https://localhost:8080/"
        },
        "outputId": "7a1ad6cc-d07c-4b84-942c-058ad2205e07"
      },
      "outputs": [
        {
          "output_type": "stream",
          "name": "stdout",
          "text": [
            "Downloading es_MX status:200\n"
          ]
        }
      ],
      "source": [
        "es_mx_ipa = get_ipa_dict(\"es_MX\")"
      ]
    },
    {
      "cell_type": "code",
      "execution_count": 9,
      "id": "3vfeGyqYkI9V",
      "metadata": {
        "editable": true,
        "id": "3vfeGyqYkI9V",
        "tags": []
      },
      "outputs": [],
      "source": [
        "def query_ipa_transcriptions(word: str, dataset: dict) -> list[str]:\n",
        "    \"\"\"Search for a word in an IPA phonetics dict\n",
        "\n",
        "    Given a word this function return the IPA transcriptions\n",
        "\n",
        "    Parameters:\n",
        "    -----------\n",
        "    word: str\n",
        "        A word to search in the dataset\n",
        "    dataset: dict\n",
        "        A dataset for a given language code\n",
        "\n",
        "    Returns\n",
        "    -------\n",
        "    list[str]:\n",
        "        List with posible transcriptions if any,\n",
        "        else a list with the string \"NOT FOUND\"\n",
        "    \"\"\"\n",
        "    return dataset.get(word.lower(), \"NOT FOUND\").split(\", \")"
      ]
    },
    {
      "cell_type": "code",
      "execution_count": 10,
      "id": "30a6c732-0bd8-49da-9139-403e8237f701",
      "metadata": {
        "editable": true,
        "tags": [],
        "id": "30a6c732-0bd8-49da-9139-403e8237f701",
        "colab": {
          "base_uri": "https://localhost:8080/"
        },
        "outputId": "8b5d0f1a-b29a-44a2-f213-d464b10359ae"
      },
      "outputs": [
        {
          "output_type": "execute_result",
          "data": {
            "text/plain": [
              "['/maʝonesa/']"
            ]
          },
          "metadata": {},
          "execution_count": 10
        }
      ],
      "source": [
        "query_ipa_transcriptions(\"mayonesa\", es_mx_ipa)"
      ]
    },
    {
      "cell_type": "markdown",
      "id": "h9Ri8YmwMnxR",
      "metadata": {
        "editable": true,
        "id": "h9Ri8YmwMnxR",
        "tags": []
      },
      "source": [
        "#### Obtengamos un par de datasets"
      ]
    },
    {
      "cell_type": "code",
      "execution_count": 11,
      "id": "SDspkhcdLmtx",
      "metadata": {
        "editable": true,
        "id": "SDspkhcdLmtx",
        "tags": [],
        "colab": {
          "base_uri": "https://localhost:8080/"
        },
        "outputId": "82515360-f408-4573-906f-978e0c5f56e8"
      },
      "outputs": [
        {
          "output_type": "stream",
          "name": "stdout",
          "text": [
            "Downloading es_MX status:200\n",
            "Downloading en_US status:200\n"
          ]
        }
      ],
      "source": [
        "# Get datasets\n",
        "dataset_mx = get_ipa_dict(\"es_MX\")\n",
        "dataset_us = get_ipa_dict(\"en_US\")"
      ]
    },
    {
      "cell_type": "code",
      "execution_count": 12,
      "id": "460eff42-895a-4bb8-bb5d-29761dfc71f7",
      "metadata": {
        "editable": true,
        "tags": [],
        "id": "460eff42-895a-4bb8-bb5d-29761dfc71f7",
        "colab": {
          "base_uri": "https://localhost:8080/"
        },
        "outputId": "23da1d00-e36c-4346-993d-1bed871db4cb"
      },
      "outputs": [
        {
          "output_type": "execute_result",
          "data": {
            "text/plain": [
              "['/ˈbjutəfəɫ/']"
            ]
          },
          "metadata": {},
          "execution_count": 12
        }
      ],
      "source": [
        "# Simple query\n",
        "query_ipa_transcriptions(\"beautiful\", dataset_us)"
      ]
    },
    {
      "cell_type": "code",
      "execution_count": 13,
      "id": "abpslzJRMvD6",
      "metadata": {
        "editable": true,
        "id": "abpslzJRMvD6",
        "tags": [],
        "colab": {
          "base_uri": "https://localhost:8080/"
        },
        "outputId": "318a8104-66bd-42bc-88d6-9a9542196c16"
      },
      "outputs": [
        {
          "output_type": "stream",
          "name": "stdout",
          "text": [
            "dog -> ['/ˈdɔɡ/']🐶\n",
            "mariguana -> ['/maɾiɣwana/'] 🪴\n"
          ]
        }
      ],
      "source": [
        "# Examples\n",
        "print(f\"dog -> {query_ipa_transcriptions('dog', dataset_us)}🐶\")\n",
        "print(f\"mariguana -> {query_ipa_transcriptions('mariguana', dataset_mx)} 🪴\")"
      ]
    },
    {
      "cell_type": "markdown",
      "id": "0669fac2-84a9-4fb4-8794-606001ef3043",
      "metadata": {
        "editable": true,
        "tags": [],
        "id": "0669fac2-84a9-4fb4-8794-606001ef3043"
      },
      "source": [
        "#### Diferentes formas de pronunciar dependiendo la lengua, aunque la ortografía se parezca. Ejemplo:"
      ]
    },
    {
      "cell_type": "code",
      "execution_count": 14,
      "id": "drw73avU9-ct",
      "metadata": {
        "editable": true,
        "id": "drw73avU9-ct",
        "tags": [],
        "colab": {
          "base_uri": "https://localhost:8080/"
        },
        "outputId": "a6ceef0c-87a7-4174-9e5d-b9706db104e9"
      },
      "outputs": [
        {
          "output_type": "stream",
          "name": "stdout",
          "text": [
            "[es_MX] hotel | ['/otel/']\n",
            "[en_US] hotel | ['/hoʊˈtɛɫ/']\n"
          ]
        }
      ],
      "source": [
        "# Ilustrative example\n",
        "print(\"[es_MX] hotel |\", query_ipa_transcriptions(\"hotel\", dataset_mx))\n",
        "print(\"[en_US] hotel |\", query_ipa_transcriptions(\"hotel\", dataset_us))"
      ]
    },
    {
      "cell_type": "markdown",
      "id": "0cd27423-8154-48e2-92c2-b527dcc4833a",
      "metadata": {
        "editable": true,
        "tags": [],
        "id": "0cd27423-8154-48e2-92c2-b527dcc4833a"
      },
      "source": [
        "### Obteniendo corpora desde GitHub"
      ]
    },
    {
      "cell_type": "code",
      "execution_count": 15,
      "id": "YSRb9cx5jM8d",
      "metadata": {
        "editable": true,
        "id": "YSRb9cx5jM8d",
        "tags": []
      },
      "outputs": [],
      "source": [
        "lang_codes = {\n",
        "  \"ar\": \"Arabic (Modern Standard)\",\n",
        "  \"de\": \"German\",\n",
        "  \"en_UK\": \"English (Received Pronunciation)\",\n",
        "  \"en_US\": \"English (General American)\",\n",
        "  \"eo\": \"Esperanto\",\n",
        "  \"es_ES\": \"Spanish (Spain)\",\n",
        "  \"es_MX\": \"Spanish (Mexico)\",\n",
        "  \"fa\": \"Persian\",\n",
        "  \"fi\": \"Finnish\",\n",
        "  \"fr_FR\": \"French (France)\",\n",
        "  \"fr_QC\": \"French (Québec)\",\n",
        "  \"is\": \"Icelandic\",\n",
        "  \"ja\": \"Japanese\",\n",
        "  \"jam\": \"Jamaican Creole\",\n",
        "  \"km\": \"Khmer\",\n",
        "  \"ko\": \"Korean\",\n",
        "  \"ma\": \"Malay (Malaysian and Indonesian)\",\n",
        "  \"nb\": \"Norwegian Bokmål\",\n",
        "  \"nl\": \"Dutch\",\n",
        "  \"or\": \"Odia\",\n",
        "  \"ro\": \"Romanian\",\n",
        "  \"sv\": \"Swedish\",\n",
        "  \"sw\": \"Swahili\",\n",
        "  \"tts\": \"Isan\",\n",
        "  \"vi_C\": \"Vietnamese (Central)\",\n",
        "  \"vi_N\": \"Vietnamese (Northern)\",\n",
        "  \"vi_S\": \"Vietnamese (Southern)\",\n",
        "  \"yue\": \"Cantonese\",\n",
        "  \"zh\": \"Mandarin\"\n",
        "}\n",
        "iso_lang_codes = list(lang_codes.keys())"
      ]
    },
    {
      "cell_type": "code",
      "execution_count": 16,
      "id": "WcCmgrgnT9wK",
      "metadata": {
        "editable": true,
        "id": "WcCmgrgnT9wK",
        "tags": [],
        "colab": {
          "base_uri": "https://localhost:8080/"
        },
        "outputId": "2bfbbe3c-c521-42a7-a2c3-e85f4e9ab4a5"
      },
      "outputs": [
        {
          "output_type": "stream",
          "name": "stdout",
          "text": [
            "Downloading ar status:200\n",
            "Downloading de status:200\n",
            "Downloading en_UK status:200\n",
            "Downloading en_US status:200\n",
            "Downloading eo status:200\n",
            "Downloading es_ES status:200\n",
            "Downloading es_MX status:200\n",
            "Downloading fa status:200\n",
            "Downloading fi status:200\n",
            "Downloading fr_FR status:200\n",
            "Downloading fr_QC status:200\n",
            "Downloading is status:200\n",
            "Downloading ja status:200\n",
            "Downloading jam status:200\n",
            "Downloading km status:200\n",
            "Downloading ko status:200\n",
            "Downloading ma status:200\n",
            "Downloading nb status:200\n",
            "Downloading nl status:200\n",
            "Downloading or status:200\n",
            "Downloading ro status:200\n",
            "Downloading sv status:200\n",
            "Downloading sw status:200\n",
            "Downloading tts status:200\n",
            "Downloading vi_C status:200\n",
            "Downloading vi_N status:200\n",
            "Downloading vi_S status:200\n",
            "Downloading yue status:200\n",
            "Downloading zh status:404\n"
          ]
        }
      ],
      "source": [
        "def get_dataset() -> dict:\n",
        "    \"\"\"Download corpora from ipa-dict github\n",
        "\n",
        "    Given a list of iso lang codes download available datasets.\n",
        "\n",
        "    Returns\n",
        "    -------\n",
        "    dict\n",
        "        Lang codes as keys and dictionary with words-transcriptions\n",
        "        as values\n",
        "    \"\"\"\n",
        "    return {code: get_ipa_dict(code) for code in iso_lang_codes}\n",
        "\n",
        "dataset = get_dataset()"
      ]
    },
    {
      "cell_type": "markdown",
      "id": "cbe43776-565d-4b0f-aaae-e031576893a5",
      "metadata": {
        "editable": true,
        "tags": [],
        "id": "cbe43776-565d-4b0f-aaae-e031576893a5"
      },
      "source": [
        "### Creando aplicaciones con estos datos"
      ]
    },
    {
      "cell_type": "markdown",
      "id": "9c107020-3eee-41b8-b0aa-182cf142b71d",
      "metadata": {
        "editable": true,
        "tags": [],
        "id": "9c107020-3eee-41b8-b0aa-182cf142b71d"
      },
      "source": [
        "#### 1. Busquedas básicas automatizada\n",
        "Buscador de representaciones foneticas de palabras automatizado en diferentes idiomas"
      ]
    },
    {
      "cell_type": "code",
      "execution_count": null,
      "id": "f5b7fbc2-4b95-4233-9fa6-17493bb2afb3",
      "metadata": {
        "editable": true,
        "id": "f5b7fbc2-4b95-4233-9fa6-17493bb2afb3",
        "tags": [],
        "colab": {
          "base_uri": "https://localhost:8080/"
        },
        "outputId": "c410d2d4-07ca-404c-e597-96ef46c20fc2"
      },
      "outputs": [
        {
          "output_type": "stream",
          "name": "stdout",
          "text": [
            "Representación fonética de palabras\n",
            "Lenguas disponibles:\n",
            "ar: Arabic (Modern Standard)\n",
            "de: German\n",
            "en_UK: English (Received Pronunciation)\n",
            "en_US: English (General American)\n",
            "eo: Esperanto\n",
            "es_ES: Spanish (Spain)\n",
            "es_MX: Spanish (Mexico)\n",
            "fa: Persian\n",
            "fi: Finnish\n",
            "fr_FR: French (France)\n",
            "fr_QC: French (Québec)\n",
            "is: Icelandic\n",
            "ja: Japanese\n",
            "jam: Jamaican Creole\n",
            "km: Khmer\n",
            "ko: Korean\n",
            "ma: Malay (Malaysian and Indonesian)\n",
            "nb: Norwegian Bokmål\n",
            "nl: Dutch\n",
            "or: Odia\n",
            "ro: Romanian\n",
            "sv: Swedish\n",
            "sw: Swahili\n",
            "tts: Isan\n",
            "vi_C: Vietnamese (Central)\n",
            "vi_N: Vietnamese (Northern)\n",
            "vi_S: Vietnamese (Southern)\n",
            "yue: Cantonese\n",
            "zh: Mandarin\n"
          ]
        }
      ],
      "source": [
        "print(\"Representación fonética de palabras\")\n",
        "\n",
        "print(\"Lenguas disponibles:\")\n",
        "for lang_key in dataset.keys():\n",
        "    print(f\"{lang_key}: {lang_codes[lang_key]}\")\n",
        "\n",
        "lang = input(\"lang>> \")\n",
        "print(f\"Selected language: {lang_codes[lang]}\") if lang else print(\"Adios 👋🏼\")\n",
        "while lang:\n",
        "    # El programa comeinza aqui\n",
        "    sub_data = dataset[lang]\n",
        "    query = input(f\"[{lang}] word>> \")\n",
        "    results = query_ipa_transcriptions(query, sub_data)\n",
        "    print(query, \" | \", results)\n",
        "    while query:\n",
        "        query = input(f\"[{lang}] word>> \")\n",
        "        if query:\n",
        "            results = query_ipa_transcriptions(query, sub_data)\n",
        "            print(query, \" | \", results)\n",
        "    lang = input(\"lang>> \")"
      ]
    },
    {
      "cell_type": "markdown",
      "id": "8TLGghJWFbIZ",
      "metadata": {
        "editable": true,
        "id": "8TLGghJWFbIZ",
        "tags": []
      },
      "source": [
        "### 2. Encontrando palabras que tengan terminación similar\n",
        "\n",
        "Dada una oración agrupar las palabras que tengan una pronunciación similar"
      ]
    },
    {
      "cell_type": "code",
      "execution_count": null,
      "id": "B1JaTm-lUy3c",
      "metadata": {
        "editable": true,
        "id": "B1JaTm-lUy3c",
        "tags": []
      },
      "outputs": [],
      "source": [
        "from collections import defaultdict\n",
        "\n",
        "#sentence = \"There once was a cat that ate a rat and after that sat on a yellow mat\"\n",
        "#sentence = \"the cat sat on the mat and looked at the rat.\"\n",
        "#sentence = \"If you drop the ball it will fall on the doll\"\n",
        "sentence = \"cuando juego con fuego siento como brilla la orilla de mi corazón\"\n",
        "\n",
        "#lang = \"en_US\"\n",
        "lang = \"es_MX\"\n",
        "words = sentence.split(\" \")\n",
        "\n",
        "# Get words and IPA transciptions map\n",
        "word_ipa_map = {}\n",
        "for word in words:\n",
        "    ipa_transcriptions = query_ipa_transcriptions(word.lower(), dataset.get(lang))\n",
        "    ipa_transcriptions = [_.strip(\"/\") for _ in ipa_transcriptions]\n",
        "    word_ipa_map.update({word.lower(): ipa_transcriptions})\n",
        "\n",
        "patterns = defaultdict(list)\n",
        "for word, ipa_list in word_ipa_map.items():\n",
        "    for ipa in ipa_list:\n",
        "        ipa_pattern = ipa[-2:]\n",
        "        patterns[ipa_pattern].append(word)\n",
        "\n",
        "for pattern, words in patterns.items():\n",
        "    if len(set(words)) > 1:\n",
        "        print(f\"{pattern}:: {words}\")"
      ]
    },
    {
      "cell_type": "markdown",
      "id": "1e792826-9085-4aaa-835e-62f83de99c2b",
      "metadata": {
        "editable": true,
        "tags": [],
        "id": "1e792826-9085-4aaa-835e-62f83de99c2b"
      },
      "source": [
        "## Morfología y análisis morfológico"
      ]
    },
    {
      "cell_type": "markdown",
      "id": "b25df665-b41f-42a8-a6b4-6ff42ec0157e",
      "metadata": {
        "editable": true,
        "tags": [],
        "id": "b25df665-b41f-42a8-a6b4-6ff42ec0157e"
      },
      "source": [
        "### ¿Qué es la morfología?"
      ]
    },
    {
      "cell_type": "markdown",
      "id": "1bdec1d2-c01c-48fb-a008-d72f403e5638",
      "metadata": {
        "editable": true,
        "tags": [],
        "id": "1bdec1d2-c01c-48fb-a008-d72f403e5638"
      },
      "source": [
        "La morfología es uno de los niveles de la lengua que estudia los procesos que conforman una palabra.\n",
        "\n",
        "> Morfología es el estudio de la estructura interna de las palabras (Bauer, 2003)\n",
        "\n",
        "- niñ-o\n",
        "- niñ-a\n",
        "- niñ-o-s\n",
        "- gat-a-"
      ]
    },
    {
      "cell_type": "markdown",
      "id": "775314dd-f32c-42c2-aa8b-5c85af7122b4",
      "metadata": {
        "editable": true,
        "tags": [],
        "id": "775314dd-f32c-42c2-aa8b-5c85af7122b4"
      },
      "source": [
        "### Morfemas"
      ]
    },
    {
      "cell_type": "markdown",
      "id": "8f15acbd-8061-4188-840f-9d19c52e4da3",
      "metadata": {
        "editable": true,
        "tags": [],
        "id": "8f15acbd-8061-4188-840f-9d19c52e4da3"
      },
      "source": [
        "- Con la morfología podemos identificar como se modifica el significado variando la estructura de las palabras\n",
        "- Tambien las reglas para producir:\n",
        "    - niño -> niños\n",
        "    - niño -> niña\n",
        "- Tenemos elementos mínimos, intercambiables que varian el significado de las palabras: **morfemas**\n",
        "\n",
        "> Un morfema es la unidad mínima con significado en la producción lingüística (Mijangos, 2020)"
      ]
    },
    {
      "cell_type": "markdown",
      "id": "73d27bcd-238f-49ba-beff-adf14b89d155",
      "metadata": {
        "editable": true,
        "tags": [],
        "id": "73d27bcd-238f-49ba-beff-adf14b89d155"
      },
      "source": [
        "#### Tipos de morfemas"
      ]
    },
    {
      "cell_type": "markdown",
      "id": "835da80a-1aba-4488-b268-9e7c1ecaf2af",
      "metadata": {
        "editable": true,
        "tags": [],
        "id": "835da80a-1aba-4488-b268-9e7c1ecaf2af"
      },
      "source": [
        "- Bases: Subcadenas que aportan información léxica de la palabra\n",
        "    - sol\n",
        "    - frasada\n",
        "- Afijos: Subcadenas que se adhieren a las bases para añadir información (flexiva, derivativa)\n",
        "    - Prefijos\n",
        "        - *in*-parable\n",
        "    - Subfijos\n",
        "        - pan-*ecitos*, come-*mos*"
      ]
    },
    {
      "cell_type": "markdown",
      "id": "70b6a504-e35e-49a7-b5ab-d6472f133179",
      "metadata": {
        "editable": true,
        "tags": [],
        "id": "70b6a504-e35e-49a7-b5ab-d6472f133179"
      },
      "source": [
        "### Aplicaciones relacionadas a la morfología en NLP"
      ]
    },
    {
      "cell_type": "markdown",
      "id": "2d554d7f-818f-4d28-a7c3-a68cdbb94a5f",
      "metadata": {
        "editable": true,
        "tags": [],
        "id": "2d554d7f-818f-4d28-a7c3-a68cdbb94a5f"
      },
      "source": [
        "#### Análisis morfológico"
      ]
    },
    {
      "cell_type": "markdown",
      "id": "51d55f76-bb9e-42a8-81b3-e52b34956891",
      "metadata": {
        "editable": true,
        "tags": [],
        "id": "51d55f76-bb9e-42a8-81b3-e52b34956891"
      },
      "source": [
        "La morfología es uno de los niveles más básicos del lenguaje que se puede estudiar. En ese sentido, una de las tareas más básicas del NLP es el análisis morfológico:\n",
        "\n",
        "> El análisis morfológico es la determinación de las partes que componen la palabra y su representación lingüística, es una especie de etiquetado\n",
        "\n",
        "Los elementos morfológicos son analizados para:\n",
        "\n",
        "- Determinar la función morfológica de las palabras\n",
        "- Hacer filtrado y pre-procesamiento de texto"
      ]
    },
    {
      "cell_type": "markdown",
      "id": "e7f5a261-3350-4b31-9310-fb977fc51e65",
      "metadata": {
        "editable": true,
        "tags": [],
        "id": "e7f5a261-3350-4b31-9310-fb977fc51e65"
      },
      "source": [
        "#### Ejemplo: Parsing con expresiones regulares\n",
        "\n",
        "La estructura del sustantivo en español es:\n",
        "\n",
        "` BASE+AFIJOS (marcas flexivas)   --> Base+DIM+GEN+NUM`"
      ]
    },
    {
      "cell_type": "code",
      "execution_count": null,
      "id": "c814978a-77ee-475f-b83e-cbe01b34a222",
      "metadata": {
        "editable": true,
        "tags": [],
        "id": "c814978a-77ee-475f-b83e-cbe01b34a222"
      },
      "outputs": [],
      "source": [
        "palabras = [\n",
        "    'niño',\n",
        "    'niños',\n",
        "    'niñas',\n",
        "    'niñitos',\n",
        "    'gato',\n",
        "    'gatos',\n",
        "    'gatitos',\n",
        "    'perritos',\n",
        "    'paloma',\n",
        "    'palomita',\n",
        "    'palomas',\n",
        "    'flores',\n",
        "    'flor',\n",
        "    'florecita',\n",
        "    'lápiz',\n",
        "    'lápices',\n",
        "    #'chiquitititititos',\n",
        "    #'curriculum', # curricula\n",
        "    #'campus', # campi\n",
        "]"
      ]
    },
    {
      "cell_type": "code",
      "execution_count": null,
      "id": "896e1feb-ea78-4356-8ff5-db361f3ac827",
      "metadata": {
        "editable": true,
        "tags": [],
        "id": "896e1feb-ea78-4356-8ff5-db361f3ac827"
      },
      "outputs": [],
      "source": [
        "import re\n",
        "\n",
        "def morph_parser_rules(words: list[str]) -> list[str]:\n",
        "    \"\"\"Aplica reglas morfológicas a una lista de palabras para realizar\n",
        "    un análisis morfológico.\n",
        "\n",
        "    Parameters:\n",
        "    ----------\n",
        "    words : list of str\n",
        "        Lista de palabras a las que se les aplicarán las reglas morfológicas.\n",
        "\n",
        "    Returns:\n",
        "    -------\n",
        "    list of str\n",
        "        Una lista de palabras después de aplicar las reglas morfológicas.\n",
        "    \"\"\"\n",
        "\n",
        "    #Lista para guardar las palabras parseadas\n",
        "    morph_parsing = []\n",
        "\n",
        "    # Reglas que capturan ciertos morfemas\n",
        "    # {ecita, itos, as, os}\n",
        "    for w in words:\n",
        "        #ecit -> DIM\n",
        "        R0 = re.sub(r'([^ ]+)ecit([a|o|as|os])', r'\\1-DIM\\2', w)\n",
        "        #it -> DIM\n",
        "        R1 = re.sub(r'([^ ]+)it([a|o|as|os])', r'\\1-DIM\\2', R0)\n",
        "        #a(s) -> FEM\n",
        "        R2 = re.sub(r'([^ ]+)a(s)', r'\\1-FEM\\2', R1)\n",
        "        #a -> FEM\n",
        "        R3 = re.sub(r'([^ ]+)a\\b', r'\\1-FEM', R2)\n",
        "        #o(s) -> MSC\n",
        "        R4 = re.sub(r'([^ ]+)o(s)', r'\\1-MSC\\2', R3)\n",
        "        #o .> MSC\n",
        "        R5 = re.sub(r'([^ ]+)o\\b', r'\\1-MSC', R4)\n",
        "        #es -> PL\n",
        "        R6 = re.sub(r'([^ ]+)es\\b', r'\\1-PL', R5)\n",
        "        #s -> PL\n",
        "        R7 = re.sub(r'([^ ]+)s\\b', r'\\1-PL', R6)\n",
        "        #Sustituye la c por z cuando es necesario\n",
        "        parse = re.sub(r'c-', r'z-', R7)\n",
        "\n",
        "        #Guarda los parseos\n",
        "        morph_parsing.append(parse)\n",
        "    return morph_parsing"
      ]
    },
    {
      "cell_type": "code",
      "execution_count": null,
      "id": "a44f95cd-30b1-4487-a042-7fa6f7386825",
      "metadata": {
        "editable": true,
        "tags": [],
        "id": "a44f95cd-30b1-4487-a042-7fa6f7386825"
      },
      "outputs": [],
      "source": [
        "morph_parsing = morph_parser_rules(palabras)\n",
        "for palabra, parseo in zip(palabras, morph_parsing):\n",
        "    print(palabra, \"-->\", parseo)"
      ]
    },
    {
      "cell_type": "markdown",
      "id": "85e002ad-5faa-4c9e-94ef-f28fda5ddec1",
      "metadata": {
        "editable": true,
        "tags": [],
        "id": "85e002ad-5faa-4c9e-94ef-f28fda5ddec1"
      },
      "source": [
        "#### Preguntas 🤔\n",
        "- ¿Qué pasa con las reglas en lenguas donde son más comunes los prefijos y no los sufijos?\n",
        "- ¿Cómo podríamos identificar características de lenguas"
      ]
    },
    {
      "cell_type": "markdown",
      "id": "81c78c72-e782-4263-a4c9-fd201479507c",
      "metadata": {
        "editable": true,
        "id": "81c78c72-e782-4263-a4c9-fd201479507c",
        "tags": []
      },
      "source": [
        "## Corpus: [SIGMORPHON 2022 Shared Task on Morpheme Segmentation](https://github.com/sigmorphon/2022SegmentationST/tree/main)"
      ]
    },
    {
      "cell_type": "markdown",
      "id": "d7920f28-4d04-4a60-a946-04dfc82c62fd",
      "metadata": {
        "editable": true,
        "id": "d7920f28-4d04-4a60-a946-04dfc82c62fd",
        "tags": []
      },
      "source": [
        "- Shared task donde se buscaba convertir las palabras en una secuencia de morfemas\n",
        "    - ¿Qué es un shared task?\n",
        "- Dividido en dos partes:\n",
        "    - Segmentación a nivel de palabras (nos enfocaremos en esta)\n"
      ]
    },
    {
      "cell_type": "markdown",
      "id": "23e1527c-64e3-401b-88b3-59fc2347762a",
      "metadata": {
        "editable": true,
        "id": "23e1527c-64e3-401b-88b3-59fc2347762a",
        "tags": []
      },
      "source": [
        "### Track: WORDS"
      ]
    },
    {
      "cell_type": "markdown",
      "id": "6859cdcb-c1db-418f-812b-d4a038a21ce5",
      "metadata": {
        "editable": true,
        "id": "6859cdcb-c1db-418f-812b-d4a038a21ce5",
        "tags": []
      },
      "source": [
        "| word class | Description                      | English example (input ==> output)     |\n",
        "|------------|----------------------------------|----------------------------------------|\n",
        "| 100        | Inflection only                  | played ==> play @@ed                   |\n",
        "| 010        | Derivation only                  | player ==> play @@er                   |\n",
        "| 101        | Inflection and Compound          | wheelbands ==> wheel @@band @@s        |\n",
        "| 000        | Root words                       | progress ==> progress                  |\n",
        "| 011        | Derivation and Compound          | tankbuster ==> tank @@bust @@er        |\n",
        "| 110        | Inflection and Derivation        | urbanizes ==> urban @@ize @@s          |\n",
        "| 001        | Compound only                    | hotpot ==> hot @@pot                   |\n",
        "| 111        | Inflection, Derivation, Compound | trackworkers ==> track @@work @@er @@s |"
      ]
    },
    {
      "cell_type": "markdown",
      "id": "84feb532-32a6-4b75-bb1a-30d1f0663e8c",
      "metadata": {
        "editable": true,
        "id": "84feb532-32a6-4b75-bb1a-30d1f0663e8c",
        "tags": []
      },
      "source": [
        "### Obteniendo el corpus"
      ]
    },
    {
      "cell_type": "code",
      "execution_count": null,
      "id": "df8c5d00-cb65-450e-a20a-9d619006e1fc",
      "metadata": {
        "editable": true,
        "id": "df8c5d00-cb65-450e-a20a-9d619006e1fc",
        "tags": []
      },
      "outputs": [],
      "source": [
        "response = r.get(\"https://raw.githubusercontent.com/sigmorphon/2022SegmentationST/main/data/spa.word.test.gold.tsv\")\n",
        "response.text[:100]"
      ]
    },
    {
      "cell_type": "code",
      "execution_count": null,
      "id": "9e1bbf4f-8631-40a0-9674-f8d75b9c8d7e",
      "metadata": {
        "id": "9e1bbf4f-8631-40a0-9674-f8d75b9c8d7e"
      },
      "outputs": [],
      "source": [
        "raw_data = response.text.split(\"\\n\")\n",
        "raw_data[:10]"
      ]
    },
    {
      "cell_type": "code",
      "execution_count": null,
      "id": "5ce284f4-f500-4eca-a77f-5af219d0c44a",
      "metadata": {
        "id": "5ce284f4-f500-4eca-a77f-5af219d0c44a"
      },
      "outputs": [],
      "source": [
        "element = raw_data[0].split(\"\\t\")\n",
        "element[1].split()"
      ]
    },
    {
      "cell_type": "code",
      "execution_count": null,
      "id": "2de42da7-bf33-4aa9-99b4-9c8c24cd032d",
      "metadata": {
        "id": "2de42da7-bf33-4aa9-99b4-9c8c24cd032d"
      },
      "outputs": [],
      "source": [
        "for row in raw_data[:10]:\n",
        "    word, morphs, category = row.split(\"\\t\")\n",
        "    print(word, morphs, category)\n",
        "    print(morphs.split())"
      ]
    },
    {
      "cell_type": "code",
      "execution_count": null,
      "id": "0011c59e-c368-4256-bd9d-60dd88627574",
      "metadata": {
        "editable": true,
        "tags": [],
        "id": "0011c59e-c368-4256-bd9d-60dd88627574"
      },
      "outputs": [],
      "source": [
        "import pandas as pd\n",
        "\n",
        "LANGS = {\n",
        "    \"ces\": \"Czech\",\n",
        "    \"eng\": \"English\",\n",
        "    \"fra\": \"French\",\n",
        "    \"hun\": \"Hungarian\",\n",
        "    \"spa\": \"Spanish\",\n",
        "    \"ita\": \"Italian\",\n",
        "    \"lat\": \"Latin\",\n",
        "    \"rus\": \"Russian\",\n",
        "}\n",
        "CATEGORIES = {\n",
        "    \"100\": \"Inflection\",\n",
        "    \"010\": \"Derivation\",\n",
        "    \"101\": \"Inflection, Compound\",\n",
        "    \"000\": \"Root\",\n",
        "    \"011\": \"Derivation, Compound\",\n",
        "    \"110\": \"Inflection, Derivation\",\n",
        "    \"001\": \"Compound\",\n",
        "    \"111\": \"Inflection, Derivation, Compound\"\n",
        "}"
      ]
    },
    {
      "cell_type": "code",
      "execution_count": null,
      "id": "c50cebf5-7429-46fd-b443-2effe5107963",
      "metadata": {
        "editable": true,
        "id": "c50cebf5-7429-46fd-b443-2effe5107963",
        "tags": []
      },
      "outputs": [],
      "source": [
        "def get_files(lang: str, track: str = \"word\") -> list[str]:\n",
        "    \"\"\"Genera una lista de nombres de archivo basados en el idioma y el track\n",
        "\n",
        "    Parameters:\n",
        "    ----------\n",
        "    lang : str\n",
        "        Idioma para el cual se generarán los nombres de archivo.\n",
        "    track : str, optional\n",
        "        Track del shared task de donde vienen los datos (por defecto es \"word\").\n",
        "\n",
        "    Returns:\n",
        "    -------\n",
        "    list[str]\n",
        "        Una lista de nombres de archivo generados para el idioma y el track especificados.\n",
        "    \"\"\"\n",
        "    base = f\"{lang}.{track}\"\n",
        "    return [\n",
        "        f\"{base}.dev.tsv\",\n",
        "        #f\"{base}.train.tsv\",\n",
        "        f\"{base}.test.gold.tsv\"\n",
        "    ]"
      ]
    },
    {
      "cell_type": "code",
      "execution_count": null,
      "id": "1e70648e-81f1-4ed9-b94c-d0e01172e2b6",
      "metadata": {
        "editable": true,
        "tags": [],
        "id": "1e70648e-81f1-4ed9-b94c-d0e01172e2b6"
      },
      "outputs": [],
      "source": [
        "def get_raw_corpus(files: list) -> list:\n",
        "    \"\"\"Descarga y concatena los datos de los archivos tsv desde una URL base.\n",
        "\n",
        "    Parameters:\n",
        "    ----------\n",
        "    files : list\n",
        "        Lista de nombres de archivos (sin extensión) que se descargarán\n",
        "        y concatenarán.\n",
        "\n",
        "    Returns:\n",
        "    -------\n",
        "    list\n",
        "        Una lista que contiene los contenidos descargados y concatenados\n",
        "        de los archivos tsv.\n",
        "    \"\"\"\n",
        "    result = []\n",
        "    for file in files:\n",
        "        print(f\"Downloading {file}.tsv\")\n",
        "        response = r.get(f\"https://raw.githubusercontent.com/sigmorphon/2022SegmentationST/main/data/{file}\")\n",
        "        response_list = response.text.split(\"\\n\")\n",
        "        result.extend(response_list[:-1]) # Last element is empty string ''\n",
        "    return result"
      ]
    },
    {
      "cell_type": "code",
      "execution_count": null,
      "id": "ef96f081-3979-4779-8973-2d63e0446f0c",
      "metadata": {
        "id": "ef96f081-3979-4779-8973-2d63e0446f0c"
      },
      "outputs": [],
      "source": [
        "get_raw_corpus(get_files(lang=\"ita\"))[:10]"
      ]
    },
    {
      "cell_type": "code",
      "execution_count": null,
      "id": "9fa8d8b8-b574-4547-ad95-37507b229bab",
      "metadata": {
        "editable": true,
        "tags": [],
        "id": "9fa8d8b8-b574-4547-ad95-37507b229bab"
      },
      "outputs": [],
      "source": [
        "def raw_corpus_to_dataframe(corpus_list: list, lang: str) -> pd.DataFrame:\n",
        "    \"\"\"Convierte una lista de datos de corpus en un DataFrame\n",
        "\n",
        "    Parameters:\n",
        "    ----------\n",
        "    corpus_list : list\n",
        "        Lista de líneas del corpus a convertir en DataFrame.\n",
        "    lang : str\n",
        "        Idioma al que pertenecen los datos del corpus.\n",
        "\n",
        "    Returns:\n",
        "    -------\n",
        "    pd.DataFrame\n",
        "        Un DataFrame de pandas que contiene los datos del corpus procesados.\n",
        "    \"\"\"\n",
        "    data = []\n",
        "    for row in corpus_list:\n",
        "        try:\n",
        "            word, morphs, category = row.split(\"\\t\")\n",
        "        except ValueError:\n",
        "            # Caso donde no hay categoria\n",
        "            word, morphs = row.split(\"\\t\")\n",
        "            category = \"N/A\"\n",
        "        morphs = morphs.split()\n",
        "        data.append({\"words\": word, \"morphs\": morphs, \"category\": category, \"lang\": lang})\n",
        "    df = pd.DataFrame(data)\n",
        "    df[\"word_len\"] = df[\"words\"].apply(lambda x: len(x))\n",
        "    df[\"morphs_count\"] = df[\"morphs\"].apply(lambda x: len(x))\n",
        "    return df"
      ]
    },
    {
      "cell_type": "code",
      "execution_count": null,
      "id": "62e5ac8c-2df7-4700-9fb4-cdbe0789e42f",
      "metadata": {
        "editable": true,
        "tags": [],
        "id": "62e5ac8c-2df7-4700-9fb4-cdbe0789e42f"
      },
      "outputs": [],
      "source": [
        "# Get data\n",
        "files = get_files(\"spa\")\n",
        "raw_data = get_raw_corpus(files)\n",
        "df = raw_corpus_to_dataframe(raw_data, lang=\"spa\")"
      ]
    },
    {
      "cell_type": "code",
      "execution_count": null,
      "id": "cea3c988-eea7-4a0b-bfa8-98d090e09393",
      "metadata": {
        "id": "cea3c988-eea7-4a0b-bfa8-98d090e09393"
      },
      "outputs": [],
      "source": [
        "df"
      ]
    },
    {
      "cell_type": "markdown",
      "id": "94947a56-33f4-4440-9209-92f2c84d31c2",
      "metadata": {
        "editable": true,
        "id": "94947a56-33f4-4440-9209-92f2c84d31c2",
        "tags": []
      },
      "source": [
        "### Análisis cuantitativo para el Español"
      ]
    },
    {
      "cell_type": "code",
      "execution_count": null,
      "id": "4f758040-00ac-46b8-a4ce-229f32c1edbb",
      "metadata": {
        "id": "4f758040-00ac-46b8-a4ce-229f32c1edbb"
      },
      "outputs": [],
      "source": [
        "df[\"category\"].value_counts().head(30)"
      ]
    },
    {
      "cell_type": "code",
      "execution_count": null,
      "id": "8dee95c6-07ce-4740-8174-fed77aab2d5a",
      "metadata": {
        "id": "8dee95c6-07ce-4740-8174-fed77aab2d5a"
      },
      "outputs": [],
      "source": [
        "df[\"morphs_count\"].mean()"
      ]
    },
    {
      "cell_type": "code",
      "execution_count": null,
      "id": "8747dd4f-0a5e-4186-bdad-24a4b309aa34",
      "metadata": {
        "id": "8747dd4f-0a5e-4186-bdad-24a4b309aa34"
      },
      "outputs": [],
      "source": [
        "df[\"word_len\"].mean()"
      ]
    },
    {
      "cell_type": "code",
      "execution_count": null,
      "id": "40922870-0769-49d5-b551-618f8429f959",
      "metadata": {
        "editable": true,
        "id": "40922870-0769-49d5-b551-618f8429f959",
        "tags": []
      },
      "outputs": [],
      "source": [
        "import matplotlib.pyplot as plt\n",
        "plt.hist(df[\"word_len\"], bins=10, edgecolor=\"black\")\n",
        "plt.xlabel(\"Word len\")\n",
        "plt.ylabel(\"Freq\")\n",
        "plt.show()"
      ]
    },
    {
      "cell_type": "code",
      "execution_count": null,
      "id": "a438d893-3bf1-4779-bee4-f1d1cc016e51",
      "metadata": {
        "editable": true,
        "tags": [],
        "id": "a438d893-3bf1-4779-bee4-f1d1cc016e51"
      },
      "outputs": [],
      "source": [
        "def plot_histogram(df, kind, lang):\n",
        "    \"\"\"Genera un histograma de frecuencia para una columna específica\n",
        "    en un DataFrame.\n",
        "\n",
        "    Parameters:\n",
        "    ----------\n",
        "    df : pd.DataFrame\n",
        "        DataFrame que contiene los datos para generar el histograma.\n",
        "    kind : str\n",
        "        Nombre de la columna para la cual se generará el histograma.\n",
        "    lang : str\n",
        "        Idioma asociado a los datos.\n",
        "\n",
        "    Returns:\n",
        "    -------\n",
        "    None\n",
        "        Esta función muestra el histograma usando matplotlib.\n",
        "    \"\"\"\n",
        "    counts = df[kind].value_counts().head(30)\n",
        "    plt.bar(counts.index, counts.values)\n",
        "    plt.xlabel(kind.upper())\n",
        "    plt.ylabel('Frequency')\n",
        "    plt.title(f'{kind} Frequency Graph for {lang}')\n",
        "    plt.xticks(rotation=90)\n",
        "    plt.tight_layout()\n",
        "    plt.show()"
      ]
    },
    {
      "cell_type": "code",
      "execution_count": null,
      "id": "11f5da0a-3283-47b6-b3ba-035f0f153823",
      "metadata": {
        "editable": true,
        "tags": [],
        "id": "11f5da0a-3283-47b6-b3ba-035f0f153823"
      },
      "outputs": [],
      "source": [
        "plot_histogram(df, \"category\", \"spa\")"
      ]
    },
    {
      "cell_type": "code",
      "execution_count": null,
      "id": "5482f50d-b767-4a68-9101-f75b1889c3be",
      "metadata": {
        "editable": true,
        "tags": [],
        "id": "5482f50d-b767-4a68-9101-f75b1889c3be"
      },
      "outputs": [],
      "source": [
        "len(df[df[\"category\"] == \"001\"])"
      ]
    },
    {
      "cell_type": "code",
      "execution_count": null,
      "id": "b3aeb0b8-3972-4b8e-b92d-2a8d03279a7f",
      "metadata": {
        "editable": true,
        "id": "b3aeb0b8-3972-4b8e-b92d-2a8d03279a7f",
        "tags": []
      },
      "outputs": [],
      "source": [
        "def get_corpora() -> pd.DataFrame:\n",
        "    \"\"\"Obtiene y combina datos de corpus de diferentes idiomas en un DataFrame\n",
        "    obteniendo corpora multilingüe\n",
        "\n",
        "    Returns:\n",
        "    -------\n",
        "    pd.DataFrame\n",
        "        Un DataFrame que contiene los datos de corpus combinados de varios idiomas.\n",
        "    \"\"\"\n",
        "    corpora = pd.DataFrame()\n",
        "    for lang in LANGS:\n",
        "        files = get_files(lang)\n",
        "        raw_data = get_raw_corpus(files)\n",
        "        dataframe = raw_corpus_to_dataframe(raw_data, lang)\n",
        "        corpora = dataframe if corpora.empty else pd.concat([corpora, dataframe], ignore_index=True)\n",
        "    return corpora\n",
        "\n",
        "corpora = get_corpora()"
      ]
    },
    {
      "cell_type": "code",
      "execution_count": null,
      "id": "ba5e9b14-703b-4dad-8a58-5f3b5ccb09a2",
      "metadata": {
        "editable": true,
        "tags": [],
        "id": "ba5e9b14-703b-4dad-8a58-5f3b5ccb09a2"
      },
      "outputs": [],
      "source": [
        "corpora"
      ]
    },
    {
      "cell_type": "code",
      "execution_count": null,
      "id": "460dee5f-69b8-4ea0-b6a0-1b6b7e1f0515",
      "metadata": {
        "editable": true,
        "id": "460dee5f-69b8-4ea0-b6a0-1b6b7e1f0515",
        "tags": []
      },
      "outputs": [],
      "source": [
        "for lang in LANGS:\n",
        "    df = corpora[corpora[\"lang\"] == lang]\n",
        "    print(f\"Basic stats for {LANGS[lang]}\")\n",
        "    print(\"Total words:\", len(df[\"words\"].unique()))\n",
        "    print(\"Mean morphs: \", df[\"morphs_count\"].mean())\n",
        "    most_common_cat = df[\"category\"].mode()[0]\n",
        "    print(\"Most common category:\", most_common_cat, CATEGORIES.get(most_common_cat, \"\"))\n",
        "    print(\"=\"*30)"
      ]
    },
    {
      "cell_type": "code",
      "execution_count": null,
      "id": "d81aaf52-f7c0-4c83-9945-2cd9163295a5",
      "metadata": {
        "editable": true,
        "id": "d81aaf52-f7c0-4c83-9945-2cd9163295a5",
        "tags": []
      },
      "outputs": [],
      "source": [
        "# Lista de lenguas con sus colores\n",
        "LANG_COLORS = {\n",
        "    'ces': 'blue',\n",
        "    'eng': 'green',\n",
        "    'fra': 'red',\n",
        "    'hun': 'purple',\n",
        "    'spa': 'orange',\n",
        "    'ita': 'brown',\n",
        "    'lat': 'pink',\n",
        "    'rus': 'gray'\n",
        "}\n",
        "\n",
        "def plot_multi_lang(column: str) -> None:\n",
        "    \"\"\"Genera un conjunto de subplots para mostrar la distribución\n",
        "    de los datos de cierta columna en un dataframe para idiomas disponibles.\n",
        "\n",
        "    Parameters:\n",
        "    ----------\n",
        "    column : str\n",
        "        Nombre de la columna cuya distribución se va a graficar.\n",
        "\n",
        "    Returns:\n",
        "    -------\n",
        "    None\n",
        "        Esta función muestra los subplots usando matplotlib.\n",
        "    \"\"\"\n",
        "    # Creando plots\n",
        "    fig, axes = plt.subplots(nrows=2, ncols=4, figsize=(15, 10))\n",
        "    fig.suptitle(f\"{column.upper()} Distribution by Language\", fontsize=16)\n",
        "    # Iteramos sobre las lenguas y sus colores para plotearlos\n",
        "    for i, (lang, color) in enumerate(LANG_COLORS.items()):\n",
        "        row = i // 4\n",
        "        col = i % 4\n",
        "        ax = axes[row, col]\n",
        "        corpus = corpora[corpora['lang'] == lang]\n",
        "        ax.hist(corpus[column], bins=10, edgecolor='black', alpha=0.7, color=color)\n",
        "        ax.set_title(LANGS[lang])\n",
        "        ax.set_xlabel(f\"{column}\")\n",
        "        ax.set_ylabel(\"Frequency\")\n",
        "\n",
        "    # Ajustando el layout\n",
        "    plt.tight_layout()\n",
        "    plt.subplots_adjust(top=0.85)\n",
        "\n",
        "    # Mostramos el plot\n",
        "    plt.show()"
      ]
    },
    {
      "cell_type": "code",
      "execution_count": null,
      "id": "beb66fff-35aa-4a7d-96e5-d0eba598feb5",
      "metadata": {
        "editable": true,
        "tags": [],
        "id": "beb66fff-35aa-4a7d-96e5-d0eba598feb5"
      },
      "outputs": [],
      "source": [
        "plot_multi_lang(\"word_len\")"
      ]
    },
    {
      "cell_type": "code",
      "execution_count": null,
      "id": "b70289ac-12a0-4acd-998e-5600356a9b20",
      "metadata": {
        "editable": true,
        "tags": [],
        "id": "b70289ac-12a0-4acd-998e-5600356a9b20"
      },
      "outputs": [],
      "source": [
        "plot_multi_lang(\"morphs_count\")"
      ]
    },
    {
      "cell_type": "markdown",
      "id": "7f66a8a0-c52c-4b1e-aa7d-761650f256df",
      "metadata": {
        "editable": true,
        "tags": [],
        "id": "7f66a8a0-c52c-4b1e-aa7d-761650f256df"
      },
      "source": [
        "### Práctica 1: Niveles lingüísticos I\n",
        "\n",
        "**Fecha de entrega: Domingo 3 de Marzo 2024 11:59pm**"
      ]
    },
    {
      "cell_type": "markdown",
      "id": "bFfv_5FnANgs",
      "metadata": {
        "editable": true,
        "id": "bFfv_5FnANgs",
        "tags": []
      },
      "source": [
        "1. Agregar un nuevo modo de búsqueda donde se extienda el comportamiento básico del buscador para ahora buscar por frases. Ejemplo:\n",
        "\n",
        "```\n",
        "[es_MX]>>> Hola que hace\n",
        " /ola/ /ke/ /ase/\n",
        "```\n",
        "\n",
        "2. Agregar un modo de búsqueda donde dada una palabra te muestre sus *homofonos*[1]. Debe mostrar su representación IPA y la lista de homofonos (si existen)\n",
        "\n",
        "```\n",
        "[es_MX]>>> habares\n",
        "/aβaɾes/\n",
        "['abares', 'habares', 'havares']\n",
        "```\n",
        "\n",
        "[1]: palabras con el mismo sonido pero distinta ortografía\n",
        "\n",
        "3. Observe las distribuciones de longitud de palabra y de número de morfemas por palabra para todas lenguas. Basado en esos datos, haga un comentario sobre las diferencias en morfología de las lenguas\n",
        "\n"
      ]
    },
    {
      "cell_type": "code",
      "source": [
        "# @title Ejercicio 1. Transcripción fonética de una frase\n",
        "\n",
        "def get_phrase_ipa_transcription(phrase: str) -> str:\n",
        "  words = [ word for word in phrase.strip().split() ]\n",
        "  transcribed_words = [ get_ipa_transcription(word) for word in words ]\n",
        "\n",
        "  return \" \".join(transcribed_words)\n",
        "\n",
        "phrase = \"Hola cómo estás\"\n",
        "print(get_phrase_ipa_transcription(phrase))"
      ],
      "metadata": {
        "id": "gwwSy24GWR1P"
      },
      "id": "gwwSy24GWR1P",
      "execution_count": null,
      "outputs": []
    },
    {
      "cell_type": "code",
      "source": [
        "# @title Ejercicio 2. Buscador de homófonos para una palabra\n",
        "\n",
        "def search_homophones(target_word: str) -> List[str]:\n",
        "  homophones = []\n",
        "  target_transcription = get_ipa_transcription(target_word)\n",
        "  dataset_entries = get_dataset().entries()\n",
        "\n",
        "  for word, transcription in dataset_entries:\n",
        "    if target_transcription == transcription:\n",
        "      homophones.append(word)\n",
        "\n",
        "  return homophones"
      ],
      "metadata": {
        "id": "BfN0ZylUXGty"
      },
      "id": "BfN0ZylUXGty",
      "execution_count": null,
      "outputs": []
    },
    {
      "cell_type": "markdown",
      "source": [
        "#### Ejercicio 3. Frecuencias\n",
        "\n",
        "**Observación**\n",
        "\n",
        "Existe una clara diferenciación entre las distintas lenguas en cuando la distribución de longitud y cantidad de morfemas. Como vimos en clase, existen lenguas que son más aglutinantes que otras y por lo tanto tienden a tener una mayor cantidad de morfemas y en general palabras más largas, por ejemplo el idioma alemán es más aglutinante que el español y por lo tanto tiende a utilizar palabras más largas, por ejemplo, los números.\n",
        "\n",
        "```\n",
        "\n",
        "5,555\n",
        "fünf­tausend­fünf­hundert­fünf­und­fünfzig\n",
        "cinco mil quinientos cincuenta y cinco\n",
        "```"
      ],
      "metadata": {
        "id": "2zda0PrwX405"
      },
      "id": "2zda0PrwX405"
    },
    {
      "cell_type": "markdown",
      "id": "4db5d5d4-39b5-4fb8-a582-546e0732e197",
      "metadata": {
        "editable": true,
        "tags": [],
        "id": "4db5d5d4-39b5-4fb8-a582-546e0732e197"
      },
      "source": [
        "#### EXTRA\n",
        "\n",
        "A. Mejorar la solución en el escenario cuando no se encuentran las palabras en el dataset (incisos 1. y 2.) mostrando palabras similares. Ejemplo:\n",
        "\n",
        "```\n",
        "[es_MX]>> pero\n",
        "No se encontro <<pero>> en el dataset. Palabras aproximadas:\n",
        "perro /pero/\n",
        "perno /peɾno/\n",
        "[es_MX]>>\n",
        "```"
      ]
    },
    {
      "cell_type": "markdown",
      "id": "fe21d1d3-3f45-4a43-aec3-0496c535c371",
      "metadata": {
        "editable": true,
        "tags": [],
        "id": "fe21d1d3-3f45-4a43-aec3-0496c535c371"
      },
      "source": [
        "### Links de interés"
      ]
    },
    {
      "cell_type": "markdown",
      "id": "c742951f-6322-4863-b91a-9b5716b11190",
      "metadata": {
        "editable": true,
        "tags": [],
        "id": "c742951f-6322-4863-b91a-9b5716b11190"
      },
      "source": [
        "- [Regex 101](https://regex101.com/)"
      ]
    }
  ],
  "metadata": {
    "colab": {
      "provenance": [],
      "collapsed_sections": [
        "84feb532-32a6-4b75-bb1a-30d1f0663e8c",
        "94947a56-33f4-4440-9209-92f2c84d31c2"
      ]
    },
    "jupytext": {
      "formats": "ipynb,auto:light"
    },
    "kernelspec": {
      "display_name": "Python 3 (ipykernel)",
      "language": "python",
      "name": "python3"
    },
    "language_info": {
      "codemirror_mode": {
        "name": "ipython",
        "version": 3
      },
      "file_extension": ".py",
      "mimetype": "text/x-python",
      "name": "python",
      "nbconvert_exporter": "python",
      "pygments_lexer": "ipython3",
      "version": "3.11.7"
    }
  },
  "nbformat": 4,
  "nbformat_minor": 5
}