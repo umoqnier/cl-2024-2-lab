{
 "cells": [
  {
   "cell_type": "markdown",
   "metadata": {},
   "source": [
    "## Práctica 6\n",
    "### Modelos del lenguaje\n",
    "\n",
    "**Fecha de entrega**  \n",
    "21 de abril de 2024\n",
    "\n",
    "- Crear un par de modelos del lenguaje usando un corpus en español|\n",
    "    - Corpus: El Quijote\n",
    "    - URL: https://www.gutenberg.org/ebooks/2000\n",
    "    - Modelo de n-gramas con n = [2, 3]\n",
    "    - Hold out con test = 30% y train = 70%\n",
    "- Evaluar los modelos y reportar la perplejidad de cada modelo\n",
    "    - Comparar los resultados entre los diferentes modelos del lenguaje (bigramas, trigramas)\n",
    "    - ¿Cual fue el modelo mejor evaluado? ¿Porqué?"
   ]
  },
  {
   "cell_type": "code",
   "execution_count": null,
   "metadata": {},
   "outputs": [],
   "source": [
    "\"\"\"\n",
    "Download spanish language corpus\n",
    "\n",
    "El Quijote\n",
    "https://www.gutenberg.org/ebooks/2000\n",
    "\"\"\""
   ]
  },
  {
   "cell_type": "code",
   "execution_count": null,
   "metadata": {},
   "outputs": [],
   "source": [
    "\"\"\"\n",
    "Preprocessing\n",
    "\"\"\""
   ]
  },
  {
   "cell_type": "code",
   "execution_count": null,
   "metadata": {},
   "outputs": [],
   "source": [
    "\"\"\"\n",
    "Train bi-gram model using nltk\n",
    "\"\"\""
   ]
  },
  {
   "cell_type": "code",
   "execution_count": null,
   "metadata": {},
   "outputs": [],
   "source": [
    "\"\"\"\n",
    "Train tri-gram model using nltk\n",
    "\"\"\""
   ]
  },
  {
   "cell_type": "code",
   "execution_count": null,
   "metadata": {},
   "outputs": [],
   "source": [
    "\"\"\"\n",
    "Evaluate model\n",
    "\"\"\""
   ]
  },
  {
   "cell_type": "code",
   "execution_count": null,
   "metadata": {},
   "outputs": [],
   "source": [
    "\"\"\"\n",
    "Calculate perplexity\n",
    "\"\"\"\n"
   ]
  }
 ],
 "metadata": {
  "language_info": {
   "name": "python"
  }
 },
 "nbformat": 4,
 "nbformat_minor": 2
}
