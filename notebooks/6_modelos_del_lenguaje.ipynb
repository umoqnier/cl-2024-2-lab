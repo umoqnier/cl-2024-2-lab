{
 "cells": [
  {
   "cell_type": "markdown",
   "metadata": {
    "id": "UndAvhCx62c5"
   },
   "source": [
    "# 6. Modelos del lenguaje"
   ]
  },
  {
   "cell_type": "markdown",
   "metadata": {
    "id": "mmMeLR-EcPCW"
   },
   "source": [
    "## Objetivos"
   ]
  },
  {
   "cell_type": "markdown",
   "metadata": {
    "id": "yWZRbpatcQeA"
   },
   "source": [
    "- Crear modelos del lenguaje a partir de un corpus en inglés\n",
    "    - Modelo de bigramas\n",
    "    - Modelo de trigramas"
   ]
  },
  {
   "cell_type": "markdown",
   "metadata": {
    "id": "nNyww-_MsZb6"
   },
   "source": [
    "> Un modelo del lenguaje es un modelo estadístico que asigna probabilidades a cadenas dentro de un lenguaje - Jurafsky, 2000\n",
    "\n",
    "$$ \\mu = (\\Sigma, A, \\Pi)$$\n",
    "\n",
    "Donde:\n",
    "- $\\mu$ es el modelo del lenguaje\n",
    "- $\\Sigma$ es el vocabulario\n",
    "- $A$ es el tensor que guarda las probabilidades\n",
    "- $\\Pi$ guarda las probabilidades iniciales"
   ]
  },
  {
   "cell_type": "markdown",
   "metadata": {
    "id": "YQV3jCdc689o"
   },
   "source": [
    "- Este modelo busca estimar la probabilidad de una secuencia de tokens\n",
    "- Pueden ser palabras, caracteres o tokens\n",
    "- Se pueden considerar varios escenarios para la creación de estos modelos\n",
    "- Si podemos estimar la probabilidad de una unidad lingüística (palabras, tokens, oracines, etc), podemos usarlar de formas insospechadas"
   ]
  },
  {
   "cell_type": "markdown",
   "metadata": {
    "id": "fARPrQsSfA-s"
   },
   "source": [
    "## I saw a cat in a mat"
   ]
  },
  {
   "cell_type": "markdown",
   "metadata": {
    "id": "ZuAH9oFwe4Os"
   },
   "source": [
    "<img src=\"https://lena-voita.github.io/resources/lectures/lang_models/general/i_saw_a_cat_prob.gif\">"
   ]
  },
  {
   "cell_type": "markdown",
   "metadata": {
    "id": "_QdN5z6A5lsx"
   },
   "source": [
    "## Aplicaciones"
   ]
  },
  {
   "cell_type": "markdown",
   "metadata": {
    "id": "DA3h5XD_5nhK"
   },
   "source": [
    "- Traducción automática\n",
    "- Completado de texto\n",
    "- Generación de texto"
   ]
  },
  {
   "cell_type": "markdown",
   "metadata": {
    "id": "k2kSHeo6dNVi"
   },
   "source": [
    "![](https://lena-voita.github.io/resources/lectures/lang_models/examples/suggest-min.png)\n",
    "Tomado de [Lena Voita](https://lena-voita.github.io/nlp_course/language_modeling.html)"
   ]
  },
  {
   "cell_type": "markdown",
   "metadata": {
    "id": "grLl2l7s56gx"
   },
   "source": [
    "## De los bigramas a los n-gramas"
   ]
  },
  {
   "cell_type": "markdown",
   "metadata": {
    "id": "0sFQj5FyoW0A"
   },
   "source": [
    "- Para bigramas tenemos la propiedad de Markov\n",
    "- Para $n > 2$ las palabras dependen de mas elementos\n",
    "    - Trigramas\n",
    "    - 4-gramas\n",
    "- En general para un modelo de n-gramas se toman en cuenta $n-1$ elementos"
   ]
  },
  {
   "cell_type": "markdown",
   "metadata": {
    "id": "VpeyW0YpdFqD"
   },
   "source": [
    "## Programando nuestros modelos del lenguaje"
   ]
  },
  {
   "cell_type": "markdown",
   "metadata": {
    "id": "E4NmkcRVg7UI"
   },
   "source": [
    "Utilizaremos un [corpus](https://www.nltk.org/book/ch02.html) en inglés disponible en NLTK"
   ]
  },
  {
   "cell_type": "code",
   "execution_count": 108,
   "metadata": {
    "colab": {
     "base_uri": "https://localhost:8080/"
    },
    "id": "8LPzWyu5g5ra",
    "outputId": "91b4e453-52c5-4204-f7c6-bd382737e7b9"
   },
   "outputs": [
    {
     "name": "stderr",
     "output_type": "stream",
     "text": [
      "[nltk_data] Downloading package reuters to /root/nltk_data...\n",
      "[nltk_data]   Package reuters is already up-to-date!\n",
      "[nltk_data] Downloading package punkt to /root/nltk_data...\n",
      "[nltk_data]   Package punkt is already up-to-date!\n"
     ]
    },
    {
     "data": {
      "text/plain": [
       "True"
      ]
     },
     "execution_count": 108,
     "metadata": {},
     "output_type": "execute_result"
    }
   ],
   "source": [
    "import nltk\n",
    "nltk.download('reuters')\n",
    "nltk.download('punkt')"
   ]
  },
  {
   "cell_type": "code",
   "execution_count": 109,
   "metadata": {
    "id": "nTQ85iSZhQxA"
   },
   "outputs": [],
   "source": [
    "# Computando números\n",
    "import numpy as np\n",
    "# Corpus\n",
    "from nltk.corpus import reuters\n",
    "# Para crear ngramas\n",
    "from nltk import ngrams\n",
    "# Utilidades para manejar las probabilidades\n",
    "from collections import Counter, defaultdict"
   ]
  },
  {
   "cell_type": "code",
   "execution_count": 111,
   "metadata": {
    "colab": {
     "base_uri": "https://localhost:8080/"
    },
    "id": "xf1cj5x7hcxf",
    "outputId": "a246ab70-cdc6-42dc-efd6-aac2918de64c"
   },
   "outputs": [
    {
     "data": {
      "text/plain": [
       "54716"
      ]
     },
     "execution_count": 111,
     "metadata": {},
     "output_type": "execute_result"
    }
   ],
   "source": [
    "len(reuters.sents())"
   ]
  },
  {
   "cell_type": "code",
   "execution_count": 113,
   "metadata": {
    "id": "u_7IxYFZgYgi"
   },
   "outputs": [],
   "source": [
    "import re\n",
    "\n",
    "def preprocess(sent: list[str]) -> list[str]:\n",
    "    \"\"\"Función de preprocesamiento\n",
    "\n",
    "    Agrega tokens de inicio y fin, normaliza todo a minusculas\n",
    "    \"\"\"\n",
    "    result = [word.lower() for word in sent]\n",
    "    # Al final de la oración\n",
    "    result.append(\"<EOS>\")\n",
    "    result.insert(0, \"<BOS>\")\n",
    "    return result"
   ]
  },
  {
   "cell_type": "code",
   "execution_count": 114,
   "metadata": {
    "colab": {
     "base_uri": "https://localhost:8080/"
    },
    "id": "0xKE9xTd1-1L",
    "outputId": "6ab41489-09f2-40f2-8047-6a2188ee748d"
   },
   "outputs": [
    {
     "name": "stdout",
     "output_type": "stream",
     "text": [
      "['The', 'surplus', 'helped', 'swell', 'Taiwan', \"'\", 's', 'foreign', 'exchange', 'reserves', 'to', '53', 'billion', 'dlrs', ',', 'among', 'the', 'world', \"'\", 's', 'largest', '.']\n"
     ]
    },
    {
     "data": {
      "text/plain": [
       "['<BOS>',\n",
       " 'the',\n",
       " 'surplus',\n",
       " 'helped',\n",
       " 'swell',\n",
       " 'taiwan',\n",
       " \"'\",\n",
       " 's',\n",
       " 'foreign',\n",
       " 'exchange',\n",
       " 'reserves',\n",
       " 'to',\n",
       " '53',\n",
       " 'billion',\n",
       " 'dlrs',\n",
       " ',',\n",
       " 'among',\n",
       " 'the',\n",
       " 'world',\n",
       " \"'\",\n",
       " 's',\n",
       " 'largest',\n",
       " '.',\n",
       " '<EOS>']"
      ]
     },
     "execution_count": 114,
     "metadata": {},
     "output_type": "execute_result"
    }
   ],
   "source": [
    "print(reuters.sents()[11])\n",
    "preprocess(reuters.sents()[11])"
   ]
  },
  {
   "cell_type": "code",
   "execution_count": 117,
   "metadata": {
    "colab": {
     "base_uri": "https://localhost:8080/"
    },
    "id": "TkmCVL5WQnDs",
    "outputId": "a841080e-49a8-48b2-e3f2-337e9c98c4b6"
   },
   "outputs": [
    {
     "data": {
      "text/plain": [
       "[('ASIAN', 'EXPORTERS', 'FEAR'),\n",
       " ('EXPORTERS', 'FEAR', 'DAMAGE'),\n",
       " ('FEAR', 'DAMAGE', 'FROM'),\n",
       " ('DAMAGE', 'FROM', 'U'),\n",
       " ('FROM', 'U', '.'),\n",
       " ('U', '.', 'S'),\n",
       " ('.', 'S', '.-'),\n",
       " ('S', '.-', 'JAPAN'),\n",
       " ('.-', 'JAPAN', 'RIFT'),\n",
       " ('JAPAN', 'RIFT', 'Mounting'),\n",
       " ('RIFT', 'Mounting', 'trade'),\n",
       " ('Mounting', 'trade', 'friction'),\n",
       " ('trade', 'friction', 'between'),\n",
       " ('friction', 'between', 'the'),\n",
       " ('between', 'the', 'U'),\n",
       " ('the', 'U', '.'),\n",
       " ('U', '.', 'S'),\n",
       " ('.', 'S', '.'),\n",
       " ('S', '.', 'And'),\n",
       " ('.', 'And', 'Japan'),\n",
       " ('And', 'Japan', 'has'),\n",
       " ('Japan', 'has', 'raised'),\n",
       " ('has', 'raised', 'fears'),\n",
       " ('raised', 'fears', 'among'),\n",
       " ('fears', 'among', 'many'),\n",
       " ('among', 'many', 'of'),\n",
       " ('many', 'of', 'Asia'),\n",
       " ('of', 'Asia', \"'\"),\n",
       " ('Asia', \"'\", 's'),\n",
       " (\"'\", 's', 'exporting'),\n",
       " ('s', 'exporting', 'nations'),\n",
       " ('exporting', 'nations', 'that'),\n",
       " ('nations', 'that', 'the'),\n",
       " ('that', 'the', 'row'),\n",
       " ('the', 'row', 'could'),\n",
       " ('row', 'could', 'inflict'),\n",
       " ('could', 'inflict', 'far'),\n",
       " ('inflict', 'far', '-'),\n",
       " ('far', '-', 'reaching'),\n",
       " ('-', 'reaching', 'economic'),\n",
       " ('reaching', 'economic', 'damage'),\n",
       " ('economic', 'damage', ','),\n",
       " ('damage', ',', 'businessmen'),\n",
       " (',', 'businessmen', 'and'),\n",
       " ('businessmen', 'and', 'officials'),\n",
       " ('and', 'officials', 'said'),\n",
       " ('officials', 'said', '.')]"
      ]
     },
     "execution_count": 117,
     "metadata": {},
     "output_type": "execute_result"
    }
   ],
   "source": [
    "list(ngrams(reuters.sents()[0], 3))"
   ]
  },
  {
   "cell_type": "markdown",
   "metadata": {
    "id": "Dl4yno22h6nT"
   },
   "source": [
    "### Obteniendo modelo de trigramas"
   ]
  },
  {
   "cell_type": "code",
   "execution_count": 166,
   "metadata": {
    "id": "hkkgPOVZh9YI"
   },
   "outputs": [],
   "source": [
    "trigram_model = defaultdict(lambda: defaultdict(lambda: 0))"
   ]
  },
  {
   "cell_type": "code",
   "execution_count": 167,
   "metadata": {
    "id": "Bf6QyJGehPqE"
   },
   "outputs": [],
   "source": [
    "N = 3\n",
    "for sentence in reuters.sents():\n",
    "    # Obtenemos los ngramas normalizados\n",
    "    n_grams = ngrams(preprocess(sentence), N)\n",
    "    # Guardamos los bigramas en nuestro diccionario\n",
    "    for w1, w2, w3 in n_grams:\n",
    "        trigram_model[(w1, w2)][w3] += 1"
   ]
  },
  {
   "cell_type": "code",
   "execution_count": 120,
   "metadata": {
    "colab": {
     "base_uri": "https://localhost:8080/"
    },
    "id": "Qu_-y1a43sGY",
    "outputId": "42940f49-ec2c-48c1-adf0-2b34338c5971"
   },
   "outputs": [
    {
     "data": {
      "text/plain": [
       "defaultdict(<function __main__.<lambda>.<locals>.<lambda>()>,\n",
       "            {'u': 266,\n",
       "             'surplus': 16,\n",
       "             'australian': 10,\n",
       "             'measures': 14,\n",
       "             'paper': 58,\n",
       "             'decision': 32,\n",
       "             'country': 40,\n",
       "             'department': 210,\n",
       "             'ban': 8,\n",
       "             'pay': 4,\n",
       "             'industrial': 10,\n",
       "             'shipping': 6,\n",
       "             'fledgling': 4,\n",
       "             'trade': 80,\n",
       "             'mine': 16,\n",
       "             'analysts': 38,\n",
       "             'finance': 28,\n",
       "             'sixth': 2,\n",
       "             'bundesbank': 64,\n",
       "             'company': 2310,\n",
       "             'new': 264,\n",
       "             'prospective': 2,\n",
       "             'partners': 10,\n",
       "             'edmonton': 4,\n",
       "             'shares': 38,\n",
       "             'hong': 8,\n",
       "             'talks': 30,\n",
       "             'stronger': 2,\n",
       "             'key': 22,\n",
       "             'property': 10,\n",
       "             'share': 12,\n",
       "             'cheques': 2,\n",
       "             'growers': 6,\n",
       "             'current': 96,\n",
       "             'one': 16,\n",
       "             'mainichi': 2,\n",
       "             'official': 122,\n",
       "             'central': 194,\n",
       "             'dollar': 154,\n",
       "             'smc': 4,\n",
       "             'loan': 20,\n",
       "             'sequestered': 2,\n",
       "             'sale': 92,\n",
       "             'cane': 2,\n",
       "             'market': 58,\n",
       "             'year': 30,\n",
       "             'underlying': 20,\n",
       "             'offer': 110,\n",
       "             'stauffer': 2,\n",
       "             'unilever': 2,\n",
       "             'products': 6,\n",
       "             'proposal': 40,\n",
       "             'party': 4,\n",
       "             'strikes': 6,\n",
       "             'court': 16,\n",
       "             'employers': 10,\n",
       "             'transaction': 98,\n",
       "             'federal': 44,\n",
       "             'bill': 68,\n",
       "             'negotiations': 2,\n",
       "             'figure': 28,\n",
       "             'acquistion': 2,\n",
       "             'stock': 50,\n",
       "             '0': 6,\n",
       "             'season': 6,\n",
       "             'total': 54,\n",
       "             'soybean': 6,\n",
       "             'area': 18,\n",
       "             'purchase': 76,\n",
       "             'bank': 436,\n",
       "             'payout': 4,\n",
       "             'proposed': 54,\n",
       "             'whole': 4,\n",
       "             'turn': 2,\n",
       "             'restructuring': 8,\n",
       "             'plants': 2,\n",
       "             'sources': 164,\n",
       "             'buffer': 30,\n",
       "             'cpa': 2,\n",
       "             'meeting': 52,\n",
       "             'agent': 10,\n",
       "             'states': 2,\n",
       "             'biggest': 8,\n",
       "             'sheer': 2,\n",
       "             'annual': 28,\n",
       "             'price': 78,\n",
       "             'international': 14,\n",
       "             'association': 32,\n",
       "             'french': 32,\n",
       "             'merger': 56,\n",
       "             'possible': 4,\n",
       "             'government': 254,\n",
       "             'takeover': 12,\n",
       "             'stocks': 10,\n",
       "             'report': 156,\n",
       "             'trucking': 4,\n",
       "             'deposit': 6,\n",
       "             'icch': 4,\n",
       "             'cuts': 14,\n",
       "             'volume': 6,\n",
       "             'national': 38,\n",
       "             'two': 88,\n",
       "             'contents': 2,\n",
       "             'negotiating': 2,\n",
       "             'council': 30,\n",
       "             'brazilian': 6,\n",
       "             'communique': 14,\n",
       "             'baghdad': 2,\n",
       "             'houston': 12,\n",
       "             'majority': 6,\n",
       "             'pilots': 2,\n",
       "             'developer': 2,\n",
       "             'strategy': 6,\n",
       "             'second': 20,\n",
       "             '110': 2,\n",
       "             'agency': 68,\n",
       "             'number': 46,\n",
       "             'letter': 30,\n",
       "             'march': 18,\n",
       "             'chrysler': 2,\n",
       "             'bonus': 42,\n",
       "             'wheat': 20,\n",
       "             'wendel': 2,\n",
       "             'dividend': 62,\n",
       "             'requirement': 6,\n",
       "             'premiums': 4,\n",
       "             'schedule': 2,\n",
       "             'agreement': 116,\n",
       "             'wine': 2,\n",
       "             'increase': 88,\n",
       "             'gas': 4,\n",
       "             'telecommunications': 2,\n",
       "             'eia': 6,\n",
       "             'house': 16,\n",
       "             'alternative': 4,\n",
       "             '1986': 38,\n",
       "             'budget': 22,\n",
       "             'senate': 26,\n",
       "             'sharp': 8,\n",
       "             '93': 2,\n",
       "             'ministry': 78,\n",
       "             'managing': 4,\n",
       "             'ministers': 34,\n",
       "             'oil': 16,\n",
       "             'maximum': 18,\n",
       "             'rationalisation': 4,\n",
       "             'money': 16,\n",
       "             'expansion': 4,\n",
       "             'shortfall': 6,\n",
       "             'pipeline': 18,\n",
       "             'first': 22,\n",
       "             'private': 6,\n",
       "             'enlarged': 2,\n",
       "             'officials': 82,\n",
       "             'malaysian': 4,\n",
       "             'january': 42,\n",
       "             'february': 78,\n",
       "             'g': 10,\n",
       "             'german': 4,\n",
       "             'next': 12,\n",
       "             'ec': 84,\n",
       "             'commission': 68,\n",
       "             'last': 36,\n",
       "             'speculative': 2,\n",
       "             'yen': 34,\n",
       "             'seven': 6,\n",
       "             'figures': 56,\n",
       "             'acquisition': 84,\n",
       "             'notes': 6,\n",
       "             'latest': 44,\n",
       "             'group': 200,\n",
       "             'pacific': 4,\n",
       "             'board': 52,\n",
       "             'pound': 22,\n",
       "             'supplementary': 2,\n",
       "             'cooperation': 2,\n",
       "             'united': 66,\n",
       "             'concept': 2,\n",
       "             'rate': 38,\n",
       "             'fund': 12,\n",
       "             'imf': 16,\n",
       "             'supply': 8,\n",
       "             'lower': 22,\n",
       "             'rights': 34,\n",
       "             'tax': 12,\n",
       "             'profit': 8,\n",
       "             'spokesman': 194,\n",
       "             'offering': 6,\n",
       "             'initital': 2,\n",
       "             'rexham': 2,\n",
       "             'plan': 52,\n",
       "             'unit': 30,\n",
       "             'important': 2,\n",
       "             'pmb': 2,\n",
       "             'main': 42,\n",
       "             'swiss': 8,\n",
       "             'steel': 4,\n",
       "             'center': 2,\n",
       "             'traders': 16,\n",
       "             'corn': 12,\n",
       "             'fire': 16,\n",
       "             'mykon': 2,\n",
       "             'tender': 38,\n",
       "             'provision': 12,\n",
       "             'reserve': 12,\n",
       "             'services': 2,\n",
       "             'outbreak': 4,\n",
       "             'payments': 8,\n",
       "             'record': 10,\n",
       "             '1': 10,\n",
       "             '500': 8,\n",
       "             'full': 16,\n",
       "             'committee': 52,\n",
       "             'purpose': 8,\n",
       "             'staffer': 4,\n",
       "             'administration': 34,\n",
       "             'stockpile': 4,\n",
       "             'currency': 12,\n",
       "             'banking': 14,\n",
       "             'crop': 8,\n",
       "             'soviets': 14,\n",
       "             'indicated': 2,\n",
       "             'usda': 44,\n",
       "             '1985': 14,\n",
       "             'polymer': 2,\n",
       "             'hawaiian': 2,\n",
       "             'severe': 4,\n",
       "             'disney': 2,\n",
       "             'companies': 70,\n",
       "             '100': 8,\n",
       "             'marketing': 10,\n",
       "             'purchases': 6,\n",
       "             'copper': 4,\n",
       "             'smelter': 18,\n",
       "             'action': 18,\n",
       "             'guarantee': 8,\n",
       "             'wholesale': 10,\n",
       "             'assets': 8,\n",
       "             'newly': 8,\n",
       "             'offers': 8,\n",
       "             'consolidation': 2,\n",
       "             'adjusted': 10,\n",
       "             'primary': 6,\n",
       "             'week': 10,\n",
       "             'previous': 26,\n",
       "             'acquisitions': 16,\n",
       "             'ussr': 8,\n",
       "             'firmer': 2,\n",
       "             'value': 24,\n",
       "             'treasury': 76,\n",
       "             'field': 6,\n",
       "             'falling': 2,\n",
       "             'reaction': 2,\n",
       "             'partnership': 50,\n",
       "             'accumulated': 2,\n",
       "             'fed': 76,\n",
       "             'economists': 10,\n",
       "             'opening': 2,\n",
       "             'intervention': 12,\n",
       "             'inflationary': 4,\n",
       "             'markets': 4,\n",
       "             'fact': 14,\n",
       "             'labour': 6,\n",
       "             'loss': 18,\n",
       "             'closure': 6,\n",
       "             'cabinet': 8,\n",
       "             'delegation': 4,\n",
       "             'banks': 32,\n",
       "             'cmb': 8,\n",
       "             'philippine': 8,\n",
       "             'diplomats': 22,\n",
       "             'political': 4,\n",
       "             'economy': 20,\n",
       "             'bond': 8,\n",
       "             'trend': 2,\n",
       "             'cost': 14,\n",
       "             'dinar': 2,\n",
       "             'highest': 8,\n",
       "             'issue': 30,\n",
       "             'beijing': 2,\n",
       "             'growth': 12,\n",
       "             'improved': 8,\n",
       "             'transcanada': 6,\n",
       "             'rise': 54,\n",
       "             'kenyan': 2,\n",
       "             'commonwealth': 2,\n",
       "             'proceeds': 4,\n",
       "             'balance': 34,\n",
       "             'three': 30,\n",
       "             'five': 10,\n",
       "             'joint': 10,\n",
       "             'diw': 14,\n",
       "             'other': 34,\n",
       "             'kiel': 4,\n",
       "             'construction': 2,\n",
       "             'institutes': 14,\n",
       "             'richard': 2,\n",
       "             'spot': 10,\n",
       "             'setting': 2,\n",
       "             'junior': 4,\n",
       "             'debentures': 4,\n",
       "             'index': 70,\n",
       "             'seasonally': 24,\n",
       "             'net': 14,\n",
       "             'statement': 78,\n",
       "             'preferred': 14,\n",
       "             'operation': 10,\n",
       "             'yield': 10,\n",
       "             'lme': 6,\n",
       "             'amount': 18,\n",
       "             'paris': 26,\n",
       "             'texas': 4,\n",
       "             'cla': 2,\n",
       "             'centre': 8,\n",
       "             'psd': 2,\n",
       "             'left': 4,\n",
       "             'usfsp': 2,\n",
       "             'four': 18,\n",
       "             'mill': 4,\n",
       "             'financial': 10,\n",
       "             'economic': 4,\n",
       "             '1979': 2,\n",
       "             'statistics': 14,\n",
       "             'unfiltered': 4,\n",
       "             'gain': 8,\n",
       "             'decrease': 8,\n",
       "             'cattle': 8,\n",
       "             'plant': 38,\n",
       "             'divisions': 4,\n",
       "             'earnings': 4,\n",
       "             'consumer': 18,\n",
       "             'arrangement': 8,\n",
       "             'allowance': 2,\n",
       "             'platform': 2,\n",
       "             'overall': 14,\n",
       "             'reporting': 4,\n",
       "             'closing': 8,\n",
       "             'reason': 6,\n",
       "             'deal': 54,\n",
       "             'rigid': 2,\n",
       "             'exxon': 2,\n",
       "             'product': 2,\n",
       "             'additional': 18,\n",
       "             'itc': 16,\n",
       "             'commerce': 26,\n",
       "             'high': 10,\n",
       "             '1987': 26,\n",
       "             'investors': 8,\n",
       "             'form': 4,\n",
       "             'average': 84,\n",
       "             'anticipated': 4,\n",
       "             '30': 10,\n",
       "             'original': 16,\n",
       "             'december': 14,\n",
       "             'minister': 30,\n",
       "             'idc': 2,\n",
       "             'haitian': 4,\n",
       "             'firm': 26,\n",
       "             'protesters': 2,\n",
       "             'cut': 14,\n",
       "             'policy': 8,\n",
       "             'won': 12,\n",
       "             'world': 26,\n",
       "             'newspaper': 32,\n",
       "             'washington': 4,\n",
       "             'ldp': 12,\n",
       "             'basic': 10,\n",
       "             'farm': 8,\n",
       "             'ultimate': 4,\n",
       "             'oecd': 38,\n",
       "             'quota': 2,\n",
       "             'deficit': 30,\n",
       "             'panel': 10,\n",
       "             'japanese': 48,\n",
       "             'all': 6,\n",
       "             'toronto': 6,\n",
       "             'state': 54,\n",
       "             'white': 20,\n",
       "             'upbeat': 2,\n",
       "             'frame': 2,\n",
       "             '15': 8,\n",
       "             'law': 6,\n",
       "             'foundation': 6,\n",
       "             'firms': 10,\n",
       "             'offshore': 2,\n",
       "             'tariffs': 4,\n",
       "             'aide': 2,\n",
       "             'study': 40,\n",
       "             'link': 2,\n",
       "             '43': 2,\n",
       "             'magazine': 8,\n",
       "             'tariff': 4,\n",
       "             '157': 4,\n",
       "             '218': 2,\n",
       "             'move': 64,\n",
       "             'bulolo': 2,\n",
       "             'meal': 2,\n",
       "             'only': 16,\n",
       "             '13': 8,\n",
       "             'coniston': 4,\n",
       "             'union': 34,\n",
       "             'locals': 6,\n",
       "             'strike': 24,\n",
       "             'trail': 12,\n",
       "             'sullivan': 10,\n",
       "             'vessel': 14,\n",
       "             'ceylon': 2,\n",
       "             'cereals': 2,\n",
       "             'boards': 2,\n",
       "             'revaluation': 2,\n",
       "             'exploratory': 2,\n",
       "             'terms': 12,\n",
       "             'pennsylvania': 2,\n",
       "             'bulk': 10,\n",
       "             'scarcity': 2,\n",
       "             'astoria': 2,\n",
       "             'suit': 28,\n",
       "             'lawsuit': 4,\n",
       "             'steinberg': 2,\n",
       "             'cash': 14,\n",
       "             'proposals': 14,\n",
       "             'snyder': 2,\n",
       "             'chibougamau': 4,\n",
       "             'comex': 4,\n",
       "             'grain': 10,\n",
       "             'canadian': 14,\n",
       "             'executive': 14,\n",
       "             'decline': 22,\n",
       "             'overhang': 2,\n",
       "             '13th': 2,\n",
       "             'undesignated': 2,\n",
       "             'commodities': 4,\n",
       "             'leveraged': 6,\n",
       "             '57': 2,\n",
       "             'result': 24,\n",
       "             'basin': 4,\n",
       "             'potential': 4,\n",
       "             'iea': 10,\n",
       "             'office': 20,\n",
       "             'industry': 22,\n",
       "             'transportation': 8,\n",
       "             'legislation': 16,\n",
       "             'local': 6,\n",
       "             'edelman': 2,\n",
       "             '8': 2,\n",
       "             'hart': 2,\n",
       "             'options': 4,\n",
       "             'credit': 18,\n",
       "             'venezuelan': 6,\n",
       "             'holders': 2,\n",
       "             'duty': 8,\n",
       "             'etl': 2,\n",
       "             'measure': 32,\n",
       "             'telex': 4,\n",
       "             'broker': 8,\n",
       "             'recent': 28,\n",
       "             'above': 2,\n",
       "             'philippines': 12,\n",
       "             'foreign': 12,\n",
       "             'imposition': 2,\n",
       "             'west': 24,\n",
       "             'europeesche': 2,\n",
       "             'santos': 2,\n",
       "             'ebullient': 2,\n",
       "             'louvre': 8,\n",
       "             'yunnan': 2,\n",
       "             'nanfang': 2,\n",
       "             'farmers': 4,\n",
       "             'diplomat': 6,\n",
       "             'trader': 2,\n",
       "             'iranian': 14,\n",
       "             'kuwaiti': 4,\n",
       "             'may': 18,\n",
       "             'italian': 8,\n",
       "             'poll': 4,\n",
       "             'sudden': 4,\n",
       "             'confrontation': 4,\n",
       "             'csr': 2,\n",
       "             'senior': 14,\n",
       "             'reform': 2,\n",
       "             'survey': 18,\n",
       "             'cocoa': 6,\n",
       "             'series': 6,\n",
       "             'plaintfiffs': 2,\n",
       "             'judge': 6,\n",
       "             'limited': 4,\n",
       "             'business': 16,\n",
       "             'stance': 2,\n",
       "             'experts': 10,\n",
       "             'sanctions': 8,\n",
       "             'spectra': 2,\n",
       "             '\"': 8,\n",
       "             'consensus': 4,\n",
       "             'acp': 2,\n",
       "             'vein': 2,\n",
       "             'fundamental': 6,\n",
       "             'lynch': 2,\n",
       "             'basis': 4,\n",
       "             'deadline': 14,\n",
       "             'competitiveness': 4,\n",
       "             'blaze': 2,\n",
       "             'entire': 6,\n",
       "             'telegraph': 2,\n",
       "             'ccc': 6,\n",
       "             'barley': 10,\n",
       "             'resolution': 10,\n",
       "             'poultry': 4,\n",
       "             'bonuses': 6,\n",
       "             'subsidies': 12,\n",
       "             'congressional': 4,\n",
       "             'rains': 12,\n",
       "             'shareholders': 6,\n",
       "             'imc': 2,\n",
       "             'amoco': 2,\n",
       "             'assaults': 2,\n",
       "             'eln': 2,\n",
       "             'south': 14,\n",
       "             'smoothed': 12,\n",
       "             'unadjusted': 26,\n",
       "             'quotas': 2,\n",
       "             'reagan': 26,\n",
       "             'credits': 2,\n",
       "             'vote': 8,\n",
       "             'westpac': 2,\n",
       "             'australia': 4,\n",
       "             'backlog': 6,\n",
       "             'placement': 4,\n",
       "             'marginal': 2,\n",
       "             'drop': 12,\n",
       "             'compounding': 2,\n",
       "             'platinum': 2,\n",
       "             'europeans': 2,\n",
       "             'short': 4,\n",
       "             'discount': 4,\n",
       "             'contractual': 2,\n",
       "             'slight': 2,\n",
       "             'interim': 2,\n",
       "             'fdb': 2,\n",
       "             'april': 8,\n",
       "             'sugar': 14,\n",
       "             'defendants': 2,\n",
       "             'special': 10,\n",
       "             'roasters': 2,\n",
       "             'agreed': 2,\n",
       "             'negotiators': 2,\n",
       "             '18': 6,\n",
       "             'forecast': 16,\n",
       "             'gillette': 2,\n",
       "             'third': 10,\n",
       "             'strength': 6,\n",
       "             'gilt': 2,\n",
       "             'upset': 2,\n",
       "             'export': 14,\n",
       "             'chemical': 6,\n",
       "             'royal': 4,\n",
       "             'dutch': 6,\n",
       "             'fiercely': 2,\n",
       "             'posted': 2,\n",
       "             'remaining': 14,\n",
       "             'change': 14,\n",
       "             'crude': 4,\n",
       "             'ruling': 18,\n",
       "             'oils': 2,\n",
       "             'surveillance': 2,\n",
       "             '463': 2,\n",
       "             'rio': 4,\n",
       "             'higher': 10,\n",
       "             'adjacent': 2,\n",
       "             'storm': 4,\n",
       "             'temperature': 2,\n",
       "             'refinery': 16,\n",
       "             'largest': 8,\n",
       "             'licence': 2,\n",
       "             'rising': 4,\n",
       "             'slowdown': 8,\n",
       "             'harkin': 2,\n",
       "             'inflation': 8,\n",
       "             'cato': 2,\n",
       "             'gross': 2,\n",
       "             'organisation': 4,\n",
       "             'reserves': 18,\n",
       "             'taiwan': 16,\n",
       "             'stable': 2,\n",
       "             'japan': 8,\n",
       "             'june': 12,\n",
       "             'shaw': 2,\n",
       "             'navy': 4,\n",
       "             'cargo': 4,\n",
       "             'advisory': 2,\n",
       "             '6': 4,\n",
       "             'taxes': 4,\n",
       "             'supplies': 2,\n",
       "             'spokeswoman': 8,\n",
       "             'accord': 18,\n",
       "             'rush': 2,\n",
       "             'china': 16,\n",
       "             'amended': 2,\n",
       "             'debenture': 2,\n",
       "             'lifting': 2,\n",
       "             'failure': 14,\n",
       "             'survivors': 2,\n",
       "             'rash': 2,\n",
       "             'fixed': 2,\n",
       "             'nymex': 4,\n",
       "             'governor': 10,\n",
       "             'journal': 2,\n",
       "             'pta': 2,\n",
       "             'reductions': 4,\n",
       "             'fluidized': 2,\n",
       "             'parachute': 2,\n",
       "             'capital': 8,\n",
       "             'soviet': 36,\n",
       "             'koether': 4,\n",
       "             'donners': 2,\n",
       "             'tin': 4,\n",
       "             'ida': 2,\n",
       "             'european': 12,\n",
       "             'network': 2,\n",
       "             'cardenas': 2,\n",
       "             'wall': 2,\n",
       "             'request': 6,\n",
       "             'brunswick': 2,\n",
       "             'sec': 26,\n",
       "             'investigation': 2,\n",
       "             'pace': 2,\n",
       "             'exposure': 2,\n",
       "             'problem': 12,\n",
       "             'workers': 8,\n",
       "             'median': 4,\n",
       "             'superintendency': 2,\n",
       "             'cambio': 2,\n",
       "             'gcc': 4,\n",
       "             '7': 4,\n",
       "             'trustees': 2,\n",
       "             'repurchase': 6,\n",
       "             'six': 14,\n",
       "             'discussion': 2,\n",
       "             'chinese': 6,\n",
       "             'crown': 4,\n",
       "             'limit': 8,\n",
       "             'diplomatic': 2,\n",
       "             'ministries': 2,\n",
       "             'canadians': 2,\n",
       "             'conference': 6,\n",
       "             'test': 2,\n",
       "             'scheme': 6,\n",
       "             'risk': 6,\n",
       "             'build': 2,\n",
       "             'missouri': 2,\n",
       "             'buildings': 2,\n",
       "             'application': 2,\n",
       "             'day': 2,\n",
       "             'termination': 2,\n",
       "             'meetings': 6,\n",
       "             'bay': 2,\n",
       "             'exchange': 18,\n",
       "             'planned': 12,\n",
       "             'stalemate': 2,\n",
       "             'summit': 2,\n",
       "             'effect': 12,\n",
       "             'buildup': 2,\n",
       "             'investor': 8,\n",
       "             'deals': 2,\n",
       "             'suppliers': 2,\n",
       "             'female': 2,\n",
       "             'tokyo': 4,\n",
       "             'bottom': 2,\n",
       "             'indonesia': 2,\n",
       "             'barclays': 2,\n",
       "             'radio': 8,\n",
       "             'cotton': 2,\n",
       "             'manila': 4,\n",
       "             'september': 4,\n",
       "             'khark': 2,\n",
       "             'spectacular': 2,\n",
       "             'ucap': 2,\n",
       "             'envoy': 2,\n",
       "             'rigs': 4,\n",
       "             'contract': 20,\n",
       "             'lawsuits': 2,\n",
       "             'reduction': 20,\n",
       "             'agriculture': 12,\n",
       "             'future': 2,\n",
       "             'amounts': 2,\n",
       "             'monthly': 8,\n",
       "             'news': 4,\n",
       "             'tehran': 2,\n",
       "             'increases': 6,\n",
       "             '12': 4,\n",
       "             'bid': 8,\n",
       "             'ibc': 2,\n",
       "             'charges': 10,\n",
       "             'asa': 8,\n",
       "             'defense': 6,\n",
       "             'supreme': 4,\n",
       "             'session': 2,\n",
       "             'frankfurt': 2,\n",
       "             'secretariat': 2,\n",
       "             'surviving': 4,\n",
       "             'catalogue': 2,\n",
       "             'release': 4,\n",
       "             'owens': 2,\n",
       "             'controversial': 2,\n",
       "             'pentagon': 6,\n",
       "             'utility': 14,\n",
       "             'personel': 2,\n",
       "             'range': 2,\n",
       "             'claims': 2,\n",
       "             'light': 10,\n",
       "             'prince': 2,\n",
       "             'analyst': 8,\n",
       "             'cacex': 2,\n",
       "             'periodic': 2,\n",
       "             'kenaf': 2,\n",
       "             'chariot': 2,\n",
       "             'proxy': 2,\n",
       "             'dexter': 2,\n",
       "             'gatt': 2,\n",
       "             'pact': 16,\n",
       "             'announcement': 10,\n",
       "             'allocation': 4,\n",
       "             'significance': 2,\n",
       "             'attack': 4,\n",
       "             'work': 2,\n",
       "             'nine': 10,\n",
       "             'spanish': 4,\n",
       "             'drafting': 2,\n",
       "             'nspa': 2,\n",
       "             'insurance': 4,\n",
       "             'initial': 16,\n",
       "             'later': 2,\n",
       "             'funds': 6,\n",
       "             'dow': 2,\n",
       "             'ipswich': 2,\n",
       "             'complaint': 14,\n",
       "             'cumulative': 20,\n",
       "             'sassan': 2,\n",
       "             'customers': 2,\n",
       "             'discovery': 8,\n",
       "             'dilemma': 2,\n",
       "             'cool': 2,\n",
       "             'withholding': 4,\n",
       "             'extra': 4,\n",
       "             'el': 4,\n",
       "             'accords': 4,\n",
       "             'engine': 2,\n",
       "             'ship': 4,\n",
       "             'fiscal': 2,\n",
       "             'owners': 2,\n",
       "             'harvest': 6,\n",
       "             '10': 4,\n",
       "             'ecop': 2,\n",
       "             'communist': 2,\n",
       "             'cable': 6,\n",
       "             'quality': 2,\n",
       "             'question': 12,\n",
       "             'major': 12,\n",
       "             'said': 2,\n",
       "             'target': 8,\n",
       "             'promotion': 4,\n",
       "             'dry': 6,\n",
       "             'csce': 2,\n",
       "             'bureau': 14,\n",
       "             'dividends': 2,\n",
       "             'bp': 6,\n",
       "             'rest': 12,\n",
       "             'ico': 22,\n",
       "             'icco': 16,\n",
       "             'supermarket': 2,\n",
       "             'split': 20,\n",
       "             'same': 8,\n",
       "             'crash': 2,\n",
       "             'losses': 4,\n",
       "             'delegations': 4,\n",
       "             'investment': 18,\n",
       "             'feasibility': 8,\n",
       "             'real': 4,\n",
       "             'cia': 2,\n",
       "             'charge': 4,\n",
       "             'borrowings': 2,\n",
       "             'most': 16,\n",
       "             'combined': 12,\n",
       "             'pressure': 2,\n",
       "             'mmtc': 4,\n",
       "             'british': 16,\n",
       "             'results': 16,\n",
       "             'broken': 2,\n",
       "             'preliminary': 2,\n",
       "             'balanced': 2,\n",
       "             'jardine': 2,\n",
       "             'level': 4,\n",
       "             '60': 2,\n",
       "             'long': 16,\n",
       "             'invisible': 4,\n",
       "             'dominican': 2,\n",
       "             'english': 4,\n",
       "             'ethanol': 2,\n",
       "             'post': 8,\n",
       "             'northern': 2,\n",
       "             'buyer': 2,\n",
       "             'remainder': 12,\n",
       "             'preference': 4,\n",
       "             'suspension': 4,\n",
       "             'subcommittee': 20,\n",
       "             'trust': 22,\n",
       "             'bil': 4,\n",
       "             'run': 2,\n",
       "             'cpi': 8,\n",
       "             'turkish': 4,\n",
       "             'expected': 6,\n",
       "             'compromise': 6,\n",
       "             'non': 12,\n",
       "             'outstanding': 4,\n",
       "             'row': 4,\n",
       "             'motion': 2,\n",
       "             'situation': 10,\n",
       "             'units': 6,\n",
       "             'accounts': 2,\n",
       "             'estimated': 8,\n",
       "             'start': 2,\n",
       "             'date': 2,\n",
       "             'rules': 2,\n",
       "             'brandon': 2,\n",
       "             'well': 14,\n",
       "             'following': 6,\n",
       "             'computer': 2,\n",
       "             'london': 2,\n",
       "             'aim': 10,\n",
       "             'closer': 2,\n",
       "             'location': 2,\n",
       "             'controls': 4,\n",
       "             'middle': 2,\n",
       "             'prime': 4,\n",
       "             'fecs': 2,\n",
       "             'uae': 6,\n",
       "             'semi': 8,\n",
       "             'top': 2,\n",
       "             'angry': 4,\n",
       "             'interest': 8,\n",
       "             'document': 4,\n",
       "             'bubble': 4,\n",
       "             'depressed': 2,\n",
       "             'unusual': 2,\n",
       "             'fall': 18,\n",
       "             'bahrain': 2,\n",
       "             'circular': 2,\n",
       "             'approval': 6,\n",
       "             'cartel': 2,\n",
       "             'hole': 4,\n",
       "             'institute': 26,\n",
       "             'phlx': 8,\n",
       "             'narrow': 12,\n",
       "             'strong': 8,\n",
       "             'mec': 2,\n",
       "             'demand': 4,\n",
       "             'overhaul': 2,\n",
       "             'shift': 6,\n",
       "             'source': 14,\n",
       "             'greek': 6,\n",
       "             'qtr': 8,\n",
       "             'steep': 4,\n",
       "             'fso': 4,\n",
       "             '548': 2,\n",
       "             'meteorological': 2,\n",
       "             'wilkinson': 2,\n",
       "             'cornerstone': 2,\n",
       "             'stake': 10,\n",
       "             'garden': 2,\n",
       "             'soft': 2,\n",
       "             'rumor': 2,\n",
       "             'api': 8,\n",
       "             'bass': 12,\n",
       "             'dudley': 2,\n",
       "             'partnerhsip': 2,\n",
       "             'diversified': 4,\n",
       "             'outlook': 10,\n",
       "             'dot': 14,\n",
       "             'combination': 10,\n",
       "             'corresponding': 2,\n",
       "             'venture': 14,\n",
       "             'facilities': 2,\n",
       "             'corporation': 4,\n",
       "             'cause': 8,\n",
       "             'weekly': 6,\n",
       "             'parallel': 4,\n",
       "             'president': 4,\n",
       "             'investments': 2,\n",
       "             'previously': 8,\n",
       "             'commerzbank': 2,\n",
       "             'management': 4,\n",
       "             'book': 4,\n",
       "             'dealers': 4,\n",
       "             'turnover': 2,\n",
       "             'dates': 2,\n",
       "             'subscription': 2,\n",
       "             'pioneer': 4,\n",
       "             'provincial': 2,\n",
       "             'atpc': 10,\n",
       "             'head': 8,\n",
       "             'moves': 2,\n",
       "             'estimate': 8,\n",
       "             '600': 2,\n",
       "             'order': 12,\n",
       "             'general': 8,\n",
       "             'tarriffs': 2,\n",
       "             'closest': 2,\n",
       "             'daily': 10,\n",
       "             'bangkok': 2,\n",
       "             'reports': 4,\n",
       "             'hutton': 2,\n",
       "             'flotation': 4,\n",
       "             'packages': 2,\n",
       "             'framework': 2,\n",
       "             'us': 2,\n",
       "             'chairman': 8,\n",
       "             'acreage': 2,\n",
       "             'expanded': 4,\n",
       "             'commodity': 10,\n",
       "             'kansas': 2,\n",
       "             'trading': 6,\n",
       "             'brand': 2,\n",
       "             'payment': 2,\n",
       "             'associations': 8,\n",
       "             'parent': 12,\n",
       "             'possibility': 6,\n",
       "             'seaway': 8,\n",
       "             'canal': 4,\n",
       "             'systems': 2,\n",
       "             'officer': 6,\n",
       "             'normal': 2,\n",
       "             'counterpart': 2,\n",
       "             'subsequent': 2,\n",
       "             'speculation': 2,\n",
       "             'battle': 2,\n",
       "             'plastics': 2,\n",
       "             'trip': 2,\n",
       "             'republican': 2,\n",
       "             'armacost': 2,\n",
       "             'schwab': 2,\n",
       "             'right': 2,\n",
       "             'aggregate': 4,\n",
       "             'specialty': 2,\n",
       "             'fourth': 12,\n",
       "             'accounting': 2,\n",
       "             'panelists': 2,\n",
       "             'dean': 2,\n",
       "             'sales': 6,\n",
       "             'auditors': 4,\n",
       "             'so': 6,\n",
       "             'poorest': 2,\n",
       "             'heller': 2,\n",
       "             'peking': 4,\n",
       "             'prices': 6,\n",
       "             'shanghai': 8,\n",
       "             'ability': 2,\n",
       "             'cess': 2,\n",
       "             'gazetted': 6,\n",
       "             'airlines': 4,\n",
       "             'chamber': 4,\n",
       "             'medium': 4,\n",
       "             'overnight': 4,\n",
       "             'spokesmen': 2,\n",
       "             'changes': 10,\n",
       "             'appeals': 2,\n",
       "             'western': 4,\n",
       "             'lack': 4,\n",
       "             'manufacturing': 4,\n",
       "             'planning': 2,\n",
       "             'half': 2,\n",
       "             'aid': 6,\n",
       "             'transactions': 2,\n",
       "             'solids': 2,\n",
       "             'minerals': 2,\n",
       "             'thyssen': 2,\n",
       "             'return': 2,\n",
       "             'clouts': 2,\n",
       "             'conventional': 2,\n",
       "             'delegate': 4,\n",
       "             'margins': 4,\n",
       "             'executives': 6,\n",
       "             'emery': 2,\n",
       "             'remarks': 2,\n",
       "             'foodservice': 2,\n",
       "             'importance': 2,\n",
       "             'relative': 4,\n",
       "             'billes': 2,\n",
       "             'alternatives': 8,\n",
       "             'defensive': 2,\n",
       "             'weather': 2,\n",
       "             'northeast': 2,\n",
       "             'excessive': 2,\n",
       "             'production': 6,\n",
       "             'maize': 8,\n",
       "             'adjustment': 4,\n",
       "             'humidity': 2,\n",
       "             'facility': 4,\n",
       "             'buyout': 4,\n",
       "             'brokerage': 4,\n",
       "             'reference': 4,\n",
       "             'final': 20,\n",
       "             ...})"
      ]
     },
     "execution_count": 120,
     "metadata": {},
     "output_type": "execute_result"
    }
   ],
   "source": [
    "trigram_model[\"<BOS>\", \"the\"]"
   ]
  },
  {
   "cell_type": "code",
   "execution_count": 121,
   "metadata": {
    "colab": {
     "base_uri": "https://localhost:8080/"
    },
    "id": "SVWgG_-Yn-Ps",
    "outputId": "d74762f1-2110-4759-ba33-36b353521e0c"
   },
   "outputs": [
    {
     "name": "stdout",
     "output_type": "stream",
     "text": [
      "(('<BOS>', 'asian'), defaultdict(<function <lambda>.<locals>.<lambda> at 0x7fd5be0eb640>, {'exporters': 2, 'cocoa': 2, 'dollar': 4}))\n",
      "(('asian', 'exporters'), defaultdict(<function <lambda>.<locals>.<lambda> at 0x7fd5be0eb7f0>, {'fear': 2}))\n",
      "(('exporters', 'fear'), defaultdict(<function <lambda>.<locals>.<lambda> at 0x7fd5be0ebe20>, {'damage': 2, 'china': 2}))\n",
      "(('fear', 'damage'), defaultdict(<function <lambda>.<locals>.<lambda> at 0x7fd5be0ebd90>, {'from': 2}))\n"
     ]
    }
   ],
   "source": [
    "for i, entry in enumerate(trigram_model.items()):\n",
    "    print(entry)\n",
    "    if i == 3:\n",
    "        break"
   ]
  },
  {
   "cell_type": "code",
   "execution_count": 122,
   "metadata": {
    "id": "vkWwqLDaliaf"
   },
   "outputs": [],
   "source": [
    "VOCABULARY = set([word.lower() for sent in reuters.sents() for word in sent])\n",
    "# +2 por los tokens <BOS> y <EOS>\n",
    "VOCABULARY_SIZE = len(VOCABULARY) + 2"
   ]
  },
  {
   "cell_type": "code",
   "execution_count": 168,
   "metadata": {
    "id": "IXIq0KbPkFHE"
   },
   "outputs": [],
   "source": [
    "def calculate_model_probabilities(model: defaultdict) -> defaultdict:\n",
    "    result = defaultdict(lambda: defaultdict(lambda: 0))\n",
    "    for prefix in model:\n",
    "        # Todas las veces que vemos la key seguido de cualquier cosa\n",
    "        total = float(sum(model[prefix].values()))\n",
    "        for next_word in model[prefix]:\n",
    "            # Laplace smothing\n",
    "            #result[prefix][next_word] = (model[prefix][next_word] + 1) / (total + VOCABULARY_SIZE)\n",
    "            # Without smothing\n",
    "            result[prefix][next_word] = model[prefix][next_word] / total\n",
    "    return result"
   ]
  },
  {
   "cell_type": "code",
   "execution_count": 169,
   "metadata": {
    "id": "oiWDoH1OnbqG"
   },
   "outputs": [],
   "source": [
    "trigram_probs = calculate_model_probabilities(trigram_model)"
   ]
  },
  {
   "cell_type": "code",
   "execution_count": 126,
   "metadata": {
    "colab": {
     "base_uri": "https://localhost:8080/"
    },
    "id": "dFDn06SNpn1E",
    "outputId": "28780433-141e-4461-8155-412f3824d87c"
   },
   "outputs": [
    {
     "data": {
      "text/plain": [
       "[('the', 0.2328767123287671),\n",
       " ('a', 0.21232876712328766),\n",
       " ('not', 0.0684931506849315),\n",
       " ('about', 0.03424657534246575),\n",
       " ('because', 0.03424657534246575),\n",
       " ('why', 0.02054794520547945),\n",
       " ('an', 0.02054794520547945),\n",
       " ('going', 0.02054794520547945),\n",
       " ('expected', 0.0136986301369863),\n",
       " ('just', 0.0136986301369863),\n",
       " ('hardly', 0.0136986301369863),\n",
       " ('done', 0.0136986301369863),\n",
       " ('in', 0.0136986301369863),\n",
       " ('when', 0.0136986301369863),\n",
       " ('22', 0.00684931506849315),\n",
       " ('believed', 0.00684931506849315),\n",
       " ('partly', 0.00684931506849315),\n",
       " ('strictly', 0.00684931506849315),\n",
       " ('yen', 0.00684931506849315),\n",
       " ('amore', 0.00684931506849315),\n",
       " ('up', 0.00684931506849315),\n",
       " ('well', 0.00684931506849315),\n",
       " ('most', 0.00684931506849315),\n",
       " ('definitely', 0.00684931506849315),\n",
       " ('clearly', 0.00684931506849315),\n",
       " ('approved', 0.00684931506849315),\n",
       " ('making', 0.00684931506849315),\n",
       " ('equivalent', 0.00684931506849315),\n",
       " ('based', 0.00684931506849315),\n",
       " ('reflecting', 0.00684931506849315),\n",
       " ('really', 0.00684931506849315),\n",
       " ('too', 0.00684931506849315),\n",
       " ('underpinning', 0.00684931506849315),\n",
       " ('still', 0.00684931506849315),\n",
       " ('possible', 0.00684931506849315),\n",
       " ('probably', 0.00684931506849315),\n",
       " ('first', 0.00684931506849315),\n",
       " ('700', 0.00684931506849315),\n",
       " ('unlikely', 0.00684931506849315),\n",
       " ('totally', 0.00684931506849315),\n",
       " ('within', 0.00684931506849315),\n",
       " ('what', 0.00684931506849315),\n",
       " ('being', 0.00684931506849315),\n",
       " ('reflected', 0.00684931506849315),\n",
       " ('entirely', 0.00684931506849315),\n",
       " ('very', 0.00684931506849315),\n",
       " ('after', 0.00684931506849315),\n",
       " ('potentially', 0.00684931506849315),\n",
       " ('now', 0.00684931506849315),\n",
       " ('above', 0.00684931506849315),\n",
       " ('congress', 0.00684931506849315),\n",
       " ('certainly', 0.00684931506849315),\n",
       " ('available', 0.00684931506849315),\n",
       " ('also', 0.00684931506849315)]"
      ]
     },
     "execution_count": 126,
     "metadata": {},
     "output_type": "execute_result"
    }
   ],
   "source": [
    "sorted(dict(trigram_probs[\"this\",\"is\"]).items(), key=lambda x:-1*x[1])"
   ]
  },
  {
   "cell_type": "markdown",
   "metadata": {
    "id": "7Vu_qYzFp3a_"
   },
   "source": [
    "## Calculando la siguiente palabra más probable"
   ]
  },
  {
   "cell_type": "code",
   "execution_count": 127,
   "metadata": {
    "id": "MTS9W_xZp61d"
   },
   "outputs": [],
   "source": [
    "def get_likely_words(model_probs: defaultdict, context: str, top_count: int=10) -> list[tuple]:\n",
    "    \"\"\"Dado un contexto obtiene las palabras más probables\n",
    "\n",
    "    Params\n",
    "    ------\n",
    "    model_probs: defaultdict\n",
    "        Probabilidades del modelo\n",
    "    context: str\n",
    "        Contexto con el cual calcular las palabras más probables siguientes\n",
    "    top_count: int\n",
    "        Cantidad de palabras más probables. Default 10\n",
    "    \"\"\"\n",
    "    history = tuple(context.split())\n",
    "    return sorted(dict(model_probs[history]).items(), key=lambda prob: -1*prob[1])[:top_count]"
   ]
  },
  {
   "cell_type": "code",
   "execution_count": 170,
   "metadata": {
    "colab": {
     "base_uri": "https://localhost:8080/"
    },
    "id": "leg6tl_esCDu",
    "outputId": "81717a5a-9031-44b4-a153-0d7541b6e481"
   },
   "outputs": [
    {
     "data": {
      "text/plain": [
       "[('company', 0.13028764805414553),\n",
       " ('bank', 0.024591088550479413),\n",
       " ('u', 0.01500282007896221)]"
      ]
     },
     "execution_count": 170,
     "metadata": {},
     "output_type": "execute_result"
    }
   ],
   "source": [
    "get_likely_words(trigram_probs, \"<BOS> the\", top_count=3)"
   ]
  },
  {
   "cell_type": "markdown",
   "metadata": {
    "id": "3j_EmFa0sd4U"
   },
   "source": [
    "### Estrategias de generación"
   ]
  },
  {
   "cell_type": "code",
   "execution_count": 142,
   "metadata": {
    "id": "aWk0CSpisijj"
   },
   "outputs": [],
   "source": [
    "from random import randint\n",
    "\n",
    "def get_next_word(words: list) -> str:\n",
    "    # Strategy here\n",
    "    return words[0][0]\n",
    "\n",
    "def get_next_word(words: list) -> str:\n",
    "    return words[randint(0, len(words)-1)][0]"
   ]
  },
  {
   "cell_type": "code",
   "execution_count": 143,
   "metadata": {
    "colab": {
     "base_uri": "https://localhost:8080/",
     "height": 35
    },
    "id": "kDm7pbVQs9Oa",
    "outputId": "63be0d4d-4de7-4b6f-a58f-f98bf5cfbbbc"
   },
   "outputs": [
    {
     "data": {
      "application/vnd.google.colaboratory.intrinsic+json": {
       "type": "string"
      },
      "text/plain": [
       "'official'"
      ]
     },
     "execution_count": 143,
     "metadata": {},
     "output_type": "execute_result"
    }
   ],
   "source": [
    "get_next_word(get_likely_words(trigram_probs, \"<BOS> the\", 50))"
   ]
  },
  {
   "cell_type": "markdown",
   "metadata": {
    "id": "KA3xxV8itJkb"
   },
   "source": [
    "### Generando texto"
   ]
  },
  {
   "cell_type": "code",
   "execution_count": 151,
   "metadata": {
    "id": "ecDfhBcLtLeJ"
   },
   "outputs": [],
   "source": [
    "MAX_TOKENS = 30\n",
    "def generate_text(model: defaultdict, history: str, tokens_count: int) -> None:\n",
    "    next_word = get_next_word(get_likely_words(model, history, top_count=30))\n",
    "    print(next_word, end=\" \")\n",
    "    tokens_count += 1\n",
    "    if tokens_count == MAX_TOKENS or next_word == \"<EOS>\":\n",
    "        return\n",
    "    generate_text(model, history.split()[1]+ \" \" + next_word, tokens_count)"
   ]
  },
  {
   "cell_type": "code",
   "execution_count": 154,
   "metadata": {
    "colab": {
     "base_uri": "https://localhost:8080/"
    },
    "id": "Ot-amn-AxPQC",
    "outputId": "78a2ab95-93fb-42d1-fa7f-648d26a8ed44"
   },
   "outputs": [
    {
     "name": "stdout",
     "output_type": "stream",
     "text": [
      "<BOS> they pointed to yesterday ' s new eurosterling bonds were launched today , is an excellent one both commercially and financially .\" <EOS> "
     ]
    }
   ],
   "source": [
    "sentence = \"<BOS> they\"\n",
    "print(sentence, end=\" \")\n",
    "generate_text(trigram_probs, sentence, 0)"
   ]
  },
  {
   "cell_type": "markdown",
   "metadata": {
    "id": "TDMEyBeR6YF5"
   },
   "source": [
    "## Calculando la probabilidad de una oración"
   ]
  },
  {
   "cell_type": "code",
   "execution_count": 171,
   "metadata": {
    "id": "DYdXiOrv-35T"
   },
   "outputs": [],
   "source": [
    "def calculate_sent_prob(model: defaultdict, sentence: str, n: int) -> float:\n",
    "    n_grams = ngrams(preprocess(sentence), n)\n",
    "    p = 0.0\n",
    "    for gram in n_grams:\n",
    "        if n == 3:\n",
    "            key = (gram[0], gram[1])\n",
    "            value = gram[2]\n",
    "        elif n == 2:\n",
    "            key = gram[0]\n",
    "            value = gram[1]\n",
    "        try:\n",
    "            p += np.log(model[key][value])\n",
    "        except:\n",
    "            p += 0.0\n",
    "    return p"
   ]
  },
  {
   "cell_type": "code",
   "execution_count": 172,
   "metadata": {
    "colab": {
     "base_uri": "https://localhost:8080/"
    },
    "id": "-N9mzNpzV581",
    "outputId": "a9111d27-d5f9-4a50-8032-1928c87858d7"
   },
   "outputs": [
    {
     "name": "stdout",
     "output_type": "stream",
     "text": [
      "Taiwan had a trade trade surplus of 15 . 6 billion dlrs last year , 95 pct of it with the U . S .\n"
     ]
    },
    {
     "data": {
      "text/plain": [
       "-55.40967083856851"
      ]
     },
     "execution_count": 172,
     "metadata": {},
     "output_type": "execute_result"
    }
   ],
   "source": [
    "sentence = reuters.sents()[10]\n",
    "print(\" \".join(sentence))\n",
    "calculate_sent_prob(trigram_probs, reuters.sents()[10], n=3)"
   ]
  },
  {
   "cell_type": "code",
   "execution_count": 173,
   "metadata": {
    "colab": {
     "base_uri": "https://localhost:8080/"
    },
    "id": "hS0xDieGAUng",
    "outputId": "1e6e074b-2a9b-4eca-bc3f-40d1350968e8"
   },
   "outputs": [
    {
     "name": "stdout",
     "output_type": "stream",
     "text": [
      "Now it ' s largely out of their hands ,\" said Kleinwort Benson Ltd financial analyst Simon Smithson .\n"
     ]
    },
    {
     "data": {
      "text/plain": [
       "-31.011837082831672"
      ]
     },
     "execution_count": 173,
     "metadata": {},
     "output_type": "execute_result"
    }
   ],
   "source": [
    "sentence = reuters.sents()[100]\n",
    "print(\" \".join(sentence))\n",
    "calculate_sent_prob(trigram_probs, reuters.sents()[100], n=3)"
   ]
  },
  {
   "cell_type": "markdown",
   "metadata": {
    "id": "COr2ki7q7oLs"
   },
   "source": [
    "## Evaluación de modelos"
   ]
  },
  {
   "cell_type": "code",
   "execution_count": 174,
   "metadata": {
    "colab": {
     "base_uri": "https://localhost:8080/"
    },
    "id": "grH2p6rue3t-",
    "outputId": "63038481-14ad-4e58-9a56-599f7f41f3e6"
   },
   "outputs": [
    {
     "name": "stdout",
     "output_type": "stream",
     "text": [
      "Train data 38301\n",
      "tests data 16415\n"
     ]
    }
   ],
   "source": [
    "from sklearn.model_selection import train_test_split\n",
    "\n",
    "train_data, test_data = train_test_split(reuters.sents(), test_size=0.3)\n",
    "\n",
    "print(\"Train data\", len(train_data))\n",
    "print(\"tests data\", len(test_data))"
   ]
  },
  {
   "cell_type": "code",
   "execution_count": 175,
   "metadata": {
    "colab": {
     "base_uri": "https://localhost:8080/"
    },
    "id": "y6Mvps9CntJ7",
    "outputId": "c7e1eb29-2bc3-4118-f520-1bff09a64d8c"
   },
   "outputs": [
    {
     "name": "stdout",
     "output_type": "stream",
     "text": [
      "2.8574505214488366\n"
     ]
    }
   ],
   "source": [
    "pp=[]\n",
    "for sentence in test_data:\n",
    "  #1. Normalizamos y agregamos símbolos especiales:\n",
    "\n",
    "  #Log perplexity calculada para cada oracion:\n",
    "  log_prob=calculate_sent_prob(trigram_probs, sentence, 3)\n",
    "  perplexity=-(log_prob/len(sentence)-1)\n",
    "  pp.append(perplexity)\n",
    "\n",
    "\n",
    "#promedio de las log perplexity:\n",
    "total_perplexity= sum(pp) / len(pp)\n",
    "print(total_perplexity)"
   ]
  },
  {
   "cell_type": "markdown",
   "metadata": {
    "id": "_B3jZhXvfOhU"
   },
   "source": [
    "Para evaluar un modelo se utiliza como medida la (log) perplejidad o *perplexity*"
   ]
  },
  {
   "cell_type": "markdown",
   "metadata": {
    "id": "mIpYWhzEBJCo"
   },
   "source": [
    "### Comparando con un modelo de bigramas"
   ]
  },
  {
   "cell_type": "code",
   "execution_count": 178,
   "metadata": {
    "id": "YRqfISpJte2H"
   },
   "outputs": [],
   "source": [
    "bigram_model = defaultdict(lambda: defaultdict(lambda: 0))"
   ]
  },
  {
   "cell_type": "code",
   "execution_count": 179,
   "metadata": {
    "id": "yaQaaDbPte2Q"
   },
   "outputs": [],
   "source": [
    "N = 2\n",
    "for sentence in reuters.sents():\n",
    "    # Obtenemos los ngramas normalizados\n",
    "    n_grams = ngrams(preprocess(sentence), N)\n",
    "    # Guardamos los bigramas en nuestro diccionario\n",
    "    for w1, w2 in n_grams:\n",
    "        bigram_model[w1][w2] += 1"
   ]
  },
  {
   "cell_type": "code",
   "execution_count": 180,
   "metadata": {
    "colab": {
     "base_uri": "https://localhost:8080/"
    },
    "id": "qy3OA06ate2S",
    "outputId": "3e9e09d1-393a-437e-e698-c2ad8e24a758"
   },
   "outputs": [
    {
     "data": {
      "text/plain": [
       "defaultdict(<function __main__.<lambda>.<locals>.<lambda>()>,\n",
       "            {'from': 1,\n",
       "             'are': 10,\n",
       "             'at': 5,\n",
       "             'to': 5,\n",
       "             'storage': 1,\n",
       "             'with': 20,\n",
       "             '.': 29,\n",
       "             'for': 11,\n",
       "             'leading': 1,\n",
       "             'and': 19,\n",
       "             'in': 21,\n",
       "             ',': 23,\n",
       "             'like': 1,\n",
       "             'of': 19,\n",
       "             'develop': 1,\n",
       "             'on': 1,\n",
       "             'remains': 1,\n",
       "             'britain': 1,\n",
       "             'worse': 1,\n",
       "             'japan': 2,\n",
       "             'through': 1,\n",
       "             'some': 1,\n",
       "             'when': 1,\n",
       "             'earlier': 1,\n",
       "             'due': 3,\n",
       "             'affecting': 1,\n",
       "             'would': 2,\n",
       "             'caused': 1,\n",
       "             'bedevilling': 1,\n",
       "             'that': 7,\n",
       "             '...': 2,\n",
       "             '.\"': 6,\n",
       "             '\"': 3,\n",
       "             'initially': 1,\n",
       "             ',\"': 5,\n",
       "             'there': 1,\n",
       "             'were': 2,\n",
       "             '..': 1,\n",
       "             'involving': 1,\n",
       "             'adding': 1,\n",
       "             'over': 3,\n",
       "             'integrating': 1,\n",
       "             'was': 2,\n",
       "             'raised': 1,\n",
       "             'combining': 1,\n",
       "             '-': 2,\n",
       "             'cut': 1,\n",
       "             'according': 1,\n",
       "             'strikes': 1,\n",
       "             'getting': 1,\n",
       "             'this': 2,\n",
       "             'as': 3,\n",
       "             'because': 1,\n",
       "             'hampering': 1,\n",
       "             'southwest': 1,\n",
       "             'mean': 1,\n",
       "             'remain': 2,\n",
       "             'prompted': 1,\n",
       "             'facing': 3,\n",
       "             'repaying': 1,\n",
       "             'marketing': 1,\n",
       "             'concerning': 2,\n",
       "             'owing': 1,\n",
       "             'but': 1,\n",
       "             'seem': 1,\n",
       "             'resolved': 1,\n",
       "             'will': 1,\n",
       "             'between': 3,\n",
       "             'inherent': 1,\n",
       "             'have': 2,\n",
       "             'confronting': 1,\n",
       "             'during': 1,\n",
       "             ':': 1,\n",
       "             'continuing': 1})"
      ]
     },
     "execution_count": 180,
     "metadata": {},
     "output_type": "execute_result"
    }
   ],
   "source": [
    "bigram_model[\"problems\"]"
   ]
  },
  {
   "cell_type": "code",
   "execution_count": 181,
   "metadata": {
    "colab": {
     "base_uri": "https://localhost:8080/"
    },
    "id": "f-s0A9tste2U",
    "outputId": "0fb1be6c-9249-4a11-c7f1-f8dac138c64a"
   },
   "outputs": [
    {
     "name": "stdout",
     "output_type": "stream",
     "text": [
      "('<BOS>', defaultdict(<function <lambda>.<locals>.<lambda> at 0x7fd58d6d7ac0>, {'asian': 4, 'they': 447, 'but': 1055, 'the': 8865, 'unofficial': 2, '\"': 3589, 'in': 1385, 'threat': 2, 'taiwan': 91, 'retaliation': 4, 'a': 764, 'last': 204, 'much': 8, 'he': 1592, 'meanwhile': 41, 'japan': 275, 'deputy': 8, 'china': 84, 'it': 1770, 'miti': 12, 'nuclear': 3, 'thai': 26, 'thailand': 19, 'export': 34, 'products': 4, 'indonesia': 55, 'prices': 46, 'harahap': 2, 'indonesian': 21, 'australian': 49, 'cargo': 3, 'trading': 27, 'physical': 2, 'rubber': 7, 'robusta': 2, 'no': 116, 'trade': 68, 'nainggolan': 1, 'officials': 58, 'transactions': 2, 'total': 120, 'sri': 14, 'western': 35, 'bundey': 1, 'annual': 5, 'sumitomo': 7, 'osaka': 1, 'some': 181, 'others': 11, 'now': 21, 'among': 57, 'regulations': 1, 'we': 73, 'komatsu': 2, 'article': 2, 'that': 105, 'until': 15, 'like': 6, 'subroto': 10, 'asked': 130, 'bundesbank': 53, 'banks': 39, 'dealers': 119, 'two': 34, 'bond': 21, 'atlas': 6, 'wilson': 16, 'its': 88, 'industrial': 23, 'demands': 3, 'agriculture': 22, 'insists': 2, 'australia': 28, 'end': 7, 'u': 866, 'suppliers': 4, 'beef': 3, 'other': 112, 'imports': 50, 'an': 140, 'position': 8, 'agricultural': 7, 'to': 69, 'amatil': 2, 'shareholders': 13, 'industries': 6, 'bowater': 3, 'partly': 14, 'south': 64, 'wants': 7, 'kim': 9, 'finns': 1, 'most': 79, 'canadian': 70, 'finland': 4, 'cra': 10, 'whim': 1, 'as': 200, 'german': 93, 'new': 105, 'analysts': 214, 'profit': 7, 'citibank': 15, 'foreign': 59, 'earlier': 156, 'vieille': 3, 'ec': 134, 'stand': 1, 'spain': 25, 'michael': 7, 'armacost': 2, 'this': 448, 'north': 25, 'anheuser': 2, 'ramon': 2, 'diaz': 4, 'economic': 27, 'high': 14, 'fund': 1, 'official': 22, 'while': 104, 'if': 175, 'offshore': 6, 'reserve': 7, 'apart': 6, 'crucial': 1, 'bankers': 50, 'factors': 1, 'there': 170, 'kuwait': 29, 'oil': 65, 'external': 2, 'cabinet': 5, 'malaysia': 34, 'output': 28, 'palm': 5, 'soybean': 61, 'jardine': 15, 'monier': 6, 'redland': 2, 'locke': 1, 'isuzu': 2, 'japanese': 60, 'kuroda': 3, 'bell': 11, 'nippon': 26, 'keswick': 2, 'however': 394, 'bank': 196, 'san': 12, 'cojuangco': 3, 'his': 30, 'de': 40, 'on': 205, 'smc': 2, 'soriano': 2, 'rain': 8, 'mills': 5, 'although': 95, 'elsewhere': 4, 'initial': 5, 'french': 84, 'italy': 25, 'consolidated': 25, 'iniziativa': 1, 'nickel': 1, 'shearson': 17, 'higher': 10, 'poehl': 33, 'all': 65, 'cincinnati': 1, 'california': 9, 'for': 212, 'pall': 1, 'unilever': 15, 'chesebrough': 2, 'immediately': 3, 'nine': 12, 'conrac': 17, 'mark': 13, 'computer': 30, 'rubbermaid': 4, 'independent': 6, 'lammers': 1, 'electro': 7, 'wtc': 6, 'mead': 4, 'today': 54, 'cayuga': 1, 'johnstown': 2, 'net': 134, 'home': 17, 'geodynamics': 1, 'swedish': 14, 'compaq': 2, 'rod': 2, 'i': 61, 'international': 50, 'terms': 136, 'hawaiian': 3, 'cxr': 2, 'proxmire': 5, 'speaking': 43, 'rather': 4, 'helen': 1, 'brazil': 74, 'assuming': 6, '&': 313, 'uk': 36, 'stoltenberg': 47, 'and': 67, 'intervention': 20, 'out': 9, 'received': 3, 'paris': 7, 'cumulative': 11, 'amertek': 2, 'alex': 3, 'town': 2, 'paxar': 1, 'ownership': 2, 'entourage': 2, 'f': 10, 'woolworth': 28, 'dutch': 41, 'conditions': 4, 'only': 32, 'j': 28, 'volkswagen': 2, 'vw': 9, 'when': 40, 'share': 23, 'company': 54, 'parent': 25, 'citytrust': 1, 'southmark': 15, 'loan': 7, 'firstbanc': 1, 'mayfair': 4, 'hanover': 2, 'national': 93, 'security': 18, 'universal': 12, 'zambia': 9, 'wedgestone': 1, 'sun': 21, 'further': 20, 'rains': 6, 'producers': 31, 'deterioration': 1, 'area': 2, 'maize': 10, 'production': 54, 'sorghum': 15, 'harvest': 3, 'preparation': 1, '8': 1, 'top': 14, 'also': 47, 'monetary': 13, 'italian': 19, 'at': 193, 'fed': 177, 'economists': 61, 'reader': 1, 'weis': 2, 'continental': 32, 'translated': 1, 'sci': 3, 'bristol': 6, 'fidelcor': 4, 'data': 17, 'energy': 27, 'petrochemical': 2, 'demand': 7, 'oreffice': 2, 'gaf': 29, 'dosher': 1, 'finally': 8, 'another': 78, 'specialty': 3, 'houston': 14, 'chairman': 15, 'garo': 1, 'armen': 1, 'fidata': 1, 'quarter': 5, 'marble': 1, 'dominion': 10, 'raytheon': 5, 'fleet': 17, 'diebold': 1, 'waltham': 2, 'payable': 2, 'earnings': 25, 'dufour': 2, 'burlington': 18, 'revenues': 28, 'general': 95, '1986': 152, 'cocoa': 26, 'major': 26, 'honduras': 5, '2': 7, 'hrw': 1, 'offers': 7, 'morgan': 23, 'after': 83, 'excluding': 11, 'non': 26, 'ministry': 9, 'brito': 1, 'murray': 5, 'rowe': 2, 'reuters': 6, 'hogg': 1, 'ccl': 3, 'rhodes': 2, 'madeira': 1, 'celltronics': 1, 'montedison': 7, 'agrimont': 2, 'ferruzzi': 12, 'datron': 5, 'according': 57, 'upon': 9, 'trump': 12, 'sound': 1, 'telecrafter': 1, 'tunisia': 3, 'france': 22, 'of': 41, 'colt': 2, 'prior': 56, 'yankee': 3, 'united': 47, 'canada': 110, 'saunders': 3, 'harcourt': 25, 'talking': 19, 'edelman': 12, 'wall': 27, 'arbitragers': 8, 'she': 64, 'masland': 1, 'edward': 2, 'west': 49, 'sterivet': 4, 'makoto': 1, 'both': 69, 'president': 48, 'congressional': 10, 'about': 45, 'reagan': 58, 'hoechst': 12, 'mellon': 11, 'stock': 3, 'preston': 3, 'white': 21, 'dow': 16, 'walgreen': 4, 'judy': 1, 'orange': 5, 'current': 55, 'lord': 10, 'heineken': 7, 'turnover': 24, 'vice': 6, 'africa': 3, 'colombia': 31, 'samuel': 1, 'turkey': 16, 'greece': 11, 'frontier': 3, 'gatt': 17, 'aart': 1, 'committee': 1, 'house': 25, 'later': 9, 'tomorrow': 7, 'southington': 1, 'caterpillar': 4, 'corrected': 22, '(': 45, 'medtronic': 3, 'winston': 1, 'wallin': 5, 'regulators': 1, 'glen': 1, 'siemens': 11, 'spie': 3, 'talks': 17, 'delegates': 27, 'pakistan': 23, 'baluch': 1, 'tranzonic': 2, 'presidential': 3, 'fitzwater': 6, 'showboat': 4, 'houssels': 1, 'despite': 47, 'ecuador': 61, 'iraqi': 6, 'iraq': 27, 'golden': 7, 'group': 40, 'usda': 135, 'donald': 8, 'union': 49, 'ual': 15, 'takeover': 4, 'traders': 79, 'market': 30, 'hartmarx': 3, 'meinert': 2, 'ghana': 9, 'irna': 5, 'heller': 8, 'widespread': 2, 'full': 29, 'finance': 43, 'european': 27, 'kenneth': 6, 'morrison': 8, 'fsis': 1, 'salmonella': 1, 'blaylock': 1, 'subcommittee': 3, 'said': 14, 'chrysler': 33, 'under': 251, 'rite': 3, 'airsensors': 1, 'ge': 6, 'aerospace': 1, 'teck': 7, 'copper': 10, 'cominco': 14, 'townson': 1, 'banponce': 1, 'xebec': 4, 'ibm': 6, 'ccc': 34, 'egypt': 16, 'broker': 2, 'kiena': 3, 'record': 7, 'day': 8, 'during': 43, 'ite': 1, 'mexican': 5, 'vulcan': 5, 'miller': 9, 'strata': 3, 'dayton': 9, 'nat': 5, 'comments': 3, 'cascade': 2, 'armel': 2, 'proceeds': 18, 'management': 9, 'wojnilower': 2, 'raytech': 2, 'raybestos': 1, 'intercare': 6, 'executives': 2, 'carney': 9, 'short': 9, 'iae': 1, 'stewart': 7, 'westamerica': 2, 'southeast': 4, 'based': 23, 'williams': 18, 'companywide': 1, 'super': 3, 'parker': 7, 'coffee': 34, 'hbo': 1, 'andover': 1, 'uap': 1, 'eia': 13, 'hawkeye': 3, '\"...': 3, 'dome': 56, 'recent': 21, 'gasoline': 16, 'so': 22, 'year': 48, 'deficit': 2, 'similarly': 5, 'federal': 42, 'such': 37, 'volcker': 43, 'kemper': 2, 'collander': 1, 'shr': 34, 'nobody': 1, 'without': 15, 'gateway': 6, 'more': 58, 'american': 161, 'their': 18, 'cash': 13, 'reuter': 51, 'koehler': 3, 'speculative': 3, 'given': 12, 'unadjusted': 19, 'csr': 22, 'nihon': 2, 'showa': 3, 'mpt': 2, 'washington': 34, 'close': 2, 'recognized': 1, 'many': 41, 'diplomatic': 8, 'critics': 3, 'providing': 1, 'g': 14, '1': 9, '3': 12, 'money': 42, 'rio': 9, 'burmah': 5, 'separately': 14, 'currency': 22, 'though': 11, 'soviet': 40, 'statistics': 5, 'moscow': 9, 'final': 20, 'pre': 12, 'minorities': 3, 'extraordinary': 9, 'note': 80, 'rtz': 2, 'consumption': 5, 'pretax': 5, 'metals': 2, 'bridgestone': 1, 'operators': 7, 'gebrueder': 1, 'dividend': 17, 'eishiro': 5, 'takashi': 3, 'saito': 5, 'pergamon': 1, 'nationale': 1, 'shanghai': 2, 'part': 5, 'saudi': 57, 'several': 31, 'spot': 18, 'three': 16, 'commercial': 15, 'belgium': 13, 'philippine': 14, 'lazo': 2, 'pldt': 3, 'cargill': 12, 'price': 17, 'india': 44, 'oecf': 1, 'ccf': 1, 'planned': 2, 'previously': 26, 'johnson': 20, 'previous': 5, 'platinum': 3, 'lex': 6, 'these': 80, 'mepc': 1, 'george': 4, 'operating': 19, 'aegon': 8, 'interim': 2, 'february': 36, 'just': 3, 'one': 148, 'miyazawa': 51, 'natned': 1, 'claim': 1, 'assets': 17, '9': 3, 'merchandise': 3, 'theodor': 2, 'london': 39, 'concern': 8, 'dave': 3, 'chase': 22, 'alois': 1, 'any': 25, 'call': 15, 'holdings': 3, 'tokyo': 21, 'swiss': 24, 'subscriptions': 4, 'frankfurt': 1, 'shortly': 5, 'revenue': 7, 'health': 9, 'damage': 2, 'annuities': 1, 'large': 4, 'monumental': 1, 'yen': 4, 'marc': 2, 'will': 3, 'unifirst': 1, 'step': 1, 'coast': 2, 'central': 41, 'bramall': 3, 'payment': 15, 'each': 31, 'fao': 6, 'world': 47, 'cb': 4, 'xicor': 1, 'wimpey': 1, 'c': 17, 'datatrak': 1, 'todd': 8, 'clevite': 7, 'suntrust': 2, 'results': 38, 'philip': 12, 'colonial': 10, 'rpt': 4, 'sunflowerseed': 5, 'argentine': 23, 'maximun': 1, 'physio': 3, 'crude': 28, 'product': 1, 'may': 26, 'ponce': 2, 'lebanese': 1, 'brown': 32, 'moderately': 1, 'grain': 43, 'hog': 9, 'cattle': 12, 'whirlpool': 3, 'brazilian': 26, 'schlesinger': 9, 'aside': 3, 'responding': 3, 'sao': 4, 'minas': 3, 'e': 22, 'gemina': 1, 'kiichi': 1, 'bonn': 9, 'sharp': 11, 'global': 10, 'imf': 3, 'since': 63, 'debtor': 1, 'spanish': 7, 'cuevas': 2, 'lead': 10, 'delayed': 1, 'merchant': 6, 'specific': 3, 'gothenburg': 1, 'warehouses': 1, 'labour': 10, 'noranda': 21, 'rexham': 6, '1987': 47, 'first': 140, 'fhlbb': 10, 'anchor': 5, 'waccamaw': 1, 'asarco': 3, 'hutton': 27, 'purolator': 18, 'following': 29, 'pc': 1, 'abbott': 5, 'actual': 9, 'taking': 5, 'simultaneously': 1, 'certificated': 2, 'reichhold': 12, 'details': 10, 'hanson': 17, 'exports': 76, 'exxon': 25, 'sallie': 2, 'freddie': 3, 'yugoslavia': 4, 'federated': 12, 'bags': 1, 'highland': 1, 'lvi': 6, 'texas': 29, 'vornado': 2, 'brenda': 1, 'financial': 22, 'phoenix': 4, 't': 6, 'heritage': 4, 'oswald': 1, 'yesterday': 59, 'diamond': 24, 'lawson': 63, 'therefore': 2, 'barley': 8, 'rebates': 3, 'potato': 1, 'farmers': 19, 'april': 17, 'bill': 3, 'harris': 12, 'sources': 10, '.': 5, 'canam': 2, 'stability': 1, 'reported': 1, 'small': 10, 'dollar': 29, 'koch': 3, 'bundebank': 1, 'hopes': 1, 'euromark': 1, 'eurodollars': 1, 'sterling': 27, 'ems': 2, 'humana': 11, 'met': 3, 'ford': 17, 'armco': 3, 'bradford': 2, 'usx': 17, 'applebaum': 2, 'peter': 10, 'dekalb': 2, 'research': 4, 'sales': 62, 'hospital': 7, 'eastern': 6, 'yield': 6, 'lbs': 1, 'hot': 2, 'nearly': 7, 'cotton': 16, 'treasury': 62, 'rjr': 5, 'unlike': 4, 'baker': 96, 'time': 4, 'sprinkel': 12, 'royal': 36, 'rule': 4, 'henry': 8, 'income': 6, 'weather': 8, 'waste': 23, 'branch': 2, 'kurz': 1, 'due': 6, 'zayre': 5, 'baybanks': 2, 'student': 1, 'fire': 1, 'five': 9, 'jp': 3, 'john': 16, 'meditrust': 2, 'monsanto': 6, 'searle': 1, 'gilgore': 1, 'status': 1, 'betz': 1, 'northwestern': 1, 'elevator': 3, 'foothill': 3, 'completion': 12, 'fab': 1, 'northern': 12, 'reference': 3, 'tbn': 1, 'enquiries': 3, 'inchon': 1, 'reunion': 1, 'naantali': 1, 'dunkirk': 1, 'toledo': 3, 'river': 3, 'amoskeag': 5, 'msr': 1, 'proved': 3, 'holders': 12, 'taft': 33, 'analyst': 18, 'overall': 15, 'brennan': 7, 'lawrence': 2, 'penney': 7, 'hudson': 16, 'mortner': 1, 'march': 5, 'retailers': 5, 'morocco': 2, 'midlantic': 3, 'community': 6, 'fitchburg': 1, 'should': 6, 'doe': 9, 'protective': 1, 'smith': 12, 'vlsi': 1, 'belgian': 20, 'private': 22, 'silicon': 1, 'disease': 1, 'normally': 5, 'commenting': 38, 'zimbabwe': 10, 'projected': 3, 'shawmut': 2, 'minntech': 2, 'gordex': 4, 'congressman': 3, 'sugar': 12, 'representatives': 8, 'republic': 10, 'periods': 2, 'coniston': 2, 'tenders': 5, 'consensus': 2, 'slater': 2, 'city': 11, 'allied': 40, 'magma': 7, 'centerre': 2, 'sea': 4, 'stockpile': 2, 'responsibility': 2, 'jestin': 1, 'nonaccrual': 1, 'stocks': 10, 'domestic': 39, 'usage': 3, 'wheat': 50, '1985': 83, 'soybeans': 8, 'crushings': 2, 'florida': 9, 'ussr': 13, 'spring': 2, 'acreage': 1, 'corn': 22, 'hard': 6, 'x': 9, 'soft': 2, 'durum': 1, 'stop': 4, 'y': 6, 'nil': 1, '302': 1, '301': 1, '82': 1, '260': 1, '04': 1, 'feedgrains': 2, 'seasons': 1, '-': 52, 'season': 2, 'soy': 1, 'average': 13, 'rice': 11, 'n': 57, 'oats': 5, 'long': 5, '--': 26, 'medium': 3, 'notes': 7, 'faygo': 1, 'audio': 7, 'fluorocarbon': 5, 'seasonal': 3, 'exporters': 42, 'disney': 3, 'shamrock': 10, 'frost': 5, 'rai': 2, 'centel': 5, 'with': 59, 'james': 14, 'coarse': 2, 'use': 5, 'adams': 6, 'petroleum': 8, 'selling': 6, 'sony': 5, 'bread': 3, 'winn': 2, 'temples': 1, 'newhall': 4, 'westinghouse': 9, 'lichtblau': 6, 'development': 4, 'including': 9, 'natl': 2, 'level': 6, 'nspa': 5, 'fundamental': 6, 'acquisition': 1, 'industry': 36, 'by': 36, 'fcoj': 3, 'retail': 11, 'bulk': 2, 'inventory': 2, 'ohio': 11, 'la': 4, 'louisiana': 9, 'patient': 2, 'napco': 3, 'mcdonnell': 2, 'location': 1, 'activity': 2, 'combined': 16, 'mexico': 13, 'danworth': 1, 'bsd': 1, 'eastover': 1, 'borrowings': 4, 'float': 2, 'bevis': 2, 'jacor': 2, 'polycast': 2, 'beverly': 1, 'netback': 2, 'brent': 5, 'sour': 2, 'attaka': 1, 'nerci': 1, 'nerco': 4, 'gains': 2, 'live': 6, 'trustcorp': 1, 'napa': 1, 'great': 36, 'moore': 9, 'goodrich': 5, 'firm': 8, 'gabelli': 14, 'partnership': 6, 'delmed': 1, 'cadillac': 4, 'winterhalter': 1, 'chilean': 4, 'wednesday': 3, 'sullivan': 1, 'still': 11, 'citing': 7, 'valex': 1, 'dlrs': 51, 'institutional': 2, 'millet': 1, 'interest': 19, 'bonds': 2, 'norman': 1, 'stephen': 4, 'marris': 3, 'robertson': 3, 'giordano': 5, 'chancellor': 2, 'throughout': 3, 'state': 12, 'edible': 2, 'mobil': 19, 'shinji': 1, 'fukukawa': 1, 'smuggling': 1, 'rigaud': 2, 'hasco': 1, 'laid': 1, 'wang': 11, 'siew': 6, 'british': 57, 'corporate': 6, 'howard': 7, 'cable': 19, 'sama': 6, 'uganda': 7, 'hundreds': 1, 'banking': 18, 'cmb': 1, 'w': 2, 'dry': 3, 'affected': 1, 'registered': 3, 'hungary': 11, 'from': 11, 'mti': 5, 'chinese': 12, 'pakistani': 2, 'cuts': 4, 'inflation': 19, 'electrolytic': 1, 'texaco': 27, 'kinnear': 1, 'pennzoil': 8, 'joseph': 1, 'attorneys': 1, 'paton': 3, 'wmc': 1, 'yugoslav': 5, 'personal': 11, 'prime': 18, 'mikulic': 1, 'yugoslavs': 1, 'anz': 10, 'uae': 6, 'customs': 7, 'singapore': 18, 'offer': 2, 'transcanada': 13, 'calgary': 3, 'payments': 5, 'gowland': 2, 'bangladesh': 15, 'rothmans': 2, 'morris': 1, 'senior': 14, 'carries': 2, 'burgeoning': 1, 'britain': 21, 'kenya': 5, 'awb': 3, 'condon': 1, 'before': 14, 'norcros': 6, 'oral': 2, 'het': 6, 'grindings': 1, 'st': 16, 'fees': 2, 'listing': 2, 'commonwealth': 13, 'hepworth': 1, 'merlin': 1, 'institutes': 2, 'contrary': 2, 'ifo': 2, 'blue': 5, 'six': 18, 'borg': 29, 'merrill': 35, 'statoil': 12, 'ptt': 2, 'credit': 7, 'gross': 17, 'glaxo': 3, 'hillsdown': 5, 'companies': 6, 'along': 5, 'once': 9, 'nichols': 2, 'common': 3, 'lme': 5, 'sows': 1, 'what': 7, 'worse': 1, 'publicly': 1, 'aggression': 1, 'industrialists': 1, 'metal': 4, 'duncan': 1, 'bangemann': 10, 'istat': 7, 'fixed': 2, 'nor': 8, 'outgoing': 1, 'acknowledging': 2, 'darman': 6, 'ministers': 12, 'growth': 21, 'schmahl': 2, 'arthur': 1, 'deposit': 1, 'king': 8, 'crazy': 12, 'thirty': 4, 'called': 1, 'bentsen': 6, 'departing': 1, 'sosnoff': 37, 'compact': 1, 'because': 28, 'neworld': 2, 'usair': 62, 'husain': 1, 'portuguese': 7, 'cavaco': 2, 'businessmen': 2, 'portugal': 6, 'brokers': 10, 'investment': 27, 'soares': 1, 'corona': 1, 'royex': 8, 's': 34, 'independence': 4, 'columbia': 5, 'recently': 1, 'noting': 13, 'p': 21, 'glatfelter': 8, 'family': 5, 'sight': 4, 'goodyear': 13, 'tariff': 3, 'ncr': 10, 'rotterdam': 8, 'lindberg': 2, 'klopfenstein': 3, 'galileo': 2, 'boston': 9, 'spiller': 1, 'coopervision': 8, 'montgomery': 3, 'alp': 1, 'reebok': 3, 'blount': 1, 'backlog': 9, 'giant': 4, 'richards': 1, 'merry': 2, 'irving': 11, 'o': 9, 'park': 4, 'nvhomes': 2, '13': 3, 'dillard': 4, 'chemical': 18, 'pentland': 7, 'is': 3, 'figures': 14, 'afg': 3, 'work': 6, 'petsos': 1, 'h': 23, 'joske': 2, 'cain': 1, 'robert': 19, 'targeted': 1, 'order': 1, 'genetics': 5, 'entre': 3, 'standard': 41, 'pennsylvania': 2, 'period': 4, 'allwaste': 8, 'scott': 12, 'foster': 6, 'stearns': 2, 'bulgaria': 2, 'fields': 3, 'spotty': 1, 'elcor': 2, 'abington': 1, 'diplomats': 18, 'investor': 22, 'kahn': 4, 'trans': 9, 'solitron': 1, 'peoples': 9, 'stuart': 1, 'clayton': 4, 'swift': 4, 'desptp': 1, 'angell': 1, 'franklin': 23, 'provision': 3, 'laser': 5, 'buitoni': 4, 'vismara': 1, 'mcgraw': 2, 'oak': 6, 'electronic': 3, 'revlon': 14, 'adds': 1, 'biotech': 3, 'measured': 3, 'myers': 5, 'gte': 9, 'resdel': 2, 'people': 2, 'micro': 2, 'square': 1, 'triton': 8, 'allegheny': 29, 'inc': 2, 'macandrews': 9, 'drexel': 5, 'real': 5, 'dataproducts': 1, 'jannock': 3, 'electrohome': 1, 'salick': 1, 'amsouth': 2, 'voplex': 2, 'hadson': 3, 'seaxe': 2, 'arrays': 1, 'gobert': 3, 'clark': 10, 'theodore': 1, 'mercer': 5, 'celeron': 1, 'concerning': 7, 'ab': 1, 'corrects': 3, 'includes': 8, 'aristech': 8, 'addressing': 3, 'marshall': 4, 'us': 12, 'contract': 5, 'brand': 1, 'boothe': 2, 'atlantic': 11, 'centurion': 1, 'obviously': 1, 'henderson': 11, 'charles': 6, 'rose': 4, 'pueblo': 2, 'lewis': 5, 'ccx': 1, 'gander': 4, 'wells': 7, 'comerica': 3, 'champion': 10, 'spearhead': 1, 'kdi': 4, 'rj': 1, 'reynolds': 18, 'software': 4, 'nathan': 1, 'jones': 12, 'leslie': 1, 'utah': 2, 'ericsson': 6, 'computrac': 1, 'nova': 10, 'blair': 2, 'barnett': 2, 'honeywell': 19, 'leung': 1, 'homestake': 2, 'conger': 10, 'chronar': 1, 'empire': 3, 'brooklyn': 8, 'int': 6, 'better': 2, 'orders': 10, 'mgm': 1, 'interfirst': 3, 'kuwaiti': 5, 'willamette': 1, 'marine': 13, 'fourth': 10, 'del': 6, 'webb': 1, 'canandaigua': 1, 'commerce': 22, 'between': 21, 'currently': 20, 'oneok': 2, 'manufacturers': 13, 'bankruptcy': 1, 'flagler': 1, 'loans': 10, 'burnham': 2, 'opposition': 3, 'dauphin': 2, 'balances': 8, 'cellular': 3, 'athlone': 1, 'plantronics': 1, 'abu': 4, 'khalaf': 1, 'opec': 40, 'oteiba': 2, 'refined': 4, 'rhnb': 1, 'kraft': 5, 'lomak': 2, 'newmont': 15, 'bankeast': 2, 'ust': 2, 'interco': 6, 'hmo': 2, 'arrangements': 1, 'closing': 17, 'everest': 2, 'ps': 2, 'accepted': 2, 'hong': 13, 'northair': 1, 'ncnb': 2, 'isc': 1, 'modernization': 1, 'gulf': 34, 'convergent': 5, 'dotronix': 4, 'develcon': 1, 'mcfadden': 1, 'valley': 5, 'otter': 1, 'potlatch': 1, 'diceon': 2, 'symtron': 1, 'cepe': 1, 'haitian': 1, 'construction': 8, 'koo': 2, 'hideo': 2, 'kato': 6, 'lyng': 41, 'put': 2, 'complaints': 5, 'maki': 2, '60': 1, 'tan': 1, 'paper': 4, 'junichiro': 1, 'ldp': 2, 'abe': 2, 'koizumi': 2, 'zhang': 3, 'chit': 1, 'spending': 2, 'reducing': 1, 'direct': 4, 'changing': 1, 'employers': 3, 'consumer': 27, 'powerful': 1, 'reform': 1, 'oecd': 16, '\"(': 7, 'baldrige': 33, 'congress': 8, 'pioneer': 12, 'oakite': 1, 'bha': 1, 'charge': 1, 'double': 1, 'electromagnetic': 1, 'cape': 1, 'holiday': 4, 'cadnetix': 1, 'bush': 3, 'plasti': 1, 'endata': 1, 'roto': 2, 'dynamics': 7, 'martin': 10, 'bildner': 1, 'amoco': 20, 'imperial': 15, 'chicago': 9, 'gorman': 1, 'lilly': 6, 'grumman': 1, 'ambrit': 3, 'insee': 4, 'rlc': 1, 'fresh': 3, 'ten': 4, 'employees': 1, 'budget': 3, 'edwin': 2, 'semi': 2, 'yeutter': 71, 'church': 1, 'reportedly': 1, 'ortner': 6, 'foundation': 1, 'calny': 8, 'rowan': 2, 'care': 1, 'lance': 1, 'over': 27, 'quarterly': 2, 'plans': 5, 'communications': 5, 'hytek': 1, 'tvi': 1, 'riggs': 2, 'northwest': 4, 'kentucky': 4, 'kimbark': 1, 'southern': 13, 'icn': 8, 'dixons': 38, 'busy': 1, 'crandall': 2, 'spokesman': 8, 'tamura': 2, 'measures': 3, 'southam': 5, 'loctite': 2, 'glenfed': 1, 'oper': 8, 'horizon': 10, 'discount': 4, 'moreover': 13, 'required': 1, 'second': 9, 'thus': 7, 'jeffrey': 2, 'leeds': 1, 'rorer': 2, 'mild': 1, 'mario': 3, 'comsat': 1, 'm': 42, 'westpac': 9, 'elders': 12, 'drilling': 3, 'espinosa': 3, 'perry': 3, 'lost': 1, 'iran': 32, 'velayati': 2, 'toshiba': 7, 'pump': 1, 'peru': 22, 'grade': 6, 'spc': 2, 'seoul': 3, 'supporting': 1, 'antitrust': 2, 'renison': 2, 'alexander': 4, 'ivanov': 1, 'window': 1, 'shell': 35, 'caltex': 4, 'bp': 54, 'romero': 6, 'aflatoxin': 1, 'copra': 1, 'through': 3, 'coconut': 3, 'pca': 2, 'coconuts': 1, 'pemex': 6, 'adrian': 1, 'lajous': 1, 'allegis': 8, 'eighty': 4, 'spectra': 11, 'boeing': 7, 'valor': 1, 'genovese': 2, 'gas': 6, 'processors': 2, 'entertainment': 17, 'onic': 5, 'argosystems': 4, 'observers': 1, 'residents': 3, 'fifteen': 1, 'entertaiment': 1, 'additionally': 8, 'ongc': 2, 'bombay': 2, 'society': 3, 'aramco': 4, 'oklahoma': 3, 'gov': 1, 'cpc': 23, 'borden': 7, 'porex': 2, 'medco': 2, 'woodville': 1, 'advanced': 10, 'mannville': 1, 'orbit': 3, 'video': 7, 'cea': 1, 'berkshire': 2, 'marcade': 4, 'greenman': 1, 'utilities': 3, 'raven': 2, 'pay': 10, 'dividends': 2, 'bilzerian': 15, 'maxwell': 2, 'steinberg': 1, 'supermarkets': 13, 'shares': 11, 'gustaaf': 1, 'woodstock': 1, 'neither': 16, 'coke': 2, 'campeau': 9, 'garfinckel': 1, 'wallace': 3, 'geodyne': 3, 'members': 10, 'detection': 1, 'compromise': 3, 'heidrun': 1, 'fiat': 1, 'speculation': 10, 'technically': 2, 'northgate': 5, 'hawkins': 2, 'diversified': 5, 'fixman': 1, 'insurance': 1, 'little': 8, 'gold': 31, 'silver': 10, 'paul': 9, 'comptek': 1, 'worldwide': 4, 'dataflex': 1, 'polydex': 1, 'kongsberg': 1, 'zimmerman': 3, 'ladd': 2, 'peerless': 3, 'hicks': 3, 'safety': 5, 'breslube': 2, 'alcoa': 6, 'besides': 10, 'liemandt': 1, 'quinn': 2, 'uccel': 1, 'generale': 2, 'elimination': 1, 'pursuant': 2, 'carryover': 1, 'terminal': 1, 'rapid': 1, 'hughes': 27, 'comex': 4, 'computerland': 5, 'piosec': 1, 'tin': 5, 'icco': 21, 'co': 5, 'info': 2, 'usa': 3, 'uni': 1, 'saying': 3, 'free': 4, 'odetics': 1, 'additional': 9, 'basin': 2, 'andriessen': 5, 'bilizerian': 1, 'arbitrageurs': 3, 'drysdale': 1, 'forstmann': 4, 'pharmacontrol': 3, 'fisher': 5, '5300': 2, 'july': 3, 'dan': 3, 'prudential': 7, 'synar': 3, 'headquartered': 2, 'fish': 4, 'trail': 2, 'bass': 12, 'kingsbridge': 1, 'dresser': 7, 'diana': 1, 'wyse': 1, 'link': 1, 'mclain': 1, 'phillips': 15, 'philadelphia': 5, 'atcor': 6, 'uspci': 5, 'augenthaler': 2, 'herb': 1, 'zollinger': 1, 'trigon': 1, 'keystone': 2, 'nppc': 2, 'council': 3, 'ltv': 3, 'charter': 16, 'laurence': 1, 'antar': 1, 'crop': 2, 'investors': 11, 'relations': 2, 'ed': 1, 'cis': 2, 'modulaire': 3, 'gordon': 5, 'hearings': 3, 'ammeen': 1, 'samjens': 4, 'lawyers': 3, 'cont': 6, 'ameribanc': 1, 'venezuela': 27, \"'\": 2, 'azpurua': 10, 'keiichi': 1, 'reflecting': 2, 'court': 10, 'equiticorp': 3, 'alternatively': 2, 'etl': 8, 'esso': 6, 'concerned': 1, 'heavy': 6, 'quotas': 2, 'larger': 1, 'cosmo': 2, 'fujitsu': 4, 'allies': 1, 'nakasone': 27, 'mees': 8, 'malaysian': 13, 'neda': 2, 'fernandez': 5, 'repayments': 7, 'certainly': 1, 'storehouse': 1, 'helmut': 2, 'stad': 3, 'van': 13, 'europeesche': 1, 'duffour': 4, 'aga': 3, 'santos': 27, 'older': 1, 'ute': 2, 'processing': 1, 'tehran': 7, 'shaheen': 1, 'dollars': 14, 'sumita': 48, 'glynwed': 4, 'consideration': 2, 'fip': 1, 'gallaher': 1, 'overnight': 7, 'ship': 1, 'dumez': 5, 'agip': 6, 'carolco': 2, 'lieberman': 3, 'present': 3, 'bomb': 1, 'shops': 1, 'bavadra': 1, 'harnischfeger': 1, 'steven': 3, 'portfolio': 1, 'government': 34, 'justin': 2, 'kevin': 1, 'economist': 13, 'entry': 1, 'seal': 4, 'eni': 3, 'faced': 6, 'against': 3, 'within': 17, 'du': 6, 'basix': 2, 'oncor': 1, 'colombo': 1, 'previewing': 1, 'pointing': 4, 'supply': 3, 'grace': 3, 'herbert': 3, 'comp': 3, 'montrose': 1, 'virginia': 2, 'sarney': 7, 'gdp': 5, 'alimullah': 1, 'greenspan': 5, 'acme': 6, 'excellent': 1, 'irvam': 1, 'pep': 3, 'series': 1, 'chicken': 1, 'haas': 1, 'healthsouth': 2, 'banc': 2, 'orion': 3, 'fn': 2, 'phh': 3, 'turkish': 14, 'hodel': 4, 'judge': 2, 'greenfield': 1, 'richard': 12, 'raycomm': 1, '3m': 1, 'control': 4, 'lukman': 13, 'sweden': 16, 'werner': 3, 'bethmann': 1, 'saarbruecken': 1, 'alcan': 17, 'ost': 1, 'ex': 2, 'carol': 1, 'foreman': 1, 'century': 6, 'danish': 15, 'aep': 2, 'tight': 1, 'charterers': 1, 'leutwiler': 3, 'ciba': 2, 'arco': 11, 'heating': 5, 'rising': 4, 'shultz': 14, 'imposed': 2, 'acp': 1, 'ambassadors': 1, 'jamaican': 1, 'cml': 2, 'ball': 5, 'nodaway': 2, 'need': 1, 'gamma': 1, 'skyline': 4, 'soycomplex': 1, 'farmer': 1, 'futures': 4, 'kaufman': 6, 'pipeline': 1, 'stevens': 2, 'monday': 4, 'neti': 1, 'pacificorp': 1, 'thomas': 7, 'fmc': 1, 'vbi': 2, 'lynch': 6, 'was': 4, 'overseas': 8, 'hyman': 1, 'b': 14, 'theys': 1, 'petromont': 1, 'quebec': 3, 'mueller': 6, 'fuel': 3, 'sims': 5, 'viacom': 19, 'asamera': 7, 'carsey': 1, 'wesbanco': 1, 'municipal': 1, 'aaron': 3, 'holllinger': 1, 'montreal': 1, 'black': 4, 'daily': 5, 'knight': 2, 'hollinger': 3, 'algonquin': 1, 'timberline': 1, 'liberal': 1, 'phelps': 10, 'durham': 4, 'intermetco': 1, 'professor': 2, 'textile': 2, 'cbo': 1, 'plantings': 1, 'cereal': 1, 'oilseeds': 2, 'woodward': 1, 'api': 30, 'stockholders': 2, 'late': 15, 'costs': 3, 'stacy': 1, 'supporters': 1, 'sen': 10, 'glenn': 4, 'warner': 4, 'colombian': 6, 'wickes': 10, 'dura': 1, 'verac': 2, 'alberta': 2, 'rapeseed': 4, 'soil': 2, 'totally': 2, 'seasonally': 15, 'strong': 5, 'freedom': 8, 'partially': 4, 'seng': 1, 'merchants': 3, 'venezuelan': 3, 'conservative': 2, 'near': 4, 'furthermore': 8, 'wholesale': 5, 'ess0': 1, 'exercise': 2, 'abeles': 1, 'america': 3, 'ansett': 1, 'dairy': 5, 'mazda': 1, 'compound': 1, 'berisford': 2, 'preliminary': 4, 'chung': 1, 'gnp': 4, 'austrian': 3, 'prebble': 3, 'arab': 5, 'allocations': 1, 'contractual': 1, 'claims': 4, 'balladur': 17, 'fiji': 1, 'ganilau': 3, 'crushing': 1, 'growers': 9, 'unit': 5, 'manufacturing': 14, 'senators': 5, 'senator': 8, 'garn': 1, 'four': 12, 'reg': 2, 'div': 5, 'sandvik': 1, 'staffan': 1, 'dbs': 1, 'paues': 1, 'thomson': 5, 'thorn': 1, 'garcin': 1, 'vessel': 1, 'supplies': 2, 'jwt': 5, 'gillette': 14, 'service': 13, 'halcyon': 4, 'cullinet': 1, 'william': 4, 'penwest': 2, 'germany': 2, 'affandi': 5, 'culp': 2, 'rep': 16, 'those': 16, 'ultimately': 2, 'extra': 2, 'problems': 1, 'nigeria': 5, 'paradoxically': 2, 'predicted': 1, 'mr': 4, 'liberty': 10, 'medchem': 2, 'westcoast': 2, 'lomas': 2, 'subsequently': 2, 'becor': 11, 'peviously': 1, 'wages': 1, 'news': 12, 'seger': 2, 'pzena': 1, 'tultex': 4, 'poco': 1, 'coastal': 18, 'southland': 8, 'murphy': 9, 'permian': 7, 'evergood': 1, 'calstar': 1, 'microdyne': 2, 'citgo': 5, 'light': 11, 'increases': 1, 'petro': 12, 'sweet': 3, 'norbert': 1, 'tanghe': 1, 'marathon': 9, 'vaalian': 1, 'convertible': 4, 'steel': 4, 'reached': 2, 'latest': 16, 'prev': 1, '18': 2, 'opening': 5, 'mielke': 1, 'almost': 4, 'pan': 11, 'unocal': 16, 'xerox': 3, 'rank': 7, 'monolithic': 1, 'dupont': 5, 'applied': 7, 'woods': 2, 'tran': 2, 'warren': 1, 'conoco': 6, 'zambian': 5, 'zccm': 6, 'finished': 1, 'protracted': 1, 'mining': 7, 'transport': 3, 'fluor': 2, 'methyl': 1, 'gencorp': 75, 'kelley': 2, 'tanzania': 5, 'msuya': 2, 'diesel': 3, 'leaseway': 3, 'ibc': 16, 'magellan': 5, 'younger': 2, 'legislators': 1, 'godfrey': 1, 'pinnacle': 2, 'rumors': 6, 'rochester': 7, 'pennwalt': 2, 'leader': 4, 'cheyenne': 5, 'crane': 2, 'pengo': 1, 'magic': 1, 'transco': 7, 'take': 1, 'distributors': 1, 'cbc': 3, 'tie': 3, 'itc': 1, 'otherwise': 5, 'future': 3, 'interstate': 3, 'perelman': 1, 'shore': 3, 'minpeco': 2, 'trw': 2, 'triquint': 1, 'force': 1, 'inspiration': 5, 'carter': 6, 'included': 3, 'mandatory': 2, 'harkin': 2, 'heinz': 14, 'thereafter': 2, 'unemployment': 9, 'niskanen': 3, 'luxembourg': 1, 'denmark': 3, 'iceland': 3, 'estimates': 7, 'joint': 2, 'slow': 2, 'squibb': 6, 'eastman': 6, 'cetus': 1, 'fildes': 4, 'tri': 2, 'fall': 1, 'instead': 13, 'coming': 1, 'definitely': 1, 'suhud': 2, 'asahan': 1, 'aluminium': 5, 'sahud': 1, 'chang': 3, 'local': 10, 'keh': 1, 'mitsui': 7, 'zoran': 1, 'fob': 3, 'sainsbury': 5, 'shaw': 2, 'agency': 11, 'kondo': 1, 'yoot': 1, 'reduced': 2, 'delivery': 3, 'inoc': 1, 'evergreen': 2, 'cents': 20, 'formula': 1, 'idemitsu': 1, 'bpcc': 2, 'publisher': 2, 'unions': 2, 'few': 4, 'bi': 3, 'tracomin': 3, 'recoverable': 1, 'sulphur': 1, 'electrospace': 1, 'davis': 4, 'again': 3, 'mtech': 1, 'micron': 3, 'deluxe': 2, 'microsemi': 2, 'secretary': 4, 'botchwey': 1, 'gna': 1, 'leigh': 12, 'base': 6, 'failure': 1, 'poland': 3, 'eletrospace': 1, 'lenders': 3, 'thrifts': 1, 'trustee': 1, 'household': 2, 'young': 2, 'norwegian': 7, 'greyhound': 11, 'trailways': 2, 'apex': 2, 'rhine': 1, 'smit': 2, 'stifel': 4, 'calls': 4, 'salomon': 5, 'minnesota': 2, 'press': 4, 'senate': 15, 'megavest': 1, 'cold': 6, 'licht': 8, 'temperatures': 4, 'cool': 1, 'disputes': 1, 'chevron': 6, 'safeway': 3, 'african': 1, 'pta': 1, 'saskatchewan': 1, 'summerfallow': 1, 'flax': 1, 'areas': 2, 'galaxy': 1, 'overproduction': 1, 'reed': 8, 'synthetic': 2, 'civil': 1, 'chartered': 8, 'jewellery': 1, 'metro': 6, 'chaparral': 1, 'telco': 3, 'altus': 3, 'mars': 2, 'primerica': 2, 'neuman': 1, 'fortune': 7, 'barco': 3, 'irwin': 4, 'costco': 2, 'sithe': 1, 'jacobs': 13, 'rapitech': 1, 'lim': 5, 'vr': 2, 'microwave': 1, 'fairly': 2, 'mid': 2, 'passport': 2, 'savoy': 2, 'latin': 4, 'interests': 4, 'rodriguez': 4, 'rumours': 1, 'dateline': 1, 'tektronix': 5, 'kay': 6, 'npo': 1, 'jon': 3, 'rosenbaum': 4, 'algeria': 7, 'delivered': 1, 'gaughan': 1, 'pacific': 17, 'expects': 1, 'andersen': 1, 'saur': 3, 'ael': 2, 'archer': 1, 'kaufel': 2, 'moran': 1, 'fortier': 1, 'concentrates': 1, 'david': 16, 'shad': 6, 'securities': 4, 'established': 2, 'dwi': 1, 'towle': 3, 'sarcinelli': 1, 'sico': 2, 'shirmax': 1, 'wpp': 3, 'joe': 2, 'tenneco': 11, 'dart': 36, 'rise': 3, 'pipelines': 1, 'maxicare': 2, 'chiron': 1, 'methode': 2, 'housing': 7, 'gramley': 1, 'mauro': 1, 'allen': 1, 'rainer': 1, 'uptrend': 1, 'kahan': 2, 'weak': 1, 'taken': 2, 'september': 4, 'hk': 6, 'police': 4, 'cambio': 1, 'juan': 2, 'august': 1, 'even': 25, 'far': 6, 'refiners': 4, 'qatar': 5, 'willis': 6, 'jawa': 1, 'hisham': 1, 'nazer': 17, 'norway': 23, 'ricoh': 1, 'munim': 1, 'indirect': 1, 'victoria': 2, 'citic': 1, 'remain': 1, 'pasta': 1, 'polish': 2, 'pork': 5, 'extracts': 1, '16': 4, 'protectionism': 4, 'ali': 5, 'fraser': 1, 'ivory': 10, 'precipitation': 2, 'fraternite': 1, 'ivorian': 4, 'tata': 2, 'staley': 7, 'helene': 1, 'le': 3, 'inter': 7, 'lifetime': 4, 'university': 4, 'bsn': 6, 'telecommunications': 2, 'hovnanian': 4, 'armistice': 1, 'utilicorp': 10, 'westwood': 2, 'coradian': 3, 'sikes': 1, 'rbi': 2, 'datacard': 2, 'sheldahl': 3, 'zinn': 1, 'depending': 7, 'chances': 1, 'warships': 7, 'flag': 5, 'shipping': 9, 'rafsanjani': 3, 'cyclops': 22, 'amax': 3, 'dyecast': 1, 'vernitron': 6, 'energas': 1, 'gibraltar': 1, 'winley': 1, 'star': 1, 'cleopatra': 1, 'teledyne': 1, 'mohler': 2, 'illinois': 6, 'sears': 3, 'maxtor': 3, 'storage': 1, 'sec': 8, 'walter': 2, 'wright': 5, 'caremark': 2, 'kern': 3, 'debartolo': 1, 'cycare': 2, 'medtec': 1, 'universdal': 1, 'ssmc': 2, 'terminating': 1, 'cipec': 1, 'outokumpu': 9, 'iberica': 1, 'concord': 3, 'comtrex': 1, 'seton': 6, 'di': 2, 'gunnar': 4, 'dauster': 10, 'thor': 1, 'hei': 1, 'rte': 3, 'canton': 2, 'seventeen': 1, 'ted': 3, 'pet': 1, 'arden': 2, 'haq': 3, 'equitable': 4, 'almi': 1, 'earthquake': 1, 'laidlaw': 9, 'wal': 5, 'precision': 4, 'seven': 3, 'trotter': 1, 'franco': 4, 'azpur': 1, 'pdvsa': 12, 'mcchip': 1, 'christian': 2, 'latta': 1, 'eugene': 1, 'presence': 1, 'our': 4, 'redman': 2, 'cablevision': 3, 'austec': 2, 'ryan': 5, 'tecsyn': 4, 'consequently': 6, 'henley': 18, 'kellogg': 7, 'inelectra': 1, 'kellog': 1, 'israel': 4, 'yaacobi': 2, 'dual': 2, '20': 7, 'tilden': 2, 'kellwood': 1, 'digital': 2, 'fox': 1, 'citicorp': 17, 'thrift': 2, 'contel': 3, 'cdc': 1, 'ste': 3, 'justice': 5, 'atlanta': 1, 'lennar': 5, 'liptons': 1, 'd': 6, 'jim': 7, 'iep': 2, 'attack': 18, 'attacked': 1, 'hernandez': 11, 'ng': 1, 'png': 2, 'exchange': 8, 'governor': 2, 'russell': 2, 'tanzanian': 1, 'aquino': 2, 'tensions': 2, 'assessing': 1, 'iranian': 12, 'faber': 1, 'corby': 6, 'mcguinness': 2, 'criticism': 4, 'deficits': 2, 'philippines': 8, 'opponents': 2, 'fears': 6, 'individuals': 1, 'swaminathan': 1, 'sept': 2, 'grounded': 1, 'emphasized': 1, 'inro': 2, 'buffer': 3, 'louvre': 3, 'raid': 3, 'attacks': 5, 'gos': 1, 'abdul': 1, 'pertamina': 1, 'eleven': 3, 'extension': 1, 'aqazadeh': 8, 'reacting': 1, 'musicland': 2, 'permits': 4, 'single': 6, 'multi': 8, 'nalco': 1, 'stepan': 1, 'tribune': 4, 'printronix': 1, 'thrifty': 1, 'eurodollar': 3, 'ryder': 2, 'schlumberger': 8, 'baxter': 1, 'lamson': 3, 'smithkline': 6, 'newell': 1, 'circle': 3, 'avon': 6, 'springs': 1, 'oilmeal': 1, 'marsh': 2, 'sundstrand': 1, 'huntington': 2, 'weirton': 1, 'domtar': 6, 'who': 1, 'gandhi': 1, 'melville': 1, 'bolt': 2, 'kelsey': 1, 'rockefeller': 2, 'aritech': 1, 'southold': 1, 'constellation': 1, 'lower': 15, 'equity': 6, 'boakes': 1, 'temperton': 1, 'chien': 1, 'scrap': 2, 'latex': 1, 'crepe': 1, 'sheet': 2, 'olin': 3, 'ekofisk': 1, 'valhall': 1, 'norsk': 4, 'hydro': 1, 'xyvision': 1, 'perkins': 1, 'arkansas': 4, 'fireman': 1, 'realized': 1, 'bastian': 6, 'coca': 5, 'snap': 1, 'bethlehem': 6, 'nycor': 1, 'icahn': 10, 'twa': 58, 'apple': 1, 'percentage': 1, 'lasmo': 5, 'regal': 3, 'burndy': 1, 'mays': 2, 'fiscal': 9, 'qtr': 5, 'nonrecurring': 3, 'alliance': 3, 'metropolitan': 12, 'altos': 1, 'yellow': 2, 'raleigh': 1, 'wolohan': 1, 'taunton': 3, 'pagecorp': 1, 'trillium': 1, 'shippers': 2, 'auctions': 1, 'elmira': 1, 'westport': 3, 'copa': 2, 'kjeldsen': 2, 'coleman': 5, 'transamerica': 12, 'sedgwick': 2, 'intermec': 1, 'homestead': 5, 'silvercrest': 1, 'regan': 1, 'jwp': 1, 'contrans': 1, 'stanadyne': 3, 'mercantile': 5, 'pentagon': 6, 'tw': 1, 'santa': 12, 'action': 1, 'gennady': 1, 'gerasimov': 1, 'asa': 4, 'halted': 1, 'ambassador': 8, 'reduction': 1, 'samuels': 2, 'ico': 19, 'guinness': 12, 'martins': 1, 'athey': 1, 'nature': 2, 'legg': 1, 'january': 20, 'dinkov': 1, 'dyncorp': 1, 'frozen': 5, 'astrocom': 2, 'eis': 1, 'armor': 2, 'goodman': 2, 'rhm': 2, 'multibank': 2, 'usp': 2, 'lincoln': 5, 'kent': 1, 'qms': 1, 'guenther': 1, 'giles': 1, 'deutsche': 8, 'teleconcepts': 1, 'ireland': 2, 'argentina': 7, 'petrolane': 2, 'valero': 1, 'ecolab': 6, 'loral': 2, 'citizens': 6, 'banctexas': 3, 'number': 1, 'gotaas': 2, 'science': 4, 'greater': 2, 'simpson': 1, 'network': 5, 'pittsburgh': 2, 'public': 12, 'dunhill': 1, 'bemis': 1, 'tolland': 1, 'coachmen': 1, 'kmw': 2, 'owens': 8, 'ingersoll': 1, 'sjw': 1, 'anthony': 2, 'defense': 7, 'adobe': 3, 'kenner': 1, 'tennant': 1, 'welbilt': 3, 'food': 4, 'albany': 1, 'around': 8, 'outer': 1, 'alan': 2, 'powers': 1, 'seacoast': 1, 'coeur': 2, 'strathcona': 1, 'susquehanna': 1, 'romo': 1, 'amex': 2, 'dinner': 2, 'eastek': 1, 'regency': 6, 'quaker': 10, 'nl': 6, 'funds': 9, 'ifr': 1, 'telex': 5, 'sphinx': 1, 'minnetonka': 1, 'schering': 3, 'el': 4, 'outstandings': 1, 'laclede': 1, 'kollmorgen': 1, 'farm': 9, 'oakley': 1, 'salek': 1, 'nigel': 1, 'you': 7, 'per': 5, 'tenera': 3, 'trinity': 3, 'convoy': 1, 'guided': 1, 'bii': 1, 'artillery': 1, 'zero': 1, 'sealed': 1, 'semiconductors': 2, 'slenniken': 1, 'cip': 1, 'trace': 2, 'rpc': 1, 'brenton': 1, 'committed': 1, 'somerset': 2, 'cpt': 1, 'comshare': 1, 'alfa': 2, 'invitron': 1, 'cp': 3, 'anderson': 2, 'alaska': 2, 'capitol': 5, 'lieutenant': 1, 'walters': 2, 'jepson': 1, 'fifth': 1, 'lawmakers': 1, 'goria': 1, 'media': 10, 'bryant': 1, 'cleveland': 1, 'proponents': 2, 'read': 1, 'cade': 1, 'abitibi': 1, 'gary': 3, 'signet': 2, 'delors': 4, 'scicom': 1, 'polaroid': 4, 'pepsico': 5, 'macyro': 2, 'cts': 7, 'amca': 2, 'bulcan': 1, 'chemed': 1, 'edac': 1, 'autotrol': 1, '19': 5, 'forces': 3, 'simon': 10, 'woodhead': 1, 'cnb': 1, 'referring': 5, 'ccr': 7, 'huge': 1, 'ullman': 1, 'commented': 1, 'rhone': 1, 'withdrawal': 2, 'weinberger': 12, 'iranians': 1, 'moss': 2, 'aker': 1, 'harman': 1, 'geiger': 1, 'calmat': 1, 'verity': 1, 'watts': 1, 'moniterm': 2, 'erie': 1, 'quantum': 2, 'termiflex': 1, 'durakon': 1, 'atlantis': 4, 'pending': 5, 'travelers': 3, 'safeguard': 6, 'mercury': 3, 'erc': 1, 'painewebber': 5, 'dynascan': 2, 'renta': 1, 'sanchez': 1, 'interpart': 1, 'northeast': 5, 'initially': 7, 'drafts': 1, 'progressive': 10, 'bellsouth': 3, 'hanna': 4, 'ample': 1, 'december': 6, 'owned': 1, 'geoffrey': 1, 'response': 2, 'kleinwort': 3, 'apparently': 2, 'baltek': 2, 'gendex': 1, 'ben': 2, 'talman': 2, 'khamenei': 1, 'nowhere': 1, 'bench': 1, 'cityfed': 2, 'dense': 1, 'aspen': 1, 'lsi': 1, 'spectramed': 1, 'chambers': 1, 'baring': 1, 'bci': 4, 'individual': 5, 'tons': 1, 'photronics': 2, 'hometown': 1, 'fidelity': 5, 'usacafes': 2, 'qtly': 2, 'nbi': 1, 'avx': 1, 'stratus': 1, 'pancho': 1, 'kennametal': 1, 'leahy': 1, 'omnicare': 1, 'dime': 2, 'hal': 1, 'regarding': 6, 'piccadilly': 1, 'system': 3, 'admin': 1, 'countrywide': 3, 'keycorp': 7, 'heublin': 1, 'heublein': 3, 'burr': 3, 'temple': 1, 'bearings': 1, 'air': 7, 'transatlantic': 1, 'agreed': 2, 'frustration': 3, 'northview': 2, 'calmark': 1, 'amcast': 6, 'datacopy': 1, 'boliden': 11, 'paulson': 1, 'cal': 1, 'firstier': 2, 'southwest': 11, 'barris': 2, 'says': 2, 'neiman': 1, 'arizona': 3, 'drill': 1, 'ipswich': 1, 'harvesting': 4, 'mci': 3, '3rd': 1, 'fpl': 1, 'multifoods': 2, 'bregman': 1, 'fdic': 1, 'dallas': 4, 'middle': 5, 'oregon': 4, 'unisys': 2, 'revs': 4, 'woburn': 1, 'study': 7, 'robin': 3, 'researchers': 3, 'soviets': 3, 'planning': 2, 'talyzin': 7, 'kremlin': 2, 'tass': 3, 'krutikhin': 1, 'rohm': 1, 'idc': 5, 'mim': 5, 'wti': 8, 'ic': 9, 'georgia': 5, 'arnox': 1, 'cairns': 1, 'duffy': 2, 'carson': 4, 'woolowrth': 1, 'plains': 3, 'prospect': 4, 'tandy': 4, 'brockway': 1, 'nui': 2, 'xidex': 1, 'calfed': 1, 'lotus': 2, 'naval': 6, 'regional': 2, 'gatx': 1, 'microsoft': 1, 'cms': 3, 'curtice': 2, 'units': 4, 'telephone': 9, 'heyman': 6, 'yonhap': 1, 'ply': 1, 'aircraft': 2, 'smoke': 1, 'christians': 3, 'emulex': 1, 'lyphomed': 1, 'unidentified': 3, 'october': 1, 'buyers': 5, 'petromin': 2, 'intellicorp': 1, 'capitalized': 1, 'trinova': 1, 'nbc': 2, 'chanthong': 1, 'indian': 6, 'malhotra': 3, 'trafalgar': 1, 'builder': 1, 'capital': 18, 'barschel': 1, 'cooperation': 2, 'papers': 1, 'lusinchi': 3, 'animal': 2, 'bottom': 1, 'political': 4, 'attempts': 1, 'volkskas': 2, 'association': 4, 'veslefrikk': 2, 'partners': 4, 'uncertainty': 4, 'telecommunication': 1, 'telecom': 9, 'tdk': 2, 'hofmeister': 4, 'bayliss': 1, 'import': 6, 'palmer': 3, 'implementation': 3, 'sendi': 2, 'entregrowth': 1, 'rises': 1, 'separate': 1, 'pravda': 3, 'bahia': 3, 'arrivals': 2, 'comissaria': 2, 'bean': 1, 'routine': 1, 'destinations': 1, 'cake': 1, 'liquor': 1, 'rogers': 5, 'island': 1, 'growing': 2, 'thatcher': 4, 'questech': 1, 'natural': 10, 'katz': 1, 'clancy': 1, 'gould': 9, 'shoe': 1, 'discus': 1, 'volvo': 2, 'report': 4, 'goldfield': 1, 'danzar': 2, 'users': 2, 'chris': 4, 'dennison': 1, 'dunn': 1, 'pillsbury': 13, 'old': 5, 'margoshes': 3, 'falcon': 3, 'suburban': 4, 'grease': 2, 'anti': 1, 'underlying': 2, 'quantech': 4, 'pda': 2, 'fair': 1, '26': 9, 'acceptance': 1, 'cardenas': 5, 'carrolton': 1, 'roderick': 6, 'ny': 6, 'minstar': 6, 'transworld': 2, 'sandustry': 1, 'bra': 9, 'certain': 3, 'guillaume': 2, 'lacombe': 1, 'combustion': 9, 'jordan': 7, 'pepco': 1, 'decision': 4, 'transform': 2, 'americanture': 1, 'campbell': 12, 'electrosound': 1, 'sanford': 4, 'goldman': 6, 'kasler': 2, 'courier': 2, 'continuing': 2, 'terrano': 1, 'angus': 2, 'discoveries': 1, 'former': 7, 'herstatt': 1, 'ivan': 2, 'next': 9, 'sara': 1, 'dim': 1, 'chavin': 2, 'meyers': 1, 'canamax': 4, 'possible': 2, 'mcintyre': 6, 'smoky': 1, 'protectionist': 3, 'nance': 2, 'andrew': 2, 'repeal': 1, 'gorbachev': 1, 'nonetheless': 5, 'none': 4, 'macmillan': 2, 'ctc': 5, 'precambrian': 3, 'urs': 2, 'ducommun': 3, 'numbers': 1, 'liro': 2, 'brusca': 2, 'upward': 1, 'blasius': 1, 'gainsco': 1, 'raising': 2, 'developing': 2, 'wilcox': 2, 'kenyan': 6, 'moi': 1, 'countertrade': 4, 'early': 9, 'illustrating': 2, 'bhp': 15, 'third': 5, 'transfer': 4, 'errors': 2, 'yulo': 8, 'administrative': 1, 'taylor': 4, 'drought': 6, 'ethanol': 2, 'manila': 3, 'mitsubishi': 5, 'channeling': 1, 'leverage': 1, 'fumio': 2, 'associated': 3, 'westfield': 1, 'avana': 3, 'adm': 2, 'cigra': 2, 'mmal': 1, 'imported': 2, 'intek': 1, 'botswana': 3, 'zimbabwean': 1, 'dlr': 7, 'essilor': 1, 'investments': 4, 'michel': 3, 'girardin': 2, 'dri': 2, 'thyssen': 3, 'managing': 4, 'spethmann': 4, 'roelof': 1, 'rabobank': 1, 'amro': 2, 'conable': 14, 'henkel': 3, 'noblee': 1, 'boxed': 1, 'congressmen': 3, 'virtually': 1, 'brierley': 2, 'bil': 9, 'rainbow': 10, 'libya': 2, 'pancontinental': 1, 'cost': 2, 'transportation': 5, 'smaller': 2, 'grocery': 1, 'medical': 3, 'tobacco': 2, 'stormy': 1, 'saturday': 3, 'winds': 2, 'waves': 1, 'wind': 1, 'natioonal': 2, 'liberian': 2, 'abidjan': 1, 'papandreou': 9, 'ergenc': 2, 'greek': 4, 'bases': 1, 'porsche': 5, 'schutz': 1, 'branitzki': 1, 'consumers': 17, 'austria': 1, 'arm': 2, 'pcr': 3, 'up': 5, 'multivest': 2, 'tender': 10, 'mobile': 4, 'tokheim': 3, 'spartech': 4, 'restaurant': 3, 'losses': 2, 'pharmacia': 3, 'danforth': 9, 'leo': 1, 'yochum': 2, 'clearwater': 1, 'privately': 4, 'galactic': 6, 'nato': 2, 'chemicals': 2, 'parliamentarians': 1, '58': 1, 'lsb': 4, 'book': 1, 'bull': 3, 'cornerstone': 1, 'pegasus': 3, 'original': 1, 'burgess': 1, 'cistron': 1, 'purchases': 5, 'glamis': 2, 'jamaica': 3, 'mclean': 9, 'hungarian': 2, 'noble': 1, 'samedan': 1, 'source': 1, 'reserves': 7, 'southwestern': 9, 'nelson': 2, 'changes': 5, 'anyone': 1, 'imatron': 4, 'carrington': 1, 'plaza': 1, 'conagra': 8, 'llc': 2, 'effective': 6, 'amalgamated': 1, 'valhi': 4, 'gros': 4, 'ing': 3, 'cohen': 2, 'hemlo': 1, 'nec': 1, 'meyer': 1, 'discussions': 4, 'biffex': 2, 'legal': 7, 'dean': 5, 'doskocil': 1, 'accu': 2, 'krenzler': 2, 'crops': 2, 'education': 1, 'differentials': 1, 'negotiations': 9, 'hedging': 1, 'very': 2, 'forming': 1, 'increasingly': 1, 'backwardations': 1, 'corning': 6, 'beard': 1, 'essex': 3, 'denning': 1, 'labor': 2, 'yu': 3, 'lu': 1, 'ko': 1, 'sanction': 1, 'governmental': 1, 'saba': 3, 'oversea': 1, 'straits': 1, 'kouame': 1, 'kurt': 2, 'viermetz': 3, 'formal': 2, 'hikmat': 2, 'bouldikian': 2, 'twelve': 1, 'communist': 1, 'tian': 1, 'islamic': 1, 'toll': 2, 'nashashibi': 1, 'ibrahim': 1, 'nicaraguan': 2, 'martinez': 2, 'popular': 1, 'bombing': 2, 'planes': 1, 'balance': 4, 'partial': 2, 'surplus': 1, 'ordinary': 2, 'published': 2, 'bfg': 4, 'amb': 1, 'disclosed': 3, 'garcia': 4, '29': 1, 'exported': 3, 'btr': 4, 'bwa': 1, 'explored': 1, 'calendar': 2, 'business': 14, 'basf': 9, 'americans': 2, 'months': 4, 'contents': 2, 'europeans': 2, 'east': 2, 'lowest': 1, 'prawiro': 1, 'superdrug': 1, 'spokesmen': 3, 'carole': 1, 'tam': 4, 'arbed': 5, 'board': 7, 'charming': 2, 'bahrain': 4, 'origin': 2, 'beans': 2, 'tay': 1, 'pansophic': 2, 'duenas': 1, 'tesco': 7, 'hillards': 3, 'royale': 1, 'proposed': 7, 'vie': 1, 'comparisons': 1, 'lac': 4, 'wallenberg': 1, 'rodney': 1, 'uprooted': 1, 'healthy': 2, 'lilaratne': 3, 'having': 2, 'confirms': 2, 'adjusted': 2, 'slough': 1, 'calmar': 2, 'kebo': 1, 'rugby': 2, 'mannesmann': 11, 'salzgitter': 1, 'broadly': 3, 'especially': 1, 'sporadic': 1, 'roasters': 1, 'deposits': 7, 'mas': 2, 'm3': 1, 'bnl': 3, 'nesi': 1, 'amylum': 1, 'callebaut': 2, 'markets': 2, 'maybe': 2, 'mulford': 10, 'suffield': 4, 'marketing': 2, 'eurostat': 3, 'oracle': 3, 'skanska': 1, 'athens': 1, 'meridian': 3, 'panama': 2, 'sage': 1, 'clabir': 5, 'belgrade': 1, 'walbro': 3, 'significant': 1, 'embassies': 1, 'maha': 1, 'defence': 4, 'metromail': 3, 'custom': 1, 'aneco': 1, 'scientific': 5, 'prospects': 6, 'sperry': 1, 'biogen': 1, 'miltope': 1, 'aloette': 1, 'csm': 1, 'ia': 2, 'bow': 2, 'cognitronics': 1, 'beyond': 1, 'intelligent': 5, 'quest': 6, 'oppenheimer': 6, 'dune': 2, 'aw': 1, 'centronics': 3, 'mcclain': 2, 'cherokee': 2, 'purchase': 4, 'knutson': 3, 'nobel': 2, 'minister': 6, 'dravo': 3, 'byrd': 1, 'businessman': 2, 'brandman': 1, 'sierracin': 1, 'kevlin': 1, 'unifast': 1, 'aztec': 1, 'gac': 2, 'gca': 1, 'refinery': 5, 'topping': 1, 'netbacks': 2, '................': 1, 'main': 8, 'ausimont': 3, 'willcox': 4, 'mischer': 1, 'wichita': 4, 'infodata': 1, 'jmb': 1, 'equipment': 1, 'michigan': 6, 'ameron': 3, 'york': 3, 'together': 5, 'henze': 1, 'norton': 3, 'enterprises': 1, 'enterprise': 1, 'covington': 1, 'cobanco': 1, 'larry': 2, 'questioned': 4, 'using': 5, 'distillate': 1, 'refineries': 2, 'dunham': 2, 'denpac': 1, 'services': 1, 'primebank': 1, 'lindner': 11, 'saatchi': 2, 'utilization': 1, 'teeco': 1, 'brougher': 3, 'csc': 1, 'anticipated': 2, 'templeton': 1, 'loynes': 2, 'reef': 1, 'vanderbilt': 1, 'stillmann': 1, 'warm': 1, 'smart': 1, 'stone': 5, 'contacted': 1, 'braverman': 3, 'nikko': 2, 'raul': 2, 'yields': 3, '......': 1, 'winter': 5, 'eight': 1, 'lle': 2, 'genova': 3, 'windy': 1, 'arkla': 2, 'aec': 1, 'wish': 1, 'dot': 2, 'aircal': 1, 'mirroring': 1, 'inland': 2, 'durkin': 1, 'mi': 1, 'daryl': 1, 'maynard': 1, 'anitec': 2, 'kansas': 12, 'neoax': 4, 'crain': 1, 'mcmillan': 1, 'ashland': 4, 'row': 1, 'topsoil': 1, 'strip': 1, 'wood': 1, 'meredith': 1, 'walsh': 1, 'sucre': 1, 'cvg': 1, 'interalumina': 1, 'infinity': 1, 'fretter': 1, 'amfac': 1, 'harper': 17, 'demarkus': 1, 'olson': 5, 'smoothed': 3, 'randol': 1, 'envirosure': 1, '30': 3, 'male': 2, 'female': 2, 'employment': 8, 'poison': 2, 'behind': 3, 'woodside': 5, 'dasa': 1, 'ruter': 1, 'offsetting': 2, 'delhi': 4, 'kelman': 3, 'commerzbank': 5, 'finnish': 4, 'shandwick': 3, 'hutchison': 8, 'europe': 2, 'wolf': 1, 'attitude': 1, 'haffenden': 1, 'lig': 2, 'akzo': 7, 'profits': 10, 'adsteam': 8, 'spreads': 2, 'neale': 1, 'adc': 1, 'commodity': 4, 'importers': 1, 'importing': 1, 'negotiators': 7, 'traditionally': 1, 'unctad': 3, 'does': 1, 'leads': 1, 'decreased': 2, 'oki': 1, '31': 2, 'tylan': 1, 'mauritian': 1, 'managers': 1, 'fletcher': 1, 'forest': 3, 'amcor': 2, 'rada': 2, 'fcl': 1, 'nzfp': 1, 'hotel': 1, 'cheung': 6, 'dieter': 5, 'hapag': 1, 'esca': 1, 'bsi': 4, 'rexnord': 9, 'bellofram': 1, 'leading': 12, 'producer': 6, 'shortfalls': 1, 'jewelmasters': 4, 'bird': 1, 'alpha': 2, 'interlink': 2, 'supradur': 1, 'hillenbrand': 1, 'wifo': 1, 'kramer': 4, 'gardini': 6, 'geothermal': 1, 'terra': 1, 'optics': 1, 'get': 1, 'slightly': 1, 'elder': 2, '*': 1, 'bad': 3, 'success': 1, 'looking': 3, 'continued': 5, 'horis': 1, 'heck': 1, '4g': 1, 'colorocs': 1, 'csce': 4, 'kcbt': 1, 'cftc': 4, 'gandalf': 2, 'willy': 1, 'questions': 1, 'rocky': 4, 'dyr': 3, 'peat': 2, 'kpmg': 1, 'liabilities': 2, 'cri': 4, 'guatemala': 2, 'omnicom': 3, 'roberts': 4, 'acton': 2, 'beghin': 6, 'minguzzi': 1, 'damaging': 2, 'stands': 1, 'arvin': 6, 'weiss': 3, 'chubb': 4, 'envoy': 1, 'suggested': 1, 'matsunaga': 3, 'developments': 1, 'kyodo': 1, 'laroche': 3, 'thorugh': 1, 'properties': 1, 'telecast': 1, 'refining': 2, 'converting': 1, 'renault': 4, 'pizza': 2, 'cortronic': 1, 'harrowing': 1, 'watso': 1, 'eateries': 1, 'backs': 1, 'sycamore': 1, 'cpl': 3, 'syria': 2, 'neco': 2, 'pier': 4, 'manpower': 1, 'hilton': 4, 'harry': 1, 'occidental': 4, 'process': 1, 'syms': 1, 'nps': 1, 'vs': 1, 'freeport': 2, 'butler': 7, 'pubco': 4, 'tradestar': 1, 'image': 2, 'chirac': 7, 'wardair': 2, 'tourists': 1, 'mosts': 1, 'moderate': 3, 'randall': 1, 'hubbard': 2, 'greenmail': 5, 'avery': 4, 'peltz': 1, 'buoyant': 1, 'nevertheless': 7, 'big': 4, 'sceptre': 1, 'manhattan': 4, 'liedtke': 1, 'planting': 2, 'cnt': 2, 'inverness': 2, 'exploration': 4, 'pantera': 5, 'moisture': 1, 'weekly': 4, 'enro': 5, 'elsinore': 1, 'gruntal': 1, 'whether': 4, 'centuri': 1, 'standex': 1, 'greene': 1, 'sanctions': 1, 'originally': 1, 'musa': 1, 'scan': 3, 'captive': 1, 'bobbie': 1, 'distributed': 1, 'genex': 1, 'bic': 1, 'broader': 1, 'ames': 2, 'taro': 1, 'scripps': 1, 'baruch': 1, 'toho': 1, 'schwab': 2, 'bankamerica': 14, 'intermedics': 2, 'excludes': 7, 'overland': 2, 'naturalite': 1, 'mechtron': 1, 'devon': 3, 'echo': 4, 'bowl': 1, 'getty': 2, '1st': 2, 'shut': 1, 'beneficial': 6, 'jerome': 1, 'asca': 1, 'hertz': 1, 'harvard': 1, 'loss': 2, 'artra': 1, 'eschborn': 1, 'credits': 2, 'detailed': 2, 'mentor': 1, 'barringer': 1, 'quote': 1, 'paine': 1, 'lori': 1, 'otf': 1, 'salem': 1, 'steelmakers': 1, 'holder': 3, 'chelsea': 1, 'revised': 1, '4th': 1, 'innovex': 3, 'lucht': 1, 'mco': 5, 'linear': 3, 'auditors': 4, 'shipment': 1, 'albert': 1, 'servotronics': 2, 'horner': 2, 'friday': 5, 'frazier': 3, 'hackmann': 3, 'acceleration': 3, 'mcculley': 1, 'reiners': 3, 'then': 3, 'tisch': 1, 'elkins': 2, 'chargeoffs': 1, 'discussed': 1, 'microbiological': 2, 'lowell': 1, 'earthworm': 1, 'emery': 20, 'xu': 1, 'rural': 1, 'chen': 1, 'yang': 1, 'carme': 1, 'turning': 10, 'personnel': 1, 'seipp': 6, 'abroad': 2, 'skylark': 1, 'airlines': 1, 'reporting': 1, 'groupe': 1, 'ajinomoto': 2, 'partner': 1, 'yao': 2, 'lin': 1, 'uic': 1, 'goh': 4, 'triguna': 1, 'nilsson': 2, 'hofer': 2, 'internatio': 1, 'promac': 2, 'hoogovens': 4, 'precious': 2, 'cathode': 2, 'gem': 1, 'packer': 1, 'june': 4, 'guardian': 6, 'siaf': 1, 'cereals': 3, 'circuit': 3, 'delta': 8, 'citadel': 2, 'visual': 3, 'clifford': 1, 'careplus': 3, 'tempo': 2, 'praising': 2, 'ouko': 4, 'maxxam': 1, 'flour': 1, 'sudan': 7, 'pratt': 3, 'angeles': 1, 'ransburg': 1, 'snyder': 5, 'medar': 4, 'automatic': 1, 'allis': 9, 'buenos': 1, 'rosario': 1, 'levitt': 2, 'distant': 1, 'discounts': 2, 'grimes': 1, 'jerry': 2, 'tvx': 2, 'datamag': 1, 'knoell': 2, 'r': 4, 'factory': 3, 'vms': 6, 'midwest': 2, 'indiana': 2, 'vegetable': 4, 'beecham': 1, 'dubin': 1, 'raised': 1, 'autospa': 1, 'execution': 1, 'weatherford': 4, 'weightings': 1, 'weights': 1, 'staodynamics': 1, 'thousand': 1, 'vista': 4, 'tca': 1, 'mountain': 3, 'pantasote': 1, 'administration': 4, 'prominent': 1, 'aides': 3, 'fritz': 1, 'kaines': 2, 'restoration': 3, 'rostenkowski': 3, 'disappointment': 1, 'cyprus': 5, 'imtec': 1, 'tierco': 1, 'crownamerica': 1, 'roger': 2, 'equicor': 2, 'nowak': 3, 'deak': 3, 'arkadi': 3, 'barnes': 2, 'roadway': 1, 'dionics': 1, 'waxman': 1, 'iif': 1, 'schulmann': 2, 'walker': 3, 'anacomp': 6, 'harlow': 1, 'whale': 1, 'freestanding': 1, 'beeba': 1, 'karl': 2, 'vak': 2, 'peripheral': 2, 'conolog': 1, 'feed': 1, 'stephens': 4, 'ameritrust': 8, 'boatmen': 1, 'unicorp': 8, 'oils': 1, 'unusually': 4, 'starrett': 1, 'wrather': 1, 'raw': 2, 'arango': 7, 'horn': 2, 'accordingly': 4, 'oc': 1, 'sis': 2, 'seed': 1, 'specifically': 4, 'snow': 5, 'indeed': 5, 'putting': 2, 'treasurer': 1, 'smorada': 1, 'convest': 1, 'meantime': 1, 'callon': 1, 'county': 2, 'plaintiffs': 1, 'hoenemeyer': 1, 'sunflower': 4, 'paranagua': 1, 'usg': 3, 'dieppe': 1, 'chimbote': 1, 'immingham': 1, 'bin': 1, 'chungjin': 1, 'bilbao': 1, 'ciro': 1, 'callao': 1, 'geraldton': 1, 'itea': 1, 'tampico': 1, 'helm': 2, 'varian': 2, 'pye': 1, 'peabody': 4, 'antwerp': 1, 'flushing': 1, 'penta': 1, 'jacques': 2, 'hunt': 3, 'itel': 4, 'dynalectron': 2, 'gardner': 6, 'nissan': 3, 'muramatsu': 1, 'geoffrion': 1, 'ellmann': 3, 'longer': 2, 'generally': 2, 'kaul': 2, 'accurate': 1, 'margins': 2, 'csx': 2, 'snet': 1, 'stryker': 1, 'breakdown': 2, 'shipments': 10, 'upland': 4, 'inspeech': 1, 'noland': 1, 'hi': 4, 'quotes': 2, 'fertility': 1, 'crime': 1, 'estimated': 5, 'hoffman': 1, 'strawbridge': 2, 'tugs': 1, 'lloyds': 9, 'tcf': 1, 'below': 1, 'transducer': 1, 'ivaco': 2, 'reports': 6, 'posted': 2, 'department': 2, 'jem': 1, 'key': 9, 'wysoglad': 1, 'technician': 1, 'items': 1, 'burdensome': 2, 'sandra': 2, 'belden': 1, 'crown': 3, 'livingwell': 1, 'sunstates': 1, 'linseed': 3, 'glickman': 10, 'novamin': 5, 'breakwater': 1, 'exotic': 1, 'hunter': 2, 'deltaus': 1, 'derose': 1, 'retirement': 1, 'aid': 1, 'galveston': 4, 'herrhausen': 6, 'euras': 1, 'rates': 7, 'loh': 5, 'raises': 3, 'liquidity': 7, 'susin': 1, 'somphol': 1, 'sanwa': 8, 'duties': 3, 'include': 1, 'compared': 4, 'makers': 1, 'reckitt': 2, 'watanabe': 5, 'firs': 3, 'legislation': 1, 'bayer': 10, 'oilseed': 3, 'withdrawals': 1, 'excess': 2, 'capacity': 3, 'plastics': 1, 'accruals': 2, 'chinkuli': 1, 'anglo': 4, 'cojuango': 1, 'pcgg': 2, 'eduardo': 1, 'cent': 2, 'keith': 1, 'barclays': 8, 'capel': 2, 'brett': 1, 'give': 1, 'not': 6, 'nv': 2, 'accepting': 2, 'ranks': 2, 'justo': 1, 'floods': 1, 'marin': 1, 'keidanren': 2, 'chamber': 1, 'gotoh': 1, 'sentiment': 3, 'feeling': 1, 'threats': 2, 'westlb': 4, 'increased': 4, '40': 1, 'aq': 1, 'np': 3, 'electromedics': 3, 'amr': 1, 'heymann': 2, 'leavitt': 1, 'kloeckner': 5, 'subsidiary': 2, 'eli': 3, 'madrid': 3, 'paramilitary': 1, 'astra': 1, 'gpu': 5, 'britton': 1, 'sandsport': 1, 'rubio': 1, 'buckhorn': 4, 'ralph': 1, 'coleco': 3, 'roy': 2, 'garofalo': 1, 'harold': 1, 'sells': 1, 'cooper': 10, 'bids': 6, 'porla': 1, 'rbd': 3, 'norddeutsche': 1, 'cornglutenfeed': 2, 'seller': 1, 'broking': 1, 'skandia': 1, 'nevi': 1, 'aug': 1, 'whites': 1, 'weekend': 1, 'volume': 1, 'horiz0n': 1, 'pieter': 1, 'premier': 3, 'low': 4, 'shortcovering': 1, 'closure': 1, 'cuba': 7, 'unless': 6, 'cross': 7, 'hindustan': 1, 'internal': 3, 'mariano': 1, 'vernes': 4, 'cbt': 6, 'kilo': 1, 'strenger': 4, 'savings': 2, 'liebert': 1, 'apr': 1, 'saga': 2, 'halvorsen': 1, 'applications': 2, 'eyskens': 5, 'altex': 3, 'stanline': 2, 'suralco': 4, 'margaux': 2, 'similar': 2, 'severel': 1, 'canrad': 2, 'gaspe': 2, 'mangood': 1, 'donnelly': 4, 'biomet': 1, 'eac': 1, 'wessanen': 2, 'k': 17, 'mccrory': 1, 'hill': 1, 'aziz': 5, 'kleer': 1, 'memory': 3, 'quilon': 1, 'flowers': 5, 'fine': 1, 'gerber': 2, 'tsr': 1, 'nicholas': 2, 'abnormal': 1, 'maverick': 1, 'graphic': 4, 'bigelow': 6, 'turner': 2, 'munro': 2, 'sami': 1, 'trygve': 1, 'land': 3, 'soo': 2, 'melvin': 2, 'plywood': 2, 'pope': 4, 'stars': 1, 'polysar': 1, 'project': 1, 'meston': 2, 'warburg': 6, 'moorhead': 1, 'pbs': 1, 'boise': 2, 'mca': 1, 'chile': 3, 'codelco': 2, 'lpl': 2, 'lisle': 1, 'livestock': 2, 'appleton': 1, 'am': 3, 'leclerc': 2, 'copley': 2, 'fcs': 5, 'gallo': 1, 'canterbury': 1, 'richardson': 2, 'memotec': 2, 'teleglobe': 1, 'technical': 2, 'meeting': 3, 'roach': 2, 'steve': 1, 'scimed': 1, 'daniel': 2, 'marion': 3, 'healthvest': 3, 'cpi': 2, 'wor': 1, 'bek': 1, 'kritchevsky': 1, 'susanne': 1, 'harleysville': 2, 'kroger': 2, 'rvial': 1, 'banque': 2, 'metromedia': 1, 'enex': 1, 'oshap': 1, 'levesque': 1, 'maciej': 1, 'interior': 4, 'mine': 5, 'jack': 2, 'pressure': 3, 'planters': 1, 'bonus': 4, 'seaman': 3, 'basis': 1, 'mediterranean': 1, 'bayou': 8, 'petrobras': 14, 'mechanically': 2, 'telxon': 3, 'iroquois': 3, 'biw': 1, 'proposals': 1, 'roasted': 1, 'warehouse': 1, 'cullen': 1, 'ecopetrol': 3, 'defends': 1, 'cyacq': 19, 'dickinson': 1, 'krupp': 6, 'sturm': 1, 'telebyte': 1, 'publishers': 2, 'moller': 2, 'witco': 1, 'sabine': 1, 'providence': 2, 'institute': 2, 'pancanadian': 4, 'algerian': 1, 'iea': 6, 'governments': 3, 'vendor': 1, 'bretz': 1, 'mitchell': 5, 'held': 2, 'naturally': 1, 'minutes': 1, 'caesars': 21, 'gluck': 2, 'tmoc': 12, 'agl': 4, 'kamga': 1, '5': 2, 'burst': 1, 'nixdorf': 2, 'reid': 2, 'cetec': 2, 'moet': 1, 'maui': 1, 'rules': 1, 'buying': 2, 'limits': 1, 'psychologically': 1, 'afterwards': 1, 'nass': 1, 'forecasts': 1, 'agreement': 2, 'roubatis': 1, 'wormald': 3, 'holmes': 2, 'movie': 1, 'empi': 1, '),': 9, 'gao': 4, 'analysis': 2, 'movement': 1, 'post': 1, 'kuranari': 3, 'cardinal': 2, 'egyptian': 3, 'deficiency': 1, 'eligible': 2, 'kaneb': 6, 'whittaker': 7, 'startel': 1, 'enterra': 2, 'standards': 1, 'above': 4, 'sesostris': 1, 'vendo': 1, 'syngold': 2, 'assay': 1, 'sanivan': 1, 'dahlberg': 1, 'brascan': 1, 'ruding': 3, 'wellemeyer': 2, 'carolyn': 1, 'millen': 1, 'chesapeake': 2, 'tyco': 1, 'testifying': 4, 'relying': 1, 'lyons': 1, 'crossen': 1, 'zenith': 4, 'rolls': 2, 'bzw': 1, 'virgil': 1, 'professionals': 1, 'here': 1, '120': 1, 'gtx': 2, 'ocean': 2, 'tele': 1, 'environmental': 2, 'combining': 2, 'dealer': 2, 'brokerage': 1, 'rockwell': 3, 'beall': 2, 'malta': 1, 'corroon': 3, 'contractors': 1, 'milton': 2, 'goldsil': 1, 'dresdner': 6, 'idb': 1, 'mickelberry': 4, 'mutual': 3, 'swap': 1, 'usually': 1, 'mccormick': 4, 'amstutz': 15, 'immediate': 1, 'certificates': 4, 'gm': 3, 'awards': 2, 'fhs': 1, 'cummins': 5, 'remaining': 4, 'geonex': 2, 'nwa': 4, 'iowa': 9, 'artistic': 1, 'cooperative': 1, 'permanent': 1, 'textron': 2, 'green': 5, 'chuck': 2, 'shin': 1, 'castle': 2, 'primary': 5, 'voicemail': 1, 'giorgio': 3, 'molecular': 1, 'deliveries': 2, 'cenergy': 2, 'berry': 2, 'hubco': 1, 'merrimac': 1, 'bermuda': 2, 'orley': 2, 'premdor': 2, 'teletrak': 1, 'cannon': 3, 'upper': 1, 'itt': 3, 'resources': 9, 'sufficient': 1, 'sportscene': 1, 'ronson': 1, 'westmin': 1, 'economies': 2, 'myra': 2, 'dress': 1, 'revolving': 2, 'seagate': 1, 'buechler': 1, 'desjardins': 1, 'seeq': 1, '7': 5, 'nacco': 3, 'consolidation': 1, 'quarto': 1, 'buffton': 4, 'robintech': 1, 'ecofuel': 1, 'feasibility': 1, 'republicbank': 3, 'torchmark': 1, 'amarillo': 1, 'camco': 2, 'trilon': 1, 'sunter': 4, 'canadians': 1, 'cooke': 1, 'helig': 2, 'kelly': 1, 'tcw': 2, 'sloane': 3, 'ruiz': 2, 'rossignol': 1, 'rail': 1, 'nsw': 1, 'usf': 1, 'browning': 1, 'vereins': 1, 'luckey': 1, 'lastly': 1, 'convenient': 2, 'plaid': 1, 'techamerica': 1, 'dom': 1, 'wilfred': 2, 'saxton': 1, 'toronto': 3, 'servo': 1, 'berger': 1, 'leaf': 1, 'quantities': 1, 'pyro': 1, 'unitrode': 1, 'buehler': 1, 'stanhome': 1, 'instron': 1, 'provisional': 2, 'potential': 1, 'ideal': 1, 'liftings': 1, 'piedmont': 17, 'rykoff': 1, 'geico': 1, 'stanley': 6, 'novell': 3, 'hammer': 1, 'torrential': 1, 'rainfall': 5, 'paemen': 1, 'boschwitz': 4, 'potomac': 2, 'hayes': 2, 'grossman': 1, 'comdata': 16, 'ore': 2, 'webcor': 2, 'tigrel': 3, 'appropriations': 1, 'izvestia': 1, 'borman': 3, 'pico': 1, 'outboard': 4, 'wayne': 2, 'supreme': 1, 'fieldcrest': 1, 'analytichem': 1, 'suspensions': 1, 'vieux': 1, 'rha': 13, 'digicon': 1, 'liquid': 1, 'participants': 3, 'policy': 1, 'nusource': 1, 'complained': 1, 'charges': 1, 'danaher': 3, 'asbestec': 3, 'healy': 2, 'kidder': 5, 'kirnan': 1, 'fricke': 1, 'bear': 5, 'buchanan': 1, 'hrs': 1, 'qintex': 9, 'crd': 1, 'steego': 1, 'resource': 3, 'nugent': 3, 'secondary': 1, 'gaviria': 6, 'pactel': 1, 'guinn': 4, 'kpa': 1, 'adoption': 1, 'renewal': 2, 'melnikov': 3, 'statements': 1, 'dca': 1, 'measurex': 3, 'jefferies': 2, 'dalton': 1, '4': 2, 'wtd': 3, 'lng': 1, 'youcef': 1, 'sonatrach': 1, 'cacex': 1, 'eastpark': 2, 'daub': 1, 'particularly': 1, 'browing': 1, 'banner': 4, 'douglas': 2, 'foods': 1, 'keane': 1, 'redstone': 13, 'channon': 6, 'beet': 5, 'louisville': 1, 'alatenn': 1, 'kaiser': 2, 'pettee': 1, 'norfolk': 1, 'adding': 1, 'calmon': 2, 'matters': 1, 'suzanne': 1, 'versatile': 2, 'transcontinental': 2, 'crow': 1, 'videotron': 1, 'solid': 1, 'amvestors': 2, 'hcc': 1, 'financially': 3, 'unsmoothed': 1, 'bullion': 1, 'plant': 2, 'lo': 4, 'csbc': 1, 'creditors': 1, 'bhpgm': 3, 'were': 2, 'rights': 1, 'ltd': 3, 'hongkong': 5, 'wardley': 1, 'lesley': 1, 'kerridge': 1, 'canon': 1, 'yet': 5, 'suddenly': 2, 'belgolux': 2, 'papua': 1, 'existing': 3, 'kaputin': 2, 'nigerian': 2, 'undersecretary': 5, 'forecasting': 1, 'penetration': 1, 'taxes': 2, 'creditor': 1, 'describing': 2, 'kaczurba': 1, 'which': 3, 'billion': 1, 'relief': 1, 'soymeal': 1, 'pig': 2, 'narrowly': 3, 'ice': 2, 'icebreaker': 1, 'ionic': 2, 'country': 1, 'falling': 3, 'active': 1, 'hopefully': 1, 'jaguar': 4, 'luxury': 1, 'nord': 2, 'chuquicamata': 1, 'mail': 1, 'matra': 1, 'blizzard': 1, 'port': 7, 'istanbul': 1, 'pickens': 8, 'munsingwear': 1, 'princeville': 3, 'winningham': 1, 'lending': 5, 'equatorial': 8, 'trimedyne': 1, 'casey': 1, 'regis': 1, 'systems': 2, 'requires': 1, 'demonstrations': 1, 'gambro': 1, 'wcas': 1, 'haggard': 3, 'making': 2, 'moving': 1, 'calling': 3, 'develle': 1, 'ironically': 2, 'bankhaus': 1, 'gti': 1, 'unitil': 1, 'caledonian': 1, 'trelleborg': 3, 'sl': 1, 'burry': 2, 'markey': 1, 'commission': 5, 'famous': 1, 'perkin': 1, 'conchemco': 1, 'dst': 2, 'eqk': 3, 'winland': 1, 'antibiotics': 1, 'cattlemen': 1, 'facilities': 2, 'loosening': 1, 'banco': 2, 'return': 2, 'unitel': 2, 'engelhard': 3, 'licences': 1, 'landes': 2, 'huges': 2, 'writing': 1, 'aetna': 2, 'fellner': 2, 'cbsi': 1, 'coupon': 2, 'kistler': 8, 'aequitron': 2, 'lowe': 2, 'sogenal': 4, 'societe': 5, 'stockbroker': 1, 'geronimus': 1, 'midland': 5, 'discussing': 3, 'wilshire': 2, 'apparel': 2, 'store': 1, 'keating': 10, 'quartz': 1, 'kodak': 8, 'gemcraft': 1, 'sooner': 1, 'idea': 3, 'hooper': 1, 'texon': 2, 'kohlberg': 2, 'amrep': 1, 'ici': 10, 'safecard': 1, 'wilton': 1, 'sonesta': 1, 'tempers': 1, 'bishop': 2, 'striking': 2, 'jorge': 3, 'blocker': 1, 'ltx': 1, 'calprop': 1, 'scitex': 1, 'constraints': 1, 'carmel': 2, 'tandem': 2, 'treybig': 2, 'l': 3, 'arnott': 1, 'ninety': 1, 'bargaining': 1, 'sheikh': 10, 'mcadoo': 2, 'moulinex': 2, 'mattson': 2, 'lucky': 7, 'told': 1, 'cuban': 3, 'granma': 2, '32': 1, 'grazing': 1, 'longview': 1, 'bei': 2, 'endevco': 2, 'ffb': 1, 'esquire': 1, 'chartwell': 1, 'pitt': 2, 'continuation': 1, 'speakers': 1, 'bailey': 1, 'paye': 1, 'franz': 1, 'rexcom': 1, 'postech': 1, 'ascs': 5, 'controversy': 1, 'audited': 1, 'carbon': 1, 'eliminations': 1, 'lone': 2, 'resende': 1, 'fairmount': 1, 'don': 3, 'hankes': 1, 'confidence': 1, 'unleaded': 1, 'fairfield': 1, 'carver': 1, 'azzam': 4, 'fremont': 1, 'simmons': 2, 'bere': 1, 'carroll': 2, 'armtek': 5, 'tire': 1, 'elxsi': 1, 'ferc': 4, 'hesse': 1, 'times': 1, 'pesch': 12, 'reph': 2, 'spar': 2, 'meatpackers': 4, 'zack': 2, 'chemlawn': 32, 'gene': 1, 'favored': 1, 'whitehead': 1, 'leroy': 1, 'paradyne': 2, 'kendall': 1, 'wiggins': 2, 'director': 3, 'nca': 1, 'biomedical': 1, 'roldan': 1, 'tommy': 1, 'marketings': 1, 'jose': 2, 'contracts': 2, 'enfield': 2, 'rosewood': 1, 'mason': 2, 'viner': 5, 'carpet': 1, 'leao': 1, 'buckstein': 2, 'tonight': 1, 'costa': 3, 'escalante': 2, 'mccarthy': 2, 'slifer': 3, 're': 3, 'tpa': 1, 'kaunda': 3, 'mcgrath': 1, 'sizzler': 1, 'mcandrews': 4, 'donegal': 2, 'avg': 4, 'krelitz': 1, 'borealis': 1, 'faraway': 1, 'imre': 1, 'instrumentarium': 1, 'fuqua': 1, 'reaffirming': 1, 'annesley': 1, 'toshin': 1, 'azuma': 1, 'selecterm': 1, 'residential': 2, 'okc': 1, 'greenbaum': 1, 'jason': 1, 'tax': 7, '6': 3, 'water': 2, 'traffic': 1, 'hawker': 4, 'narragansett': 2, 'interested': 1, 'cineplex': 4, 'monfort': 5, 'nordbanken': 4, 'fermenta': 2, 'donaldson': 1, 'arundel': 1, 'midmississippi': 1, 'midwestern': 1, 'nch': 1, 'nationwide': 7, 'trenwick': 1, 'furniture': 1, 'cie': 3, 'cox': 1, 'bancroft': 6, 'graff': 1, 'boc': 1, 'abn': 1, 'hazelhoff': 2, 'provisions': 2, 'richton': 1, 'valtek': 1, 'insituform': 3, 'liffe': 3, 'ft': 1, 'open': 1, 'mge': 2, 'pat': 2, 'aluminum': 2, 'nicel': 2, 'explaining': 1, 'ntt': 2, 'att': 7, 'grubman': 1, 'someone': 1, 'cme': 1, 'regular': 1, 'struthers': 2, 'soros': 4, 'lorenzo': 1, 'payless': 3, 'southtrust': 1, 'carling': 4, 'channel': 1, 'kaakebeen': 1, 'patrick': 5, 'epitope': 1, 'petrol': 4, 'television': 3, 'queues': 1, 'encor': 3, 'presumably': 1, 'landmark': 2, 'holly': 3, 'divers': 1, 'foxboro': 1, 'nicaragua': 1, 'english': 1, 'have': 1, 'alfin': 1, 'hyponex': 1, 'technigen': 1, 'executive': 1, 'physicians': 1, 'bradley': 2, 'malrite': 2, 'mono': 2, 'uslico': 1, 'diplomat': 2, 'hall': 4, 'healthcare': 3, 'bmc': 1, 'afbf': 1, 'jonathan': 1, 'dudley': 8, 'macalpine': 1, 'positive': 1, 'rico': 1, 'sandox': 1, 'energen': 1, 'sierra': 3, 'metex': 3, 'monoclonal': 1, 'braniff': 1, 'supports': 2, 'jan': 1, 'braceras': 1, 'dismissal': 1, 'townsend': 3, 'uab': 1, 'ferry': 2, 'thas': 1, 'corporation': 2, 'gerold': 1, 'tandler': 1, 'experts': 4, 'flat': 1, 'shipowners': 3, 'ammar': 2, 'loading': 2, 'shv': 7, 'placer': 5, 'incoming': 1, 'interbank': 1, 'nioc': 1, 'firmer': 1, 'lister': 1, 'uranium': 1, 'marines': 1, 'wallenbergs': 1, 'thre': 1, 'lundberg': 1, 'mts': 9, 'resorts': 11, 'iomega': 4, 'provides': 1, 'tietmeyer': 1, 'economics': 2, 'schlecht': 2, 'makumbi': 1, 'bomani': 1, 'act': 3, 'successful': 4, 'reuter11': 1, 'bosphorus': 1, 'mcdowell': 1, 'approval': 1, 'amc': 12, 'geogia': 1, 'stora': 4, 'calculated': 1, 'wonnacott': 4, 'benefits': 1, 'migrant': 1, 'robins': 1, 'magnetic': 3, 'dixie': 1, 'ti': 1, 'atpc': 4, 'comment': 1, 'chief': 4, 'redzuan': 1, 'bolivia': 6, 'mines': 1, 'gale': 2, 'advisories': 1, 'freezing': 1, 'evaluation': 1, 'charan': 3, 'takefman': 3, 'ppg': 2, 'fat': 1, 'soyabeans': 1, 'soyabean': 2, 'fishoil': 1, 'less': 1, 'sellers': 2, 'redemptions': 1, 'ranger': 2, 'tate': 2, 'sale': 4, 'uaw': 1, 'moody': 4, 'xuto': 11, 'wong': 1, 'bally': 11, 'special': 3, 'hamilton': 1, 'rationalisation': 1, 'graham': 1, 'fitness': 3, 'gomes': 1, 'servicemaster': 1, 'ronald': 3, 'koreans': 1, 'rah': 1, 'abms': 1, 'zinc': 2, 'sharon': 1, 'passengers': 2, 'larner': 2, 'greenblatt': 1, 'rickels': 1, 'advo': 2, 'grandview': 1, 'ticket': 1, 'immucor': 1, 'roffman': 1, 'tapioca': 1, 'citruspulp': 1, 'keller': 2, 'reading': 3, 'renato': 1, 'pcri': 1, 'ugo': 1, 'lmfe': 1, 'eurosterling': 1, 'butterwick': 1, 'mathematical': 6, 'pagex': 1, 'intercon': 1, 'bills': 3, 'exco': 2, 'rmj': 4, 'lacy': 2, 'lce': 1, 'traded': 1, 'carolin': 6, 'information': 3, 'bracho': 1, 'suggesting': 1, 'accord': 2, 'solomon': 4, 'coloroll': 1, 'miami': 1, 'sensormatic': 2, 'dibona': 2, 'almaden': 1, 'ceasars': 6, 'mulroney': 2, 'outside': 3, 'richmond': 2, 'carlsson': 1, 'americus': 3, 'warrington': 3, 'taurus': 1, 'floor': 1, 'space': 1, 'kick': 1, 'hogan': 2, 'trees': 1, 'chee': 2, 'clones': 1, 'fungicide': 1, 'search': 1, 'salvage': 2, 'suspicion': 1, 'sergey': 2, 'frolov': 2, 'sichuan': 3, 'wen': 3, 'henan': 1, 'preparations': 1, 'grey': 1, 'commitment': 1, 'conflicting': 2, 'carlton': 3, 'austmet': 3, 'asturiana': 1, 'kaufhof': 1, 'takeuchi': 1, 'bejam': 1, 'nomura': 3, 'fourteen': 1, 'creditanstalt': 3, 'ultramar': 8, 'gkn': 3, 'wam': 1, 'proven': 4, 'queensland': 1, 'qpl': 1, 'highveld': 3, 'preussag': 7, 'jumardi': 2, 'jukardi': 1, 'hardjoko': 1, 'korea': 3, 'annualised': 1, 'pound': 1, 'byers': 1, 'gillard': 1, 'taipei': 1, 'balletto': 2, 'expressed': 1, 'southlife': 1, 'li': 5, 'cavendish': 1, 'bernstein': 1, 'her': 1, 'schmidt': 3, 'schilling': 1, 'androsch': 2, 'preference': 1, 'peterson': 1, 'pulitzer': 2, 'heart': 1, 'novo': 3, 'overmyer': 1, 'uniforce': 2, 'pic': 1, 'patents': 1, 'sucralose': 2, 'fekete': 5, 'fellow': 2, 'veba': 2, 'esselte': 4, 'katy': 1, 'supermac': 1, 'sold': 2, 'lumber': 1, 'passenger': 2, 'deb': 2, 'sigma': 7, 'scs': 1, 'alpine': 2, 'vhc': 1, 'transtech': 1, 'november': 1, 'anova': 3, 'duvel': 1, 'nucor': 1, '73': 1, 'ropak': 3, 'comtech': 2, 'sahlen': 3, 'mem': 2, 'nutmeg': 1, 'ansbacher': 2, 'natwest': 1, 'penril': 3, 'bonneville': 1, 'jc': 1, 'globe': 1, 'metzenbaum': 2, 'groundwater': 1, 'property': 2, 'chi': 4, 'semegran': 1, 'progress': 1, 'conference': 5, 'newport': 3, 'seizer': 1, 'gevaert': 1, 'stockbrokers': 1, 'building': 5, 'emphasising': 1, 'nicor': 1, 'handleman': 1, 'perini': 2, 'alkan': 1, 'counterpart': 3, 'speed': 2, 'discussion': 1, 'verhofstadt': 1, 'bbc': 1, 'reute': 1, 'foodarama': 1, 'engineering': 1, 'sandusky': 1, 'marriott': 1, 'meese': 2, 'strevig': 1, 'plenty': 1, 'rich': 1, 'hannes': 1, 'versar': 3, 'marietta': 1, 'bowne': 1, 'numac': 3, 'farah': 2, 'pciac': 1, 'dole': 9, 'damages': 1, 'crews': 1, 'feretti': 1, 'miles': 5, 'contradicting': 1, 'shadowfax': 1, 'paralax': 4, 'kurzweil': 2, 'bayly': 1, 'aide': 1, 'peres': 2, 'cutrale': 1, 'ich': 1, 'invacare': 3, 'mixon': 1, '46': 1, 'resturant': 1, 'bonuses': 1, 'amounts': 1, 'enseco': 1, 'railway': 1, 'bangor': 1, 'nothing': 1, 'landon': 1, 'herley': 1, 'mcv': 1, 'niedermeyer': 3, 'alabama': 1, 'lee': 5, 'aero': 3, 'brae': 1, 'tagaris': 1, 'trico': 2, 'crew': 1, 'psa': 1, 'southernnet': 1, 'sylvan': 1, 'enrollment': 2, 'marginal': 1, 'fringe': 1, 'pittston': 7, 'flooded': 1, 'tuesday': 1, 'lionel': 1, 'diagnostic': 6, 'astec': 1, 'rozich': 1, 'improved': 4, 'revises': 1, 'murakhovsky': 3, 'declining': 1, 'doumeng': 1, 'eagle': 2, 'iida': 2, 'mhi': 4, 'shipbuilders': 1, 'domestically': 3, 'military': 1, 'plane': 1, 'tonen': 2, 'waterwhite': 1, 'computers': 1, 'supercomputers': 2, 'paice': 2, 'norgold': 3, 'seamen': 2, 'kertosastro': 1, 'dharyono': 4, 'renouf': 6, 'nzi': 2, 'cashin': 1, 'mac': 1, 'aice': 1, 'muda': 1, 'recurrent': 2, 'rowntree': 3, 'remained': 1, 'operations': 1, 'acquisitions': 2, 'confectionery': 1, 'snack': 1, 'pea': 1, 'quoting': 1, 'sdc': 1, 'petitioners': 1, 'jefferson': 2, 'handy': 3, 'frawley': 4, 'mirdha': 1, 'lyonnaise': 1, 'wholly': 2, 'metropole': 1, 'financing': 2, 'monod': 1, 'gus': 2, 'states': 1, 'kidston': 2, 'bulletin': 1, 'hermann': 3, 'pohl': 1, 'farmland': 1, 'farming': 1, 'higashi': 1, 'nakamura': 1, 'bel': 1, 'baird': 5, 'sroka': 2, 'auto': 2, 'peckford': 1, 'banknotes': 1, 'sand': 3, 'shattner': 3, 'signs': 3, 'taketomi': 1, 'remittances': 1, 'fifty': 1, 'wholesalers': 1, 'possis': 1, 'colgate': 2, 'isco': 1, 'distribution': 1, 'resumption': 1, 'panamanian': 1, 'guardman': 1, 'dorchester': 1, 'datametrics': 1, 'wiener': 1, 'comparable': 1, 'fauber': 1, 'dainippon': 3, 'quixote': 2, 'knoll': 2, 'igene': 1, 'varieties': 1, 'silas': 2, 'drs': 2, 'petrosurance': 1, 'beauticontrol': 1, 'gradin': 1, 'odgers': 1, 'augar': 1, 'maximum': 1, 'tenney': 1, 'modern': 2, 'instinet': 4, 'petrie': 3, 'naarden': 2, 'miguel': 3, 'ascensao': 1, 'acico': 1, 'durable': 1, 'waiting': 1, 'dixon': 1, 'vse': 1, 'orbanco': 1, 'dranetz': 1, 'lands': 1, 'zico': 1, 'seaboard': 1, '25': 3, '75': 1, 'hoenmans': 1, 'millipore': 1, 'protein': 1, 'wildlife': 1, 'jay': 1, 'hair': 3, 'repairs': 1, 'protocomdevices': 1, 'paradise': 3, 'samson': 1, 'reminded': 2, 'equine': 1, 'digimed': 2, 'flight': 1, 'rambaud': 2, 'solv': 2, 'petroles': 1, 'unr': 1, 'volt': 1, 'change': 1, 'grow': 1, 'powerine': 2, 'idaho': 1, 'desoto': 3, 'value': 4, 'cytrx': 1, 'bessemer': 1, 'optrotech': 1, 'hazleton': 1, 'throughput': 1, 'tighter': 1, 'garrone': 1, 'compagnie': 1, 'samudio': 2, 'repeated': 1, 'cobriza': 1, 'maoist': 1, 'masco': 1, '12': 3, 'ipco': 2, 'thermwood': 1, 'pyable': 1, 'ottawa': 2, 'hockin': 2, 'alleghney': 2, 'pessimism': 1, 'good': 3, 'cmp': 1, 'warwick': 1, 'decoupling': 2, 'unequivocal': 1, 'robbin': 1, 'core': 1, 'schlang': 3, 'morbelli': 1, 'circon': 1, 'halbert': 1, 'summit': 2, 'tony': 4, 'holden': 7, 'eaton': 1, 'nogales': 10, 'gelco': 8, 'gephardt': 3, 'strober': 1, 'ibp': 3, 'cji': 1, 'counsel': 1, 'eager': 1, 'interconnect': 6, 'gates': 3, 'santana': 3, 'griggs': 1, 'echoing': 1, 'ours': 1, 'brenco': 1, 'bryn': 1, 'hearst': 1, 'iel': 1, 'acmex': 2, 'cheetham': 1, 'beryl': 1, 'penner': 3, 'caused': 1, 'massachusetts': 1, 'kubota': 1, 'sandoz': 4, 'alusuisse': 12, 'objections': 1, 'microchip': 2, 'takemoto': 2, 'heinl': 1, 'kampuchea': 1, 'spk': 1, 'outstanding': 3, 'fichtel': 1, 'schweizerhalle': 1, 'jucker': 3, 'haerri': 2, 'lends': 1, 'elaborating': 1, 'announced': 1, 'mfs': 3, 'burmese': 1, 'paddy': 1, 'burma': 3, 'penhale': 1, 'receipt': 1, 'rosenmuller': 1, 'strike': 2, 'tanker': 1, 'hemotec': 1, 'dreyer': 3, 'materials': 1, 'conseco': 3, 'koninklijke': 1, 'nortek': 3, 'svz': 1, 'healthco': 1, 'al': 6, 'nu': 1, 'echlin': 9, 'klm': 11, 'packaging': 1, 'manufactured': 1, 'haiti': 4, 'filtertek': 1, 'manaspas': 1, 'transact': 1, 'kapok': 3, 'yeo': 1, 'ors': 2, 'weighted': 1, 'paint': 1, 'bpi': 2, 'telemedia': 4, 'harrowsmith': 1, 'divi': 1, 'helmerich': 1, 'irish': 2, 'bryson': 3, 'sporting': 1, 'transit': 2, 'approximately': 1, 'heavier': 1, 'monthly': 1, 'meets': 1, 'wyss': 1, 'infinite': 2, 'mindscape': 1, 'fairchild': 7, 'gts': 1, 'smartnames': 1, 'numerous': 1, 'impending': 1, 'stephan': 1, 'plm': 1, 'ame': 2, 'molpus': 2, 'requests': 1, 'aileen': 1, 'wolverine': 5, 'hurco': 1, 'shared': 1, 'weigh': 1, 'monarch': 1, 'carbide': 1, 'lichtenberger': 1, 'or': 1, 'presently': 2, 'oilman': 1, 'powell': 2, 'lifestyle': 3, 'firecom': 1, 'wheeling': 1, 'residual': 1, 'electric': 1, 'coal': 2, 'weyerhaeuser': 6, 'varity': 11, 'ldbrinkman': 2, 'acs': 1, 'agreements': 1, 'sheppard': 1, 'zondervan': 1, 'unibancorp': 1, 'broadview': 1, 'enzo': 1, 'flyer': 1, 'mlx': 2, 'gustafson': 1, 'indications': 1, 'loewy': 1, 'katharina': 1, 'susan': 1, 'zimmer': 1, 'minn': 1, 'beaver': 1, 'victor': 2, 'saudis': 2, 'refco': 1, 'fewer': 1, 'geneva': 2, 'presidency': 2, 'violators': 1, 'gallon': 1, 'extraction': 1, 'iron': 1, 'tanjug': 2, 'pechiney': 3, 'yugoslavian': 1, 'ina': 7, 'styx': 1, 'missiles': 1, 'tense': 1, 'renewed': 2, 'citroen': 3, 'calvet': 2, 'ekonomicheskaya': 1, 'nmc': 1, 'rubibira': 1, 'rifa': 2, 'lange': 2, 'juergen': 1, 'authorities': 1, 'stricter': 1, 'how': 1, 'curry': 1, 'unilateral': 2, 'cpo': 1, 'processed': 1, 'pearson': 4, 'minority': 1, 'poclain': 1, 'israeli': 1, 'wage': 1, 'ongpin': 4, 'clothing': 1, 'eurofer': 3, 'minimum': 2, 'mai': 1, 'madagascar': 5, 'paribas': 1, 'baii': 1, 'economy': 1, 'cairo': 1, 'duro': 1, 'kohl': 2, 'failing': 1, 'habibie': 1, 'zim': 3, 'bluefield': 1, 'bergen': 1, 'emhart': 4, 'joule': 1, 'npn': 1, 'benequity': 1, 'internchange': 1, 'lowrance': 2, 'commtron': 1, 'msa': 2, 'forced': 1, 'dirigisme': 1, 'ultra': 1, 'illusion': 1, 'encouraged': 1, 'endotronics': 10, 'ghiringhelli': 1, 'bcw': 1, 'avia': 3, 'dwg': 2, 'professional': 1, 'block': 3, 'braatz': 1, 'aldershot': 2, 'preferred': 1, 'derlan': 1, 'releasing': 1, 'decorator': 1, 'thermo': 4, 'salant': 5, 'sign': 1, 'analogic': 1, 'republican': 1, 'frenzel': 1, 'ways': 1, 'organized': 2, 'afl': 2, 'cronus': 2, 'bennett': 3, 'backing': 1, 'scb': 1, 'wessberg': 1, 'recalculated': 1, 'intermagnetics': 1, 'guadalco': 1, 'eep': 1, 'benguet': 1, 'tbg': 3, 'avaq': 4, 'luby': 1, 'metallgesellschaft': 2, 'circus': 1, 'panhandle': 1, 'tofutti': 1, 'digitech': 1, 'martens': 4, 'wedge': 6, 'cabot': 1, 'amerihealth': 1, 'schroeder': 2, 'cambridge': 3, 'mrs': 1, 'funaro': 2, 'biotechnology': 1, 'hechinger': 1, 'svenska': 1, 'gilberto': 2, 'cornelissen': 1, 'aiding': 1, 'sutliff': 1, 'rockwood': 1, 'forum': 1, 'fbx': 1, 'durables': 2, 'nondurable': 1, 'fabricated': 1, 'tab': 1, 'markel': 1, 'machine': 1, 'docugraphix': 1, 'nbd': 1, 'triangle': 5, 'osr': 3, 'telcom': 1, 'lerner': 3, 'maryland': 3, 'rainier': 2, 'levon': 8, 'condere': 2, '202': 1, 'vishay': 1, 'integrated': 4, 'lear': 9, 'westronic': 1, 'kenan': 1, 'jacobson': 1, 'satellite': 1, 'starrex': 3, 'harley': 1, 'ethiopia': 1, 'tesfay': 1, 'adebayo': 1, 'program': 3, 'canbra': 7, 'oxford': 3, 'advance': 1, 'components': 1, 'had': 1, 'morse': 1, 'skippers': 1, 'ziegler': 1, '2001': 1, 'opinions': 1, 'quadrex': 1, 'pl': 1, 'sens': 1, 'schlick': 1, 'telequest': 1, 'stritch': 1, 'affiliated': 6, 'dna': 5, 'goldome': 1, 'newcor': 1, 'tech': 2, 'fendt': 6, 'truck': 1, 'penn': 2, 'alcad': 1, 'saft': 1, 'leaders': 1, 'bandied': 1, 'ritterbusch': 1, 'mcdermott': 1, 'jopling': 2, 'clausen': 3, 'augat': 1, 'astro': 1, 'ports': 2, 'zzzz': 1, 'alternatives': 1, 'wellman': 1, 'moduline': 1, 'bindley': 1, 'reuss': 1, 'wings': 1, 'seems': 2, 'nicolls': 1, 'buttrose': 1, 'invisible': 1, 'cathay': 10, 'fear': 1, 'inl': 4, 'kobe': 1, 'subject': 1, 'tocom': 1, 'transamerican': 4, 'nabors': 1, 'dependence': 1, 'chu': 1, 'expansion': 1, 'ccic': 1, 'firms': 3, 'yukio': 1, 'loophole': 1, 'billiton': 4, 'conglomerate': 1, 'zeebregts': 1, 'masao': 1, 'johsen': 1, 'takahashi': 1, 'fathi': 1, 'roling': 1, 'macgregor': 1, 'cheap': 1, 'placements': 1, 'feedlot': 1, 'gidel': 1, 'feedlots': 1, 'microbilt': 1, 'noel': 2, 'atico': 4, 'intercontinental': 1, 'clothestime': 2, 'immunogenetics': 1, 'mcrae': 2, 'assays': 2, 'popsicle': 1, 'mesa': 2, 'outflows': 1, 'gruen': 1, 'viceroy': 1, 'automatix': 1, 'ionics': 1, 'tm': 1, 'codenoll': 1, 'genetic': 1, 'my': 1, 'systematics': 2, 'linoil': 1, 'amre': 1, 'porta': 1, 'gantos': 2, 'spendthrift': 1, 'chitambala': 2, 'teva': 2, 'kresge': 1, 'stevenson': 1, 'frisch': 1, 'chemie': 1, 'merx': 1, 'piw': 2, 'fluegel': 2, 'retaliatory': 2, 'groundnut': 1, 'steinhardt': 1, 'scor': 1, 'genstar': 1, 'westerbeke': 1, 'dorgan': 1, 'chivuno': 1, 'jamesway': 4, 'tidier': 1, 'gareth': 1, 'shoney': 3, 'cgct': 2, 'apt': 1, 'bootle': 2, 'toussie': 1, 'siebel': 1, 'oshman': 2, 'gleske': 3, 'same': 1, 'mostly': 2, 'worthington': 1, 'adequate': 1, 'warns': 2, 'vtx': 2, 'norstar': 13, 'mortgage': 1, 'oman': 1, 'photographic': 2, 'thirteen': 1, 'hre': 5, 'grains': 1, 'showers': 2, 'summer': 1, 'locally': 2, 'timely': 1, 'holt': 1, 'dennis': 1, 'herrington': 23, 'wainco': 1, 'viatech': 1, 'interactive': 1, 'cannot': 1, 'fadhil': 1, 'midway': 2, 'equion': 1, 'sna': 1, 'pentron': 1, 'reynold': 1, 'boddington': 1, '17': 1, 'diodes': 1, 'mony': 3, 'marcor': 1, 'palomino': 2, 'interdyne': 1, 'killearn': 1, 'academy': 2, 'jayark': 1, 'freeing': 1, 'termination': 1, 'vangarlem': 1, 'howell': 1, 'sigmaform': 1, 'marcus': 2, 'firstcorp': 2, 'ventra': 2, 'realty': 1, 'wausau': 1, 'fibronics': 1, 'damon': 1, 'technodyne': 1, 'duff': 1, 'picketing': 1, 'php': 1, 'hallwood': 1, 'paperboard': 2, 'saleh': 1, 'already': 2, 'looming': 1, 'hostile': 1, 'internationalisation': 1, 'cbot': 1, 'khoo': 1, 'goodwood': 1, 'toyota': 4, 'pnb': 1, 'holzstoff': 1, 'sergeyev': 1, 'hashimoto': 1, 'airline': 1, 'garnac': 1, 'returning': 1, 'thirdly': 1, 'expired': 1, 'erbynn': 1, 'matrix': 1, 'remsperger': 1, 'itj': 3, 'petronas': 1, 'ships': 1, 'mobex': 3, 'acting': 2, 'davy': 1, 'toys': 1, 'publicker': 2, 'kinder': 2, 'ultrasystems': 2, 'nfs': 1, 'audi': 4, 'habbel': 5, 'dropped': 1, 'datagraphix': 2, 'winnebago': 1, 'bruce': 2, 'speculators': 1, 'synthetech': 1, 'ranco': 2, 'crosby': 2, 'genzyme': 1, 'spectrum': 1, 'parliament': 1, 'utvegsbanki': 1, 'animed': 2, 'wiehn': 4, 'exovir': 2, 'brad': 1, 'simmonds': 1, 'timberland': 1, 'trus': 2, 'greengrass': 1, 'robbins': 1, 'cypress': 1, 'ceradyne': 2, 'chemclear': 3, 'phenol': 1, 'credo': 1, 'tayer': 1, 'hartford': 5, 'oesterreichische': 1, 'cons': 2, 'fhlmc': 2, 'freight': 3, 'diw': 1, 'craftmatic': 1, 'training': 1, 'divisions': 1, 'chamorro': 1, 'dcny': 2, 'inertia': 2, 'ati': 1, 'savannah': 1, 'faltering': 1, 'ike': 1, 'gasper': 1, 'years': 1, 'obsolete': 1, 'cane': 1, 'soaring': 1, 'geplacea': 2, 'eldorado': 1, 'broadcasting': 1, 'admac': 1, 'paco': 1, 'bionomic': 2, 'megaphone': 1, 'carolina': 7, 'trilogy': 1, 'rabbit': 2, 'bard': 1, 'cramer': 1, 'ogden': 1, 'swearingen': 3, 'reliable': 2, 'novar': 2, 'denman': 8, 'brooks': 5, 'futjitsu': 1, 'decisions': 1, 'tightening': 1, 'arguing': 1, 'royce': 1, 'wisenbaker': 1, 'allison': 3, 'puritan': 1, 'enron': 1, 'schenker': 1, 'ne': 2, 'nawg': 1, 'children': 1, 'neyra': 3, 'ensource': 1, 'alleghany': 3, 'kaplan': 1, 'crosibie': 1, 'seidman': 1, 'vestar': 2, 'ameritech': 1, 'psi': 1, 'siebe': 1, 'raymond': 2, 'tel': 2, 'belcher': 1, 'cofab': 1, 'bfi': 1, 'sawmill': 1, 'bogart': 1, 'laenderbank': 2, 'wagner': 5, 'announcing': 1, 'pilgrim': 1, 'pri': 2, 'ault': 1, 'xtra': 1, 'rentco': 1, 'brinkman': 1, 'thunander': 1, 'texstyrene': 2, 'laurentian': 2, 'castonguay': 1, 'lamont': 1, 'division': 1, 'yergin': 3, 'lichtbalu': 1, 'spectran': 1, 'schultz': 1, 'rospatch': 10, 'intense': 2, 'mitek': 2, 'limited': 1, 'canterra': 2, 'rooney': 1, 'lougee': 1, 'volatility': 1, 'karnosky': 1, 'sparked': 1, 'nicanor': 1, 'seguel': 1, 'weisfield': 2, 'bolivian': 3, 'czarnikow': 3, 'allowing': 2, 'departments': 1, 'tom': 1, 'elements': 1, 'muldoon': 2, 'perhaps': 1, 'antara': 2, 'equally': 1, 'bob': 1, 'andre': 1, 'ziering': 3, 'swissair': 4, 'currencies': 2, 'poor': 3, 'herbal': 1, 'dunkin': 1, 'britoil': 5, 'fairfax': 6, 'magazines': 1, 'exceptional': 1, 'retained': 1, 'feb': 5, 'chip': 1, 'funding': 1, 'oakleaf': 1, 'nominal': 1, 'nonfarm': 1, 'vigorous': 1, 'nymex': 3, 'belvedere': 1, 'parini': 1, 'subsidies': 1, 'caribou': 1, 'staubli': 1, 'mohammed': 1, 'stuarts': 1, '3com': 1, 'manufacture': 1, 'car': 1, 'geriatric': 1, 'barrett': 1, 'whatever': 1, 'joensson': 1, 'blockbuster': 4, 'disposable': 1, 'lutterbach': 2, 'mediq': 2, 'corbett': 1, 'manor': 1, 'adtec': 1, 'segment': 1, 'valentchits': 1, 'nmic': 2, 'application': 1, 'wisconsin': 1, 'goodmark': 1, 'asia': 1, 'lately': 1, 'altron': 2, 'word': 1, 'excel': 2, 'murgold': 1, 'technology': 1, 'provided': 1, 'csp': 1, 'cavalier': 1, 'studies': 1, 'albertson': 2, 'ipecode': 1, 'riverside': 1, 'wavehill': 1, 'benetton': 2, 'diablo': 1, 'symbion': 2, 'seagram': 3, 'solar': 2, 'inkey': 2, 'dep': 1, 'clements': 1, 'barker': 1, 'quite': 1, 'm0': 1, 'nynex': 3, 'burnup': 1, 'pfaudler': 1, 'kms': 1, 'syntech': 1, 'pop': 1, 'pitman': 1, 'erbamont': 1, 'raise': 1, 'citrosuco': 1, 'alden': 2, 'jacoby': 1, 'azure': 1, 'love': 2, 'absorption': 1, 'odyssey': 1, 'improvements': 1, 'chatwal': 2, 'heldor': 1, 'perrin': 1, 'joan': 1, 'hanbury': 1, 'pension': 2, 'foote': 10, 'asea': 2, 'expenses': 2, 'art': 2, 'pse': 1, 'ward': 1, 'sherwoood': 1, 'frank': 2, 'simex': 2, 'norris': 1, 'dorsey': 1, 'goulds': 1, 'byron': 1, 'nimocks': 2, 'intermark': 3, 'josten': 1, 'proprietary': 1, 'nrm': 1, 'motel': 1, 'tag': 1, 'harmon': 1, 'alfaro': 1, 'micropro': 1, 'ricart': 2, 'comprehensive': 2, 'needs': 2, 'garment': 1, 'jiang': 2, 'ningbo': 1, 'equal': 2, 'attractive': 1, 'krung': 2, 'sayam': 1, 'waree': 1, 'kirin': 1, 'severe': 1, 'pasar': 1, 'abbey': 2, 'bhagat': 1, 'tropical': 1, 'replanting': 1, 'ganapin': 1, 'prescriptions': 1, 'deforestation': 1, 'sponsored': 1, 'wwf': 1, 'expenditure': 1, 'xp': 1, 'collins': 1, 'newman': 3, 'vontobel': 2, 'agencies': 1, 'excessive': 2, 'calculations': 1, 'berliner': 3, 'biosearch': 1, 'geodome': 7, 'unfair': 1, 'zdzislaw': 1, 'stanely': 1, 'sonex': 2, 'compuscan': 1, 'thompson': 2, 'vertex': 2, 'rent': 1, 'russ': 2, 'carteret': 3, 'mcdonald': 3, 'enviropact': 1, 'whitehall': 1, 'virateck': 1, 'parkway': 1, 'exceptions': 1, 'parisian': 1, 'spi': 1, 'cogeco': 1, 'nestle': 10, 'sunshine': 3, 'graco': 1, 'scat': 1, 'recommendation': 1, 'mccrann': 2, 'winthrop': 2, 'entex': 2, 'broke': 1, 'autoclave': 1, 'sindt': 3, 'presented': 1, 'bergsten': 1, 'rimmer': 1, 'realmerica': 1, 'billboard': 1, 'celina': 1, 'sa': 1, 'virco': 1, 'ftc': 2, 'shl': 1, 'slab': 1, 'photronic': 1, 'armstrong': 2, 'cook': 10, 'ferro': 3, 'shutting': 1, 'un': 1, 'ahmed': 1, 'farouk': 2, 'gerard': 2, 'hiram': 1, 'carlos': 1, 'pensions': 1, 'efps': 1, 'mcm': 1, 'thackeray': 1, 'martell': 3, 'inflows': 1, 'gurria': 2, 'petricioli': 2, 'sixteen': 1, 'navistar': 3, 'eisenberg': 1, 'panic': 2, 'virazole': 1, 'scholastic': 1, 'goody': 2, 'peps': 1, 'wendy': 9, 'emerald': 2, 'binks': 1, 'niagara': 2, 'ldc': 1, 'sugarcane': 1, 'quantity': 1, 'fundamentals': 1, 'depressed': 1, 'hemsley': 1, 'lilco': 7, 'sunbelt': 1, 'marcom': 1, 'stanwood': 1, 'sulpetro': 2, 'spadine': 1, 'smolinski': 1, 'minorco': 3, 'bilateral': 3, 'paz': 1, 'giving': 1, 'suharto': 1, 'sfem': 1, 'ishrat': 1, 'bumper': 1, 'panganiban': 1, 'ariadne': 2, 'complete': 1, 'alitalia': 3, 'raimond': 3, 'gcc': 1, 'explosion': 1, 'barwon': 3, 'commissioner': 1, 'rafidain': 2, 'jorio': 1, 'sgl': 2, 'woolworths': 6, 'newspapers': 1, 'policymakers': 1, 'mcivor': 10, 'increasing': 1, 'story': 1, 'windfall': 1, 'cutting': 1, 'mamman': 1, 'developed': 1, 'josef': 1, 'hata': 5, 'dawkins': 2, 'booker': 2, 'concepcion': 8, 'debt': 1, 'deng': 1, 'accounted': 1, 'syeduzzaman': 2, 'commitments': 1, 'kaysersberg': 1, '23': 1, 'awf': 1, 'pittway': 1, 'sebaana': 1, 'harbour': 1, 'microtel': 1, 'formation': 1, 'fruit': 1, 'cityquest': 2, 'undertakings': 1, 'winchell': 1, 'aar': 1, 'yamamoto': 2, 'clair': 1, 'alco': 1, 'aweke': 2, 'normal': 2, 'ryland': 1, 'fuller': 2, 'pryor': 2, 'petrolite': 1, 'dynamic': 2, 'westworld': 1, 'kings': 2, 'paychex': 1, 'hemodynamics': 1, 'deloitte': 1, 'moto': 2, 'tonka': 5, 'child': 1, 'bayernverein': 1, 'risk': 1, 'hackl': 2, 'paragon': 1, 'operation': 1, 'adler': 1, 'photo': 1, 'recoton': 1, 'hosposable': 1, 'vogel': 1, 'die': 1, 'vague': 1, 'leucadia': 3, 'principal': 1, 'coceral': 1, 'ducommon': 1, 'microbio': 1, 'barreto': 3, 'juno': 1, 'amt': 3, 'rayner': 1, 'prepared': 1, 'timber': 3, 'geo': 2, 'lechin': 1, 'weizsaecker': 1, 'written': 1, 'pacificare': 1, 'initials': 2, 'murren': 1, 'caroline': 1, 'pepsi': 1, 'gemini': 1, 'ces': 1, 'disinflation': 1, 'kiddie': 1, 'telecredit': 1, 'banca': 1, 'alc': 2, 'lesco': 1, 'seismic': 1, 'varlen': 1, 'taqi': 1, 'cantrex': 1, 'primark': 1, 'saxon': 1, 'brunswick': 3, 'reichart': 1, 'frederick': 1, 'club': 2, 'driver': 1, 'willing': 3, 'perceptive': 1, 'vernell': 1, 'stokely': 1, 'melamed': 3, 'tcby': 3, 'hecla': 3, 'sprint': 1, 'holland': 3, 'fiber': 1, 'avalon': 1, 'look': 1, 'hindsight': 1, 'bay': 1, 'cbi': 2, 'swire': 9, 'aviation': 1, 'hoare': 1, 'evans': 4, 'apea': 2, 'gosper': 2, 'santi': 1, 'peninsular': 1, 'doubts': 2, 'competition': 3, 'secondly': 2, 'somehow': 1, 'human': 1, 'lisbon': 1, 'interference': 1, 'whipple': 1, 'helped': 1, 'tension': 1, 'ho': 2, 'widened': 2, 'bdm': 1, 'storm': 1, 'flash': 1, 'electrical': 1, 'opinion': 1, 'transnational': 1, 'narusawa': 1, 'angelica': 1, 'kerin': 2, 'gull': 1, 'ameriana': 1, 'griffin': 1, 'levy': 1, 'argyll': 3, 'disclosures': 1, 'vallen': 1, 'claremont': 7, 'catena': 2, 'astrotech': 1, 'pneumatic': 1, 'hydraulic': 1, 'preway': 1, 'suna': 1, 'twenty': 1, 'bookings': 1, 'borrowing': 1, 'kleinert': 1, 'microdyme': 1, 'battery': 2, 'restructuring': 1, 'jaap': 1, 'haslam': 1, 'gnb': 1, 'taco': 1, 'commodities': 1, 'oii': 4, 'lamborghini': 1, 'kuna': 1, 'comalco': 11, 'crs': 3, 'technitrol': 2, 'extraordinaries': 1, 'rugeroni': 1, 'drawdown': 1, 'expectations': 1, 'bullish': 1, 'worries': 1, 'plenum': 1, 'honeybee': 1, 'cif': 1, 'barber': 3, 'businesses': 1, 'olivetti': 1, 'stet': 1, 'enserch': 1, 'nabisco': 1, 'microsize': 1, 'tajon': 1, 'centerior': 1, 'membership': 1, 'mulligan': 1, 'cavanaugh': 1, 'patronage': 1, 'hokanson': 1, 'joining': 1, 'crowley': 1, 'procedure': 1, 'calumet': 1, 'salvino': 1, 'nimit': 1, 'nonthapanthawat': 1, 'revision': 1, 'earnest': 1, 'mott': 1, 'haynes': 2, 'siemen': 1, 'czechoslovakia': 1, 'wean': 1, 'fisons': 1, 'chia': 1, 'sundor': 1, 'quick': 1, 'numerex': 1, 'unionist': 1, 'bywater': 3, 'zaire': 2, 'midivest': 2, 'talk': 1, 'noverco': 1, 'monsod': 2, 'nashua': 1, 'vermont': 1, 'gartner': 2, 'solters': 1, 'braddock': 1, 'wd': 1, 'nipsco': 1, 'expected': 1, 'kirschner': 1, 'grassley': 1, 'chacin': 1, 'reimpell': 1, 'gottschalks': 1, 'huckaby': 10, 'potash': 1, 'trintoc': 2, 'ramnath': 1, 'snamprogetti': 1, 'robinson': 1, 'siaahan': 1, 'rb': 2, 'los': 1, 'mikron': 1, 'austn': 1, 'mergers': 1, 'dealerships': 1, 'power': 1, 'offering': 1, 'chapman': 3, 'troon': 1, 'weeks': 1, 'assistant': 1, 'liu': 3, 'panin': 1, 'bumpei': 2, 'parts': 2, 'tertiary': 2, 'otsuki': 2, 'brussels': 2, 'vietnam': 2, 'roland': 1, 'bat': 11, 'man': 1, 'jeddah': 1, 'riyal': 1, 'injunction': 1, 'projects': 1, 'bicc': 1, 'attributable': 1, 'month': 1, 'ayala': 1, 'taiwanese': 2, 'babcock': 2, 'automobile': 2, 'zhao': 2, 'stc': 1, 'mixed': 1, 'polyphenylene': 1, 'extruded': 1, 'sassan': 1, 'fluctuating': 1, 'inventories': 1, 'your': 1, 'duriron': 1, 'rowley': 2, 'cayacq': 1, 'fesharaki': 1, 'mcfarland': 3, 'timminco': 2, 'attention': 2, 'vanguard': 1, 'avatar': 1, 'blocks': 1, 'perception': 2, 'crossland': 3, 'vicorp': 1, 'linotype': 2, 'fabri': 1, 'tseng': 4, 'preventive': 1, 'stockholder': 1, 'concept': 1, 'life': 2, 'johannesburg': 1, 'maytag': 2, 'intn': 1, 'conclusion': 1, 'degussa': 2, 'mousavi': 1, 'tricentrol': 2, 'commonwealty': 1, 'sunstar': 1, 'ross': 1, 'lennox': 1, 'melcher': 1, 'sheehy': 1, 'montana': 1, 'team': 1, 'rsi': 1, 'rcm': 1, 'synalloy': 1, 'options': 1, 'imo': 1, 'masse': 2, 'messidor': 2, 'lupberger': 2, 'hershey': 1, 'eg': 1, '48': 1, 'bankworkers': 1, 'hardly': 1, 'insider': 1, 'where': 1, 'labatt': 1, 'widdrington': 2, 'husky': 3, 'puerto': 1, 'wesco': 1, 'bamberger': 1, 'ampal': 1, 'restrictions': 1, 'snc': 2, 'chemfix': 2, 'nike': 1, 'redkin': 1, 'nordson': 1, 'lau': 3, 'lai': 1, 'ealier': 1, 'wellington': 1, 'divestitures': 1, 'crystal': 1, 'politically': 1, 'cochran': 1, 'fiduciary': 1, 'kanasa': 1, 'icc': 1, 'cyril': 1, 'automation': 1, 'rko': 1, 'metrobanc': 2, 'gv': 1, 'certs': 2, 'eliminating': 1, 'friedman': 1, 'penobscot': 1, 'ashton': 1, 'consolidate': 1, 'psc': 1, 'linde': 5, 'meinhardt': 4, 'depreciation': 1, 'spedding': 1, 'largely': 1, 'roussel': 1, 'celanese': 1, 'lucas': 2, 'related': 1, 'reorganisation': 1, 'phillip': 1, 'beatty': 2, 'produced': 1, 'kaske': 3, 'von': 3, 'apparent': 1, 'pleas': 1, 'visible': 2, 'invisibles': 2, 'iwc': 6, 'greenwood': 1, 'morning': 2, 'faster': 1, 'alternative': 1, 'pinola': 7, 'ayer': 1, 'philips': 2, 'equitorial': 1, 'best': 3, 'ethyl': 1, 'ideas': 1, 'huh': 2, 'carolian': 2, 'novatronics': 1, 'gevirtz': 1, 'macneal': 2, 'historical': 1, 'phlcorp': 1, 'healthmate': 6, 'harsco': 2, 'z': 1, 'wallis': 2, 'petroleos': 1, 'weston': 2, 'newspaper': 2, 'fruehauf': 3, 'krestmark': 1, 'cti': 1, 'comstock': 1, 'milastar': 1, 'norcen': 3, 'baur': 1, 'bauer': 2, 'lancer': 1, 'hde': 1, 'hinrichs': 1, 'automotive': 1}))\n",
      "('asian', defaultdict(<function <lambda>.<locals>.<lambda> at 0x7fd58d6d79a0>, {'exporters': 1, 'capitals': 1, 'trading': 1, 'countries': 4, 'development': 2, 'sale': 1, 'tin': 1, 'textile': 2, 'director': 2, 'nations': 6, '.': 1, 'cocoa': 3, 'stock': 1, 'country': 1, 'markets': 5, '-': 2, 'dollar': 4, 'revaluations': 2, 'producers': 2, 'units': 2, 'stakes': 1, 'overhead': 1, 'investments': 1, 'transactions': 1, 'textiles': 1, 'bank': 2, 'republic': 1, 'member': 3, 'refiners': 1, 'energy': 2, 'neighbours': 1, 'grades': 1, 'droughts': 1, 'industrializing': 1, 'reaction': 1, 'producing': 1, 'joint': 1}))\n",
      "('exporters', defaultdict(<function <lambda>.<locals>.<lambda> at 0x7fd58d6d7910>, {'fear': 2, 'said': 22, '&': 1, 'expected': 1, 'are': 6, \"'\": 8, 'had': 3, 'unlikely': 1, 'in': 6, '.': 17, 'exports': 1, ',': 19, 'report': 34, 'of': 10, 'reported': 8, 'on': 2, 'shipped': 4, 'concluded': 4, 'international': 1, 'have': 4, 'or': 1, 'association': 3, 'will': 7, 'and': 12, 'making': 1, 'the': 3, 'would': 3, 'to': 19, 'amid': 1, 'ends': 1, 'appeared': 1, 'see': 1, 'estimated': 1, 'seek': 1, 'who': 2, 'with': 1, 'chasing': 1, 'may': 1, 'was': 3, 'more': 1, '-': 3, 'can': 1, 'could': 1, 'such': 1, 'told': 1, '(': 1, 'regain': 1, 'expect': 2, 'when': 1, 'were': 6, 'believe': 1, 'say': 2, ')': 2, 'this': 1, 'also': 1, '--': 1, 'sales': 1, 'it': 2, 'contributed': 2, 'by': 1, 'because': 2, 'is': 1, 'from': 1, 'declined': 1}))\n",
      "('fear', defaultdict(<function <lambda>.<locals>.<lambda> at 0x7fd58d6d7880>, {'damage': 1, 'they': 3, ',\"': 1, 'that': 8, 'is': 2, 'from': 1, 'of': 11, 'this': 1, 'some': 1, 'tokyo': 1, 'most': 1, 'about': 3, 'has': 1, 'farm': 1, 'into': 1, 'estimates': 1, 'china': 1, 'now': 1, 'regulators': 1, 'tighter': 1, 'the': 3, 'there': 1, 'among': 1, ',': 1, 'time': 1, 'a': 1, 'efforts': 1}))\n"
     ]
    }
   ],
   "source": [
    "for i, entry in enumerate(bigram_model.items()):\n",
    "    print(entry)\n",
    "    if i == 3:\n",
    "        break"
   ]
  },
  {
   "cell_type": "code",
   "execution_count": 182,
   "metadata": {
    "id": "uZLt4ZxXsmG-"
   },
   "outputs": [],
   "source": [
    "bigram_probs = calculate_model_probabilities(bigram_model)"
   ]
  },
  {
   "cell_type": "code",
   "execution_count": 183,
   "metadata": {
    "colab": {
     "base_uri": "https://localhost:8080/"
    },
    "id": "AMHBLBUDuQO9",
    "outputId": "6242a734-9649-4ddd-8396-15b4a7b3eaad"
   },
   "outputs": [
    {
     "data": {
      "text/plain": [
       "[('the', 0.1620184223992982),\n",
       " ('\"', 0.06559324512025733),\n",
       " ('it', 0.03234885591051977),\n",
       " ('he', 0.029095694129687842),\n",
       " ('in', 0.025312522845237224),\n",
       " ('but', 0.01928138021785218),\n",
       " ('u', 0.015827180349440747),\n",
       " ('a', 0.013963008991885371),\n",
       " ('this', 0.008187733021419695),\n",
       " ('they', 0.00816945683163974)]"
      ]
     },
     "execution_count": 183,
     "metadata": {},
     "output_type": "execute_result"
    }
   ],
   "source": [
    "sorted(dict(bigram_probs[\"<BOS>\"]).items(), key=lambda x:-1*x[1])[:10]"
   ]
  },
  {
   "cell_type": "code",
   "execution_count": 184,
   "metadata": {
    "colab": {
     "base_uri": "https://localhost:8080/"
    },
    "id": "X1u7n_1_urMR",
    "outputId": "838f1de0-786f-4baf-d2b7-a34401369cc4"
   },
   "outputs": [
    {
     "data": {
      "text/plain": [
       "-85.07891454134658"
      ]
     },
     "execution_count": 184,
     "metadata": {},
     "output_type": "execute_result"
    }
   ],
   "source": [
    "calculate_sent_prob(bigram_probs, reuters.sents()[100], 2)"
   ]
  },
  {
   "cell_type": "code",
   "execution_count": 186,
   "metadata": {
    "colab": {
     "base_uri": "https://localhost:8080/"
    },
    "id": "rO3bR8RTvE8g",
    "outputId": "ed000773-f5cd-4dfb-9538-bab81d682c88"
   },
   "outputs": [
    {
     "name": "stdout",
     "output_type": "stream",
     "text": [
      "5.138950219497932\n"
     ]
    }
   ],
   "source": [
    "pp=[]\n",
    "for sentence in test_data:\n",
    "  #1. Normalizamos y agregamos símbolos especiales:\n",
    "\n",
    "  #Log perplexity calculada para cada oracion:\n",
    "  log_prob=calculate_sent_prob(bigram_probs, sentence, 2)\n",
    "  perplexity=-(log_prob/len(sentence)-1)\n",
    "  pp.append(perplexity)\n",
    "\n",
    "\n",
    "#promedio de las log perplexity:\n",
    "total_perplexity= sum(pp) / len(pp)\n",
    "print(total_perplexity)"
   ]
  },
  {
   "cell_type": "markdown",
   "metadata": {
    "id": "AO9uvsff3wUe"
   },
   "source": [
    "## Práctica 6: Evaluación de modelos de lenguaje\n",
    "\n",
    "**Fecha de entrega: 21 de abril de 2024**"
   ]
  },
  {
   "cell_type": "markdown",
   "metadata": {
    "id": "sBdjG6yY4FoA"
   },
   "source": [
    "- Crear un par de modelos del lenguaje usando un **corpus en español**\n",
    "    - Corpus: El Quijote\n",
    "        - URL: https://www.gutenberg.org/ebooks/2000\n",
    "    - Modelo de n-gramas con `n = [2, 3]`\n",
    "    - Hold out con `test = 30%` y `train = 70%`\n",
    "- Evaluar los modelos y reportar la perplejidad de cada modelo\n",
    "  - Comparar los resultados entre los diferentes modelos del lenguaje (bigramas, trigramas)\n",
    "  - ¿Cual fue el modelo mejor evaluado? ¿Porqué?"
   ]
  },
  {
   "cell_type": "markdown",
   "metadata": {
    "id": "dTAH6joW8IXW"
   },
   "source": [
    "# Referencias\n",
    "\n",
    "- Mucho del código mostrado fue tomado del trabajo de la Dr. Ximena Guitierrez-Vasques\n",
    "- https://lena-voita.github.io/nlp_course/language_modeling.html"
   ]
  }
 ],
 "metadata": {
  "colab": {
   "provenance": []
  },
  "jupytext": {
   "formats": "ipynb,auto:light"
  },
  "kernelspec": {
   "display_name": "Python 3 (ipykernel)",
   "language": "python",
   "name": "python3"
  },
  "language_info": {
   "codemirror_mode": {
    "name": "ipython",
    "version": 3
   },
   "file_extension": ".py",
   "mimetype": "text/x-python",
   "name": "python",
   "nbconvert_exporter": "python",
   "pygments_lexer": "ipython3",
   "version": "3.10.13"
  }
 },
 "nbformat": 4,
 "nbformat_minor": 4
}
