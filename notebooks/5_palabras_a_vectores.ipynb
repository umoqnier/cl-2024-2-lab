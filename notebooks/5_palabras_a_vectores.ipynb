{
 "cells": [
  {
   "cell_type": "markdown",
   "metadata": {
    "id": "BBx7ZEhlg7ZF"
   },
   "source": [
    "# Práctica 5: Palabras a Vectores"
   ]
  },
  {
   "cell_type": "markdown",
   "metadata": {
    "id": "zrSf6OaCdBTG"
   },
   "source": [
    "<img src=\"http://ruder.io/content/images/2016/04/word_embeddings_colah.png\" width=\"300\" heitgh=\"300\">"
   ]
  },
  {
   "cell_type": "markdown",
   "metadata": {
    "id": "ZoMC0KktNlBd"
   },
   "source": [
    "## Objetivo"
   ]
  },
  {
   "cell_type": "markdown",
   "metadata": {
    "id": "sTM0AzHGNmu3"
   },
   "source": [
    "- Explorar representaciones vectoriales de palabras\n",
    "    - Basados en Frecuencias\n",
    "    - Usando TF-IDF\n",
    "    - Word2Vec\n",
    "- Medir la similitud entre dos vectores\n",
    "- Manipulación de representaciones vectoriales previamente entrenadas\n",
    "- Entrenar representaciones usando `gensim`"
   ]
  },
  {
   "cell_type": "markdown",
   "metadata": {
    "id": "oYHDp-WZOj4Z"
   },
   "source": [
    "## ¿Cómo representamos las palabra?"
   ]
  },
  {
   "cell_type": "markdown",
   "metadata": {
    "id": "qmfWiGDDPBlX",
    "lines_to_next_cell": 0
   },
   "source": [
    "Las palabras tienen un significado y nos da una imagen mental\n",
    "\n"
   ]
  },
  {
   "cell_type": "markdown",
   "metadata": {
    "id": "oumlomiXS7pS"
   },
   "source": [
    "###Interpretación lingüística\n",
    "\n",
    "- Significante -> Significado\n",
    "\n",
    "Interpretamos el signo lingüístico\n",
    "\n",
    "<img src=\"https://pymstatic.com/22726/conversions/diferencias-significado-significante-social.jpg\" width=500>"
   ]
  },
  {
   "cell_type": "markdown",
   "metadata": {
    "id": "HV5-sOecS9vE"
   },
   "source": [
    "## Haciendo útil al significado para las computadoras (solo inglés)\n",
    "\n",
    "Una forma de almacenar las relaciones semánticas de las palabras fue usando WordNets. Una suerte de diccionario + tesauro[1] para automatizar tareas de análisis de textos\n",
    "\n",
    "[1]: https://es.wikipedia.org/wiki/Tesauro"
   ]
  },
  {
   "cell_type": "code",
   "execution_count": 1,
   "metadata": {
    "colab": {
     "base_uri": "https://localhost:8080/"
    },
    "id": "D4AkIkFKWDCJ",
    "outputId": "f6fc81d3-696c-4fd0-931c-e8a4f99e9087"
   },
   "outputs": [
    {
     "name": "stderr",
     "output_type": "stream",
     "text": [
      "[nltk_data] Downloading package wordnet to /root/nltk_data...\n",
      "[nltk_data] Downloading package omw-1.4 to /root/nltk_data...\n",
      "[nltk_data] Downloading package punkt to /root/nltk_data...\n",
      "[nltk_data]   Unzipping tokenizers/punkt.zip.\n",
      "[nltk_data] Downloading package stopwords to /root/nltk_data...\n",
      "[nltk_data]   Unzipping corpora/stopwords.zip.\n"
     ]
    },
    {
     "data": {
      "text/plain": [
       "True"
      ]
     },
     "execution_count": 1,
     "metadata": {},
     "output_type": "execute_result"
    }
   ],
   "source": [
    "import nltk\n",
    "\n",
    "nltk.download(\"wordnet\")\n",
    "nltk.download('omw-1.4')\n",
    "nltk.download('punkt')\n",
    "nltk.download('stopwords')"
   ]
  },
  {
   "cell_type": "code",
   "execution_count": 2,
   "metadata": {
    "colab": {
     "base_uri": "https://localhost:8080/"
    },
    "id": "a0rHEKX8Vg2e",
    "outputId": "af86a88e-d458-4e2c-94b8-b5f371656708"
   },
   "outputs": [
    {
     "data": {
      "text/plain": [
       "[Synset('carnivore.n.01'),\n",
       " Synset('placental.n.01'),\n",
       " Synset('mammal.n.01'),\n",
       " Synset('vertebrate.n.01'),\n",
       " Synset('chordate.n.01'),\n",
       " Synset('animal.n.01'),\n",
       " Synset('organism.n.01'),\n",
       " Synset('living_thing.n.01'),\n",
       " Synset('whole.n.02'),\n",
       " Synset('object.n.01'),\n",
       " Synset('physical_entity.n.01'),\n",
       " Synset('entity.n.01')]"
      ]
     },
     "execution_count": 2,
     "metadata": {},
     "output_type": "execute_result"
    }
   ],
   "source": [
    "from nltk.corpus import wordnet as wn\n",
    "\n",
    "bear = wn.synset(\"bear.n.01\")\n",
    "hyper = lambda s: s.hypernyms()\n",
    "list(bear.closure(hyper))"
   ]
  },
  {
   "cell_type": "code",
   "execution_count": 3,
   "metadata": {
    "colab": {
     "base_uri": "https://localhost:8080/"
    },
    "id": "pObOb5BbWNf_",
    "outputId": "f2b2fb45-5541-4a50-c874-8a892814bfc9"
   },
   "outputs": [
    {
     "data": {
      "text/plain": [
       "[['automóvil', 'carro', 'coche', 'máquina', 'turismo', 'vehículo'],\n",
       " ['decreto', 'edicto', 'sentencia'],\n",
       " ['misterio']]"
      ]
     },
     "execution_count": 3,
     "metadata": {},
     "output_type": "execute_result"
    }
   ],
   "source": [
    "wn.synonyms(\"auto\", lang=\"spa\")"
   ]
  },
  {
   "cell_type": "markdown",
   "metadata": {
    "id": "IBxY2yCsTKtA"
   },
   "source": [
    "### Desventajas\n",
    "\n",
    "- Como las cosas basadas en reglas es díficil de mantener en el tiempo\n",
    "  - Nuevas palabras\n",
    "  - Subjetivo\n",
    "  - Requiere muchisimo trabajo manual especializado"
   ]
  },
  {
   "cell_type": "markdown",
   "metadata": {
    "id": "tjukJoODdbez"
   },
   "source": [
    " ## Representaciones vectoriales\n"
   ]
  },
  {
   "cell_type": "markdown",
   "metadata": {
    "id": "afUdI9q46hJN"
   },
   "source": [
    "- Sabemos que las computadoras son buenas computando numero no textos crudo\n",
    "  - Especialemente metodos de ML que son los que utilizamos para resolver tareas\n",
    "  - Clasificacion de documentos\n",
    "  - Rankear documentos por reelevancia dada una query\n",
    "- Buscamos una forma de mapear textos -> **espacio vectorial**\n",
    " - Un enfoque muy utilizado es la Bolsa de Palabras (Bag of Words)\n",
    "   - Matriz de documentos-terminos\n",
    "   - Cada fila es un vector con $N$ features donde las features serán el vocabulario del corpus"
   ]
  },
  {
   "cell_type": "markdown",
   "metadata": {
    "id": "5JBqJNfV6iox"
   },
   "source": [
    "<img src=\"https://sep.com/wp-content/uploads/2020/12/2020-07-bagofwords.jpg\">"
   ]
  },
  {
   "cell_type": "code",
   "execution_count": 4,
   "metadata": {
    "id": "HJ2xVdsqeUEe"
   },
   "outputs": [],
   "source": [
    "import gensim"
   ]
  },
  {
   "cell_type": "code",
   "execution_count": 5,
   "metadata": {
    "id": "9kEUUJzBhqyH"
   },
   "outputs": [],
   "source": [
    "doc_1 = \"Augusta Ada King, condesa de Lovelace (Londres, 10 de diciembre de 1815-íd., 27 de noviembre de 1852), registrada al nacer como Augusta Ada Byron y conocida habitualmente como Ada Lovelace, fue una matemática y escritora británica, célebre sobre todo por su trabajo acerca de la computadora mecánica de uso general de Charles Babbage, la denominada máquina analítica. Fue la primera en reconocer que la máquina tenía aplicaciones más allá del cálculo puro y en haber publicado lo que se reconoce hoy como el primer algoritmo destinado a ser procesado por una máquina, por lo que se le considera como la primera programadora de ordenadores.\"\n",
    "doc_2 = \"Brassica oleracea var. italica, el brócoli,1​ brécol2​ o bróquil3​ del italiano broccoli (brote), es una planta de la familia de las brasicáceas. Existen otras variedades de la misma especie, tales como: repollo (B. o. capitata), la coliflor (B. o. botrytis), el colinabo (B. o. gongylodes) y la col de Bruselas (B. o. gemmifera). El llamado brócoli chino o kai-lan (B. o. alboglabra) es también una variedad de Brassica oleracea.\"\n",
    "doc_3 = \"La bicicleta de piñón fijo, fixie o fixed es una bicicleta monomarcha, que no tiene piñón libre, lo que significa que no tiene punto muerto; es decir, los pedales están siempre en movimiento cuando la bicicleta está en marcha. Esto significa que no se puede dejar de pedalear, ya que, mientras la rueda trasera gire, la cadena y los pedales girarán siempre solidariamente. Por este motivo, se puede frenar haciendo una fuerza inversa al sentido de la marcha, y también ir marcha atrás.\""
   ]
  },
  {
   "cell_type": "code",
   "execution_count": 6,
   "metadata": {
    "id": "4GMdxLmueGoZ"
   },
   "outputs": [],
   "source": [
    "documents = [doc_1, doc_2, doc_3]"
   ]
  },
  {
   "cell_type": "code",
   "execution_count": 7,
   "metadata": {
    "id": "121CNkZ9eNBc"
   },
   "outputs": [],
   "source": [
    "from gensim.utils import simple_preprocess\n",
    "\n",
    "def sent_to_words(sentences: list[str]) -> list[list[str]]:\n",
    "    \"\"\"Function convert sentences to words\n",
    "\n",
    "    Use the tokenizer provided by gensim using\n",
    "    `simple_process()` which remove punctuation and converte\n",
    "    to lowercase (`deacc=True`)\n",
    "    \"\"\"\n",
    "    return [simple_preprocess(sent, deacc=True) for sent in sentences]\n"
   ]
  },
  {
   "cell_type": "code",
   "execution_count": 9,
   "metadata": {
    "colab": {
     "base_uri": "https://localhost:8080/"
    },
    "id": "fq6yZ-KlfM9s",
    "outputId": "965cbe49-21dc-4804-fae2-ec210916277e"
   },
   "outputs": [
    {
     "data": {
      "text/plain": [
       "['la',\n",
       " 'bicicleta',\n",
       " 'de',\n",
       " 'pinon',\n",
       " 'fijo',\n",
       " 'fixie',\n",
       " 'fixed',\n",
       " 'es',\n",
       " 'una',\n",
       " 'bicicleta']"
      ]
     },
     "execution_count": 9,
     "metadata": {},
     "output_type": "execute_result"
    }
   ],
   "source": [
    "docs_tokenized = sent_to_words(documents)\n",
    "docs_tokenized[2][:10]"
   ]
  },
  {
   "cell_type": "code",
   "execution_count": 10,
   "metadata": {
    "id": "6I37u6r5fYpc"
   },
   "outputs": [],
   "source": [
    "from gensim.corpora import Dictionary\n",
    "\n",
    "gensim_dic = Dictionary()\n",
    "bag_of_words_corpus = [gensim_dic.doc2bow(doc, allow_update=True) for doc in docs_tokenized]"
   ]
  },
  {
   "cell_type": "code",
   "execution_count": 11,
   "metadata": {
    "colab": {
     "base_uri": "https://localhost:8080/",
     "height": 186
    },
    "id": "35dnVyLk2fFq",
    "outputId": "7396aec6-7604-4442-ef5b-b629ba43f47c"
   },
   "outputs": [
    {
     "data": {
      "text/html": [
       "<div style=\"max-width:800px; border: 1px solid var(--colab-border-color);\"><style>\n",
       "      pre.function-repr-contents {\n",
       "        overflow-x: auto;\n",
       "        padding: 8px 12px;\n",
       "        max-height: 500px;\n",
       "      }\n",
       "\n",
       "      pre.function-repr-contents.function-repr-contents-collapsed {\n",
       "        cursor: pointer;\n",
       "        max-height: 100px;\n",
       "      }\n",
       "    </style>\n",
       "    <pre style=\"white-space: initial; background:\n",
       "         var(--colab-secondary-surface-color); padding: 8px 12px;\n",
       "         border-bottom: 1px solid var(--colab-border-color);\"><b>gensim.corpora.dictionary.Dictionary</b><br/>def __init__(documents=None, prune_at=2000000)</pre><pre class=\"function-repr-contents function-repr-contents-collapsed\" style=\"\"><a class=\"filepath\" style=\"display:none\" href=\"#\">/usr/local/lib/python3.10/dist-packages/gensim/corpora/dictionary.py</a>Dictionary encapsulates the mapping between normalized words and their integer ids.\n",
       "\n",
       "Notable instance attributes:\n",
       "\n",
       "Attributes\n",
       "----------\n",
       "token2id : dict of (str, int)\n",
       "    token -&gt; token_id. I.e. the reverse mapping to `self[token_id]`.\n",
       "cfs : dict of (int, int)\n",
       "    Collection frequencies: token_id -&gt; how many instances of this token are contained in the documents.\n",
       "dfs : dict of (int, int)\n",
       "    Document frequencies: token_id -&gt; how many documents contain this token.\n",
       "num_docs : int\n",
       "    Number of documents processed.\n",
       "num_pos : int\n",
       "    Total number of corpus positions (number of processed words).\n",
       "num_nnz : int\n",
       "    Total number of non-zeroes in the BOW matrix (sum of the number of unique\n",
       "    words per document over the entire corpus).</pre>\n",
       "      <script>\n",
       "      if (google.colab.kernel.accessAllowed && google.colab.files && google.colab.files.view) {\n",
       "        for (const element of document.querySelectorAll('.filepath')) {\n",
       "          element.style.display = 'block'\n",
       "          element.onclick = (event) => {\n",
       "            event.preventDefault();\n",
       "            event.stopPropagation();\n",
       "            google.colab.files.view(element.textContent, 21);\n",
       "          };\n",
       "        }\n",
       "      }\n",
       "      for (const element of document.querySelectorAll('.function-repr-contents')) {\n",
       "        element.onclick = (event) => {\n",
       "          event.preventDefault();\n",
       "          event.stopPropagation();\n",
       "          element.classList.toggle('function-repr-contents-collapsed');\n",
       "        };\n",
       "      }\n",
       "      </script>\n",
       "      </div>"
      ],
      "text/plain": [
       "gensim.corpora.dictionary.Dictionary"
      ]
     },
     "execution_count": 11,
     "metadata": {},
     "output_type": "execute_result"
    }
   ],
   "source": [
    "type(gensim_dic)"
   ]
  },
  {
   "cell_type": "code",
   "execution_count": 12,
   "metadata": {
    "colab": {
     "base_uri": "https://localhost:8080/"
    },
    "id": "duD7ekPjyurT",
    "outputId": "ef2445e3-a06a-4f38-b0af-2fc4afce4931"
   },
   "outputs": [
    {
     "name": "stdout",
     "output_type": "stream",
     "text": [
      "0 acerca\n",
      "1 ada\n",
      "2 al\n",
      "3 algoritmo\n",
      "4 alla\n",
      "5 analitica\n",
      "6 aplicaciones\n",
      "7 augusta\n",
      "8 babbage\n",
      "9 britanica\n",
      "10 byron\n",
      "11 calculo\n",
      "12 celebre\n",
      "13 charles\n",
      "14 como\n",
      "15 computadora\n",
      "16 condesa\n",
      "17 conocida\n",
      "18 considera\n",
      "19 de\n",
      "20 del\n",
      "21 denominada\n",
      "22 destinado\n",
      "23 diciembre\n",
      "24 el\n",
      "25 en\n",
      "26 escritora\n",
      "27 fue\n",
      "28 general\n",
      "29 haber\n",
      "30 habitualmente\n",
      "31 hoy\n",
      "32 id\n",
      "33 king\n",
      "34 la\n",
      "35 le\n",
      "36 lo\n",
      "37 londres\n",
      "38 lovelace\n",
      "39 maquina\n",
      "40 mas\n",
      "41 matematica\n",
      "42 mecanica\n",
      "43 nacer\n",
      "44 noviembre\n",
      "45 ordenadores\n",
      "46 por\n",
      "47 primer\n",
      "48 primera\n",
      "49 procesado\n",
      "50 programadora\n",
      "51 publicado\n",
      "52 puro\n",
      "53 que\n",
      "54 reconoce\n",
      "55 reconocer\n",
      "56 registrada\n",
      "57 se\n",
      "58 ser\n",
      "59 sobre\n",
      "60 su\n",
      "61 tenia\n",
      "62 todo\n",
      "63 trabajo\n",
      "64 una\n",
      "65 uso\n",
      "66 alboglabra\n",
      "67 botrytis\n",
      "68 brasicaceas\n",
      "69 brassica\n",
      "70 brecol\n",
      "71 broccoli\n",
      "72 brocoli\n",
      "73 broquil\n",
      "74 brote\n",
      "75 bruselas\n",
      "76 capitata\n",
      "77 chino\n",
      "78 col\n",
      "79 coliflor\n",
      "80 colinabo\n",
      "81 es\n",
      "82 especie\n",
      "83 existen\n",
      "84 familia\n",
      "85 gemmifera\n",
      "86 gongylodes\n",
      "87 italiano\n",
      "88 italica\n",
      "89 kai\n",
      "90 lan\n",
      "91 las\n",
      "92 llamado\n",
      "93 misma\n",
      "94 oleracea\n",
      "95 otras\n",
      "96 planta\n",
      "97 repollo\n",
      "98 tales\n",
      "99 tambien\n",
      "100 var\n",
      "101 variedad\n",
      "102 variedades\n",
      "103 atras\n",
      "104 bicicleta\n",
      "105 cadena\n",
      "106 cuando\n",
      "107 decir\n",
      "108 dejar\n",
      "109 esta\n",
      "110 estan\n",
      "111 este\n",
      "112 esto\n",
      "113 fijo\n",
      "114 fixed\n",
      "115 fixie\n",
      "116 frenar\n",
      "117 fuerza\n",
      "118 giraran\n",
      "119 gire\n",
      "120 haciendo\n",
      "121 inversa\n",
      "122 ir\n",
      "123 libre\n",
      "124 los\n",
      "125 marcha\n",
      "126 mientras\n",
      "127 monomarcha\n",
      "128 motivo\n",
      "129 movimiento\n",
      "130 muerto\n",
      "131 no\n",
      "132 pedalear\n",
      "133 pedales\n",
      "134 pinon\n",
      "135 puede\n",
      "136 punto\n",
      "137 rueda\n",
      "138 sentido\n",
      "139 siempre\n",
      "140 significa\n",
      "141 solidariamente\n",
      "142 tiene\n",
      "143 trasera\n",
      "144 ya\n"
     ]
    }
   ],
   "source": [
    "for k, v in gensim_dic.iteritems():\n",
    "    print(k, v)"
   ]
  },
  {
   "cell_type": "code",
   "execution_count": 13,
   "metadata": {
    "colab": {
     "base_uri": "https://localhost:8080/"
    },
    "id": "qgWTeVYJyMOD",
    "outputId": "38d594f2-6bd8-4a7c-c749-e66f878ab29b"
   },
   "outputs": [
    {
     "name": "stdout",
     "output_type": "stream",
     "text": [
      "3\n"
     ]
    },
    {
     "data": {
      "text/plain": [
       "[(0, 1),\n",
       " (1, 3),\n",
       " (2, 1),\n",
       " (3, 1),\n",
       " (4, 1),\n",
       " (5, 1),\n",
       " (6, 1),\n",
       " (7, 2),\n",
       " (8, 1),\n",
       " (9, 1),\n",
       " (10, 1),\n",
       " (11, 1),\n",
       " (12, 1),\n",
       " (13, 1),\n",
       " (14, 4),\n",
       " (15, 1),\n",
       " (16, 1),\n",
       " (17, 1),\n",
       " (18, 1),\n",
       " (19, 9),\n",
       " (20, 1),\n",
       " (21, 1),\n",
       " (22, 1),\n",
       " (23, 1),\n",
       " (24, 1),\n",
       " (25, 2),\n",
       " (26, 1),\n",
       " (27, 2),\n",
       " (28, 1),\n",
       " (29, 1),\n",
       " (30, 1),\n",
       " (31, 1),\n",
       " (32, 1),\n",
       " (33, 1),\n",
       " (34, 5),\n",
       " (35, 1),\n",
       " (36, 2),\n",
       " (37, 1),\n",
       " (38, 2),\n",
       " (39, 3),\n",
       " (40, 1),\n",
       " (41, 1),\n",
       " (42, 1),\n",
       " (43, 1),\n",
       " (44, 1),\n",
       " (45, 1),\n",
       " (46, 3),\n",
       " (47, 1),\n",
       " (48, 2),\n",
       " (49, 1),\n",
       " (50, 1),\n",
       " (51, 1),\n",
       " (52, 1),\n",
       " (53, 3),\n",
       " (54, 1),\n",
       " (55, 1),\n",
       " (56, 1),\n",
       " (57, 2),\n",
       " (58, 1),\n",
       " (59, 1),\n",
       " (60, 1),\n",
       " (61, 1),\n",
       " (62, 1),\n",
       " (63, 1),\n",
       " (64, 2),\n",
       " (65, 1)]"
      ]
     },
     "execution_count": 13,
     "metadata": {},
     "output_type": "execute_result"
    }
   ],
   "source": [
    "print(len(bag_of_words_corpus))\n",
    "bag_of_words_corpus[0]"
   ]
  },
  {
   "cell_type": "code",
   "execution_count": 14,
   "metadata": {
    "id": "k19nlQhR_jLk"
   },
   "outputs": [],
   "source": [
    "def bag_to_dict(bag_of_words: list, gensim_dic: Dictionary, titles: list[str]) -> list:\n",
    "    data = {}\n",
    "    for doc, title in zip(bag_of_words, titles):\n",
    "        data[title] = dict([(gensim_dic[id], freq) for id, freq in doc])\n",
    "    return data"
   ]
  },
  {
   "cell_type": "code",
   "execution_count": 15,
   "metadata": {
    "id": "rqfk-85UyPb9"
   },
   "outputs": [],
   "source": [
    "data = bag_to_dict(bag_of_words_corpus, gensim_dic, titles=[\"ADA\", \"BROCOLI\", \"FIXED\"])"
   ]
  },
  {
   "cell_type": "code",
   "execution_count": 16,
   "metadata": {
    "colab": {
     "base_uri": "https://localhost:8080/"
    },
    "id": "Oj2Lh0gJlA_W",
    "outputId": "c049a2b9-0c27-4e35-f756-96ece53ac08d"
   },
   "outputs": [
    {
     "data": {
      "text/plain": [
       "{'ADA': {'acerca': 1,\n",
       "  'ada': 3,\n",
       "  'al': 1,\n",
       "  'algoritmo': 1,\n",
       "  'alla': 1,\n",
       "  'analitica': 1,\n",
       "  'aplicaciones': 1,\n",
       "  'augusta': 2,\n",
       "  'babbage': 1,\n",
       "  'britanica': 1,\n",
       "  'byron': 1,\n",
       "  'calculo': 1,\n",
       "  'celebre': 1,\n",
       "  'charles': 1,\n",
       "  'como': 4,\n",
       "  'computadora': 1,\n",
       "  'condesa': 1,\n",
       "  'conocida': 1,\n",
       "  'considera': 1,\n",
       "  'de': 9,\n",
       "  'del': 1,\n",
       "  'denominada': 1,\n",
       "  'destinado': 1,\n",
       "  'diciembre': 1,\n",
       "  'el': 1,\n",
       "  'en': 2,\n",
       "  'escritora': 1,\n",
       "  'fue': 2,\n",
       "  'general': 1,\n",
       "  'haber': 1,\n",
       "  'habitualmente': 1,\n",
       "  'hoy': 1,\n",
       "  'id': 1,\n",
       "  'king': 1,\n",
       "  'la': 5,\n",
       "  'le': 1,\n",
       "  'lo': 2,\n",
       "  'londres': 1,\n",
       "  'lovelace': 2,\n",
       "  'maquina': 3,\n",
       "  'mas': 1,\n",
       "  'matematica': 1,\n",
       "  'mecanica': 1,\n",
       "  'nacer': 1,\n",
       "  'noviembre': 1,\n",
       "  'ordenadores': 1,\n",
       "  'por': 3,\n",
       "  'primer': 1,\n",
       "  'primera': 2,\n",
       "  'procesado': 1,\n",
       "  'programadora': 1,\n",
       "  'publicado': 1,\n",
       "  'puro': 1,\n",
       "  'que': 3,\n",
       "  'reconoce': 1,\n",
       "  'reconocer': 1,\n",
       "  'registrada': 1,\n",
       "  'se': 2,\n",
       "  'ser': 1,\n",
       "  'sobre': 1,\n",
       "  'su': 1,\n",
       "  'tenia': 1,\n",
       "  'todo': 1,\n",
       "  'trabajo': 1,\n",
       "  'una': 2,\n",
       "  'uso': 1},\n",
       " 'BROCOLI': {'como': 1,\n",
       "  'de': 5,\n",
       "  'del': 1,\n",
       "  'el': 3,\n",
       "  'la': 4,\n",
       "  'una': 2,\n",
       "  'alboglabra': 1,\n",
       "  'botrytis': 1,\n",
       "  'brasicaceas': 1,\n",
       "  'brassica': 2,\n",
       "  'brecol': 1,\n",
       "  'broccoli': 1,\n",
       "  'brocoli': 2,\n",
       "  'broquil': 1,\n",
       "  'brote': 1,\n",
       "  'bruselas': 1,\n",
       "  'capitata': 1,\n",
       "  'chino': 1,\n",
       "  'col': 1,\n",
       "  'coliflor': 1,\n",
       "  'colinabo': 1,\n",
       "  'es': 2,\n",
       "  'especie': 1,\n",
       "  'existen': 1,\n",
       "  'familia': 1,\n",
       "  'gemmifera': 1,\n",
       "  'gongylodes': 1,\n",
       "  'italiano': 1,\n",
       "  'italica': 1,\n",
       "  'kai': 1,\n",
       "  'lan': 1,\n",
       "  'las': 1,\n",
       "  'llamado': 1,\n",
       "  'misma': 1,\n",
       "  'oleracea': 2,\n",
       "  'otras': 1,\n",
       "  'planta': 1,\n",
       "  'repollo': 1,\n",
       "  'tales': 1,\n",
       "  'tambien': 1,\n",
       "  'var': 1,\n",
       "  'variedad': 1,\n",
       "  'variedades': 1},\n",
       " 'FIXED': {'al': 1,\n",
       "  'de': 3,\n",
       "  'en': 2,\n",
       "  'la': 5,\n",
       "  'lo': 1,\n",
       "  'por': 1,\n",
       "  'que': 5,\n",
       "  'se': 2,\n",
       "  'una': 2,\n",
       "  'es': 2,\n",
       "  'tambien': 1,\n",
       "  'atras': 1,\n",
       "  'bicicleta': 3,\n",
       "  'cadena': 1,\n",
       "  'cuando': 1,\n",
       "  'decir': 1,\n",
       "  'dejar': 1,\n",
       "  'esta': 1,\n",
       "  'estan': 1,\n",
       "  'este': 1,\n",
       "  'esto': 1,\n",
       "  'fijo': 1,\n",
       "  'fixed': 1,\n",
       "  'fixie': 1,\n",
       "  'frenar': 1,\n",
       "  'fuerza': 1,\n",
       "  'giraran': 1,\n",
       "  'gire': 1,\n",
       "  'haciendo': 1,\n",
       "  'inversa': 1,\n",
       "  'ir': 1,\n",
       "  'libre': 1,\n",
       "  'los': 2,\n",
       "  'marcha': 3,\n",
       "  'mientras': 1,\n",
       "  'monomarcha': 1,\n",
       "  'motivo': 1,\n",
       "  'movimiento': 1,\n",
       "  'muerto': 1,\n",
       "  'no': 3,\n",
       "  'pedalear': 1,\n",
       "  'pedales': 2,\n",
       "  'pinon': 2,\n",
       "  'puede': 2,\n",
       "  'punto': 1,\n",
       "  'rueda': 1,\n",
       "  'sentido': 1,\n",
       "  'siempre': 2,\n",
       "  'significa': 2,\n",
       "  'solidariamente': 1,\n",
       "  'tiene': 2,\n",
       "  'trasera': 1,\n",
       "  'ya': 1}}"
      ]
     },
     "execution_count": 16,
     "metadata": {},
     "output_type": "execute_result"
    }
   ],
   "source": [
    "data"
   ]
  },
  {
   "cell_type": "code",
   "execution_count": 17,
   "metadata": {
    "id": "8XF444cA2U5r"
   },
   "outputs": [],
   "source": [
    "import pandas as pd\n",
    "\n",
    "doc_matrix_simple = pd.DataFrame(data).fillna(0).astype(int).T"
   ]
  },
  {
   "cell_type": "code",
   "execution_count": 18,
   "metadata": {
    "colab": {
     "base_uri": "https://localhost:8080/",
     "height": 193
    },
    "id": "kInN4KlWleRR",
    "outputId": "7d754252-cd9f-454b-9422-de6763d8557f"
   },
   "outputs": [
    {
     "data": {
      "application/vnd.google.colaboratory.intrinsic+json": {
       "type": "dataframe",
       "variable_name": "doc_matrix_simple"
      },
      "text/html": [
       "\n",
       "  <div id=\"df-ce74c7d8-1509-479b-9f02-14f8464332ee\" class=\"colab-df-container\">\n",
       "    <div>\n",
       "<style scoped>\n",
       "    .dataframe tbody tr th:only-of-type {\n",
       "        vertical-align: middle;\n",
       "    }\n",
       "\n",
       "    .dataframe tbody tr th {\n",
       "        vertical-align: top;\n",
       "    }\n",
       "\n",
       "    .dataframe thead th {\n",
       "        text-align: right;\n",
       "    }\n",
       "</style>\n",
       "<table border=\"1\" class=\"dataframe\">\n",
       "  <thead>\n",
       "    <tr style=\"text-align: right;\">\n",
       "      <th></th>\n",
       "      <th>acerca</th>\n",
       "      <th>ada</th>\n",
       "      <th>al</th>\n",
       "      <th>algoritmo</th>\n",
       "      <th>alla</th>\n",
       "      <th>analitica</th>\n",
       "      <th>aplicaciones</th>\n",
       "      <th>augusta</th>\n",
       "      <th>babbage</th>\n",
       "      <th>britanica</th>\n",
       "      <th>...</th>\n",
       "      <th>puede</th>\n",
       "      <th>punto</th>\n",
       "      <th>rueda</th>\n",
       "      <th>sentido</th>\n",
       "      <th>siempre</th>\n",
       "      <th>significa</th>\n",
       "      <th>solidariamente</th>\n",
       "      <th>tiene</th>\n",
       "      <th>trasera</th>\n",
       "      <th>ya</th>\n",
       "    </tr>\n",
       "  </thead>\n",
       "  <tbody>\n",
       "    <tr>\n",
       "      <th>ADA</th>\n",
       "      <td>1</td>\n",
       "      <td>3</td>\n",
       "      <td>1</td>\n",
       "      <td>1</td>\n",
       "      <td>1</td>\n",
       "      <td>1</td>\n",
       "      <td>1</td>\n",
       "      <td>2</td>\n",
       "      <td>1</td>\n",
       "      <td>1</td>\n",
       "      <td>...</td>\n",
       "      <td>0</td>\n",
       "      <td>0</td>\n",
       "      <td>0</td>\n",
       "      <td>0</td>\n",
       "      <td>0</td>\n",
       "      <td>0</td>\n",
       "      <td>0</td>\n",
       "      <td>0</td>\n",
       "      <td>0</td>\n",
       "      <td>0</td>\n",
       "    </tr>\n",
       "    <tr>\n",
       "      <th>BROCOLI</th>\n",
       "      <td>0</td>\n",
       "      <td>0</td>\n",
       "      <td>0</td>\n",
       "      <td>0</td>\n",
       "      <td>0</td>\n",
       "      <td>0</td>\n",
       "      <td>0</td>\n",
       "      <td>0</td>\n",
       "      <td>0</td>\n",
       "      <td>0</td>\n",
       "      <td>...</td>\n",
       "      <td>0</td>\n",
       "      <td>0</td>\n",
       "      <td>0</td>\n",
       "      <td>0</td>\n",
       "      <td>0</td>\n",
       "      <td>0</td>\n",
       "      <td>0</td>\n",
       "      <td>0</td>\n",
       "      <td>0</td>\n",
       "      <td>0</td>\n",
       "    </tr>\n",
       "    <tr>\n",
       "      <th>FIXED</th>\n",
       "      <td>0</td>\n",
       "      <td>0</td>\n",
       "      <td>1</td>\n",
       "      <td>0</td>\n",
       "      <td>0</td>\n",
       "      <td>0</td>\n",
       "      <td>0</td>\n",
       "      <td>0</td>\n",
       "      <td>0</td>\n",
       "      <td>0</td>\n",
       "      <td>...</td>\n",
       "      <td>2</td>\n",
       "      <td>1</td>\n",
       "      <td>1</td>\n",
       "      <td>1</td>\n",
       "      <td>2</td>\n",
       "      <td>2</td>\n",
       "      <td>1</td>\n",
       "      <td>2</td>\n",
       "      <td>1</td>\n",
       "      <td>1</td>\n",
       "    </tr>\n",
       "  </tbody>\n",
       "</table>\n",
       "<p>3 rows × 145 columns</p>\n",
       "</div>\n",
       "    <div class=\"colab-df-buttons\">\n",
       "\n",
       "  <div class=\"colab-df-container\">\n",
       "    <button class=\"colab-df-convert\" onclick=\"convertToInteractive('df-ce74c7d8-1509-479b-9f02-14f8464332ee')\"\n",
       "            title=\"Convert this dataframe to an interactive table.\"\n",
       "            style=\"display:none;\">\n",
       "\n",
       "  <svg xmlns=\"http://www.w3.org/2000/svg\" height=\"24px\" viewBox=\"0 -960 960 960\">\n",
       "    <path d=\"M120-120v-720h720v720H120Zm60-500h600v-160H180v160Zm220 220h160v-160H400v160Zm0 220h160v-160H400v160ZM180-400h160v-160H180v160Zm440 0h160v-160H620v160ZM180-180h160v-160H180v160Zm440 0h160v-160H620v160Z\"/>\n",
       "  </svg>\n",
       "    </button>\n",
       "\n",
       "  <style>\n",
       "    .colab-df-container {\n",
       "      display:flex;\n",
       "      gap: 12px;\n",
       "    }\n",
       "\n",
       "    .colab-df-convert {\n",
       "      background-color: #E8F0FE;\n",
       "      border: none;\n",
       "      border-radius: 50%;\n",
       "      cursor: pointer;\n",
       "      display: none;\n",
       "      fill: #1967D2;\n",
       "      height: 32px;\n",
       "      padding: 0 0 0 0;\n",
       "      width: 32px;\n",
       "    }\n",
       "\n",
       "    .colab-df-convert:hover {\n",
       "      background-color: #E2EBFA;\n",
       "      box-shadow: 0px 1px 2px rgba(60, 64, 67, 0.3), 0px 1px 3px 1px rgba(60, 64, 67, 0.15);\n",
       "      fill: #174EA6;\n",
       "    }\n",
       "\n",
       "    .colab-df-buttons div {\n",
       "      margin-bottom: 4px;\n",
       "    }\n",
       "\n",
       "    [theme=dark] .colab-df-convert {\n",
       "      background-color: #3B4455;\n",
       "      fill: #D2E3FC;\n",
       "    }\n",
       "\n",
       "    [theme=dark] .colab-df-convert:hover {\n",
       "      background-color: #434B5C;\n",
       "      box-shadow: 0px 1px 3px 1px rgba(0, 0, 0, 0.15);\n",
       "      filter: drop-shadow(0px 1px 2px rgba(0, 0, 0, 0.3));\n",
       "      fill: #FFFFFF;\n",
       "    }\n",
       "  </style>\n",
       "\n",
       "    <script>\n",
       "      const buttonEl =\n",
       "        document.querySelector('#df-ce74c7d8-1509-479b-9f02-14f8464332ee button.colab-df-convert');\n",
       "      buttonEl.style.display =\n",
       "        google.colab.kernel.accessAllowed ? 'block' : 'none';\n",
       "\n",
       "      async function convertToInteractive(key) {\n",
       "        const element = document.querySelector('#df-ce74c7d8-1509-479b-9f02-14f8464332ee');\n",
       "        const dataTable =\n",
       "          await google.colab.kernel.invokeFunction('convertToInteractive',\n",
       "                                                    [key], {});\n",
       "        if (!dataTable) return;\n",
       "\n",
       "        const docLinkHtml = 'Like what you see? Visit the ' +\n",
       "          '<a target=\"_blank\" href=https://colab.research.google.com/notebooks/data_table.ipynb>data table notebook</a>'\n",
       "          + ' to learn more about interactive tables.';\n",
       "        element.innerHTML = '';\n",
       "        dataTable['output_type'] = 'display_data';\n",
       "        await google.colab.output.renderOutput(dataTable, element);\n",
       "        const docLink = document.createElement('div');\n",
       "        docLink.innerHTML = docLinkHtml;\n",
       "        element.appendChild(docLink);\n",
       "      }\n",
       "    </script>\n",
       "  </div>\n",
       "\n",
       "\n",
       "<div id=\"df-5d180ff1-f699-4f9c-8261-89f4642daab4\">\n",
       "  <button class=\"colab-df-quickchart\" onclick=\"quickchart('df-5d180ff1-f699-4f9c-8261-89f4642daab4')\"\n",
       "            title=\"Suggest charts\"\n",
       "            style=\"display:none;\">\n",
       "\n",
       "<svg xmlns=\"http://www.w3.org/2000/svg\" height=\"24px\"viewBox=\"0 0 24 24\"\n",
       "     width=\"24px\">\n",
       "    <g>\n",
       "        <path d=\"M19 3H5c-1.1 0-2 .9-2 2v14c0 1.1.9 2 2 2h14c1.1 0 2-.9 2-2V5c0-1.1-.9-2-2-2zM9 17H7v-7h2v7zm4 0h-2V7h2v10zm4 0h-2v-4h2v4z\"/>\n",
       "    </g>\n",
       "</svg>\n",
       "  </button>\n",
       "\n",
       "<style>\n",
       "  .colab-df-quickchart {\n",
       "      --bg-color: #E8F0FE;\n",
       "      --fill-color: #1967D2;\n",
       "      --hover-bg-color: #E2EBFA;\n",
       "      --hover-fill-color: #174EA6;\n",
       "      --disabled-fill-color: #AAA;\n",
       "      --disabled-bg-color: #DDD;\n",
       "  }\n",
       "\n",
       "  [theme=dark] .colab-df-quickchart {\n",
       "      --bg-color: #3B4455;\n",
       "      --fill-color: #D2E3FC;\n",
       "      --hover-bg-color: #434B5C;\n",
       "      --hover-fill-color: #FFFFFF;\n",
       "      --disabled-bg-color: #3B4455;\n",
       "      --disabled-fill-color: #666;\n",
       "  }\n",
       "\n",
       "  .colab-df-quickchart {\n",
       "    background-color: var(--bg-color);\n",
       "    border: none;\n",
       "    border-radius: 50%;\n",
       "    cursor: pointer;\n",
       "    display: none;\n",
       "    fill: var(--fill-color);\n",
       "    height: 32px;\n",
       "    padding: 0;\n",
       "    width: 32px;\n",
       "  }\n",
       "\n",
       "  .colab-df-quickchart:hover {\n",
       "    background-color: var(--hover-bg-color);\n",
       "    box-shadow: 0 1px 2px rgba(60, 64, 67, 0.3), 0 1px 3px 1px rgba(60, 64, 67, 0.15);\n",
       "    fill: var(--button-hover-fill-color);\n",
       "  }\n",
       "\n",
       "  .colab-df-quickchart-complete:disabled,\n",
       "  .colab-df-quickchart-complete:disabled:hover {\n",
       "    background-color: var(--disabled-bg-color);\n",
       "    fill: var(--disabled-fill-color);\n",
       "    box-shadow: none;\n",
       "  }\n",
       "\n",
       "  .colab-df-spinner {\n",
       "    border: 2px solid var(--fill-color);\n",
       "    border-color: transparent;\n",
       "    border-bottom-color: var(--fill-color);\n",
       "    animation:\n",
       "      spin 1s steps(1) infinite;\n",
       "  }\n",
       "\n",
       "  @keyframes spin {\n",
       "    0% {\n",
       "      border-color: transparent;\n",
       "      border-bottom-color: var(--fill-color);\n",
       "      border-left-color: var(--fill-color);\n",
       "    }\n",
       "    20% {\n",
       "      border-color: transparent;\n",
       "      border-left-color: var(--fill-color);\n",
       "      border-top-color: var(--fill-color);\n",
       "    }\n",
       "    30% {\n",
       "      border-color: transparent;\n",
       "      border-left-color: var(--fill-color);\n",
       "      border-top-color: var(--fill-color);\n",
       "      border-right-color: var(--fill-color);\n",
       "    }\n",
       "    40% {\n",
       "      border-color: transparent;\n",
       "      border-right-color: var(--fill-color);\n",
       "      border-top-color: var(--fill-color);\n",
       "    }\n",
       "    60% {\n",
       "      border-color: transparent;\n",
       "      border-right-color: var(--fill-color);\n",
       "    }\n",
       "    80% {\n",
       "      border-color: transparent;\n",
       "      border-right-color: var(--fill-color);\n",
       "      border-bottom-color: var(--fill-color);\n",
       "    }\n",
       "    90% {\n",
       "      border-color: transparent;\n",
       "      border-bottom-color: var(--fill-color);\n",
       "    }\n",
       "  }\n",
       "</style>\n",
       "\n",
       "  <script>\n",
       "    async function quickchart(key) {\n",
       "      const quickchartButtonEl =\n",
       "        document.querySelector('#' + key + ' button');\n",
       "      quickchartButtonEl.disabled = true;  // To prevent multiple clicks.\n",
       "      quickchartButtonEl.classList.add('colab-df-spinner');\n",
       "      try {\n",
       "        const charts = await google.colab.kernel.invokeFunction(\n",
       "            'suggestCharts', [key], {});\n",
       "      } catch (error) {\n",
       "        console.error('Error during call to suggestCharts:', error);\n",
       "      }\n",
       "      quickchartButtonEl.classList.remove('colab-df-spinner');\n",
       "      quickchartButtonEl.classList.add('colab-df-quickchart-complete');\n",
       "    }\n",
       "    (() => {\n",
       "      let quickchartButtonEl =\n",
       "        document.querySelector('#df-5d180ff1-f699-4f9c-8261-89f4642daab4 button');\n",
       "      quickchartButtonEl.style.display =\n",
       "        google.colab.kernel.accessAllowed ? 'block' : 'none';\n",
       "    })();\n",
       "  </script>\n",
       "</div>\n",
       "    </div>\n",
       "  </div>\n"
      ],
      "text/plain": [
       "         acerca  ada  al  algoritmo  alla  analitica  aplicaciones  augusta  \\\n",
       "ADA           1    3   1          1     1          1             1        2   \n",
       "BROCOLI       0    0   0          0     0          0             0        0   \n",
       "FIXED         0    0   1          0     0          0             0        0   \n",
       "\n",
       "         babbage  britanica  ...  puede  punto  rueda  sentido  siempre  \\\n",
       "ADA            1          1  ...      0      0      0        0        0   \n",
       "BROCOLI        0          0  ...      0      0      0        0        0   \n",
       "FIXED          0          0  ...      2      1      1        1        2   \n",
       "\n",
       "         significa  solidariamente  tiene  trasera  ya  \n",
       "ADA              0               0      0        0   0  \n",
       "BROCOLI          0               0      0        0   0  \n",
       "FIXED            2               1      2        1   1  \n",
       "\n",
       "[3 rows x 145 columns]"
      ]
     },
     "execution_count": 18,
     "metadata": {},
     "output_type": "execute_result"
    }
   ],
   "source": [
    "doc_matrix_simple"
   ]
  },
  {
   "cell_type": "markdown",
   "metadata": {
    "id": "bVPeYSW_QUeW"
   },
   "source": [
    "- Tenemos una matrix de terminos-frecuencias ($tf$). Es decir cuantas veces un termino aparece en cierto documento.\n",
    "- Una variante de esta es una **BoW** binaria. ¿Cómo se vería?\n"
   ]
  },
  {
   "cell_type": "markdown",
   "metadata": {
    "id": "mjQxKiYSriBb"
   },
   "source": [
    "## ¿Ven algun problema?"
   ]
  },
  {
   "cell_type": "markdown",
   "metadata": {
    "id": "uX5SRzqKrj-v"
   },
   "source": [
    "- Palabras muy frecuentes que no aportan signifiancia\n",
    "- Los pesos de las palabras son tratados de forma equitativa\n",
    "    - Palabras muy frecuentes opacan las menos frecuentes y con mayor significado (semántico) en nuestros documentos\n",
    "- Las palabras frecuentes no nos ayudarian a discriminar por ejemplo entre documentos"
   ]
  },
  {
   "cell_type": "markdown",
   "metadata": {
    "id": "HSUz5DC2tpsG"
   },
   "source": [
    "## *Term frequency-Inverse Document Frequency* (TF-IDF) al rescate\n",
    "\n",
    "<center><img src=\"https://telencuestas.imgix.net/blog/como-ponderar-una-muestra.jpg?auto=format&fit=max&w=3840\" height=250></center>"
   ]
  },
  {
   "cell_type": "markdown",
   "metadata": {
    "id": "vv323MYjtsaq"
   },
   "source": [
    "- Metodo de ponderación creado para algoritmos de Information Retrieval\n",
    "- Bueno para clasificación de documentos y clustering\n",
    "- Se calcula con la multiplicacion $tf_{d,t} \\cdot idf_t$\n",
    "\n",
    "Donde:\n",
    "  - $tf_{d,t}$ es la frecuencia del termino en un documento $d$\n",
    "  - $idf_t$ es la frecuencia inversa del termino en toda la colección de documentos. Se calcula de la siguiente forma:\n",
    "\n",
    "$$idf_t = log_2\\frac{N}{df_t}$$\n",
    "\n",
    "Entonces:\n",
    "\n",
    "$$tf\\_idf(d,t) = tf_{d,t} ⋅ \\log_2\\frac{N}{df_t}$$"
   ]
  },
  {
   "cell_type": "markdown",
   "metadata": {
    "id": "eeHYU9zwwlPD"
   },
   "source": [
    "### Codificando TF-IDF con gensim"
   ]
  },
  {
   "cell_type": "code",
   "execution_count": 19,
   "metadata": {
    "id": "UNlrSu6Fwn7_"
   },
   "outputs": [],
   "source": [
    "from gensim.models import TfidfModel\n",
    "\n",
    "tfidf = TfidfModel(bag_of_words_corpus, smartirs=\"ntc\")"
   ]
  },
  {
   "cell_type": "code",
   "execution_count": 20,
   "metadata": {
    "colab": {
     "base_uri": "https://localhost:8080/"
    },
    "id": "DUbkhdDHxb4J",
    "outputId": "7c77435b-8493-45de-d75f-0bc33bd422c9"
   },
   "outputs": [
    {
     "data": {
      "text/plain": [
       "[(0, 1),\n",
       " (1, 3),\n",
       " (2, 1),\n",
       " (3, 1),\n",
       " (4, 1),\n",
       " (5, 1),\n",
       " (6, 1),\n",
       " (7, 2),\n",
       " (8, 1),\n",
       " (9, 1),\n",
       " (10, 1),\n",
       " (11, 1),\n",
       " (12, 1),\n",
       " (13, 1),\n",
       " (14, 4),\n",
       " (15, 1),\n",
       " (16, 1),\n",
       " (17, 1),\n",
       " (18, 1),\n",
       " (19, 9),\n",
       " (20, 1),\n",
       " (21, 1),\n",
       " (22, 1),\n",
       " (23, 1),\n",
       " (24, 1),\n",
       " (25, 2),\n",
       " (26, 1),\n",
       " (27, 2),\n",
       " (28, 1),\n",
       " (29, 1),\n",
       " (30, 1),\n",
       " (31, 1),\n",
       " (32, 1),\n",
       " (33, 1),\n",
       " (34, 5),\n",
       " (35, 1),\n",
       " (36, 2),\n",
       " (37, 1),\n",
       " (38, 2),\n",
       " (39, 3),\n",
       " (40, 1),\n",
       " (41, 1),\n",
       " (42, 1),\n",
       " (43, 1),\n",
       " (44, 1),\n",
       " (45, 1),\n",
       " (46, 3),\n",
       " (47, 1),\n",
       " (48, 2),\n",
       " (49, 1),\n",
       " (50, 1),\n",
       " (51, 1),\n",
       " (52, 1),\n",
       " (53, 3),\n",
       " (54, 1),\n",
       " (55, 1),\n",
       " (56, 1),\n",
       " (57, 2),\n",
       " (58, 1),\n",
       " (59, 1),\n",
       " (60, 1),\n",
       " (61, 1),\n",
       " (62, 1),\n",
       " (63, 1),\n",
       " (64, 2),\n",
       " (65, 1)]"
      ]
     },
     "execution_count": 20,
     "metadata": {},
     "output_type": "execute_result"
    }
   ],
   "source": [
    "bag_of_words_corpus[0]"
   ]
  },
  {
   "cell_type": "code",
   "execution_count": 21,
   "metadata": {
    "colab": {
     "base_uri": "https://localhost:8080/"
    },
    "id": "BiIzl4G0wi6O",
    "outputId": "67573c70-be78-413e-d2cc-9d0465a5983e"
   },
   "outputs": [
    {
     "data": {
      "text/plain": [
       "[(0, 0.10051035884473423),\n",
       " (1, 0.3015310765342027),\n",
       " (2, 0.05025517942236712),\n",
       " (3, 0.10051035884473423),\n",
       " (4, 0.10051035884473423),\n",
       " (5, 0.10051035884473423),\n",
       " (6, 0.10051035884473423),\n",
       " (7, 0.20102071768946847),\n",
       " (8, 0.10051035884473423),\n",
       " (9, 0.10051035884473423),\n",
       " (10, 0.10051035884473423),\n",
       " (11, 0.10051035884473423),\n",
       " (12, 0.10051035884473423),\n",
       " (13, 0.10051035884473423),\n",
       " (14, 0.20102071768946847),\n",
       " (15, 0.10051035884473423),\n",
       " (16, 0.10051035884473423),\n",
       " (17, 0.10051035884473423),\n",
       " (18, 0.10051035884473423),\n",
       " (19, 0.1877200559394197),\n",
       " (20, 0.05025517942236712),\n",
       " (21, 0.10051035884473423),\n",
       " (22, 0.10051035884473423),\n",
       " (23, 0.10051035884473423),\n",
       " (24, 0.05025517942236712),\n",
       " (25, 0.10051035884473423),\n",
       " (26, 0.10051035884473423),\n",
       " (27, 0.20102071768946847),\n",
       " (28, 0.10051035884473423),\n",
       " (29, 0.10051035884473423),\n",
       " (30, 0.10051035884473423),\n",
       " (31, 0.10051035884473423),\n",
       " (32, 0.10051035884473423),\n",
       " (33, 0.10051035884473423),\n",
       " (34, 0.10428891996634428),\n",
       " (35, 0.10051035884473423),\n",
       " (36, 0.10051035884473423),\n",
       " (37, 0.10051035884473423),\n",
       " (38, 0.20102071768946847),\n",
       " (39, 0.3015310765342027),\n",
       " (40, 0.10051035884473423),\n",
       " (41, 0.10051035884473423),\n",
       " (42, 0.10051035884473423),\n",
       " (43, 0.10051035884473423),\n",
       " (44, 0.10051035884473423),\n",
       " (45, 0.10051035884473423),\n",
       " (46, 0.15076553826710135),\n",
       " (47, 0.10051035884473423),\n",
       " (48, 0.20102071768946847),\n",
       " (49, 0.10051035884473423),\n",
       " (50, 0.10051035884473423),\n",
       " (51, 0.10051035884473423),\n",
       " (52, 0.10051035884473423),\n",
       " (53, 0.15076553826710135),\n",
       " (54, 0.10051035884473423),\n",
       " (55, 0.10051035884473423),\n",
       " (56, 0.10051035884473423),\n",
       " (57, 0.10051035884473423),\n",
       " (58, 0.10051035884473423),\n",
       " (59, 0.10051035884473423),\n",
       " (60, 0.10051035884473423),\n",
       " (61, 0.10051035884473423),\n",
       " (62, 0.10051035884473423),\n",
       " (63, 0.10051035884473423),\n",
       " (64, 0.04171556798653771),\n",
       " (65, 0.10051035884473423)]"
      ]
     },
     "execution_count": 21,
     "metadata": {},
     "output_type": "execute_result"
    }
   ],
   "source": [
    "tfidf[bag_of_words_corpus[0]]"
   ]
  },
  {
   "cell_type": "code",
   "execution_count": 22,
   "metadata": {
    "id": "5BTp_hOvBYvK"
   },
   "outputs": [],
   "source": [
    "def bag_to_dict(bag_of_words: list, gensim_dic: Dictionary, titles: list[str]) -> list:\n",
    "    data = {}\n",
    "    tfidf = TfidfModel(bag_of_words, smartirs=\"ntc\")\n",
    "    for doc, title in zip(tfidf[bag_of_words], titles):\n",
    "        data[title] = dict([(gensim_dic[id], freq) for id, freq in doc])\n",
    "    return data"
   ]
  },
  {
   "cell_type": "code",
   "execution_count": 23,
   "metadata": {
    "colab": {
     "base_uri": "https://localhost:8080/"
    },
    "id": "bNwm-tvpx-F9",
    "outputId": "000a0f47-60f8-4f75-f0d6-baeb06801bc4"
   },
   "outputs": [
    {
     "name": "stdout",
     "output_type": "stream",
     "text": [
      "ADA\n",
      "BROCOLI\n",
      "FIXED\n"
     ]
    }
   ],
   "source": [
    "data = bag_to_dict(tfidf[bag_of_words_corpus], gensim_dic, titles=[\"ADA\", \"BROCOLI\", \"FIXED\"])"
   ]
  },
  {
   "cell_type": "code",
   "execution_count": 24,
   "metadata": {
    "colab": {
     "base_uri": "https://localhost:8080/"
    },
    "id": "iLui4A_SyKl9",
    "outputId": "5ffd50bc-c7d9-45c9-d5a5-b6f1e1244a3a"
   },
   "outputs": [
    {
     "data": {
      "text/plain": [
       "{'ADA': {'acerca': 0.10829559492364334,\n",
       "  'ada': 0.32488678477092997,\n",
       "  'al': 0.027073898730910834,\n",
       "  'algoritmo': 0.10829559492364334,\n",
       "  'alla': 0.10829559492364334,\n",
       "  'analitica': 0.10829559492364334,\n",
       "  'aplicaciones': 0.10829559492364334,\n",
       "  'augusta': 0.21659118984728667,\n",
       "  'babbage': 0.10829559492364334,\n",
       "  'britanica': 0.10829559492364334,\n",
       "  'byron': 0.10829559492364334,\n",
       "  'calculo': 0.10829559492364334,\n",
       "  'celebre': 0.10829559492364334,\n",
       "  'charles': 0.10829559492364334,\n",
       "  'como': 0.10829559492364334,\n",
       "  'computadora': 0.10829559492364334,\n",
       "  'condesa': 0.10829559492364334,\n",
       "  'conocida': 0.10829559492364334,\n",
       "  'considera': 0.10829559492364334,\n",
       "  'de': 0.04197280415305482,\n",
       "  'del': 0.027073898730910834,\n",
       "  'denominada': 0.10829559492364334,\n",
       "  'destinado': 0.10829559492364334,\n",
       "  'diciembre': 0.10829559492364334,\n",
       "  'el': 0.027073898730910834,\n",
       "  'en': 0.05414779746182167,\n",
       "  'escritora': 0.10829559492364334,\n",
       "  'fue': 0.21659118984728667,\n",
       "  'general': 0.10829559492364334,\n",
       "  'haber': 0.10829559492364334,\n",
       "  'habitualmente': 0.10829559492364334,\n",
       "  'hoy': 0.10829559492364334,\n",
       "  'id': 0.10829559492364334,\n",
       "  'king': 0.10829559492364334,\n",
       "  'la': 0.023318224529474896,\n",
       "  'le': 0.10829559492364334,\n",
       "  'lo': 0.05414779746182167,\n",
       "  'londres': 0.10829559492364334,\n",
       "  'lovelace': 0.21659118984728667,\n",
       "  'maquina': 0.32488678477092997,\n",
       "  'mas': 0.10829559492364334,\n",
       "  'matematica': 0.10829559492364334,\n",
       "  'mecanica': 0.10829559492364334,\n",
       "  'nacer': 0.10829559492364334,\n",
       "  'noviembre': 0.10829559492364334,\n",
       "  'ordenadores': 0.10829559492364334,\n",
       "  'por': 0.08122169619273249,\n",
       "  'primer': 0.10829559492364334,\n",
       "  'primera': 0.21659118984728667,\n",
       "  'procesado': 0.10829559492364334,\n",
       "  'programadora': 0.10829559492364334,\n",
       "  'publicado': 0.10829559492364334,\n",
       "  'puro': 0.10829559492364334,\n",
       "  'que': 0.08122169619273249,\n",
       "  'reconoce': 0.10829559492364334,\n",
       "  'reconocer': 0.10829559492364334,\n",
       "  'registrada': 0.10829559492364334,\n",
       "  'se': 0.05414779746182167,\n",
       "  'ser': 0.10829559492364334,\n",
       "  'sobre': 0.10829559492364334,\n",
       "  'su': 0.10829559492364334,\n",
       "  'tenia': 0.10829559492364334,\n",
       "  'todo': 0.10829559492364334,\n",
       "  'trabajo': 0.10829559492364334,\n",
       "  'una': 0.009327289811789959,\n",
       "  'uso': 0.10829559492364334},\n",
       " 'BROCOLI': {'como': 0.037233290846722784,\n",
       "  'de': 0.03206831216162695,\n",
       "  'del': 0.037233290846722784,\n",
       "  'el': 0.11169987254016836,\n",
       "  'la': 0.02565464972930156,\n",
       "  'una': 0.01282732486465078,\n",
       "  'alboglabra': 0.14893316338689114,\n",
       "  'botrytis': 0.14893316338689114,\n",
       "  'brasicaceas': 0.14893316338689114,\n",
       "  'brassica': 0.2978663267737823,\n",
       "  'brecol': 0.14893316338689114,\n",
       "  'broccoli': 0.14893316338689114,\n",
       "  'brocoli': 0.2978663267737823,\n",
       "  'broquil': 0.14893316338689114,\n",
       "  'brote': 0.14893316338689114,\n",
       "  'bruselas': 0.14893316338689114,\n",
       "  'capitata': 0.14893316338689114,\n",
       "  'chino': 0.14893316338689114,\n",
       "  'col': 0.14893316338689114,\n",
       "  'coliflor': 0.14893316338689114,\n",
       "  'colinabo': 0.14893316338689114,\n",
       "  'es': 0.07446658169344557,\n",
       "  'especie': 0.14893316338689114,\n",
       "  'existen': 0.14893316338689114,\n",
       "  'familia': 0.14893316338689114,\n",
       "  'gemmifera': 0.14893316338689114,\n",
       "  'gongylodes': 0.14893316338689114,\n",
       "  'italiano': 0.14893316338689114,\n",
       "  'italica': 0.14893316338689114,\n",
       "  'kai': 0.14893316338689114,\n",
       "  'lan': 0.14893316338689114,\n",
       "  'las': 0.14893316338689114,\n",
       "  'llamado': 0.14893316338689114,\n",
       "  'misma': 0.14893316338689114,\n",
       "  'oleracea': 0.2978663267737823,\n",
       "  'otras': 0.14893316338689114,\n",
       "  'planta': 0.14893316338689114,\n",
       "  'repollo': 0.14893316338689114,\n",
       "  'tales': 0.14893316338689114,\n",
       "  'tambien': 0.037233290846722784,\n",
       "  'var': 0.14893316338689114,\n",
       "  'variedad': 0.14893316338689114,\n",
       "  'variedades': 0.14893316338689114},\n",
       " 'FIXED': {'al': 0.0264062123688134,\n",
       "  'de': 0.013645895519716442,\n",
       "  'en': 0.0528124247376268,\n",
       "  'la': 0.0227431591995274,\n",
       "  'lo': 0.0264062123688134,\n",
       "  'por': 0.0264062123688134,\n",
       "  'que': 0.132031061844067,\n",
       "  'se': 0.0528124247376268,\n",
       "  'una': 0.009097263679810962,\n",
       "  'es': 0.0528124247376268,\n",
       "  'tambien': 0.0264062123688134,\n",
       "  'atras': 0.1056248494752536,\n",
       "  'bicicleta': 0.31687454842576074,\n",
       "  'cadena': 0.1056248494752536,\n",
       "  'cuando': 0.1056248494752536,\n",
       "  'decir': 0.1056248494752536,\n",
       "  'dejar': 0.1056248494752536,\n",
       "  'esta': 0.1056248494752536,\n",
       "  'estan': 0.1056248494752536,\n",
       "  'este': 0.1056248494752536,\n",
       "  'esto': 0.1056248494752536,\n",
       "  'fijo': 0.1056248494752536,\n",
       "  'fixed': 0.1056248494752536,\n",
       "  'fixie': 0.1056248494752536,\n",
       "  'frenar': 0.1056248494752536,\n",
       "  'fuerza': 0.1056248494752536,\n",
       "  'giraran': 0.1056248494752536,\n",
       "  'gire': 0.1056248494752536,\n",
       "  'haciendo': 0.1056248494752536,\n",
       "  'inversa': 0.1056248494752536,\n",
       "  'ir': 0.1056248494752536,\n",
       "  'libre': 0.1056248494752536,\n",
       "  'los': 0.2112496989505072,\n",
       "  'marcha': 0.31687454842576074,\n",
       "  'mientras': 0.1056248494752536,\n",
       "  'monomarcha': 0.1056248494752536,\n",
       "  'motivo': 0.1056248494752536,\n",
       "  'movimiento': 0.1056248494752536,\n",
       "  'muerto': 0.1056248494752536,\n",
       "  'no': 0.31687454842576074,\n",
       "  'pedalear': 0.1056248494752536,\n",
       "  'pedales': 0.2112496989505072,\n",
       "  'pinon': 0.2112496989505072,\n",
       "  'puede': 0.2112496989505072,\n",
       "  'punto': 0.1056248494752536,\n",
       "  'rueda': 0.1056248494752536,\n",
       "  'sentido': 0.1056248494752536,\n",
       "  'siempre': 0.2112496989505072,\n",
       "  'significa': 0.2112496989505072,\n",
       "  'solidariamente': 0.1056248494752536,\n",
       "  'tiene': 0.2112496989505072,\n",
       "  'trasera': 0.1056248494752536,\n",
       "  'ya': 0.1056248494752536}}"
      ]
     },
     "execution_count": 24,
     "metadata": {},
     "output_type": "execute_result"
    }
   ],
   "source": [
    "data"
   ]
  },
  {
   "cell_type": "code",
   "execution_count": 25,
   "metadata": {
    "id": "BsefTIbWyM6w"
   },
   "outputs": [],
   "source": [
    "doc_matrix_tfidf = pd.DataFrame(data).fillna(0).T"
   ]
  },
  {
   "cell_type": "code",
   "execution_count": 26,
   "metadata": {
    "colab": {
     "base_uri": "https://localhost:8080/",
     "height": 193
    },
    "id": "zEe3-FmOyYAO",
    "outputId": "45ed822b-9e18-4c82-867b-fa8c24c14c05"
   },
   "outputs": [
    {
     "data": {
      "application/vnd.google.colaboratory.intrinsic+json": {
       "type": "dataframe",
       "variable_name": "doc_matrix_tfidf"
      },
      "text/html": [
       "\n",
       "  <div id=\"df-9f64f918-21c4-4f81-aeff-396be96d6f5a\" class=\"colab-df-container\">\n",
       "    <div>\n",
       "<style scoped>\n",
       "    .dataframe tbody tr th:only-of-type {\n",
       "        vertical-align: middle;\n",
       "    }\n",
       "\n",
       "    .dataframe tbody tr th {\n",
       "        vertical-align: top;\n",
       "    }\n",
       "\n",
       "    .dataframe thead th {\n",
       "        text-align: right;\n",
       "    }\n",
       "</style>\n",
       "<table border=\"1\" class=\"dataframe\">\n",
       "  <thead>\n",
       "    <tr style=\"text-align: right;\">\n",
       "      <th></th>\n",
       "      <th>acerca</th>\n",
       "      <th>ada</th>\n",
       "      <th>al</th>\n",
       "      <th>algoritmo</th>\n",
       "      <th>alla</th>\n",
       "      <th>analitica</th>\n",
       "      <th>aplicaciones</th>\n",
       "      <th>augusta</th>\n",
       "      <th>babbage</th>\n",
       "      <th>britanica</th>\n",
       "      <th>...</th>\n",
       "      <th>puede</th>\n",
       "      <th>punto</th>\n",
       "      <th>rueda</th>\n",
       "      <th>sentido</th>\n",
       "      <th>siempre</th>\n",
       "      <th>significa</th>\n",
       "      <th>solidariamente</th>\n",
       "      <th>tiene</th>\n",
       "      <th>trasera</th>\n",
       "      <th>ya</th>\n",
       "    </tr>\n",
       "  </thead>\n",
       "  <tbody>\n",
       "    <tr>\n",
       "      <th>ADA</th>\n",
       "      <td>0.108296</td>\n",
       "      <td>0.324887</td>\n",
       "      <td>0.027074</td>\n",
       "      <td>0.108296</td>\n",
       "      <td>0.108296</td>\n",
       "      <td>0.108296</td>\n",
       "      <td>0.108296</td>\n",
       "      <td>0.216591</td>\n",
       "      <td>0.108296</td>\n",
       "      <td>0.108296</td>\n",
       "      <td>...</td>\n",
       "      <td>0.00000</td>\n",
       "      <td>0.000000</td>\n",
       "      <td>0.000000</td>\n",
       "      <td>0.000000</td>\n",
       "      <td>0.00000</td>\n",
       "      <td>0.00000</td>\n",
       "      <td>0.000000</td>\n",
       "      <td>0.00000</td>\n",
       "      <td>0.000000</td>\n",
       "      <td>0.000000</td>\n",
       "    </tr>\n",
       "    <tr>\n",
       "      <th>BROCOLI</th>\n",
       "      <td>0.000000</td>\n",
       "      <td>0.000000</td>\n",
       "      <td>0.000000</td>\n",
       "      <td>0.000000</td>\n",
       "      <td>0.000000</td>\n",
       "      <td>0.000000</td>\n",
       "      <td>0.000000</td>\n",
       "      <td>0.000000</td>\n",
       "      <td>0.000000</td>\n",
       "      <td>0.000000</td>\n",
       "      <td>...</td>\n",
       "      <td>0.00000</td>\n",
       "      <td>0.000000</td>\n",
       "      <td>0.000000</td>\n",
       "      <td>0.000000</td>\n",
       "      <td>0.00000</td>\n",
       "      <td>0.00000</td>\n",
       "      <td>0.000000</td>\n",
       "      <td>0.00000</td>\n",
       "      <td>0.000000</td>\n",
       "      <td>0.000000</td>\n",
       "    </tr>\n",
       "    <tr>\n",
       "      <th>FIXED</th>\n",
       "      <td>0.000000</td>\n",
       "      <td>0.000000</td>\n",
       "      <td>0.026406</td>\n",
       "      <td>0.000000</td>\n",
       "      <td>0.000000</td>\n",
       "      <td>0.000000</td>\n",
       "      <td>0.000000</td>\n",
       "      <td>0.000000</td>\n",
       "      <td>0.000000</td>\n",
       "      <td>0.000000</td>\n",
       "      <td>...</td>\n",
       "      <td>0.21125</td>\n",
       "      <td>0.105625</td>\n",
       "      <td>0.105625</td>\n",
       "      <td>0.105625</td>\n",
       "      <td>0.21125</td>\n",
       "      <td>0.21125</td>\n",
       "      <td>0.105625</td>\n",
       "      <td>0.21125</td>\n",
       "      <td>0.105625</td>\n",
       "      <td>0.105625</td>\n",
       "    </tr>\n",
       "  </tbody>\n",
       "</table>\n",
       "<p>3 rows × 145 columns</p>\n",
       "</div>\n",
       "    <div class=\"colab-df-buttons\">\n",
       "\n",
       "  <div class=\"colab-df-container\">\n",
       "    <button class=\"colab-df-convert\" onclick=\"convertToInteractive('df-9f64f918-21c4-4f81-aeff-396be96d6f5a')\"\n",
       "            title=\"Convert this dataframe to an interactive table.\"\n",
       "            style=\"display:none;\">\n",
       "\n",
       "  <svg xmlns=\"http://www.w3.org/2000/svg\" height=\"24px\" viewBox=\"0 -960 960 960\">\n",
       "    <path d=\"M120-120v-720h720v720H120Zm60-500h600v-160H180v160Zm220 220h160v-160H400v160Zm0 220h160v-160H400v160ZM180-400h160v-160H180v160Zm440 0h160v-160H620v160ZM180-180h160v-160H180v160Zm440 0h160v-160H620v160Z\"/>\n",
       "  </svg>\n",
       "    </button>\n",
       "\n",
       "  <style>\n",
       "    .colab-df-container {\n",
       "      display:flex;\n",
       "      gap: 12px;\n",
       "    }\n",
       "\n",
       "    .colab-df-convert {\n",
       "      background-color: #E8F0FE;\n",
       "      border: none;\n",
       "      border-radius: 50%;\n",
       "      cursor: pointer;\n",
       "      display: none;\n",
       "      fill: #1967D2;\n",
       "      height: 32px;\n",
       "      padding: 0 0 0 0;\n",
       "      width: 32px;\n",
       "    }\n",
       "\n",
       "    .colab-df-convert:hover {\n",
       "      background-color: #E2EBFA;\n",
       "      box-shadow: 0px 1px 2px rgba(60, 64, 67, 0.3), 0px 1px 3px 1px rgba(60, 64, 67, 0.15);\n",
       "      fill: #174EA6;\n",
       "    }\n",
       "\n",
       "    .colab-df-buttons div {\n",
       "      margin-bottom: 4px;\n",
       "    }\n",
       "\n",
       "    [theme=dark] .colab-df-convert {\n",
       "      background-color: #3B4455;\n",
       "      fill: #D2E3FC;\n",
       "    }\n",
       "\n",
       "    [theme=dark] .colab-df-convert:hover {\n",
       "      background-color: #434B5C;\n",
       "      box-shadow: 0px 1px 3px 1px rgba(0, 0, 0, 0.15);\n",
       "      filter: drop-shadow(0px 1px 2px rgba(0, 0, 0, 0.3));\n",
       "      fill: #FFFFFF;\n",
       "    }\n",
       "  </style>\n",
       "\n",
       "    <script>\n",
       "      const buttonEl =\n",
       "        document.querySelector('#df-9f64f918-21c4-4f81-aeff-396be96d6f5a button.colab-df-convert');\n",
       "      buttonEl.style.display =\n",
       "        google.colab.kernel.accessAllowed ? 'block' : 'none';\n",
       "\n",
       "      async function convertToInteractive(key) {\n",
       "        const element = document.querySelector('#df-9f64f918-21c4-4f81-aeff-396be96d6f5a');\n",
       "        const dataTable =\n",
       "          await google.colab.kernel.invokeFunction('convertToInteractive',\n",
       "                                                    [key], {});\n",
       "        if (!dataTable) return;\n",
       "\n",
       "        const docLinkHtml = 'Like what you see? Visit the ' +\n",
       "          '<a target=\"_blank\" href=https://colab.research.google.com/notebooks/data_table.ipynb>data table notebook</a>'\n",
       "          + ' to learn more about interactive tables.';\n",
       "        element.innerHTML = '';\n",
       "        dataTable['output_type'] = 'display_data';\n",
       "        await google.colab.output.renderOutput(dataTable, element);\n",
       "        const docLink = document.createElement('div');\n",
       "        docLink.innerHTML = docLinkHtml;\n",
       "        element.appendChild(docLink);\n",
       "      }\n",
       "    </script>\n",
       "  </div>\n",
       "\n",
       "\n",
       "<div id=\"df-a29ee369-3460-41f2-af3a-023422475e98\">\n",
       "  <button class=\"colab-df-quickchart\" onclick=\"quickchart('df-a29ee369-3460-41f2-af3a-023422475e98')\"\n",
       "            title=\"Suggest charts\"\n",
       "            style=\"display:none;\">\n",
       "\n",
       "<svg xmlns=\"http://www.w3.org/2000/svg\" height=\"24px\"viewBox=\"0 0 24 24\"\n",
       "     width=\"24px\">\n",
       "    <g>\n",
       "        <path d=\"M19 3H5c-1.1 0-2 .9-2 2v14c0 1.1.9 2 2 2h14c1.1 0 2-.9 2-2V5c0-1.1-.9-2-2-2zM9 17H7v-7h2v7zm4 0h-2V7h2v10zm4 0h-2v-4h2v4z\"/>\n",
       "    </g>\n",
       "</svg>\n",
       "  </button>\n",
       "\n",
       "<style>\n",
       "  .colab-df-quickchart {\n",
       "      --bg-color: #E8F0FE;\n",
       "      --fill-color: #1967D2;\n",
       "      --hover-bg-color: #E2EBFA;\n",
       "      --hover-fill-color: #174EA6;\n",
       "      --disabled-fill-color: #AAA;\n",
       "      --disabled-bg-color: #DDD;\n",
       "  }\n",
       "\n",
       "  [theme=dark] .colab-df-quickchart {\n",
       "      --bg-color: #3B4455;\n",
       "      --fill-color: #D2E3FC;\n",
       "      --hover-bg-color: #434B5C;\n",
       "      --hover-fill-color: #FFFFFF;\n",
       "      --disabled-bg-color: #3B4455;\n",
       "      --disabled-fill-color: #666;\n",
       "  }\n",
       "\n",
       "  .colab-df-quickchart {\n",
       "    background-color: var(--bg-color);\n",
       "    border: none;\n",
       "    border-radius: 50%;\n",
       "    cursor: pointer;\n",
       "    display: none;\n",
       "    fill: var(--fill-color);\n",
       "    height: 32px;\n",
       "    padding: 0;\n",
       "    width: 32px;\n",
       "  }\n",
       "\n",
       "  .colab-df-quickchart:hover {\n",
       "    background-color: var(--hover-bg-color);\n",
       "    box-shadow: 0 1px 2px rgba(60, 64, 67, 0.3), 0 1px 3px 1px rgba(60, 64, 67, 0.15);\n",
       "    fill: var(--button-hover-fill-color);\n",
       "  }\n",
       "\n",
       "  .colab-df-quickchart-complete:disabled,\n",
       "  .colab-df-quickchart-complete:disabled:hover {\n",
       "    background-color: var(--disabled-bg-color);\n",
       "    fill: var(--disabled-fill-color);\n",
       "    box-shadow: none;\n",
       "  }\n",
       "\n",
       "  .colab-df-spinner {\n",
       "    border: 2px solid var(--fill-color);\n",
       "    border-color: transparent;\n",
       "    border-bottom-color: var(--fill-color);\n",
       "    animation:\n",
       "      spin 1s steps(1) infinite;\n",
       "  }\n",
       "\n",
       "  @keyframes spin {\n",
       "    0% {\n",
       "      border-color: transparent;\n",
       "      border-bottom-color: var(--fill-color);\n",
       "      border-left-color: var(--fill-color);\n",
       "    }\n",
       "    20% {\n",
       "      border-color: transparent;\n",
       "      border-left-color: var(--fill-color);\n",
       "      border-top-color: var(--fill-color);\n",
       "    }\n",
       "    30% {\n",
       "      border-color: transparent;\n",
       "      border-left-color: var(--fill-color);\n",
       "      border-top-color: var(--fill-color);\n",
       "      border-right-color: var(--fill-color);\n",
       "    }\n",
       "    40% {\n",
       "      border-color: transparent;\n",
       "      border-right-color: var(--fill-color);\n",
       "      border-top-color: var(--fill-color);\n",
       "    }\n",
       "    60% {\n",
       "      border-color: transparent;\n",
       "      border-right-color: var(--fill-color);\n",
       "    }\n",
       "    80% {\n",
       "      border-color: transparent;\n",
       "      border-right-color: var(--fill-color);\n",
       "      border-bottom-color: var(--fill-color);\n",
       "    }\n",
       "    90% {\n",
       "      border-color: transparent;\n",
       "      border-bottom-color: var(--fill-color);\n",
       "    }\n",
       "  }\n",
       "</style>\n",
       "\n",
       "  <script>\n",
       "    async function quickchart(key) {\n",
       "      const quickchartButtonEl =\n",
       "        document.querySelector('#' + key + ' button');\n",
       "      quickchartButtonEl.disabled = true;  // To prevent multiple clicks.\n",
       "      quickchartButtonEl.classList.add('colab-df-spinner');\n",
       "      try {\n",
       "        const charts = await google.colab.kernel.invokeFunction(\n",
       "            'suggestCharts', [key], {});\n",
       "      } catch (error) {\n",
       "        console.error('Error during call to suggestCharts:', error);\n",
       "      }\n",
       "      quickchartButtonEl.classList.remove('colab-df-spinner');\n",
       "      quickchartButtonEl.classList.add('colab-df-quickchart-complete');\n",
       "    }\n",
       "    (() => {\n",
       "      let quickchartButtonEl =\n",
       "        document.querySelector('#df-a29ee369-3460-41f2-af3a-023422475e98 button');\n",
       "      quickchartButtonEl.style.display =\n",
       "        google.colab.kernel.accessAllowed ? 'block' : 'none';\n",
       "    })();\n",
       "  </script>\n",
       "</div>\n",
       "    </div>\n",
       "  </div>\n"
      ],
      "text/plain": [
       "           acerca       ada        al  algoritmo      alla  analitica  \\\n",
       "ADA      0.108296  0.324887  0.027074   0.108296  0.108296   0.108296   \n",
       "BROCOLI  0.000000  0.000000  0.000000   0.000000  0.000000   0.000000   \n",
       "FIXED    0.000000  0.000000  0.026406   0.000000  0.000000   0.000000   \n",
       "\n",
       "         aplicaciones   augusta   babbage  britanica  ...    puede     punto  \\\n",
       "ADA          0.108296  0.216591  0.108296   0.108296  ...  0.00000  0.000000   \n",
       "BROCOLI      0.000000  0.000000  0.000000   0.000000  ...  0.00000  0.000000   \n",
       "FIXED        0.000000  0.000000  0.000000   0.000000  ...  0.21125  0.105625   \n",
       "\n",
       "            rueda   sentido  siempre  significa  solidariamente    tiene  \\\n",
       "ADA      0.000000  0.000000  0.00000    0.00000        0.000000  0.00000   \n",
       "BROCOLI  0.000000  0.000000  0.00000    0.00000        0.000000  0.00000   \n",
       "FIXED    0.105625  0.105625  0.21125    0.21125        0.105625  0.21125   \n",
       "\n",
       "          trasera        ya  \n",
       "ADA      0.000000  0.000000  \n",
       "BROCOLI  0.000000  0.000000  \n",
       "FIXED    0.105625  0.105625  \n",
       "\n",
       "[3 rows x 145 columns]"
      ]
     },
     "execution_count": 26,
     "metadata": {},
     "output_type": "execute_result"
    }
   ],
   "source": [
    "doc_matrix_tfidf"
   ]
  },
  {
   "cell_type": "markdown",
   "metadata": {
    "id": "_NqR5YUF8l0C"
   },
   "source": [
    "### Calculando similitud entre vectores"
   ]
  },
  {
   "cell_type": "markdown",
   "metadata": {
    "id": "Eu0NF2oG-G9S"
   },
   "source": [
    "<center><img src=\"https://cdn.acidcow.com/pics/20130320/people_who_came_face_to_face_with_their_doppelganger_19.jpg\" width=500></center>"
   ]
  },
  {
   "cell_type": "markdown",
   "metadata": {
    "id": "fsRiWh4E8oNf"
   },
   "source": [
    "La forma estandar de obtener la similitud entre vectores para **BoW** es con la distancia coseno entre ellos\n",
    "\n",
    "$$cos(\\overrightarrow{v},\\overrightarrow{w}) = \\frac{\\overrightarrow{v} \\cdot\\overrightarrow{w}}{|\\overrightarrow{v}||\\overrightarrow{w}|}$$\n",
    "\n",
    "Aunque hay muchas más formas de [calcular la distancia](https://docs.scipy.org/doc/scipy/reference/spatial.distance.html) entre vectores"
   ]
  },
  {
   "cell_type": "markdown",
   "metadata": {
    "id": "4Fkh3JogYjB2"
   },
   "source": [
    "### Calculando distancia entre vectores"
   ]
  },
  {
   "cell_type": "code",
   "execution_count": 27,
   "metadata": {
    "colab": {
     "base_uri": "https://localhost:8080/"
    },
    "id": "UR3j1Cyg0d8e",
    "outputId": "976c881b-0ad3-4807-aacc-ed66f4ad8c59"
   },
   "outputs": [
    {
     "data": {
      "text/plain": [
       "array([[0.00605371]])"
      ]
     },
     "execution_count": 27,
     "metadata": {},
     "output_type": "execute_result"
    }
   ],
   "source": [
    "from sklearn.metrics.pairwise import cosine_similarity\n",
    "doc_1 = doc_matrix_tfidf.loc[\"BROCOLI\"].values.reshape(1, -1)\n",
    "doc_2 = doc_matrix_tfidf.loc[\"FIXED\"].values.reshape(1, -1)\n",
    "cosine_similarity(doc_1, doc_2)"
   ]
  },
  {
   "cell_type": "code",
   "execution_count": 28,
   "metadata": {
    "id": "Nknx6Rcv1drd"
   },
   "outputs": [],
   "source": [
    "def update_bow(doc: str, bag_of_words: list, gensim_dic: Dictionary) -> pd.DataFrame:\n",
    "    words = simple_preprocess(doc, deacc=True)\n",
    "    bag_of_words.append(gensim_dic.doc2bow(words, allow_update=True))\n",
    "    return bag_of_words"
   ]
  },
  {
   "cell_type": "code",
   "execution_count": 35,
   "metadata": {
    "id": "wzu2nsBt3zcm"
   },
   "outputs": [],
   "source": [
    "#sample_doc = \"Las bicicletas fixie, también denominadas bicicletas de piñón fijo, son bicis de una sola marcha, de piñón fijo, y sin punto muerto, por lo que se debe avanzar, frenar y dar marcha atrás con el uso de los pedales. La rueda de atrás gira cuando giran los pedales. Si pedaleas hacia delante, avanzas; si paras los pedales, frenas y si pedaleas hacia atrás, irás marcha atrás. Esto requiere de un entrenamiento añadido que la bicicleta con piñón libre no lo necesita. No obstante, las bicicletas fixie tienen muchísimas ventajas.\"\n",
    "sample_doc = \"El brócoli o brécol es una planta de la familia de las brasicáceas, como otras hortalizas que conocemos como coles. Está por tanto emparentado con verduras como la coliflor, el repollo y las diferentes coles lisas o rizadas, incluyendo el kale o las coles de Bruselas.\""
   ]
  },
  {
   "cell_type": "code",
   "execution_count": 36,
   "metadata": {
    "colab": {
     "base_uri": "https://localhost:8080/"
    },
    "id": "DwD2qDl03_Bb",
    "outputId": "66b5ac05-a061-4db2-dd9a-1ef5ec03981c"
   },
   "outputs": [
    {
     "data": {
      "text/plain": [
       "4"
      ]
     },
     "execution_count": 36,
     "metadata": {},
     "output_type": "execute_result"
    }
   ],
   "source": [
    "new_bag = update_bow(sample_doc, bag_of_words_corpus.copy(), gensim_dic)\n",
    "len(new_bag)"
   ]
  },
  {
   "cell_type": "code",
   "execution_count": 37,
   "metadata": {
    "colab": {
     "base_uri": "https://localhost:8080/"
    },
    "id": "UXoTGo0CDR9L",
    "outputId": "1260bae9-56b2-4ac8-cb21-68d39b91f401"
   },
   "outputs": [
    {
     "name": "stdout",
     "output_type": "stream",
     "text": [
      "0 acerca\n",
      "1 ada\n",
      "2 al\n",
      "3 algoritmo\n",
      "4 alla\n",
      "5 analitica\n",
      "6 aplicaciones\n",
      "7 augusta\n",
      "8 babbage\n",
      "9 britanica\n",
      "10 byron\n",
      "11 calculo\n",
      "12 celebre\n",
      "13 charles\n",
      "14 como\n",
      "15 computadora\n",
      "16 condesa\n",
      "17 conocida\n",
      "18 considera\n",
      "19 de\n",
      "20 del\n",
      "21 denominada\n",
      "22 destinado\n",
      "23 diciembre\n",
      "24 el\n",
      "25 en\n",
      "26 escritora\n",
      "27 fue\n",
      "28 general\n",
      "29 haber\n",
      "30 habitualmente\n",
      "31 hoy\n",
      "32 id\n",
      "33 king\n",
      "34 la\n",
      "35 le\n",
      "36 lo\n",
      "37 londres\n",
      "38 lovelace\n",
      "39 maquina\n",
      "40 mas\n",
      "41 matematica\n",
      "42 mecanica\n",
      "43 nacer\n",
      "44 noviembre\n",
      "45 ordenadores\n",
      "46 por\n",
      "47 primer\n",
      "48 primera\n",
      "49 procesado\n",
      "50 programadora\n",
      "51 publicado\n",
      "52 puro\n",
      "53 que\n",
      "54 reconoce\n",
      "55 reconocer\n",
      "56 registrada\n",
      "57 se\n",
      "58 ser\n",
      "59 sobre\n",
      "60 su\n",
      "61 tenia\n",
      "62 todo\n",
      "63 trabajo\n",
      "64 una\n",
      "65 uso\n",
      "66 alboglabra\n",
      "67 botrytis\n",
      "68 brasicaceas\n",
      "69 brassica\n",
      "70 brecol\n",
      "71 broccoli\n",
      "72 brocoli\n",
      "73 broquil\n",
      "74 brote\n",
      "75 bruselas\n",
      "76 capitata\n",
      "77 chino\n",
      "78 col\n",
      "79 coliflor\n",
      "80 colinabo\n",
      "81 es\n",
      "82 especie\n",
      "83 existen\n",
      "84 familia\n",
      "85 gemmifera\n",
      "86 gongylodes\n",
      "87 italiano\n",
      "88 italica\n",
      "89 kai\n",
      "90 lan\n",
      "91 las\n",
      "92 llamado\n",
      "93 misma\n",
      "94 oleracea\n",
      "95 otras\n",
      "96 planta\n",
      "97 repollo\n",
      "98 tales\n",
      "99 tambien\n",
      "100 var\n",
      "101 variedad\n",
      "102 variedades\n",
      "103 atras\n",
      "104 bicicleta\n",
      "105 cadena\n",
      "106 cuando\n",
      "107 decir\n",
      "108 dejar\n",
      "109 esta\n",
      "110 estan\n",
      "111 este\n",
      "112 esto\n",
      "113 fijo\n",
      "114 fixed\n",
      "115 fixie\n",
      "116 frenar\n",
      "117 fuerza\n",
      "118 giraran\n",
      "119 gire\n",
      "120 haciendo\n",
      "121 inversa\n",
      "122 ir\n",
      "123 libre\n",
      "124 los\n",
      "125 marcha\n",
      "126 mientras\n",
      "127 monomarcha\n",
      "128 motivo\n",
      "129 movimiento\n",
      "130 muerto\n",
      "131 no\n",
      "132 pedalear\n",
      "133 pedales\n",
      "134 pinon\n",
      "135 puede\n",
      "136 punto\n",
      "137 rueda\n",
      "138 sentido\n",
      "139 siempre\n",
      "140 significa\n",
      "141 solidariamente\n",
      "142 tiene\n",
      "143 trasera\n",
      "144 ya\n",
      "145 anadido\n",
      "146 avanzar\n",
      "147 avanzas\n",
      "148 bicicletas\n",
      "149 bicis\n",
      "150 con\n",
      "151 dar\n",
      "152 debe\n",
      "153 delante\n",
      "154 denominadas\n",
      "155 entrenamiento\n",
      "156 frenas\n",
      "157 gira\n",
      "158 giran\n",
      "159 hacia\n",
      "160 iras\n",
      "161 muchisimas\n",
      "162 necesita\n",
      "163 obstante\n",
      "164 paras\n",
      "165 pedaleas\n",
      "166 requiere\n",
      "167 si\n",
      "168 sin\n",
      "169 sola\n",
      "170 son\n",
      "171 tienen\n",
      "172 un\n",
      "173 ventajas\n",
      "174 coles\n",
      "175 conocemos\n",
      "176 diferentes\n",
      "177 emparentado\n",
      "178 hortalizas\n",
      "179 incluyendo\n",
      "180 kale\n",
      "181 lisas\n",
      "182 rizadas\n",
      "183 tanto\n",
      "184 verduras\n"
     ]
    }
   ],
   "source": [
    "for k, v in gensim_dic.iteritems():\n",
    "    print(k, v)"
   ]
  },
  {
   "cell_type": "code",
   "execution_count": 38,
   "metadata": {
    "colab": {
     "base_uri": "https://localhost:8080/"
    },
    "id": "WqhYSPxFCcCZ",
    "outputId": "ab3700d4-629a-4594-bd53-af3604cf3671"
   },
   "outputs": [
    {
     "name": "stdout",
     "output_type": "stream",
     "text": [
      "ADA\n",
      "BROCOLI\n",
      "FIXED\n",
      "SAMPLE\n"
     ]
    }
   ],
   "source": [
    "new_data = bag_to_dict(new_bag, gensim_dic, [\"ADA\", \"BROCOLI\", \"FIXED\", \"SAMPLE\"])"
   ]
  },
  {
   "cell_type": "code",
   "execution_count": 39,
   "metadata": {
    "colab": {
     "base_uri": "https://localhost:8080/",
     "height": 224
    },
    "id": "cZWWhN1KEXBa",
    "outputId": "7ed6c4ab-6f90-4202-99e3-41f203632aec"
   },
   "outputs": [
    {
     "data": {
      "application/vnd.google.colaboratory.intrinsic+json": {
       "type": "dataframe",
       "variable_name": "new_doc_matrix_tfidf"
      },
      "text/html": [
       "\n",
       "  <div id=\"df-f3578e59-c63e-4f3b-ae3d-730565b7cdb2\" class=\"colab-df-container\">\n",
       "    <div>\n",
       "<style scoped>\n",
       "    .dataframe tbody tr th:only-of-type {\n",
       "        vertical-align: middle;\n",
       "    }\n",
       "\n",
       "    .dataframe tbody tr th {\n",
       "        vertical-align: top;\n",
       "    }\n",
       "\n",
       "    .dataframe thead th {\n",
       "        text-align: right;\n",
       "    }\n",
       "</style>\n",
       "<table border=\"1\" class=\"dataframe\">\n",
       "  <thead>\n",
       "    <tr style=\"text-align: right;\">\n",
       "      <th></th>\n",
       "      <th>acerca</th>\n",
       "      <th>ada</th>\n",
       "      <th>al</th>\n",
       "      <th>algoritmo</th>\n",
       "      <th>alla</th>\n",
       "      <th>analitica</th>\n",
       "      <th>aplicaciones</th>\n",
       "      <th>augusta</th>\n",
       "      <th>babbage</th>\n",
       "      <th>britanica</th>\n",
       "      <th>...</th>\n",
       "      <th>conocemos</th>\n",
       "      <th>diferentes</th>\n",
       "      <th>emparentado</th>\n",
       "      <th>hortalizas</th>\n",
       "      <th>incluyendo</th>\n",
       "      <th>kale</th>\n",
       "      <th>lisas</th>\n",
       "      <th>rizadas</th>\n",
       "      <th>tanto</th>\n",
       "      <th>verduras</th>\n",
       "    </tr>\n",
       "  </thead>\n",
       "  <tbody>\n",
       "    <tr>\n",
       "      <th>ADA</th>\n",
       "      <td>0.104156</td>\n",
       "      <td>0.312469</td>\n",
       "      <td>0.059299</td>\n",
       "      <td>0.104156</td>\n",
       "      <td>0.104156</td>\n",
       "      <td>0.104156</td>\n",
       "      <td>0.104156</td>\n",
       "      <td>0.208313</td>\n",
       "      <td>0.104156</td>\n",
       "      <td>0.104156</td>\n",
       "      <td>...</td>\n",
       "      <td>0.000000</td>\n",
       "      <td>0.000000</td>\n",
       "      <td>0.000000</td>\n",
       "      <td>0.000000</td>\n",
       "      <td>0.000000</td>\n",
       "      <td>0.000000</td>\n",
       "      <td>0.000000</td>\n",
       "      <td>0.000000</td>\n",
       "      <td>0.000000</td>\n",
       "      <td>0.000000</td>\n",
       "    </tr>\n",
       "    <tr>\n",
       "      <th>BROCOLI</th>\n",
       "      <td>0.000000</td>\n",
       "      <td>0.000000</td>\n",
       "      <td>0.000000</td>\n",
       "      <td>0.000000</td>\n",
       "      <td>0.000000</td>\n",
       "      <td>0.000000</td>\n",
       "      <td>0.000000</td>\n",
       "      <td>0.000000</td>\n",
       "      <td>0.000000</td>\n",
       "      <td>0.000000</td>\n",
       "      <td>...</td>\n",
       "      <td>0.000000</td>\n",
       "      <td>0.000000</td>\n",
       "      <td>0.000000</td>\n",
       "      <td>0.000000</td>\n",
       "      <td>0.000000</td>\n",
       "      <td>0.000000</td>\n",
       "      <td>0.000000</td>\n",
       "      <td>0.000000</td>\n",
       "      <td>0.000000</td>\n",
       "      <td>0.000000</td>\n",
       "    </tr>\n",
       "    <tr>\n",
       "      <th>FIXED</th>\n",
       "      <td>0.000000</td>\n",
       "      <td>0.000000</td>\n",
       "      <td>0.058833</td>\n",
       "      <td>0.000000</td>\n",
       "      <td>0.000000</td>\n",
       "      <td>0.000000</td>\n",
       "      <td>0.000000</td>\n",
       "      <td>0.000000</td>\n",
       "      <td>0.000000</td>\n",
       "      <td>0.000000</td>\n",
       "      <td>...</td>\n",
       "      <td>0.000000</td>\n",
       "      <td>0.000000</td>\n",
       "      <td>0.000000</td>\n",
       "      <td>0.000000</td>\n",
       "      <td>0.000000</td>\n",
       "      <td>0.000000</td>\n",
       "      <td>0.000000</td>\n",
       "      <td>0.000000</td>\n",
       "      <td>0.000000</td>\n",
       "      <td>0.000000</td>\n",
       "    </tr>\n",
       "    <tr>\n",
       "      <th>SAMPLE</th>\n",
       "      <td>0.000000</td>\n",
       "      <td>0.000000</td>\n",
       "      <td>0.000000</td>\n",
       "      <td>0.000000</td>\n",
       "      <td>0.000000</td>\n",
       "      <td>0.000000</td>\n",
       "      <td>0.000000</td>\n",
       "      <td>0.000000</td>\n",
       "      <td>0.000000</td>\n",
       "      <td>0.000000</td>\n",
       "      <td>...</td>\n",
       "      <td>0.187176</td>\n",
       "      <td>0.187176</td>\n",
       "      <td>0.187176</td>\n",
       "      <td>0.187176</td>\n",
       "      <td>0.187176</td>\n",
       "      <td>0.187176</td>\n",
       "      <td>0.187176</td>\n",
       "      <td>0.187176</td>\n",
       "      <td>0.187176</td>\n",
       "      <td>0.187176</td>\n",
       "    </tr>\n",
       "  </tbody>\n",
       "</table>\n",
       "<p>4 rows × 157 columns</p>\n",
       "</div>\n",
       "    <div class=\"colab-df-buttons\">\n",
       "\n",
       "  <div class=\"colab-df-container\">\n",
       "    <button class=\"colab-df-convert\" onclick=\"convertToInteractive('df-f3578e59-c63e-4f3b-ae3d-730565b7cdb2')\"\n",
       "            title=\"Convert this dataframe to an interactive table.\"\n",
       "            style=\"display:none;\">\n",
       "\n",
       "  <svg xmlns=\"http://www.w3.org/2000/svg\" height=\"24px\" viewBox=\"0 -960 960 960\">\n",
       "    <path d=\"M120-120v-720h720v720H120Zm60-500h600v-160H180v160Zm220 220h160v-160H400v160Zm0 220h160v-160H400v160ZM180-400h160v-160H180v160Zm440 0h160v-160H620v160ZM180-180h160v-160H180v160Zm440 0h160v-160H620v160Z\"/>\n",
       "  </svg>\n",
       "    </button>\n",
       "\n",
       "  <style>\n",
       "    .colab-df-container {\n",
       "      display:flex;\n",
       "      gap: 12px;\n",
       "    }\n",
       "\n",
       "    .colab-df-convert {\n",
       "      background-color: #E8F0FE;\n",
       "      border: none;\n",
       "      border-radius: 50%;\n",
       "      cursor: pointer;\n",
       "      display: none;\n",
       "      fill: #1967D2;\n",
       "      height: 32px;\n",
       "      padding: 0 0 0 0;\n",
       "      width: 32px;\n",
       "    }\n",
       "\n",
       "    .colab-df-convert:hover {\n",
       "      background-color: #E2EBFA;\n",
       "      box-shadow: 0px 1px 2px rgba(60, 64, 67, 0.3), 0px 1px 3px 1px rgba(60, 64, 67, 0.15);\n",
       "      fill: #174EA6;\n",
       "    }\n",
       "\n",
       "    .colab-df-buttons div {\n",
       "      margin-bottom: 4px;\n",
       "    }\n",
       "\n",
       "    [theme=dark] .colab-df-convert {\n",
       "      background-color: #3B4455;\n",
       "      fill: #D2E3FC;\n",
       "    }\n",
       "\n",
       "    [theme=dark] .colab-df-convert:hover {\n",
       "      background-color: #434B5C;\n",
       "      box-shadow: 0px 1px 3px 1px rgba(0, 0, 0, 0.15);\n",
       "      filter: drop-shadow(0px 1px 2px rgba(0, 0, 0, 0.3));\n",
       "      fill: #FFFFFF;\n",
       "    }\n",
       "  </style>\n",
       "\n",
       "    <script>\n",
       "      const buttonEl =\n",
       "        document.querySelector('#df-f3578e59-c63e-4f3b-ae3d-730565b7cdb2 button.colab-df-convert');\n",
       "      buttonEl.style.display =\n",
       "        google.colab.kernel.accessAllowed ? 'block' : 'none';\n",
       "\n",
       "      async function convertToInteractive(key) {\n",
       "        const element = document.querySelector('#df-f3578e59-c63e-4f3b-ae3d-730565b7cdb2');\n",
       "        const dataTable =\n",
       "          await google.colab.kernel.invokeFunction('convertToInteractive',\n",
       "                                                    [key], {});\n",
       "        if (!dataTable) return;\n",
       "\n",
       "        const docLinkHtml = 'Like what you see? Visit the ' +\n",
       "          '<a target=\"_blank\" href=https://colab.research.google.com/notebooks/data_table.ipynb>data table notebook</a>'\n",
       "          + ' to learn more about interactive tables.';\n",
       "        element.innerHTML = '';\n",
       "        dataTable['output_type'] = 'display_data';\n",
       "        await google.colab.output.renderOutput(dataTable, element);\n",
       "        const docLink = document.createElement('div');\n",
       "        docLink.innerHTML = docLinkHtml;\n",
       "        element.appendChild(docLink);\n",
       "      }\n",
       "    </script>\n",
       "  </div>\n",
       "\n",
       "\n",
       "<div id=\"df-fd4eb366-eb76-4548-adac-7a30f6dda415\">\n",
       "  <button class=\"colab-df-quickchart\" onclick=\"quickchart('df-fd4eb366-eb76-4548-adac-7a30f6dda415')\"\n",
       "            title=\"Suggest charts\"\n",
       "            style=\"display:none;\">\n",
       "\n",
       "<svg xmlns=\"http://www.w3.org/2000/svg\" height=\"24px\"viewBox=\"0 0 24 24\"\n",
       "     width=\"24px\">\n",
       "    <g>\n",
       "        <path d=\"M19 3H5c-1.1 0-2 .9-2 2v14c0 1.1.9 2 2 2h14c1.1 0 2-.9 2-2V5c0-1.1-.9-2-2-2zM9 17H7v-7h2v7zm4 0h-2V7h2v10zm4 0h-2v-4h2v4z\"/>\n",
       "    </g>\n",
       "</svg>\n",
       "  </button>\n",
       "\n",
       "<style>\n",
       "  .colab-df-quickchart {\n",
       "      --bg-color: #E8F0FE;\n",
       "      --fill-color: #1967D2;\n",
       "      --hover-bg-color: #E2EBFA;\n",
       "      --hover-fill-color: #174EA6;\n",
       "      --disabled-fill-color: #AAA;\n",
       "      --disabled-bg-color: #DDD;\n",
       "  }\n",
       "\n",
       "  [theme=dark] .colab-df-quickchart {\n",
       "      --bg-color: #3B4455;\n",
       "      --fill-color: #D2E3FC;\n",
       "      --hover-bg-color: #434B5C;\n",
       "      --hover-fill-color: #FFFFFF;\n",
       "      --disabled-bg-color: #3B4455;\n",
       "      --disabled-fill-color: #666;\n",
       "  }\n",
       "\n",
       "  .colab-df-quickchart {\n",
       "    background-color: var(--bg-color);\n",
       "    border: none;\n",
       "    border-radius: 50%;\n",
       "    cursor: pointer;\n",
       "    display: none;\n",
       "    fill: var(--fill-color);\n",
       "    height: 32px;\n",
       "    padding: 0;\n",
       "    width: 32px;\n",
       "  }\n",
       "\n",
       "  .colab-df-quickchart:hover {\n",
       "    background-color: var(--hover-bg-color);\n",
       "    box-shadow: 0 1px 2px rgba(60, 64, 67, 0.3), 0 1px 3px 1px rgba(60, 64, 67, 0.15);\n",
       "    fill: var(--button-hover-fill-color);\n",
       "  }\n",
       "\n",
       "  .colab-df-quickchart-complete:disabled,\n",
       "  .colab-df-quickchart-complete:disabled:hover {\n",
       "    background-color: var(--disabled-bg-color);\n",
       "    fill: var(--disabled-fill-color);\n",
       "    box-shadow: none;\n",
       "  }\n",
       "\n",
       "  .colab-df-spinner {\n",
       "    border: 2px solid var(--fill-color);\n",
       "    border-color: transparent;\n",
       "    border-bottom-color: var(--fill-color);\n",
       "    animation:\n",
       "      spin 1s steps(1) infinite;\n",
       "  }\n",
       "\n",
       "  @keyframes spin {\n",
       "    0% {\n",
       "      border-color: transparent;\n",
       "      border-bottom-color: var(--fill-color);\n",
       "      border-left-color: var(--fill-color);\n",
       "    }\n",
       "    20% {\n",
       "      border-color: transparent;\n",
       "      border-left-color: var(--fill-color);\n",
       "      border-top-color: var(--fill-color);\n",
       "    }\n",
       "    30% {\n",
       "      border-color: transparent;\n",
       "      border-left-color: var(--fill-color);\n",
       "      border-top-color: var(--fill-color);\n",
       "      border-right-color: var(--fill-color);\n",
       "    }\n",
       "    40% {\n",
       "      border-color: transparent;\n",
       "      border-right-color: var(--fill-color);\n",
       "      border-top-color: var(--fill-color);\n",
       "    }\n",
       "    60% {\n",
       "      border-color: transparent;\n",
       "      border-right-color: var(--fill-color);\n",
       "    }\n",
       "    80% {\n",
       "      border-color: transparent;\n",
       "      border-right-color: var(--fill-color);\n",
       "      border-bottom-color: var(--fill-color);\n",
       "    }\n",
       "    90% {\n",
       "      border-color: transparent;\n",
       "      border-bottom-color: var(--fill-color);\n",
       "    }\n",
       "  }\n",
       "</style>\n",
       "\n",
       "  <script>\n",
       "    async function quickchart(key) {\n",
       "      const quickchartButtonEl =\n",
       "        document.querySelector('#' + key + ' button');\n",
       "      quickchartButtonEl.disabled = true;  // To prevent multiple clicks.\n",
       "      quickchartButtonEl.classList.add('colab-df-spinner');\n",
       "      try {\n",
       "        const charts = await google.colab.kernel.invokeFunction(\n",
       "            'suggestCharts', [key], {});\n",
       "      } catch (error) {\n",
       "        console.error('Error during call to suggestCharts:', error);\n",
       "      }\n",
       "      quickchartButtonEl.classList.remove('colab-df-spinner');\n",
       "      quickchartButtonEl.classList.add('colab-df-quickchart-complete');\n",
       "    }\n",
       "    (() => {\n",
       "      let quickchartButtonEl =\n",
       "        document.querySelector('#df-fd4eb366-eb76-4548-adac-7a30f6dda415 button');\n",
       "      quickchartButtonEl.style.display =\n",
       "        google.colab.kernel.accessAllowed ? 'block' : 'none';\n",
       "    })();\n",
       "  </script>\n",
       "</div>\n",
       "    </div>\n",
       "  </div>\n"
      ],
      "text/plain": [
       "           acerca       ada        al  algoritmo      alla  analitica  \\\n",
       "ADA      0.104156  0.312469  0.059299   0.104156  0.104156   0.104156   \n",
       "BROCOLI  0.000000  0.000000  0.000000   0.000000  0.000000   0.000000   \n",
       "FIXED    0.000000  0.000000  0.058833   0.000000  0.000000   0.000000   \n",
       "SAMPLE   0.000000  0.000000  0.000000   0.000000  0.000000   0.000000   \n",
       "\n",
       "         aplicaciones   augusta   babbage  britanica  ...  conocemos  \\\n",
       "ADA          0.104156  0.208313  0.104156   0.104156  ...   0.000000   \n",
       "BROCOLI      0.000000  0.000000  0.000000   0.000000  ...   0.000000   \n",
       "FIXED        0.000000  0.000000  0.000000   0.000000  ...   0.000000   \n",
       "SAMPLE       0.000000  0.000000  0.000000   0.000000  ...   0.187176   \n",
       "\n",
       "         diferentes  emparentado  hortalizas  incluyendo      kale     lisas  \\\n",
       "ADA        0.000000     0.000000    0.000000    0.000000  0.000000  0.000000   \n",
       "BROCOLI    0.000000     0.000000    0.000000    0.000000  0.000000  0.000000   \n",
       "FIXED      0.000000     0.000000    0.000000    0.000000  0.000000  0.000000   \n",
       "SAMPLE     0.187176     0.187176    0.187176    0.187176  0.187176  0.187176   \n",
       "\n",
       "          rizadas     tanto  verduras  \n",
       "ADA      0.000000  0.000000  0.000000  \n",
       "BROCOLI  0.000000  0.000000  0.000000  \n",
       "FIXED    0.000000  0.000000  0.000000  \n",
       "SAMPLE   0.187176  0.187176  0.187176  \n",
       "\n",
       "[4 rows x 157 columns]"
      ]
     },
     "execution_count": 39,
     "metadata": {},
     "output_type": "execute_result"
    }
   ],
   "source": [
    "new_doc_matrix_tfidf = pd.DataFrame(new_data).fillna(0).T\n",
    "new_doc_matrix_tfidf"
   ]
  },
  {
   "cell_type": "code",
   "execution_count": 40,
   "metadata": {
    "colab": {
     "base_uri": "https://localhost:8080/"
    },
    "id": "Tyc4vY1E1Nn1",
    "outputId": "43193e17-1e1a-435b-f31c-6d74169f625c"
   },
   "outputs": [
    {
     "name": "stdout",
     "output_type": "stream",
     "text": [
      "Similarity beetwen SAMPLE/ADA= [[0.05585885]]\n",
      "Similarity beetwen SAMPLE/BROCOLI= [[0.18502544]]\n",
      "Similarity beetwen SAMPLE/FIXED= [[0.02966609]]\n"
     ]
    }
   ],
   "source": [
    "doc_sample_values = new_doc_matrix_tfidf.loc[\"SAMPLE\"].values.reshape(1, -1)\n",
    "\n",
    "doc_titles = [\"ADA\", \"BROCOLI\", \"FIXED\"]\n",
    "for i, doc_title in enumerate(doc_titles):\n",
    "    current_doc_values = new_doc_matrix_tfidf.loc[doc_title].values.reshape(1, -1)\n",
    "    print(f\"Similarity beetwen SAMPLE/{doc_title}= {cosine_similarity(current_doc_values, doc_sample_values)}\")"
   ]
  },
  {
   "cell_type": "markdown",
   "metadata": {
    "id": "MFMSl17Z4glM"
   },
   "source": [
    "### Desventajas de las BoW"
   ]
  },
  {
   "cell_type": "markdown",
   "metadata": {
    "id": "6riRrRAR4i5V"
   },
   "source": [
    "- Vectores de enorme dimensionalidad\n",
    "- La relación semántica entre palabras no es modelada\n",
    "- El orden de las palabras es ignorado"
   ]
  },
  {
   "cell_type": "markdown",
   "metadata": {
    "id": "lCzLekpMGh_1"
   },
   "source": [
    "## Distributional Semantic Models (DSM) al rescate"
   ]
  },
  {
   "cell_type": "markdown",
   "metadata": {
    "id": "iVpHMcvKG0cQ"
   },
   "source": [
    "<img src=\"https://media3.giphy.com/media/v1.Y2lkPTc5MGI3NjExamdsMDg2eWk5bjMwdGRqa2Rtcm8waWtlbGNyZzE1Y3g2ZTk2Y3pncCZlcD12MV9pbnRlcm5hbF9naWZfYnlfaWQmY3Q9Zw/qtelamtlayGWs/giphy.gif\">"
   ]
  },
  {
   "cell_type": "markdown",
   "metadata": {
    "id": "OVAJ92hlHWlq"
   },
   "source": [
    "- Teoria linguistica que se basa en el hecho que dice que, palabras que ocurren en contextos similares tienen significados similares\n",
    "> You shall know a word by the company it keeps - J.R. Firth\n",
    "\n",
    "- Las palabras son representadas por vectores que capturan el patrón de co-ocurrencia de una palabra con muchas otras en el corpus\n",
    "- Cada palabra sera un vector, tal que palabras que aparecen en contextos similares, seran representados por vectores similares\n",
    "\n",
    "```json\n",
    "¿Me regalas un 'caxitl' de agua?\n",
    "El 'caxitl' de vidrio se rompió\n",
    "Sirve la leche en el 'caxitl'\n",
    "```"
   ]
  },
  {
   "cell_type": "markdown",
   "metadata": {
    "id": "lcBOgIieIQUN"
   },
   "source": [
    "### ¿Qué significa *caxitl*?"
   ]
  },
  {
   "cell_type": "markdown",
   "metadata": {
    "id": "E-8IGzyWIV27"
   },
   "source": [
    "<img src=\"https://www.sdpnoticias.com/resizer/Ri0ntQm5YWqR-2Mq0XKlBl_ExtI=/640x963/filters:format(jpg):quality(90)/cloudfront-us-east-1.images.arcpublishing.com/sdpnoticias/DGJILEMTYNBPZHO4D7KM63PPAY.jpg\" height=300>"
   ]
  },
  {
   "cell_type": "markdown",
   "metadata": {
    "id": "NSE0bl9DJ-8m"
   },
   "source": [
    "## Sabores de DSM\n",
    "\n",
    "- Tenemos dos sabores grandes de DSM:\n",
    "  - Count-based DSM\n",
    "  - Prediction-based DSM"
   ]
  },
  {
   "cell_type": "markdown",
   "metadata": {
    "id": "hDysL147LBHg"
   },
   "source": [
    "### Count-based"
   ]
  },
  {
   "cell_type": "markdown",
   "metadata": {
    "id": "bxRtiRKFLL9s"
   },
   "source": [
    "- Matriz con el patron de co-ocurrenca con otras palabras\n",
    "  - Esto tiene la mejora de modelar las relaciones semanticas entre palabras\n",
    "  - Aun tenemos vectores enormes (¿Cómo podriamos solucionar esto?)\n",
    "- Se define una ventana $L$ para el contexto\n"
   ]
  },
  {
   "cell_type": "markdown",
   "metadata": {
    "id": "FZLBAiowchfx"
   },
   "source": [
    "_K = The dusty road ends nowhere. The dusty track ends there._"
   ]
  },
  {
   "cell_type": "markdown",
   "metadata": {
    "id": "8Hhm-VBiLCxP"
   },
   "source": [
    "<img src=\"https://maucher.home.hdm-stuttgart.de/Pics/cooccurenceMatrixExample.png\">"
   ]
  },
  {
   "cell_type": "markdown",
   "metadata": {
    "id": "oi0Y5LIbNFzh"
   },
   "source": [
    "### Predicted-based"
   ]
  },
  {
   "cell_type": "markdown",
   "metadata": {
    "id": "I3j1qC6zNHmi"
   },
   "source": [
    "- En 2013 Mikolov et al. publican el paper: [Efficient Estimation of Word Representations in Vector Space](https://proceedings.neurips.cc/paper_files/paper/2013/file/9aa42b31882ec039965f3c4923ce901b-Paper.pdf)\n",
    "- Muestran una forma eficiente de obtener DSM word-embeddings (Word2Vec):\n",
    "    - CBOW\n",
    "    - Skipgram\n",
    "- De ahí surgieron variaciones\n",
    "    - GloVe\n",
    "    - fastText\n",
    "    - ELMo"
   ]
  },
  {
   "cell_type": "markdown",
   "metadata": {
    "id": "mqX0VpqiRE7d"
   },
   "source": [
    " ## Aplicando Pre-trained Word Embbedings"
   ]
  },
  {
   "cell_type": "code",
   "execution_count": 41,
   "metadata": {
    "id": "mXOtfdNSK_Wb"
   },
   "outputs": [],
   "source": [
    "import gensim.downloader as gensim_api"
   ]
  },
  {
   "cell_type": "code",
   "execution_count": 42,
   "metadata": {
    "colab": {
     "base_uri": "https://localhost:8080/"
    },
    "id": "CDNn8WLZK-gF",
    "outputId": "d64f46dc-0d99-4f1f-de5d-f1771a6c74a6"
   },
   "outputs": [
    {
     "data": {
      "text/plain": [
       "{'corpora': ['semeval-2016-2017-task3-subtaskBC',\n",
       "  'semeval-2016-2017-task3-subtaskA-unannotated',\n",
       "  'patent-2017',\n",
       "  'quora-duplicate-questions',\n",
       "  'wiki-english-20171001',\n",
       "  'text8',\n",
       "  'fake-news',\n",
       "  '20-newsgroups',\n",
       "  '__testing_matrix-synopsis',\n",
       "  '__testing_multipart-matrix-synopsis'],\n",
       " 'models': ['fasttext-wiki-news-subwords-300',\n",
       "  'conceptnet-numberbatch-17-06-300',\n",
       "  'word2vec-ruscorpora-300',\n",
       "  'word2vec-google-news-300',\n",
       "  'glove-wiki-gigaword-50',\n",
       "  'glove-wiki-gigaword-100',\n",
       "  'glove-wiki-gigaword-200',\n",
       "  'glove-wiki-gigaword-300',\n",
       "  'glove-twitter-25',\n",
       "  'glove-twitter-50',\n",
       "  'glove-twitter-100',\n",
       "  'glove-twitter-200',\n",
       "  '__testing_word2vec-matrix-synopsis']}"
      ]
     },
     "execution_count": 42,
     "metadata": {},
     "output_type": "execute_result"
    }
   ],
   "source": [
    "gensim_api.info(name_only=True)"
   ]
  },
  {
   "cell_type": "code",
   "execution_count": 43,
   "metadata": {
    "colab": {
     "base_uri": "https://localhost:8080/"
    },
    "id": "2boe8G0RR7vK",
    "outputId": "caa8fdc4-d3d3-4140-cef0-d8a6402c9950",
    "scrolled": true
   },
   "outputs": [
    {
     "name": "stdout",
     "output_type": "stream",
     "text": [
      "[==================================================] 100.0% 387.1/387.1MB downloaded\n"
     ]
    }
   ],
   "source": [
    "word_vectors = gensim_api.load(\"glove-twitter-100\")"
   ]
  },
  {
   "cell_type": "code",
   "execution_count": 44,
   "metadata": {
    "colab": {
     "base_uri": "https://localhost:8080/"
    },
    "id": "h2XujnHASFX3",
    "outputId": "828387ff-7735-437f-900c-c8f7ec6cd16d"
   },
   "outputs": [
    {
     "name": "stdout",
     "output_type": "stream",
     "text": [
      "Information about vectors\n",
      "Tokens=1193514\n",
      "Dimension de vectores=100\n"
     ]
    }
   ],
   "source": [
    "print(\"Information about vectors\")\n",
    "print(f\"Tokens={word_vectors.vectors.shape[0]}\")\n",
    "print(f\"Dimension de vectores={word_vectors.vectors.shape[1]}\")"
   ]
  },
  {
   "cell_type": "code",
   "execution_count": 46,
   "metadata": {
    "colab": {
     "base_uri": "https://localhost:8080/"
    },
    "id": "SGreQPKEUgza",
    "outputId": "69517716-c6ea-4e37-c5eb-575070f9f522"
   },
   "outputs": [
    {
     "data": {
      "text/plain": [
       "['la', \"'s\", '*', 'do', \"n't\", 'that', 'on', 'y', \"'\", 'e']"
      ]
     },
     "execution_count": 46,
     "metadata": {},
     "output_type": "execute_result"
    }
   ],
   "source": [
    "word_vectors.index_to_key[40:50]"
   ]
  },
  {
   "cell_type": "code",
   "execution_count": 47,
   "metadata": {
    "colab": {
     "base_uri": "https://localhost:8080/"
    },
    "id": "ZthtlQdtStks",
    "outputId": "4f292e11-8185-423d-c286-bcff0e626ca6"
   },
   "outputs": [
    {
     "data": {
      "text/plain": [
       "array([-0.38867 , -0.30447 , -0.46292 ,  0.10976 ,  0.49473 ,  0.36372 ,\n",
       "       -0.17162 , -0.45717 ,  0.043838,  0.066616], dtype=float32)"
      ]
     },
     "execution_count": 47,
     "metadata": {},
     "output_type": "execute_result"
    }
   ],
   "source": [
    "word_vectors[\"sun\"][:10]"
   ]
  },
  {
   "cell_type": "code",
   "execution_count": 48,
   "metadata": {
    "colab": {
     "base_uri": "https://localhost:8080/"
    },
    "id": "5GGZYrNfSyi1",
    "outputId": "70689f90-6a12-4111-fdb7-fcb53055f552"
   },
   "outputs": [
    {
     "data": {
      "text/plain": [
       "array([-0.20452 ,  0.084335, -0.6049  ,  0.060999,  0.30615 ,  0.23636 ,\n",
       "       -0.049574, -0.96095 , -0.44005 ,  0.08217 ], dtype=float32)"
      ]
     },
     "execution_count": 48,
     "metadata": {},
     "output_type": "execute_result"
    }
   ],
   "source": [
    "word_vectors[\"moon\"][:10]"
   ]
  },
  {
   "cell_type": "code",
   "execution_count": 55,
   "metadata": {
    "colab": {
     "base_uri": "https://localhost:8080/"
    },
    "id": "FjV_qyx8S5DK",
    "outputId": "8ed27e65-ae15-4686-c0ed-0858e747defe"
   },
   "outputs": [
    {
     "data": {
      "text/plain": [
       "0.875209"
      ]
     },
     "execution_count": 55,
     "metadata": {},
     "output_type": "execute_result"
    }
   ],
   "source": [
    "word_vectors.similarity(\"cat\", \"dog\")"
   ]
  },
  {
   "cell_type": "code",
   "execution_count": 58,
   "metadata": {
    "colab": {
     "base_uri": "https://localhost:8080/"
    },
    "id": "jYC3q-rJTCmS",
    "outputId": "3e20e9a5-977d-422c-8cb3-7b2052a22409"
   },
   "outputs": [
    {
     "data": {
      "text/plain": [
       "[('romney', 0.9186024069786072),\n",
       " ('barack', 0.8937100768089294),\n",
       " ('president', 0.8386130928993225),\n",
       " ('clinton', 0.8298322558403015),\n",
       " ('potus', 0.7851289510726929),\n",
       " ('biden', 0.7849057912826538),\n",
       " ('gop', 0.7619954347610474),\n",
       " ('hillary', 0.7414836883544922),\n",
       " ('republicans', 0.7409568428993225),\n",
       " ('mitt', 0.7375624179840088)]"
      ]
     },
     "execution_count": 58,
     "metadata": {},
     "output_type": "execute_result"
    }
   ],
   "source": [
    "word_vectors.most_similar(\"obama\", topn=10)"
   ]
  },
  {
   "cell_type": "code",
   "execution_count": 59,
   "metadata": {
    "colab": {
     "base_uri": "https://localhost:8080/",
     "height": 35
    },
    "id": "xHKcUho5TasO",
    "outputId": "3d62f39c-a864-4da5-a995-9e174a804e6d"
   },
   "outputs": [
    {
     "data": {
      "application/vnd.google.colaboratory.intrinsic+json": {
       "type": "string"
      },
      "text/plain": [
       "'ponny'"
      ]
     },
     "execution_count": 59,
     "metadata": {},
     "output_type": "execute_result"
    }
   ],
   "source": [
    "word_vectors.doesnt_match(\"car motor ponny oil mustang\".split())"
   ]
  },
  {
   "cell_type": "code",
   "execution_count": 61,
   "metadata": {
    "colab": {
     "base_uri": "https://localhost:8080/"
    },
    "id": "UjWzxmJlVoFR",
    "outputId": "c97dfae3-94be-4689-a429-cffa8c7e69a0"
   },
   "outputs": [
    {
     "data": {
      "text/plain": [
       "0.8018129"
      ]
     },
     "execution_count": 61,
     "metadata": {},
     "output_type": "execute_result"
    }
   ],
   "source": [
    "word_vectors.n_similarity(['mexican', 'market'], ['japanese', 'restaurant'])"
   ]
  },
  {
   "cell_type": "code",
   "execution_count": 62,
   "metadata": {
    "colab": {
     "base_uri": "https://localhost:8080/"
    },
    "id": "jZSzmIekVscz",
    "outputId": "b4744961-e29a-4d01-daf1-0a713e14dba4"
   },
   "outputs": [
    {
     "name": "stdout",
     "output_type": "stream",
     "text": [
      "(100,)\n",
      "[ 0.31572  -0.19153   0.068779  0.45787  -0.12653  -0.14132  -0.10973\n",
      " -0.55496   0.79205  -0.34311 ]\n"
     ]
    }
   ],
   "source": [
    "vector = word_vectors['computer']\n",
    "print(vector.shape)\n",
    "print(vector[:10])"
   ]
  },
  {
   "cell_type": "code",
   "execution_count": 63,
   "metadata": {
    "colab": {
     "base_uri": "https://localhost:8080/"
    },
    "id": "soHDSo8hXTja",
    "outputId": "d4c22c8a-f6d6-44c7-a125-9f337c8f7b6a"
   },
   "outputs": [
    {
     "data": {
      "text/plain": [
       "0.12479102611541748"
      ]
     },
     "execution_count": 63,
     "metadata": {},
     "output_type": "execute_result"
    }
   ],
   "source": [
    "word_vectors.distance(\"dog\", \"cat\")"
   ]
  },
  {
   "cell_type": "code",
   "execution_count": 70,
   "metadata": {
    "colab": {
     "base_uri": "https://localhost:8080/"
    },
    "id": "04Az5nz5Wv4A",
    "outputId": "d1b4b2d1-4bf7-4736-e865-d7ed047385ed"
   },
   "outputs": [
    {
     "data": {
      "text/plain": [
       "[('hosp', 0.5814748406410217),\n",
       " ('ja', 0.5803641080856323),\n",
       " ('er', 0.5527886748313904),\n",
       " ('camp', 0.5405253767967224),\n",
       " ('dt', 0.529017448425293),\n",
       " ('bus', 0.5270339846611023),\n",
       " ('home', 0.5242903828620911),\n",
       " ('tio', 0.5229436755180359),\n",
       " ('dom', 0.5183631777763367),\n",
       " ('ir', 0.5172005295753479)]"
      ]
     },
     "execution_count": 70,
     "metadata": {},
     "output_type": "execute_result"
    }
   ],
   "source": [
    "# boy, father, shirt\n",
    "word_vectors.most_similar(positive=['hospital', 'man'], negative=['woman'])"
   ]
  },
  {
   "cell_type": "code",
   "execution_count": 66,
   "metadata": {
    "colab": {
     "base_uri": "https://localhost:8080/"
    },
    "id": "yvVxSf8MXeC7",
    "lines_to_next_cell": 2,
    "outputId": "fb50d8f6-46ce-4f94-98d7-28241f3e4833"
   },
   "outputs": [
    {
     "data": {
      "text/plain": [
       "[('melbourne', 0.7249858379364014),\n",
       " ('sydney', 0.719091534614563),\n",
       " ('dubai', 0.6955541968345642),\n",
       " ('uk', 0.6874183416366577),\n",
       " ('hotel', 0.657270610332489),\n",
       " ('perth', 0.6545104384422302),\n",
       " ('dublin', 0.653557300567627),\n",
       " ('singapore', 0.651378870010376),\n",
       " ('nyc', 0.6383220553398132),\n",
       " ('brisbane', 0.6342905163764954)]"
      ]
     },
     "execution_count": 66,
     "metadata": {},
     "output_type": "execute_result"
    }
   ],
   "source": [
    "# usa, mexico, australia\n",
    "word_vectors.most_similar(positive=['london', 'australia'], negative=['england'])"
   ]
  },
  {
   "cell_type": "code",
   "execution_count": 71,
   "metadata": {
    "colab": {
     "base_uri": "https://localhost:8080/"
    },
    "id": "WTnr1xagYK6j",
    "outputId": "1bde0b7d-7b35-4fc9-ac65-292688ba2a61"
   },
   "outputs": [
    {
     "data": {
      "text/plain": [
       "[('meow', 0.5554405450820923),\n",
       " ('woof', 0.52789306640625),\n",
       " ('cats', 0.5231878161430359),\n",
       " ('cat', 0.5229120850563049),\n",
       " ('sheldon', 0.5032904744148254),\n",
       " ('dogs', 0.5022590756416321),\n",
       " ('pug', 0.48650306463241577),\n",
       " ('barney', 0.4774291515350342),\n",
       " ('starship', 0.4734712541103363),\n",
       " ('kitty', 0.4728127717971802)]"
      ]
     },
     "execution_count": 71,
     "metadata": {},
     "output_type": "execute_result"
    }
   ],
   "source": [
    "# animals (mr gifts)\n",
    "word_vectors.most_similar(positive=[\"dog\", \"oink\"], negative=[\"pig\"])"
   ]
  },
  {
   "cell_type": "markdown",
   "metadata": {
    "id": "m46cC-ShV-oz"
   },
   "source": [
    "## Visualizando vectores"
   ]
  },
  {
   "cell_type": "markdown",
   "metadata": {
    "id": "1pRGBjvGh2eg"
   },
   "source": [
    "- Ver vectores en un espacio vectorial mayor a 3 es imposible para las personas\n",
    "- Para poder verles necesitamos reducir la dimensión de nuestros vectores\n",
    "- Aplicaremos algoritmos de reducción de dimensionalidad"
   ]
  },
  {
   "cell_type": "code",
   "execution_count": 72,
   "metadata": {
    "id": "sTg1OhTlV6dW"
   },
   "outputs": [],
   "source": [
    "import numpy as np\n",
    "from sklearn.manifold import TSNE\n",
    "from matplotlib import pyplot as plt"
   ]
  },
  {
   "cell_type": "code",
   "execution_count": 73,
   "metadata": {
    "id": "zN1SJ1AFWTq9"
   },
   "outputs": [],
   "source": [
    "import warnings\n",
    "warnings.filterwarnings(\"ignore\")"
   ]
  },
  {
   "cell_type": "code",
   "execution_count": 74,
   "metadata": {
    "id": "ZAr_1b5BWB3X"
   },
   "outputs": [],
   "source": [
    "tsneModel=TSNE(n_components=2,random_state=0)\n",
    "np.set_printoptions(suppress=True)\n",
    "model2d=tsneModel.fit_transform(word_vectors[word_vectors.index_to_key[300:600]])"
   ]
  },
  {
   "cell_type": "code",
   "execution_count": 75,
   "metadata": {
    "colab": {
     "base_uri": "https://localhost:8080/",
     "height": 1000
    },
    "id": "iYzkR57zWGHZ",
    "outputId": "b867b491-372d-44ed-ede3-8842096ec157"
   },
   "outputs": [
    {
     "data": {
      "image/png": "[encoded data removed]",
      "text/plain": [
       "<Figure size 1500x1500 with 1 Axes>"
      ]
     },
     "metadata": {},
     "output_type": "display_data"
    }
   ],
   "source": [
    "%matplotlib inline\n",
    "plt.figure(figsize=(15,15))\n",
    "idx = 0\n",
    "for a in model2d[:300]:\n",
    "    w = word_vectors.index_to_key[300+idx]\n",
    "    plt.plot(a[0],a[1],'r.')\n",
    "    plt.text(a[0],a[1],w)\n",
    "    idx += 1\n",
    "plt.show()"
   ]
  },
  {
   "cell_type": "markdown",
   "metadata": {
    "id": "Nfm9G8lEoxTB"
   },
   "source": [
    "## Entrenando nuestras propias representaciones vectoriales"
   ]
  },
  {
   "cell_type": "markdown",
   "metadata": {
    "id": "iqnf_8mBcvR4"
   },
   "source": [
    "![we](https://miro.medium.com/v2/resize:fit:2000/1*SYiW1MUZul1NvL1kc1RxwQ.png)"
   ]
  },
  {
   "cell_type": "markdown",
   "metadata": {
    "id": "JmAB59uGj9NA"
   },
   "source": [
    "### Obteniendo datos"
   ]
  },
  {
   "cell_type": "markdown",
   "metadata": {
    "id": "a-qbC4aPj_U7"
   },
   "source": [
    "![](https://data-and-the-world.onrender.com/posts/read-wikipedia-dump/dump_file_list.png)"
   ]
  },
  {
   "cell_type": "markdown",
   "metadata": {
    "id": "akr7RvSTHaVm"
   },
   "source": [
    "Trabajaremos con una parte de la wikipedia en español. Usaremos la herramienta [wikiextractor](https://github.com/attardi/wikiextractor) y obtendremos los datos de la página: https://dumps.wikimedia.org/eswiki/"
   ]
  },
  {
   "cell_type": "code",
   "execution_count": null,
   "metadata": {
    "id": "VglXmTCwJps3"
   },
   "outputs": [],
   "source": [
    "!pip install wikiextractor"
   ]
  },
  {
   "cell_type": "code",
   "execution_count": 77,
   "metadata": {
    "id": "SO3hGZToYP1E"
   },
   "outputs": [],
   "source": [
    "import urllib.request\n",
    "from tqdm import tqdm\n",
    "\n",
    "#CORPORA_DIR = \"corpora/word2vec/\"\n",
    "CORPORA_DIR = \"drive/MyDrive/corpora/word2vec/\""
   ]
  },
  {
   "cell_type": "code",
   "execution_count": 76,
   "metadata": {
    "colab": {
     "base_uri": "https://localhost:8080/"
    },
    "id": "jgv5U_fObiog",
    "outputId": "ddefc2d7-154d-41d6-9758-c9437801ab25"
   },
   "outputs": [
    {
     "name": "stdout",
     "output_type": "stream",
     "text": [
      "Mounted at /content/drive\n"
     ]
    }
   ],
   "source": [
    "from google.colab import drive\n",
    "drive.mount('/content/drive')"
   ]
  },
  {
   "cell_type": "code",
   "execution_count": null,
   "metadata": {
    "id": "obV68MAhBVzS",
    "scrolled": true
   },
   "outputs": [],
   "source": [
    "# url = \"https://dumps.wikimedia.org/eswiki/latest/eswiki-latest-pages-articles1.xml-p1p159400.bz2\"\n",
    "#url = \"https://dumps.wikimedia.org/eswiki/latest/eswiki-latest-pages-articles2.xml-p159401p693323.bz2\"\n",
    "url = \"https://dumps.wikimedia.org/eswiki/latest/eswiki-latest-pages-articles3.xml-p693324p1897740.bz2\"\n",
    "filename = CORPORA_DIR + \"eswiki-articles3.bz2\"\n",
    "\n",
    "with tqdm(unit='B', unit_scale=True, unit_divisor=1024, miniters=1, desc=filename) as t:\n",
    "    urllib.request.urlretrieve(url, filename, reporthook=lambda block_num, block_size, total_size: t.update(block_size))"
   ]
  },
  {
   "cell_type": "code",
   "execution_count": 88,
   "metadata": {
    "colab": {
     "base_uri": "https://localhost:8080/"
    },
    "id": "VWb_gHan12Z2",
    "outputId": "9fd40cbe-8476-466d-d1d8-ee2acd995180"
   },
   "outputs": [
    {
     "data": {
      "text/plain": [
       "2"
      ]
     },
     "execution_count": 88,
     "metadata": {},
     "output_type": "execute_result"
    }
   ],
   "source": [
    "import multiprocessing\n",
    "multiprocessing.cpu_count()"
   ]
  },
  {
   "cell_type": "code",
   "execution_count": 78,
   "metadata": {
    "colab": {
     "base_uri": "https://localhost:8080/"
    },
    "id": "6D3qT1G4x-l0",
    "outputId": "dfaa46b2-12f8-4193-d78e-49a7ca3c71a2",
    "scrolled": true
   },
   "outputs": [
    {
     "name": "stdout",
     "output_type": "stream",
     "text": [
      "processor\t: 0\n",
      "vendor_id\t: GenuineIntel\n",
      "cpu family\t: 6\n",
      "model\t\t: 79\n",
      "model name\t: Intel(R) Xeon(R) CPU @ 2.20GHz\n",
      "stepping\t: 0\n",
      "microcode\t: 0xffffffff\n",
      "cpu MHz\t\t: 2200.222\n",
      "cache size\t: 56320 KB\n",
      "physical id\t: 0\n",
      "siblings\t: 2\n",
      "core id\t\t: 0\n",
      "cpu cores\t: 1\n",
      "apicid\t\t: 0\n",
      "initial apicid\t: 0\n",
      "fpu\t\t: yes\n",
      "fpu_exception\t: yes\n",
      "cpuid level\t: 13\n",
      "wp\t\t: yes\n",
      "flags\t\t: fpu vme de pse tsc msr pae mce cx8 apic sep mtrr pge mca cmov pat pse36 clflush mmx fxsr sse sse2 ss ht syscall nx pdpe1gb rdtscp lm constant_tsc rep_good nopl xtopology nonstop_tsc cpuid tsc_known_freq pni pclmulqdq ssse3 fma cx16 pcid sse4_1 sse4_2 x2apic movbe popcnt aes xsave avx f16c rdrand hypervisor lahf_lm abm 3dnowprefetch invpcid_single ssbd ibrs ibpb stibp fsgsbase tsc_adjust bmi1 hle avx2 smep bmi2 erms invpcid rtm rdseed adx smap xsaveopt arat md_clear arch_capabilities\n",
      "bugs\t\t: cpu_meltdown spectre_v1 spectre_v2 spec_store_bypass l1tf mds swapgs taa mmio_stale_data retbleed\n",
      "bogomips\t: 4400.44\n",
      "clflush size\t: 64\n",
      "cache_alignment\t: 64\n",
      "address sizes\t: 46 bits physical, 48 bits virtual\n",
      "power management:\n",
      "\n",
      "processor\t: 1\n",
      "vendor_id\t: GenuineIntel\n",
      "cpu family\t: 6\n",
      "model\t\t: 79\n",
      "model name\t: Intel(R) Xeon(R) CPU @ 2.20GHz\n",
      "stepping\t: 0\n",
      "microcode\t: 0xffffffff\n",
      "cpu MHz\t\t: 2200.222\n",
      "cache size\t: 56320 KB\n",
      "physical id\t: 0\n",
      "siblings\t: 2\n",
      "core id\t\t: 0\n",
      "cpu cores\t: 1\n",
      "apicid\t\t: 1\n",
      "initial apicid\t: 1\n",
      "fpu\t\t: yes\n",
      "fpu_exception\t: yes\n",
      "cpuid level\t: 13\n",
      "wp\t\t: yes\n",
      "flags\t\t: fpu vme de pse tsc msr pae mce cx8 apic sep mtrr pge mca cmov pat pse36 clflush mmx fxsr sse sse2 ss ht syscall nx pdpe1gb rdtscp lm constant_tsc rep_good nopl xtopology nonstop_tsc cpuid tsc_known_freq pni pclmulqdq ssse3 fma cx16 pcid sse4_1 sse4_2 x2apic movbe popcnt aes xsave avx f16c rdrand hypervisor lahf_lm abm 3dnowprefetch invpcid_single ssbd ibrs ibpb stibp fsgsbase tsc_adjust bmi1 hle avx2 smep bmi2 erms invpcid rtm rdseed adx smap xsaveopt arat md_clear arch_capabilities\n",
      "bugs\t\t: cpu_meltdown spectre_v1 spectre_v2 spec_store_bypass l1tf mds swapgs taa mmio_stale_data retbleed\n",
      "bogomips\t: 4400.44\n",
      "clflush size\t: 64\n",
      "cache_alignment\t: 64\n",
      "address sizes\t: 46 bits physical, 48 bits virtual\n",
      "power management:\n",
      "\n"
     ]
    }
   ],
   "source": [
    "!cat /proc/cpuinfo"
   ]
  },
  {
   "cell_type": "code",
   "execution_count": null,
   "metadata": {
    "colab": {
     "base_uri": "https://localhost:8080/"
    },
    "id": "diLbver0MCaa",
    "outputId": "a94a76b1-9adc-472a-f21f-9254c95fd1d7"
   },
   "outputs": [
    {
     "name": "stdout",
     "output_type": "stream",
     "text": [
      "INFO: Preprocessing 'corpora/word2vec/eswiki-articles-1.bz2' to collect template definitions: this may take some time.\n",
      "INFO: Loaded 290 templates in 23.3s\n",
      "INFO: Starting page extraction from corpora/word2vec/eswiki-articles-1.bz2.\n",
      "INFO: Using 24 extract processes.\n",
      "INFO: Finished 24-process extraction of 63910 articles in 25.7s (2482.1 art/s)\n",
      "CPU times: user 372 ms, sys: 18.7 ms, total: 391 ms\n",
      "Wall time: 49.2 s\n"
     ]
    }
   ],
   "source": [
    "%%time\n",
    "!python -m wikiextractor.WikiExtractor \"corpora/word2vec/eswiki-articles-1.bz2\" --processes 24 -o \"corpora/word2vec/eswiki-dump-1\""
   ]
  },
  {
   "cell_type": "code",
   "execution_count": 79,
   "metadata": {
    "id": "8IVWfOzuCgvA"
   },
   "outputs": [],
   "source": [
    "import os\n",
    "import re\n",
    "from nltk.corpus import stopwords\n",
    "from nltk.tokenize import word_tokenize\n",
    "\n",
    "\n",
    "class WikiSentencesExtractor(object):\n",
    "\n",
    "    def __init__(self, directory, max_lines):\n",
    "        self.directory = directory\n",
    "        self.max_lines = max_lines\n",
    "        self.total_sentences = 0\n",
    "\n",
    "    @staticmethod\n",
    "    def preprocess(text: str) -> list:\n",
    "        if len(text) <= 3 or text.startswith(\"<\"):\n",
    "            return []\n",
    "        text = text.lower()\n",
    "        text = re.sub(f'[^\\w\\s]', '', text)\n",
    "\n",
    "        words = word_tokenize(text, language=\"spanish\")\n",
    "\n",
    "        stop_words = set(stopwords.words(\"spanish\"))\n",
    "        words = [token for token in words if token not in stop_words]\n",
    "        words = [token for token in words if token.isalpha() and len(token) > 2]\n",
    "        return words\n",
    "\n",
    "    def get_sentences(self):\n",
    "        for subdir_letter in os.listdir(self.directory):\n",
    "            file_path = os.path.join(self.directory, subdir_letter)\n",
    "            for file_name in os.listdir(file_path):\n",
    "                with open(os.path.join(file_path, file_name)) as file:\n",
    "                    for line in file:\n",
    "                        if self.max_lines == self.total_sentences:\n",
    "                            return\n",
    "                        words = self.preprocess(line)\n",
    "                        if not words:\n",
    "                            continue\n",
    "                        yield words\n",
    "                        self.total_sentences += 1\n",
    "\n",
    "    def __iter__(self):\n",
    "        return self.get_sentences()\n",
    "\n",
    "    def __len__(self):\n",
    "        return self.total_sentences"
   ]
  },
  {
   "cell_type": "code",
   "execution_count": 80,
   "metadata": {
    "colab": {
     "base_uri": "https://localhost:8080/"
    },
    "id": "IkTTztly4cla",
    "outputId": "70503ce8-ca04-4a73-ef79-54282bbd0c55"
   },
   "outputs": [
    {
     "data": {
      "text/plain": [
       "['AA', 'AB', 'AC', 'AD', 'AE']"
      ]
     },
     "execution_count": 80,
     "metadata": {},
     "output_type": "execute_result"
    }
   ],
   "source": [
    "directory = CORPORA_DIR + \"eswiki-dump\"\n",
    "os.listdir(directory)"
   ]
  },
  {
   "cell_type": "code",
   "execution_count": 81,
   "metadata": {
    "colab": {
     "base_uri": "https://localhost:8080/"
    },
    "id": "9w4RLfKHX9DB",
    "outputId": "f148c171-284d-424e-d394-344e21152ba0"
   },
   "outputs": [
    {
     "name": "stdout",
     "output_type": "stream",
     "text": [
      "CPU times: user 13 µs, sys: 0 ns, total: 13 µs\n",
      "Wall time: 18.4 µs\n"
     ]
    }
   ],
   "source": [
    "%%time\n",
    "sentences = WikiSentencesExtractor(directory, 3)"
   ]
  },
  {
   "cell_type": "code",
   "execution_count": 82,
   "metadata": {
    "colab": {
     "base_uri": "https://localhost:8080/"
    },
    "id": "CcPhdqmyF89-",
    "outputId": "bcde6109-23b5-4e8d-d636-e65bcfe92228"
   },
   "outputs": [
    {
     "name": "stdout",
     "output_type": "stream",
     "text": [
      "['andorra']\n",
      "['andorra', 'oficialmente', 'principado', 'andorra', 'microestado', 'soberano', 'litoral', 'ubicado', 'suroeste', 'europa', 'españa', 'francia', 'límite', 'península', 'ibérica', 'constituye', 'independiente', 'derecho', 'democrático', 'social', 'cuya', 'forma', 'gobierno', 'coprincipado', 'parlamentario', 'territorio', 'organizado', 'siete', 'parroquias', 'población', 'total', 'habitantes', 'febrero', 'capital', 'andorra', 'vieja']\n",
      "['extensión', 'territorial', 'andorra', 'microestado', 'grande', 'europa', 'situado', 'pirineos', 'españa', 'francia', 'altitud', 'media', 'limita', 'sur', 'españa', 'provincia', 'catalana', 'lérida', 'norte', 'francia', 'departamentos', 'ariège', 'pirineos', 'orientales', 'occitania', 'pertenece', 'culturalmente', 'europa', 'latina']\n"
     ]
    }
   ],
   "source": [
    "for sentence in sentences:\n",
    "    print(sentence)"
   ]
  },
  {
   "cell_type": "code",
   "execution_count": 83,
   "metadata": {
    "id": "-uCzHEBKEQse"
   },
   "outputs": [],
   "source": [
    "from gensim.models import word2vec, FastText"
   ]
  },
  {
   "cell_type": "code",
   "execution_count": 84,
   "metadata": {
    "id": "3DKvpkpKYP1F"
   },
   "outputs": [],
   "source": [
    "#MODELS_DIR = \"models/word2vec/\"\n",
    "MODELS_DIR = \"drive/MyDrive/models/word2vec/\""
   ]
  },
  {
   "cell_type": "code",
   "execution_count": 92,
   "metadata": {
    "colab": {
     "base_uri": "https://localhost:8080/"
    },
    "id": "q0S7bc7I5QBJ",
    "outputId": "a0dfe1be-acb1-470b-f7b9-1c06d7b439e2"
   },
   "outputs": [
    {
     "name": "stdout",
     "output_type": "stream",
     "text": [
      "Searching for model drive/MyDrive/models/word2vec/eswiki-test.model\n",
      "Model found!!!\n",
      "CPU times: user 136 ms, sys: 7.05 ms, total: 143 ms\n",
      "Wall time: 373 ms\n"
     ]
    }
   ],
   "source": [
    "%%time\n",
    "model_name = MODELS_DIR + \"eswiki-test.model\"\n",
    "try:\n",
    "    print(f\"Searching for model {model_name}\")\n",
    "    model = word2vec.Word2Vec.load(model_name)\n",
    "    print(\"Model found!!!\")\n",
    "except Exception as e:\n",
    "    print(f\"Modelo {model_name} not found. Train a new one\")\n",
    "    model = word2vec.Word2Vec(\n",
    "        list(WikiSentencesExtractor(directory, max_lines=100000)),\n",
    "        vector_size=100,\n",
    "        window=5,\n",
    "        workers=multiprocessing.cpu_count()\n",
    "        )\n",
    "    model.save(model_name)\n",
    "    print(f\"Finish train for model {model_name}\")"
   ]
  },
  {
   "cell_type": "code",
   "execution_count": null,
   "metadata": {
    "id": "IeE5R0bWYP1F"
   },
   "outputs": [],
   "source": [
    "# Probando mi modelo"
   ]
  },
  {
   "cell_type": "code",
   "execution_count": 93,
   "metadata": {
    "id": "jFarUmsQ3w-o"
   },
   "outputs": [],
   "source": [
    "from enum import Enum\n",
    "\n",
    "class Algorithms(Enum):\n",
    "    CBOW = \"CBOW\"\n",
    "    SKIP_GRAM = \"SKIP_GRAM\"\n",
    "    FAST_TEXT = \"FAST_TEXT\""
   ]
  },
  {
   "cell_type": "code",
   "execution_count": 94,
   "metadata": {
    "id": "I3mQmAQuBVzf"
   },
   "outputs": [],
   "source": [
    "def load_model(model_path: str):\n",
    "    try:\n",
    "        return word2vec.Word2Vec.load(model_path)\n",
    "    except:\n",
    "        print(f\"[WARN] Model not found in path {model_path}\")\n",
    "        return None"
   ]
  },
  {
   "cell_type": "code",
   "execution_count": 95,
   "metadata": {
    "id": "nKNeVb-BAx8k"
   },
   "outputs": [],
   "source": [
    "def train_model(sentences, model_name: str, vector_size: int, window=5, workers=2, algorithm = Algorithms.CBOW):\n",
    "    model_name_params = f\"{model_name}-vs{vector_size}-w{window}-{algorithm.value}.model\"\n",
    "    model_path = MODELS_DIR + model_name_params\n",
    "    if load_model(model_path) is not None:\n",
    "        print(f\"Already exists the model {model_path}\")\n",
    "        return load_model(model_path)\n",
    "    print(f\"TRAINING: {model_path}\")\n",
    "    if algorithm in [Algorithms.CBOW, Algorithms.SKIP_GRAM]:\n",
    "        algorithm_number = 1 if algorithm == Algorithms.SKIP_GRAM else 0\n",
    "        model = word2vec.Word2Vec(\n",
    "            sentences,\n",
    "            vector_size=vector_size,\n",
    "            window=window,\n",
    "            workers=workers,\n",
    "            sg = algorithm_number,\n",
    "            seed=42,\n",
    "            )\n",
    "    elif algorithm == Algorithms.FAST_TEXT:\n",
    "        model = FastText(sentences=sentences, vector_size=vector_size, window=window, workers=workers, seed=42, epochs=100)\n",
    "    else:\n",
    "        print(\"[ERROR] algorithm not implemented yet :p\")\n",
    "        return\n",
    "    model.save(model_path)\n",
    "    return model"
   ]
  },
  {
   "cell_type": "code",
   "execution_count": 96,
   "metadata": {
    "id": "eYU-ydsAuu8o"
   },
   "outputs": [],
   "source": [
    "def report_stats(model) -> None:\n",
    "    \"\"\"Print report of a model\"\"\"\n",
    "    print(\"Number of words in the corpus used for training the model: \", model.corpus_count)\n",
    "    print(\"Number of words in the model: \", len(model.wv.index_to_key))\n",
    "    print(\"Time [s], required for training the model: \", model.total_train_time)\n",
    "    print(\"Count of trainings performed to generate this model: \", model.train_count)\n",
    "    print(\"Length of the word2vec vectors: \", model.vector_size)\n",
    "    print(\"Applied context length for generating the model: \", model.window)"
   ]
  },
  {
   "cell_type": "markdown",
   "metadata": {
    "id": "PaXymgOp3uj_"
   },
   "source": [
    "### CBOW"
   ]
  },
  {
   "cell_type": "code",
   "execution_count": 97,
   "metadata": {
    "colab": {
     "base_uri": "https://localhost:8080/"
    },
    "id": "OnED0jkeuzm-",
    "outputId": "3499afde-cda9-469c-8fb1-2976a48f00ba"
   },
   "outputs": [
    {
     "name": "stdout",
     "output_type": "stream",
     "text": [
      "Already exists the model drive/MyDrive/models/word2vec/eswiki-medium-vs100-w5-CBOW.model\n",
      "CPU times: user 3.45 s, sys: 374 ms, total: 3.82 s\n",
      "Wall time: 11.2 s\n"
     ]
    }
   ],
   "source": [
    "%%time\n",
    "cbow_100 = train_model(\n",
    "    WikiSentencesExtractor(directory, -1),\n",
    "    \"eswiki-medium\",\n",
    "    vector_size=100,\n",
    "    window=5,\n",
    "    workers=24,\n",
    "    algorithm=Algorithms.CBOW\n",
    "    )"
   ]
  },
  {
   "cell_type": "code",
   "execution_count": 98,
   "metadata": {
    "colab": {
     "base_uri": "https://localhost:8080/"
    },
    "id": "ldk-St_xT2nA",
    "outputId": "86a5b4db-dbfe-4bde-d001-592f38886396"
   },
   "outputs": [
    {
     "name": "stdout",
     "output_type": "stream",
     "text": [
      "Number of words in the corpus used for training the model:  1379602\n",
      "Number of words in the model:  192810\n",
      "Time [s], required for training the model:  1190.6429741439988\n",
      "Count of trainings performed to generate this model:  1\n",
      "Length of the word2vec vectors:  100\n",
      "Applied context length for generating the model:  5\n"
     ]
    }
   ],
   "source": [
    "report_stats(cbow_100)"
   ]
  },
  {
   "cell_type": "markdown",
   "metadata": {
    "id": "Ue_kS9wY3ylr"
   },
   "source": [
    "### Skip gram"
   ]
  },
  {
   "cell_type": "code",
   "execution_count": 99,
   "metadata": {
    "colab": {
     "base_uri": "https://localhost:8080/"
    },
    "id": "YIu3E8S243eh",
    "outputId": "16c3c1dd-003e-49d8-a7a2-f51c53658a49"
   },
   "outputs": [
    {
     "name": "stdout",
     "output_type": "stream",
     "text": [
      "Already exists the model drive/MyDrive/models/word2vec/eswiki-medium-vs100-w5-SKIP_GRAM.model\n",
      "CPU times: user 3.38 s, sys: 388 ms, total: 3.77 s\n",
      "Wall time: 11.9 s\n"
     ]
    }
   ],
   "source": [
    "%%time\n",
    "skip_gram_100 = train_model(WikiSentencesExtractor(directory, -1), \"eswiki-medium\", 100, 5, workers=24, algorithm=Algorithms.SKIP_GRAM)"
   ]
  },
  {
   "cell_type": "code",
   "execution_count": null,
   "metadata": {
    "id": "ilrOqGTvUC_t"
   },
   "outputs": [],
   "source": [
    "report_stats(skip_gram_100)"
   ]
  },
  {
   "cell_type": "markdown",
   "metadata": {
    "id": "sOHEgSce31eb"
   },
   "source": [
    "### fastText"
   ]
  },
  {
   "cell_type": "markdown",
   "metadata": {
    "id": "6NpECERd4fyz"
   },
   "source": [
    "fastText toma en cuenta la estructura morfologica de las palabras. Esta estructura no es tomada en cuenta en los modelos tradicionales de Word2Vec.\n",
    "\n",
    "Para hacerlo con fastText se toma la palabra como un agregado de sub-tokens que generalmente y por simplicidad se calculan como los n-gramas de la palabra.\n",
    "\n",
    "Sauce- https://radimrehurek.com/gensim/auto_examples/tutorials/run_fasttext.html#fasttext-model"
   ]
  },
  {
   "cell_type": "code",
   "execution_count": 100,
   "metadata": {
    "colab": {
     "base_uri": "https://localhost:8080/"
    },
    "id": "iiFsl-i35vOw",
    "outputId": "1e4f04fe-3da9-421f-a68e-83ca39f55fc8"
   },
   "outputs": [
    {
     "name": "stdout",
     "output_type": "stream",
     "text": [
      "Already exists the model drive/MyDrive/models/word2vec/eswiki-medium-vs300-w5-FAST_TEXT.model\n",
      "CPU times: user 33.3 s, sys: 11.6 s, total: 45 s\n",
      "Wall time: 1min 55s\n"
     ]
    }
   ],
   "source": [
    "%%time\n",
    "fastext_300 = train_model(\n",
    "    WikiSentencesExtractor(directory, -1),\n",
    "    \"eswiki-medium\",\n",
    "    300,\n",
    "    5,\n",
    "    workers=24,\n",
    "    algorithm=Algorithms.FAST_TEXT\n",
    "    )"
   ]
  },
  {
   "cell_type": "code",
   "execution_count": null,
   "metadata": {
    "id": "FInGcq17UGgc"
   },
   "outputs": [],
   "source": [
    "report_stats(fastext_300)"
   ]
  },
  {
   "cell_type": "markdown",
   "metadata": {
    "id": "B4h13MzYqTn6"
   },
   "source": [
    "## Operaciones con los vectores entrenados\n",
    "\n",
    "Veremos operaciones comunes sobre vectores. Estos resultados dependeran del modelo que hayamos cargado en memoria"
   ]
  },
  {
   "cell_type": "code",
   "execution_count": 101,
   "metadata": {
    "id": "1zs1UIGp2rTD"
   },
   "outputs": [],
   "source": [
    "models = {\n",
    "    Algorithms.CBOW: cbow_100,\n",
    "    Algorithms.SKIP_GRAM: skip_gram_100,\n",
    "    Algorithms.FAST_TEXT: fastext_300\n",
    "}"
   ]
  },
  {
   "cell_type": "code",
   "execution_count": 102,
   "metadata": {
    "id": "eE0r8Z7fPs6p"
   },
   "outputs": [],
   "source": [
    "model = models[Algorithms.FAST_TEXT]"
   ]
  },
  {
   "cell_type": "code",
   "execution_count": 103,
   "metadata": {
    "colab": {
     "base_uri": "https://localhost:8080/"
    },
    "id": "CJwGqBVNPvhH",
    "outputId": "0066d8b8-905f-4a75-f7e5-89c204d3f68e"
   },
   "outputs": [
    {
     "name": "stdout",
     "output_type": "stream",
     "text": [
      "word #0/192810 is años\n",
      "word #1/192810 is dos\n",
      "word #2/192810 is parte\n",
      "word #3/192810 is ser\n",
      "word #4/192810 is ciudad\n",
      "word #5/192810 is año\n",
      "word #6/192810 is gran\n",
      "word #7/192810 is después\n",
      "word #8/192810 is puede\n",
      "word #9/192810 is así\n",
      "word #10/192810 is primera\n",
      "word #11/192810 is forma\n",
      "word #12/192810 is aunque\n",
      "word #13/192810 is mayor\n",
      "word #14/192810 is mismo\n",
      "word #15/192810 is además\n",
      "word #16/192810 is tras\n",
      "word #17/192810 is gobierno\n",
      "word #18/192810 is vez\n",
      "word #19/192810 is guerra\n",
      "word #20/192810 is tres\n",
      "word #21/192810 is primer\n",
      "word #22/192810 is nombre\n",
      "word #23/192810 is solo\n",
      "word #24/192810 is san\n",
      "word #25/192810 is embargo\n",
      "word #26/192810 is cada\n",
      "word #27/192810 is historia\n",
      "word #28/192810 is país\n",
      "word #29/192810 is lugar\n",
      "word #30/192810 is según\n",
      "word #31/192810 is nacional\n",
      "word #32/192810 is tiempo\n",
      "word #33/192810 is general\n",
      "word #34/192810 is sido\n",
      "word #35/192810 is mientras\n",
      "word #36/192810 is población\n",
      "word #37/192810 is sistema\n",
      "word #38/192810 is hacia\n",
      "word #39/192810 is pueden\n",
      "word #40/192810 is bajo\n",
      "word #41/192810 is debido\n",
      "word #42/192810 is vida\n",
      "word #43/192810 is nueva\n",
      "word #44/192810 is mundo\n",
      "word #45/192810 is nuevo\n",
      "word #46/192810 is norte\n",
      "word #47/192810 is grupo\n",
      "word #48/192810 is siendo\n",
      "word #49/192810 is españa\n",
      "word #50/192810 is sur\n",
      "word #51/192810 is partido\n",
      "word #52/192810 is entonces\n",
      "word #53/192810 is junto\n",
      "word #54/192810 is número\n",
      "word #55/192810 is río\n",
      "word #56/192810 is the\n",
      "word #57/192810 is unidos\n",
      "word #58/192810 is ejemplo\n",
      "word #59/192810 is día\n",
      "word #60/192810 is varios\n",
      "word #61/192810 is segunda\n",
      "word #62/192810 is grandes\n",
      "word #63/192810 is rey\n",
      "word #64/192810 is zona\n",
      "word #65/192810 is poder\n",
      "word #66/192810 is obra\n",
      "word #67/192810 is cuenta\n",
      "word #68/192810 is centro\n",
      "word #69/192810 is luego\n",
      "word #70/192810 is presidente\n",
      "word #71/192810 is región\n",
      "word #72/192810 is cuatro\n",
      "word #73/192810 is época\n",
      "word #74/192810 is dentro\n",
      "word #75/192810 is mayoría\n",
      "word #76/192810 is encuentra\n",
      "word #77/192810 is través\n",
      "word #78/192810 is importante\n",
      "word #79/192810 is juan\n",
      "word #80/192810 is menos\n",
      "word #81/192810 is personas\n",
      "word #82/192810 is final\n",
      "word #83/192810 is partir\n",
      "word #84/192810 is bien\n",
      "word #85/192810 is países\n",
      "word #86/192810 is provincia\n",
      "word #87/192810 is política\n",
      "word #88/192810 is tipo\n",
      "word #89/192810 is mundial\n",
      "word #90/192810 is uso\n",
      "word #91/192810 is millones\n",
      "word #92/192810 is caso\n",
      "word #93/192810 is serie\n",
      "word #94/192810 is principal\n",
      "word #95/192810 is desarrollo\n",
      "word #96/192810 is muerte\n",
      "word #97/192810 is universidad\n",
      "word #98/192810 is medio\n",
      "word #99/192810 is manera\n"
     ]
    }
   ],
   "source": [
    "for index, word in enumerate(model.wv.index_to_key):\n",
    "    if index == 100:\n",
    "        break\n",
    "    print(f\"word #{index}/{len(model.wv.index_to_key)} is {word}\")"
   ]
  },
  {
   "cell_type": "code",
   "execution_count": 104,
   "metadata": {
    "colab": {
     "base_uri": "https://localhost:8080/"
    },
    "id": "USTedcpAXLjZ",
    "outputId": "70c50090-7fac-485f-a120-0411133018eb"
   },
   "outputs": [
    {
     "name": "stdout",
     "output_type": "stream",
     "text": [
      "[-2.1755216   5.490312   -0.67907053 -4.512126   -2.53253     1.857867\n",
      " -1.1126716   1.3537124   2.1651037  -0.5407142 ]\n",
      "300\n"
     ]
    }
   ],
   "source": [
    "gato_vec = model.wv[\"gato\"]\n",
    "print(gato_vec[:10])\n",
    "print(len(gato_vec))"
   ]
  },
  {
   "cell_type": "code",
   "execution_count": 106,
   "metadata": {
    "id": "7iwhkXvJQIEP",
    "lines_to_next_cell": 2
   },
   "outputs": [],
   "source": [
    "try:\n",
    "    agustisidad_vec = model.wv[\"agusticidad\"]\n",
    "except KeyError:\n",
    "    print(\"OOV founded!\")"
   ]
  },
  {
   "cell_type": "code",
   "execution_count": 107,
   "metadata": {
    "colab": {
     "base_uri": "https://localhost:8080/"
    },
    "id": "oC_ckjyg6Vgw",
    "outputId": "8932cea5-31c2-4005-bcef-82bcab5803e0"
   },
   "outputs": [
    {
     "data": {
      "text/plain": [
       "300"
      ]
     },
     "execution_count": 107,
     "metadata": {},
     "output_type": "execute_result"
    }
   ],
   "source": [
    "agustisidad_vec[:10]\n",
    "len(agustisidad_vec)"
   ]
  },
  {
   "cell_type": "code",
   "execution_count": 108,
   "metadata": {
    "colab": {
     "base_uri": "https://localhost:8080/"
    },
    "id": "fwruZhD_hNL6",
    "outputId": "298417eb-4f57-46f4-bbda-39deef37e3d2"
   },
   "outputs": [
    {
     "data": {
      "text/plain": [
       "[('rusticidad', 0.8210344314575195),\n",
       " ('elipticidad', 0.7197962999343872),\n",
       " ('plasticidad', 0.6998510360717773),\n",
       " ('mendicidad', 0.6969987154006958),\n",
       " ('espasticidad', 0.6963685154914856)]"
      ]
     },
     "execution_count": 108,
     "metadata": {},
     "output_type": "execute_result"
    }
   ],
   "source": [
    "model.wv.most_similar(\"agusticidad\", topn=5)"
   ]
  },
  {
   "cell_type": "markdown",
   "metadata": {
    "id": "n170PD_8RGnT"
   },
   "source": [
    "Podemos ver como la similitud entre palabras decrece"
   ]
  },
  {
   "cell_type": "code",
   "execution_count": 109,
   "metadata": {
    "colab": {
     "base_uri": "https://localhost:8080/"
    },
    "id": "i9wBETdgQaNS",
    "outputId": "0bc8604e-8a87-4878-880d-4ae0a6170a59"
   },
   "outputs": [
    {
     "name": "stdout",
     "output_type": "stream",
     "text": [
      "automóvil - camion 0.46221646666526794\n",
      "automóvil - bicicleta 0.5165674686431885\n",
      "automóvil - cereal 0.03914599493145943\n",
      "automóvil - conde -0.043139636516571045\n"
     ]
    }
   ],
   "source": [
    "word_pairs = [\n",
    "    (\"automóvil\", \"camion\"),\n",
    "    (\"automóvil\", \"bicicleta\"),\n",
    "    (\"automóvil\", \"cereal\"),\n",
    "    (\"automóvil\", \"conde\"),\n",
    "]\n",
    "\n",
    "for w1, w2 in word_pairs:\n",
    "    print(f\"{w1} - {w2} {model.wv.similarity(w1, w2)}\")"
   ]
  },
  {
   "cell_type": "code",
   "execution_count": null,
   "metadata": {
    "colab": {
     "base_uri": "https://localhost:8080/"
    },
    "id": "wukj9jTlSOCc",
    "outputId": "e60d4e5d-4030-4f15-efe0-eef917608d03"
   },
   "outputs": [
    {
     "data": {
      "text/plain": [
       "[('peliosis', 0.5060585737228394),\n",
       " ('hipgnosis', 0.46295005083084106),\n",
       " ('borreliosis', 0.4533087909221649),\n",
       " ('infección', 0.4477004408836365),\n",
       " ('treponematosis', 0.4457964301109314),\n",
       " ('sobrevida', 0.44000673294067383),\n",
       " ('histoplasmosis', 0.43974003195762634),\n",
       " ('demencia', 0.43940383195877075),\n",
       " ('miosis', 0.4361937940120697),\n",
       " ('prognosis', 0.43558117747306824)]"
      ]
     },
     "execution_count": 52,
     "metadata": {},
     "output_type": "execute_result"
    }
   ],
   "source": [
    "# rey es a hombre como ___ a mujer\n",
    "# londres es a inglaterra como ____ a vino\n",
    "model.wv.most_similar(positive=['vida', 'enfermedad'], negative=['salud'])"
   ]
  },
  {
   "cell_type": "code",
   "execution_count": null,
   "metadata": {
    "colab": {
     "base_uri": "https://localhost:8080/",
     "height": 34
    },
    "id": "WHZ25Le-6hSN",
    "outputId": "a2074156-ae9a-4900-f094-fe862db618bf"
   },
   "outputs": [
    {
     "data": {
      "text/plain": [
       "'mantequilla'"
      ]
     },
     "execution_count": 53,
     "metadata": {},
     "output_type": "execute_result"
    }
   ],
   "source": [
    "model.wv.doesnt_match([\"disco\", \"música\", \"mantequilla\", \"cantante\"])"
   ]
  },
  {
   "cell_type": "code",
   "execution_count": null,
   "metadata": {
    "colab": {
     "base_uri": "https://localhost:8080/"
    },
    "id": "cRkFqZXM9jBQ",
    "outputId": "022135f1-93fd-4a23-98e3-c37be740f797"
   },
   "outputs": [
    {
     "data": {
      "text/plain": [
       "0.6372572"
      ]
     },
     "execution_count": 54,
     "metadata": {},
     "output_type": "execute_result"
    }
   ],
   "source": [
    "model.wv.similarity(\"noche\", \"noches\")"
   ]
  },
  {
   "cell_type": "code",
   "execution_count": null,
   "metadata": {
    "colab": {
     "base_uri": "https://localhost:8080/"
    },
    "id": "5nUpUc8t4LDl",
    "outputId": "4b7955b3-cb43-4f02-94c8-bf79c19d685b"
   },
   "outputs": [
    {
     "data": {
      "text/plain": [
       "[('noches', 0.7725561261177063),\n",
       " ('mañanas', 0.671513020992279),\n",
       " ('mañanitas', 0.6642985343933105),\n",
       " ('nocheros', 0.6344171762466431),\n",
       " ('cabecitas', 0.6314725875854492),\n",
       " ('cenas', 0.6220517754554749),\n",
       " ('madrugadas', 0.6209020018577576),\n",
       " ('piedrecitas', 0.6094605326652527),\n",
       " ('verbenas', 0.6038253903388977),\n",
       " ('panochas', 0.6034460663795471)]"
      ]
     },
     "execution_count": 55,
     "metadata": {},
     "output_type": "execute_result"
    }
   ],
   "source": [
    "model.wv.most_similar(\"nochecitas\", topn=10)"
   ]
  },
  {
   "cell_type": "markdown",
   "metadata": {
    "id": "j_NZcB-Z5bmO"
   },
   "source": [
    "### Ejemplos destacables\n",
    "\n",
    "- [Tutorial Word Embedding](https://www.cs.cmu.edu/~dst/WordEmbeddingDemo/index.html)\n",
    "- [Demo](https://www.cs.cmu.edu/~dst/WordEmbeddingDemo/index.html)"
   ]
  },
  {
   "cell_type": "markdown",
   "metadata": {
    "id": "kjt7nbZuYP1I"
   },
   "source": [
    "# Práctica 5: Reducción de la dimensionalidad\n",
    "\n",
    "**Fecha de entrega: 13 de abril 2024 11:59pm**"
   ]
  },
  {
   "cell_type": "markdown",
   "metadata": {
    "id": "3_KJH0i4YP1I"
   },
   "source": [
    "Hay varios métodos que podemos aplicar para reduccir la dimensionalidad de nuestros vectores y asi poder visualizar en un espacio de menor dimensionalidad como estan siendo representados los vectores.\n",
    "\n",
    "- PCA\n",
    "- T-SNE\n",
    "- SVD\n",
    "\n",
    "- Entrenar un modelo word2vec\n",
    "  - Utilizar como corpus la wikipedia como en la practica\n",
    "  - Adaptar el tamaño de ventana y corpus a sus recursos de computo\n",
    "  - Ej: Entrenar en colab con ventana de 5 y unas 100k sentencias toma ~1hr\n",
    "- Aplicar los 3 algoritmos de reduccion de dimensionalidad\n",
    "    - Reducir a 2d\n",
    "    - Plotear 1000 vectores de las palabras más frecuentes\n",
    "- Analizar y comparar las topologías que se generan con cada algoritmo\n",
    "  - ¿Se guardan las relaciones semánticas? si o no y ¿porqué?\n",
    "  - ¿Qué método de reducción de dimensaionalidad consideras que es mejor?"
   ]
  },
  {
   "cell_type": "markdown",
   "metadata": {
    "id": "_4NuMOSJFzhI"
   },
   "source": [
    "# Referencias\n",
    "\n",
    "- [Verctor Representations - Dr. Johannes Maucher](https://hannibunny.github.io/nlpbook/05representations/05representationsintro.html)\n",
    "- [Word Embeddings - Lenia Voita](https://lena-voita.github.io/nlp_course/word_embeddings.html#pre_neural)\n",
    "- Partes del código utilizado para este notebook fueron tomados de trabajos de la [Dr. Ximena Gutierrez-Vasques](https://github.com/ximenina/) y el [Dr. Victor Mijangos](https://github.com/VMijangos/LinguisticaComputacional/blob/main/Notebooks/19%20Word2Vec.ipynb)\n",
    "- [Corpus streaming on gensim](https://radimrehurek.com/gensim/auto_examples/core/run_corpora_and_vector_spaces.html#corpus-streaming-one-document-at-a-time)\n",
    "- [Gensim docs](https://radimrehurek.com/gensim/auto_examples/index.html)"
   ]
  },
  {
   "cell_type": "code",
   "execution_count": null,
   "metadata": {
    "id": "U5w3pQEg6Q_F"
   },
   "outputs": [],
   "source": []
  }
 ],
 "metadata": {
  "colab": {
   "provenance": []
  },
  "jupytext": {
   "formats": "ipynb,py:light"
  },
  "kernelspec": {
   "display_name": "Python 3 (ipykernel)",
   "language": "python",
   "name": "python3"
  },
  "language_info": {
   "codemirror_mode": {
    "name": "ipython",
    "version": 3
   },
   "file_extension": ".py",
   "mimetype": "text/x-python",
   "name": "python",
   "nbconvert_exporter": "python",
   "pygments_lexer": "ipython3",
   "version": "3.10.13"
  }
 },
 "nbformat": 4,
 "nbformat_minor": 4
}
